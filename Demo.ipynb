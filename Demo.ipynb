{
 "cells": [
  {
   "cell_type": "code",
   "execution_count": 1,
   "metadata": {},
   "outputs": [
    {
     "name": "stdout",
     "output_type": "stream",
     "text": [
      "text-davinci-003\n",
      "https://claroshop-open-ai-sc.openai.azure.com/\n"
     ]
    }
   ],
   "source": [
    "import os\n",
    "import openai\n",
    "from dotenv import load_dotenv\n",
    "load_dotenv()\n",
    "\n",
    "openai.api_type = \"azure\"\n",
    "openai.api_version = \"2022-12-01\"\n",
    "\n",
    "API_KEY = os.getenv(\"OPENAI_API_KEY\",\"\").strip()\n",
    "assert API_KEY, \"ERROR: Azure OpenAI Key is missing\"\n",
    "openai.api_key = API_KEY\n",
    "\n",
    "RESOURCE_ENDPOINT = os.getenv(\"OPENAI_API_BASE\",\"\").strip()\n",
    "assert RESOURCE_ENDPOINT, \"ERROR: Azure OpenAI Endpoint is missing\"\n",
    "assert \"openai.azure.com\" in RESOURCE_ENDPOINT.lower(), \"ERROR: Azure OpenAI Endpoint should be in the form: \\n\\n\\t<your unique endpoint identifier>.openai.azure.com\"\n",
    "openai.api_base = RESOURCE_ENDPOINT\n",
    "COMPLETIONS_MODEL = os.getenv('DEPLOYMENT_NAME')\n",
    "print(COMPLETIONS_MODEL)\n",
    "print(RESOURCE_ENDPOINT)"
   ]
  },
  {
   "cell_type": "code",
   "execution_count": 9,
   "metadata": {},
   "outputs": [],
   "source": [
    "from transformers import GPT2TokenizerFast\n",
    "tokenizer = GPT2TokenizerFast.from_pretrained(\"gpt2\")"
   ]
  },
  {
   "attachments": {},
   "cell_type": "markdown",
   "metadata": {},
   "source": [
    "#### Completion API"
   ]
  },
  {
   "cell_type": "code",
   "execution_count": 4,
   "metadata": {},
   "outputs": [
    {
     "data": {
      "text/plain": [
       "\"Sorry, I don't know.\""
      ]
     },
     "execution_count": 4,
     "metadata": {},
     "output_type": "execute_result"
    }
   ],
   "source": [
    "prompt = \"\"\"Answer the question as truthfully as possible, and if you're unsure of the answer, say \"Sorry, I don't know\".\n",
    "\n",
    "Q: Who won the 2020 Summer Olympics men's high jump?\n",
    "A:\"\"\"\n",
    "openai.Completion.create(\n",
    "    prompt=prompt,\n",
    "    temperature=0,\n",
    "    max_tokens=1000,\n",
    "    top_p=1,\n",
    "    frequency_penalty=0,\n",
    "    presence_penalty=0,\n",
    "    engine=COMPLETIONS_MODEL\n",
    ")[\"choices\"][0][\"text\"].strip(\" \\n\")"
   ]
  },
  {
   "cell_type": "code",
   "execution_count": 5,
   "metadata": {},
   "outputs": [
    {
     "data": {
      "text/plain": [
       "'Negative'"
      ]
     },
     "execution_count": 5,
     "metadata": {},
     "output_type": "execute_result"
    }
   ],
   "source": [
    "prompt = \"\"\"Decide whether the following customer feedback is positive or negative.\n",
    "\n",
    "Q: I was disappointed with the quality of the product. It was very cheaply made and did not meet my expectations at all.\n",
    "Q: I was happy with this product, it is well made and great quality for the price.\n",
    "\"\"\"\n",
    "\n",
    "openai.Completion.create(\n",
    "    prompt=prompt,\n",
    "    temperature=0,\n",
    "    max_tokens=300,\n",
    "    engine=COMPLETIONS_MODEL\n",
    ")[\"choices\"][0][\"text\"].strip(\" \\n\")"
   ]
  },
  {
   "cell_type": "code",
   "execution_count": null,
   "metadata": {},
   "outputs": [],
   "source": [
    "prompt = \"\"\"List all PII data from following statement:\n",
    "John Doe is a 35-year old man and he lives at 21 Main Street, New York, NY. He is a software engineer and he works at Google. He has a wife named Jane Doe and they have two children\n",
    "\"\"\"\n",
    "\n",
    "openai.Completion.create(\n",
    "    prompt=prompt,\n",
    "    temperature=0,\n",
    "    max_tokens=300,\n",
    "    engine=COMPLETIONS_MODEL\n",
    ")[\"choices\"][0][\"text\"].strip(\" \\n\")"
   ]
  },
  {
   "attachments": {},
   "cell_type": "markdown",
   "metadata": {},
   "source": [
    "#### Code Generation"
   ]
  },
  {
   "cell_type": "code",
   "execution_count": null,
   "metadata": {},
   "outputs": [],
   "source": [
    "response = openai.Completion.create(\n",
    "  engine=COMPLETIONS_MODEL,\n",
    "  prompt=\"### Postgres SQL tables, with their properties:\\n#\\n# Employee(id, name, department_id)\\n# Department(id, name, address)\\n# Salary_Payments(id, employee_id, amount, date)\\n#\\n### A query to list the names of the departments which employed more than 10 employees in the last 3 months\\n\\ query: SELECT\",\n",
    "  temperature=0,\n",
    "  max_tokens=150,\n",
    "  top_p=1,\n",
    "  frequency_penalty=0,\n",
    "  presence_penalty=0,\n",
    "  stop=[\"#\",\";\"])\n",
    "\n",
    "print(response.choices[0].text)"
   ]
  },
  {
   "cell_type": "code",
   "execution_count": null,
   "metadata": {},
   "outputs": [],
   "source": [
    "response = openai.Completion.create(\n",
    "  engine=COMPLETIONS_MODEL,\n",
    "  prompt=\"Can you explain what does this code do?\\n#\\n# ###\\n\\\n",
    "   Code:\\n\\\n",
    "   SELECT d.name FROM Department d JOIN Employee e ON d.id = e.department_id WHERE e.id IN (SELECT employee_id FROM Salary_Payments WHERE date > now() - interval '3 months') GROUP BY d.name HAVING COUNT(*) > 10\\n#\\n#\\\n",
    "   Answer:\\n# \",\n",
    "   max_tokens=250,\n",
    "  stop=[\"#\",\";\"])\n",
    "\n",
    "print(response.choices[0].text)"
   ]
  },
  {
   "attachments": {},
   "cell_type": "markdown",
   "metadata": {},
   "source": [
    "#### Token Usage"
   ]
  },
  {
   "cell_type": "code",
   "execution_count": 10,
   "metadata": {},
   "outputs": [
    {
     "name": "stdout",
     "output_type": "stream",
     "text": [
      "Total number of tokens: 10\n",
      "Tokens :  ['Az', 'ure', ' Open', 'AI', ' service', ' is', ' General', ' Available', ' now', '!']\n"
     ]
    }
   ],
   "source": [
    "prompt = \"Azure OpenAI service is General Available now!\"\n",
    "tokens = tokenizer(prompt)\n",
    "print('Total number of tokens:', len(tokens['input_ids']))\n",
    "print('Tokens : ', [tokenizer.decode(t) for t in tokens['input_ids']])"
   ]
  },
  {
   "cell_type": "code",
   "execution_count": 11,
   "metadata": {},
   "outputs": [],
   "source": [
    "response = openai.Completion.create(\n",
    "    engine=COMPLETIONS_MODEL,\n",
    "    prompt=prompt,\n",
    "    max_tokens=60,\n",
    "    n=2,\n",
    "    best_of=2,\n",
    ")"
   ]
  },
  {
   "cell_type": "code",
   "execution_count": 12,
   "metadata": {},
   "outputs": [
    {
     "name": "stdout",
     "output_type": "stream",
     "text": [
      "============================== ANSWER #1 ==============================\n",
      "\n",
      "\n",
      "Yes, Azure OpenAI is now generally available. This cloud service allows developers and data scientists to access the latest deep learning technology from OpenAI. This includes access to OpenAI's algorithm libraries, compute resources, model training, and more. The benefits of using OpenAI as a cloud service\n",
      "============================== ANSWER #2 ==============================\n",
      "\n",
      "\n",
      "Yes, the Azure OpenAI service is now generally available. Microsoft announced the news at a recent event, celebrating the launch of Azure’s OpenAI service. The service allows developers to easily take advantage of an open AI platform that can scale up to their needs. With the service,\n"
     ]
    }
   ],
   "source": [
    "print('='*30, 'ANSWER #1', '='*30)\n",
    "print(response['choices'][0]['text'])\n",
    "print('='*30, 'ANSWER #2', '='*30)\n",
    "print(response['choices'][1]['text'])"
   ]
  },
  {
   "cell_type": "code",
   "execution_count": 13,
   "metadata": {},
   "outputs": [
    {
     "data": {
      "text/plain": [
       "<OpenAIObject at 0x263ec020c70> JSON: {\n",
       "  \"completion_tokens\": 120,\n",
       "  \"prompt_tokens\": 10,\n",
       "  \"total_tokens\": 130\n",
       "}"
      ]
     },
     "execution_count": 13,
     "metadata": {},
     "output_type": "execute_result"
    }
   ],
   "source": [
    "response['usage']"
   ]
  },
  {
   "attachments": {},
   "cell_type": "markdown",
   "metadata": {},
   "source": [
    "#### OpenAI Parameters"
   ]
  },
  {
   "attachments": {},
   "cell_type": "markdown",
   "metadata": {},
   "source": [
    "##### \n",
    "Temperature - Defaults to 1\n",
    "\n",
    "What sampling temperature to use. Higher values means the model will take more risks. Try 0.9 for more creative applications, and 0 (argmax sampling) for ones with a well-defined answer.\n",
    "\n",
    "We generally recommend altering this or top_p but not both."
   ]
  },
  {
   "cell_type": "code",
   "execution_count": 15,
   "metadata": {},
   "outputs": [],
   "source": [
    "def call_openai(num_times, prompt, temperature):\n",
    "    for i in range(num_times):\n",
    "        \n",
    "        response = openai.Completion.create(\n",
    "            engine=COMPLETIONS_MODEL,\n",
    "            prompt=prompt,\n",
    "            max_tokens=60,\n",
    "            temperature = temperature\n",
    "        )\n",
    "        print(response['choices'][0]['text'])"
   ]
  },
  {
   "cell_type": "code",
   "execution_count": 16,
   "metadata": {},
   "outputs": [
    {
     "name": "stdout",
     "output_type": "stream",
     "text": [
      "\n",
      "dog. Dogs are loyal, loving, and make great companions. They can be trained to do a variety of tasks and can provide a great source of comfort and companionship.\n",
      "\n",
      "dog. Dogs are loyal, loving, and make great companions. They can be trained to do a variety of tasks and can provide a great source of comfort and companionship.\n",
      "\n",
      "dog. Dogs are loyal, loving, and make great companions. They can be trained to do a variety of tasks and can provide a great source of comfort and companionship.\n",
      "\n",
      "dog. Dogs are loyal, loving, and make great companions. They can be trained to do a variety of tasks and can provide a great source of comfort and companionship.\n",
      "\n",
      "dog. Dogs are loyal, loving, and make great companions. They can be trained to do a variety of tasks and can provide a great source of comfort and companionship.\n",
      "\n",
      "dog. Dogs are loyal, loving, and make great companions. They can be trained to do a variety of tasks and can provide a great source of comfort and companionship.\n",
      "\n",
      "dog. Dogs are loyal, loving, and make great companions. They can be trained to do a variety of tasks and can provide a great source of comfort and companionship.\n",
      "\n",
      "dog. Dogs are loyal, loving, and make great companions. They can be trained to do a variety of tasks and can provide a great source of comfort and companionship.\n",
      "\n",
      "dog. Dogs are loyal, loving, and make great companions. They can be trained to do a variety of tasks and can provide a great source of comfort and companionship.\n",
      "\n",
      "dog. Dogs are loyal, loving, and make great companions. They can be trained to do a variety of tasks and can provide a great source of comfort and companionship.\n"
     ]
    }
   ],
   "source": [
    "call_openai(10, 'The best pet is a ', temperature = 0)"
   ]
  },
  {
   "cell_type": "code",
   "execution_count": 17,
   "metadata": {},
   "outputs": [
    {
     "name": "stdout",
     "output_type": "stream",
     "text": [
      "\n",
      "dog. Dogs are loyal and affectionate and make great companions for people of all ages and lifestyles. They are easy to train and can be tailored to fit any lifestyle with the proper obedience training. Dogs offer unconditional love and protection as well as companionship and can provide hours of entertainment.\n",
      "\n",
      "dog.\n",
      "\n",
      "dog. Dogs are loyal, loving companions that provide both emotional and physical health benefits to their owners. They can help reduce stress, keep you active and be great sources of joy and company.\n",
      "\n",
      "\n",
      "The best pet is a matter of personal preference. Many people enjoy having cats, dogs, birds, fish, reptiles, and small mammals as long as they can provide them with a loving home and proper care. Some people prefer more independent pets while others prefer pets that require more attention and companions\n",
      "\n",
      "dog. Dogs are loyal companions that can provide a lifetime of unconditional love and companionship. They can be trained to perform a variety of tasks, providing mental stimulation and activity that can be beneficial to their owners. Dogs also tend to get along with other animals, making them well-suited to\n",
      "\n",
      "\n",
      "dog. Dogs provide companionship, unconditional love and support, and can even help you stay active and live a healthier lifestyle.\n",
      "\n",
      "\n",
      "Cat.\n",
      "\n",
      "\n",
      "dog. Dogs are loyal, loving, and can offer emotional support and companionship. They are also great for exercise and can provide protection if needed.\n",
      "\n",
      "dog. Dogs provide companionship, loyalty, and unconditional love. They are also eager to please their owners and learn new commands and tricks. Additionally, dogs can be trained to perform a number of tasks and services, such as guard dogs, therapy dogs, and search and rescue dogs.\n",
      "\n",
      "\n",
      "The best pet is a personal preference and depends on a person's lifestyle and living conditions. Some of the most popular pet options include cats, dogs, fish, and small mammals such as hamsters and guinea pigs.\n"
     ]
    }
   ],
   "source": [
    "call_openai(10, 'The best pet is a ', temperature = 1)"
   ]
  },
  {
   "attachments": {},
   "cell_type": "markdown",
   "metadata": {},
   "source": [
    "##### \n",
    "top_p - Defaults to 1\n",
    "\n",
    "An alternative to sampling with temperature, called nucleus sampling, where the model considers the results of the tokens with top_p probability mass. So 0.1 means only the tokens comprising the top 10% probability mass are considered.\n",
    "\n",
    "We generally recommend altering this or temperature but not both."
   ]
  },
  {
   "cell_type": "code",
   "execution_count": 18,
   "metadata": {},
   "outputs": [],
   "source": [
    "def call_openai(num_times, prompt, top_p):\n",
    "    for i in range(num_times):\n",
    "        \n",
    "        response = openai.Completion.create(\n",
    "            engine=os.getenv('DEPLOYMENT_NAME'),\n",
    "            prompt=prompt,\n",
    "            max_tokens=60,\n",
    "            top_p = top_p\n",
    "        )\n",
    "        print(response['choices'][0]['text'])"
   ]
  },
  {
   "cell_type": "code",
   "execution_count": 19,
   "metadata": {},
   "outputs": [
    {
     "name": "stdout",
     "output_type": "stream",
     "text": [
      "\n",
      "dog.\n",
      "\n",
      "Dogs are loyal, loving, and can provide a wonderful sense of companionship. They are also great for providing exercise and are often easy to train.\n",
      "\n",
      "dog. Dogs provide excellent companionship, offer unconditional love, can help build confidence and provide protection. They are also low maintenance, relatively inexpensive, and require only a small amount of time and effort to care for.\n",
      "\n",
      "\n",
      "dog.\n",
      "\n",
      "dog. Dogs are loyal, loving, and playful companions, and they make great additions to any family. Plus, they’re easy to train, so you’ll have a pup that listens, knows the house rules and is eager to please.\n",
      "\n",
      "dog. Dogs are loyal, loving companions and make great family pets. They provide unconditional love and support and can provide hours of companionship and fun. Dogs also help teach responsibility and provide exercise and outdoor time for their owners.\n",
      "\n",
      "\n",
      "goldfish. Goldfish are cheerful, low-maintenance, and they come in all sorts of colors. They can live in small tanks and they don't require a lot of care. They also provide unique and beautiful color to any room.\n",
      "\n",
      "\n",
      "dog.\n",
      "\n",
      "dog. Dogs are loyal and loving animals who form strong bonds with their owners. They are intelligent, trainable, and can be a great source of companionship and joy.\n",
      "\n",
      "dog. Dogs are loving, loyal, and brave companions who can be easily trained and provide companionship to their owners. Dogs can also make great family pets, providing energy and joy to their owners. They can be protective of their owners and provide safety. Dogs are also known to have therapeutic benefits\n",
      "\n",
      "dog. Dogs can provide companionship, exercise, and can be trained to do a variety of tasks. People all over the world enjoy the loyalty and unconditional love that a dog can provide. Dogs require regular care and attention, but the rewards they provide far outweigh any challenges they may bring.\n"
     ]
    }
   ],
   "source": [
    "call_openai(10, 'The best pet is a ', top_p = 1)"
   ]
  },
  {
   "cell_type": "code",
   "execution_count": 20,
   "metadata": {},
   "outputs": [
    {
     "name": "stdout",
     "output_type": "stream",
     "text": [
      "\n",
      "dog. Dogs are loyal, loving, and make great companions. They can be trained to do a variety of tasks and can provide a great source of comfort and companionship.\n",
      "\n",
      "dog. Dogs are loyal, loving, and make great companions. They can be trained to do a variety of tasks and can provide a great source of comfort and companionship.\n",
      "\n",
      "dog. Dogs are loyal, loving, and make great companions. They can be trained to do a variety of tasks and can provide a great source of comfort and companionship.\n",
      "\n",
      "dog. Dogs are loyal, loving, and make great companions. They can be trained to do a variety of tasks and can provide a great source of comfort and companionship.\n",
      "\n",
      "dog. Dogs are loyal, loving, and make great companions. They can be trained to do a variety of tasks and can provide a great source of comfort and companionship.\n",
      "\n",
      "dog. Dogs are loyal, loving, and make great companions. They can be trained to do a variety of tasks and can provide a great source of comfort and companionship.\n",
      "\n",
      "dog. Dogs are loyal, loving, and make great companions. They can be trained to do a variety of tasks and can provide a great source of comfort and companionship.\n",
      "\n",
      "dog. Dogs are loyal, loving, and make great companions. They can be trained to do a variety of tasks and can provide a great source of comfort and companionship.\n",
      "\n",
      "dog. Dogs are loyal, loving, and make great companions. They can be trained to do a variety of tasks and can provide a great source of comfort and companionship.\n",
      "\n",
      "dog. Dogs are loyal, loving, and make great companions. They can be trained to do a variety of tasks and can provide a great source of comfort and companionship.\n"
     ]
    }
   ],
   "source": [
    "call_openai(10, 'The best pet is a ', top_p = 0.1)"
   ]
  },
  {
   "attachments": {},
   "cell_type": "markdown",
   "metadata": {},
   "source": [
    "##### \n",
    "n - Defaults to 1\n",
    "\n",
    "How many completions to generate for each prompt.\n",
    "\n",
    "Note: Because this parameter generates many completions, it can quickly consume your token quota. Use carefully and ensure that you have reasonable settings for max_tokens and stop."
   ]
  },
  {
   "cell_type": "code",
   "execution_count": 22,
   "metadata": {},
   "outputs": [
    {
     "name": "stdout",
     "output_type": "stream",
     "text": [
      "\n",
      "\n",
      "dog. Dogs are loyal, loving, and always up for a walk or playtime. They can provide lots of emotional support and are a great companion to have around.\n",
      "\n",
      "dog. Dogs provide unconditional love and loyalty, making them excellent companions and loyal friends. They are also relatively low maintenance, compared to some other pets, and can bring joy and happiness to any home.\n"
     ]
    }
   ],
   "source": [
    "response = openai.Completion.create(\n",
    "            engine=COMPLETIONS_MODEL,\n",
    "            prompt='The best pet is a ',\n",
    "            max_tokens=60,\n",
    "            n=2\n",
    "        )\n",
    "\n",
    "for c in response['choices']:\n",
    "    print(c['text'])"
   ]
  },
  {
   "attachments": {},
   "cell_type": "markdown",
   "metadata": {},
   "source": [
    "##### \n",
    "logprobs - Defaults to null\n",
    "\n",
    "Include the log probabilities on the logprobs most likely tokens, as well the chosen tokens. For example, if logprobs is 5, the API will return a list of the 5 most likely tokens. The API will always return the logprob of the sampled token, so there may be up to logprobs+1 elements in the response.\n",
    "\n",
    "The maximum value for logprobs is 5. If you need more than this, please contact us through our Help center and describe your use case"
   ]
  },
  {
   "cell_type": "code",
   "execution_count": 23,
   "metadata": {},
   "outputs": [
    {
     "name": "stdout",
     "output_type": "stream",
     "text": [
      "{\n",
      "  \"text_offset\": [\n",
      "    18,\n",
      "    19,\n",
      "    20,\n",
      "    23,\n",
      "    24,\n",
      "    29,\n",
      "    34,\n",
      "    40,\n",
      "    51,\n",
      "    52,\n",
      "    56,\n",
      "    62,\n",
      "    63,\n",
      "    67,\n",
      "    71,\n",
      "    79,\n",
      "    85,\n",
      "    88,\n",
      "    92,\n",
      "    96,\n",
      "    110,\n",
      "    114,\n",
      "    120,\n",
      "    127\n",
      "  ],\n",
      "  \"token_logprobs\": [\n",
      "    -0.0076072733,\n",
      "    -1.0273676,\n",
      "    -0.32800227,\n",
      "    -0.10885598,\n",
      "    -0.24196677,\n",
      "    -2.2397401,\n",
      "    -0.9036527,\n",
      "    -0.18346992,\n",
      "    -0.95600116,\n",
      "    -0.80736697,\n",
      "    -0.55934405,\n",
      "    -0.75776064,\n",
      "    -0.16180483,\n",
      "    -0.3973285,\n",
      "    -0.5767172,\n",
      "    -2.1588624,\n",
      "    -0.00032121275,\n",
      "    -1.3243638,\n",
      "    -0.078839876,\n",
      "    -0.5485573,\n",
      "    -3.4078758,\n",
      "    -0.37301013,\n",
      "    -0.039342094,\n",
      "    -0.009277409\n",
      "  ],\n",
      "  \"tokens\": [\n",
      "    \"\\n\",\n",
      "    \"\\n\",\n",
      "    \"dog\",\n",
      "    \".\",\n",
      "    \" Dogs\",\n",
      "    \" make\",\n",
      "    \" great\",\n",
      "    \" companions\",\n",
      "    \",\",\n",
      "    \" are\",\n",
      "    \" loyal\",\n",
      "    \",\",\n",
      "    \" and\",\n",
      "    \" can\",\n",
      "    \" provide\",\n",
      "    \" hours\",\n",
      "    \" of\",\n",
      "    \" fun\",\n",
      "    \" and\",\n",
      "    \" entertainment\",\n",
      "    \" for\",\n",
      "    \" their\",\n",
      "    \" owners\",\n",
      "    \".\"\n",
      "  ],\n",
      "  \"top_logprobs\": [\n",
      "    {\n",
      "      \"\\n\": -0.0076072733,\n",
      "      \" dog\": -5.7262406\n",
      "    },\n",
      "    {\n",
      "      \"\\n\": -1.0273676,\n",
      "      \"dog\": -0.47699252\n",
      "    },\n",
      "    {\n",
      "      \"cat\": -2.299693,\n",
      "      \"dog\": -0.32800227\n",
      "    },\n",
      "    {\n",
      "      \"!\": -2.3064115,\n",
      "      \".\": -0.10885598\n",
      "    },\n",
      "    {\n",
      "      \" Dogs\": -0.24196677,\n",
      "      \"<|endoftext|>\": -1.6203178\n",
      "    },\n",
      "    {\n",
      "      \" are\": -0.41416335,\n",
      "      \" provide\": -2.0823896\n",
      "    },\n",
      "    {\n",
      "      \" great\": -0.9036527,\n",
      "      \" wonderful\": -1.5580469\n",
      "    },\n",
      "    {\n",
      "      \" companions\": -0.18346992,\n",
      "      \" pets\": -2.70858\n",
      "    },\n",
      "    {\n",
      "      \" and\": -0.5331609,\n",
      "      \",\": -0.95600116\n",
      "    },\n",
      "    {\n",
      "      \" are\": -0.80736697,\n",
      "      \" provide\": -1.8143985\n",
      "    },\n",
      "    {\n",
      "      \" incredibly\": -2.5931067,\n",
      "      \" loyal\": -0.55934405\n",
      "    },\n",
      "    {\n",
      "      \" and\": -0.6653953,\n",
      "      \",\": -0.75776064\n",
      "    },\n",
      "    {\n",
      "      \" and\": -0.16180483,\n",
      "      \" loving\": -3.322385\n",
      "    },\n",
      "    {\n",
      "      \" can\": -0.3973285,\n",
      "      \" provide\": -2.4005136\n",
      "    },\n",
      "    {\n",
      "      \" be\": -1.2922133,\n",
      "      \" provide\": -0.5767172\n",
      "    },\n",
      "    {\n",
      "      \" unconditional\": -1.8490183,\n",
      "      \" years\": -1.8816979\n",
      "    },\n",
      "    {\n",
      "      \" of\": -0.00032121275,\n",
      "      \" upon\": -8.8401785\n",
      "    },\n",
      "    {\n",
      "      \" entertainment\": -0.64080834,\n",
      "      \" fun\": -1.3243638\n",
      "    },\n",
      "    {\n",
      "      \" and\": -0.078839876,\n",
      "      \".\": -3.4340167\n",
      "    },\n",
      "    {\n",
      "      \" companions\": -1.7106018,\n",
      "      \" entertainment\": -0.5485573\n",
      "    },\n",
      "    {\n",
      "      \" for\": -3.4078758,\n",
      "      \".\": -0.067473054\n",
      "    },\n",
      "    {\n",
      "      \" the\": -1.7984401,\n",
      "      \" their\": -0.37301013\n",
      "    },\n",
      "    {\n",
      "      \" families\": -4.195964,\n",
      "      \" owners\": -0.039342094\n",
      "    },\n",
      "    {\n",
      "      \"!\": -5.1791553,\n",
      "      \".\": -0.009277409\n",
      "    }\n",
      "  ]\n",
      "}\n",
      "\n",
      "\n",
      "dog. Dogs make great companions, are loyal, and can provide hours of fun and entertainment for their owners.\n"
     ]
    }
   ],
   "source": [
    "response = openai.Completion.create(\n",
    "            engine=COMPLETIONS_MODEL,\n",
    "            prompt='The best pet is a ',\n",
    "            max_tokens=60,\n",
    "            logprobs = 2,\n",
    "        )\n",
    "\n",
    "print(response['choices'][0]['logprobs'])\n",
    "print(response['choices'][0]['text'])"
   ]
  },
  {
   "attachments": {},
   "cell_type": "markdown",
   "metadata": {},
   "source": [
    "#####\n",
    "presence_penalty\n",
    "Defaults to 0\n",
    "\n",
    "Number between -2.0 and 2.0. Positive values penalize new tokens based on whether they appear in the text so far, increasing the model's likelihood to talk about new topics."
   ]
  },
  {
   "attachments": {},
   "cell_type": "markdown",
   "metadata": {},
   "source": [
    "##### \n",
    "frequency_penalty\n",
    "Defaults to 0\n",
    "\n",
    "Number between -2.0 and 2.0. Positive values penalize new tokens based on their existing frequency in the text so far, decreasing the model's likelihood to repeat the same line verbatim."
   ]
  },
  {
   "attachments": {},
   "cell_type": "markdown",
   "metadata": {},
   "source": [
    "##### \n",
    "best_of\n",
    "Defaults to 1\n",
    "\n",
    "Generates best_of completions server-side and returns the \"best\" (the one with the highest log probability per token). Results cannot be streamed.\n",
    "\n",
    "When used with n, best_of controls the number of candidate completions and n specifies how many to return – best_of must be greater than n.\n",
    "\n",
    "Note: Because this parameter generates many completions, it can quickly consume your token quota. Use carefully and ensure that you have reasonable settings for max_tokens and stop."
   ]
  },
  {
   "attachments": {},
   "cell_type": "markdown",
   "metadata": {},
   "source": [
    "##### \n",
    "logit_bias\n",
    "Defaults to null\n",
    "\n",
    "Modify the likelihood of specified tokens appearing in the completion.\n",
    "\n",
    "Accepts a json object that maps tokens (specified by their token ID in the GPT tokenizer) to an associated bias value from -100 to 100. You can use this tokenizer tool (which works for both GPT-2 and GPT-3) to convert text to token IDs. Mathematically, the bias is added to the logits generated by the model prior to sampling. The exact effect will vary per model, but values between -1 and 1 should decrease or increase likelihood of selection; values like -100 or 100 should result in a ban or exclusive selection of the relevant token.\n",
    "\n",
    "As an example, you can pass {\"50256\": -100} to prevent the <|endoftext|> token from being generated."
   ]
  },
  {
   "cell_type": "code",
   "execution_count": null,
   "metadata": {},
   "outputs": [],
   "source": []
  }
 ],
 "metadata": {
  "kernelspec": {
   "display_name": "Python 3",
   "language": "python",
   "name": "python3"
  },
  "language_info": {
   "codemirror_mode": {
    "name": "ipython",
    "version": 3
   },
   "file_extension": ".py",
   "mimetype": "text/x-python",
   "name": "python",
   "nbconvert_exporter": "python",
   "pygments_lexer": "ipython3",
   "version": "3.9.13"
  },
  "orig_nbformat": 4
 },
 "nbformat": 4,
 "nbformat_minor": 2
}
