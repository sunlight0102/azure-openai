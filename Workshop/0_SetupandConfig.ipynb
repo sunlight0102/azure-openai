{
 "cells": [
  {
   "attachments": {},
   "cell_type": "markdown",
   "metadata": {},
   "source": [
    "### What is Azure OpenAI Service?\n",
    "\n",
    "Azure OpenAI Service provides REST API access to OpenAI's powerful language models including the GPT-3, Codex and Embeddings model series. In addition, the new GPT-4 and ChatGPT (gpt-35-turbo) model series have now reached general availability. These models can be easily adapted to your specific task including but not limited to content generation, summarization, semantic search, and natural language to code translation. Users can access the service through REST APIs, Python SDK, or our web-based interface in the Azure OpenAI Studio."
   ]
  },
  {
   "attachments": {},
   "cell_type": "markdown",
   "metadata": {},
   "source": [
    "#### Azure OpenAI Access\n",
    "\n",
    "Access is currently limited as we navigate high demand, upcoming product improvements, and [Microsoft’s commitment to responsible AI](https://www.microsoft.com/ai/responsible-ai?activetab=pivot1:primaryr6). For now, we're working with customers with an existing partnership with Microsoft, lower risk use cases, and those committed to incorporating mitigations.\n",
    "\n",
    "More specific information is included in the application form. We appreciate your patience as we work to responsibly enable broader access to Azure OpenAI.\n",
    "\n",
    "Apply [here](https://aka.ms/oaiapply) for access"
   ]
  },
  {
   "attachments": {},
   "cell_type": "markdown",
   "metadata": {},
   "source": [
    "#### Key concepts - Prompts & Completions\n",
    "\n",
    "The completions endpoint is the core component of the API service. This API provides access to the model's text-in, text-out interface. Users simply need to provide an input prompt containing the English text command, and the model will generate a text completion.\n",
    "\n",
    "Here's an example of a simple prompt and completion:\n",
    "\n",
    "Prompt: \"\"\" count to 5 in a for loop \"\"\"\n",
    "\n",
    "Completion: for i in range(1, 6): print(i)"
   ]
  },
  {
   "attachments": {},
   "cell_type": "markdown",
   "metadata": {},
   "source": [
    "#### Key concepts - Tokens\n",
    "\n",
    "Azure OpenAI processes text by breaking it down into tokens. Tokens can be words or just chunks of characters. For example, the word “hamburger” gets broken up into the tokens “ham”, “bur” and “ger”, while a short and common word like “pear” is a single token. Many tokens start with a whitespace, for example “ hello” and “ bye”.\n",
    "\n",
    "The total number of tokens processed in a given request depends on the length of your input, output and request parameters. The quantity of tokens being processed will also affect your response latency and throughput for the models."
   ]
  },
  {
   "attachments": {},
   "cell_type": "markdown",
   "metadata": {},
   "source": [
    "#### Key concepts - In-context learning\n",
    "The models used by Azure OpenAI use natural language instructions and examples provided during the generation call to identify the task being asked and skill required. When you use this approach, the first part of the prompt includes natural language instructions and/or examples of the specific task desired. The model then completes the task by predicting the most probable next piece of text. This technique is known as \"in-context\" learning. These models aren't retrained during this step but instead give predictions based on the context you include in the prompt.\n",
    "\n",
    "There are three main approaches for in-context learning: Few-shot, one-shot and zero-shot. These approaches vary based on the amount of task-specific data that is given to the model:\n",
    "\n",
    "- Few-shot: In this case, a user includes several examples in the call prompt that demonstrate the expected answer format and content. The number of examples typically range from 0 to 100 depending on how many can fit in the maximum input length for a single prompt. Maximum input length can vary depending on the specific models you use. Few-shot learning enables a major reduction in the amount of task-specific data required for accurate predictions. This approach will typically perform less accurately than a fine-tuned model.\n",
    "\n",
    "- One-shot: This case is the same as the few-shot approach except only one example is provided.\n",
    "\n",
    "- Zero-shot: In this case, no examples are provided to the model and only the task request is provided."
   ]
  },
  {
   "attachments": {},
   "cell_type": "markdown",
   "metadata": {},
   "source": [
    "#### Pre-requisites\n",
    "\n",
    "An Azure subscription - [Create one for free](https://azure.microsoft.com/free/cognitive-services)\n",
    "\n",
    "Access granted to Azure OpenAI in the desired Azure subscription\n",
    "\n",
    "Currently, access to this service is granted only by application. You can apply for access to Azure OpenAI by completing the form [here](https://aka.ms/oai/access).\n",
    "\n",
    "[Python 3.7.1 or later version](https://www.python.org/)\n",
    "\n",
    "The following Python libraries: os, requests, json, openai\n",
    "\n",
    "An Azure OpenAI Service resource with a model deployed. For more information about model deployment, see the [resource deployment guide](https://learn.microsoft.com/en-us/azure/cognitive-services/openai/how-to/create-resource)."
   ]
  },
  {
   "cell_type": "code",
   "execution_count": null,
   "metadata": {},
   "outputs": [],
   "source": [
    "#Install the OpenAI Python client library with:\n",
    "%pip install openai"
   ]
  },
  {
   "attachments": {},
   "cell_type": "markdown",
   "metadata": {},
   "source": [
    "#### Retrieve key and endpoint\n",
    "To successfully make a call against the Azure OpenAI service, you'll need the following:\n",
    "\n",
    "- ENDPOINT -> This value can be found in the Keys & Endpoint section when examining your resource from the Azure portal. Alternatively, you can find the value in Azure OpenAI Studio > Playground > Code View. An example endpoint is: https://docs-test-001.openai.azure.com/.\n",
    "- API-KEY -> This value can be found in the Keys & Endpoint section when examining your resource from the Azure portal. You can use either KEY1 or KEY2.\n",
    "- DEPLOYMENT-NAME -> This value will correspond to the custom name you chose for your deployment when you deployed a model. This value can be found under Resource Management > Deployments in the Azure portal or alternatively under Management > Deployments in Azure OpenAI Studio.\n",
    "\n",
    "Go to your resource in the Azure portal. The Endpoint and Keys can be found in the Resource Management section. Copy your endpoint and access key as you'll need both for authenticating your API calls. You can use either KEY1 or KEY2. Always having two keys allows you to securely rotate and regenerate keys without causing a service disruption."
   ]
  },
  {
   "attachments": {},
   "cell_type": "markdown",
   "metadata": {},
   "source": [
    "#### Environment variables\n",
    "Copy .env.sample to .env and fill in the values for your environment.\n",
    "\n",
    "- OPENAI_API_KEY=\n",
    "- OPENAI_API_BASE=\n",
    "- DEPLOYMENT_NAME_DAVINCI=\n"
   ]
  },
  {
   "cell_type": "code",
   "execution_count": 3,
   "metadata": {},
   "outputs": [],
   "source": [
    "# Import Python libraries\n",
    "import os\n",
    "import openai\n",
    "from Utilities.envVars import *\n",
    "\n",
    "# Set OpenAI API key and endpoint\n",
    "openai.api_type = \"azure\"\n",
    "openai.api_version = OpenAiVersion\n",
    "openai_api_key = OpenAiKey\n",
    "assert openai_api_key, \"ERROR: Azure OpenAI Key is missing\"\n",
    "openai.api_key = openai_api_key\n",
    "openAiEndPoint = f\"https://{OpenAiService}.openai.azure.com\"\n",
    "assert openAiEndPoint, \"ERROR: Azure OpenAI Endpoint is missing\"\n",
    "assert \"openai.azure.com\" in openAiEndPoint.lower(), \"ERROR: Azure OpenAI Endpoint should be in the form: \\n\\n\\t<your unique endpoint identifier>.openai.azure.com\"\n",
    "openai.api_base = openAiEndPoint\n",
    "davincimodel = OpenAiDavinci"
   ]
  },
  {
   "attachments": {},
   "cell_type": "markdown",
   "metadata": {},
   "source": [
    "#### Basic Completion\n",
    "\n",
    "Let's look at a simple example to summarize a text. Remember that you can always control the output of a prompt via instructions, some typical controls are around:\n",
    "\n",
    "- length of the summary\n",
    "- target audience of the summary"
   ]
  },
  {
   "cell_type": "code",
   "execution_count": 4,
   "metadata": {},
   "outputs": [
    {
     "name": "stdout",
     "output_type": "stream",
     "text": [
      "Jupiter is the fifth planet from the Sun and it is very big and bright. It is named after the Roman god Jupiter and it can be seen in the night sky. It is one of the brightest things you can see without a telescope.\n"
     ]
    }
   ],
   "source": [
    "# Give your prompt here\n",
    "prompt = \"\"\"Summarize this for a second-grade student:\n",
    "\n",
    "        Jupiter is the fifth planet from the Sun and the largest in the Solar System. It is a gas giant with a mass one-thousandth that of \n",
    "        the Sun, but two-and-a-half times that of all the other planets in the Solar System combined. \n",
    "        Jupiter is one of the brightest objects visible to the naked eye in the night sky, and has been known to ancient\n",
    "        civilizations since before recorded history. It is named after the Roman god Jupiter. \n",
    "        When viewed from Earth, Jupiter can be bright enough for its reflected light to cast visible shadows, \n",
    "        and is on average the third-brightest natural object in the night sky after the Moon and Venus.\"\"\"\n",
    "\n",
    "try:\n",
    "    # Create a completion for the provided prompt and parameters\n",
    "    # To know more about the parameters, checkout this documentation: https://learn.microsoft.com/en-us/azure/cognitive-services/openai/reference\n",
    "    completion = openai.Completion.create(\n",
    "                    prompt=prompt,\n",
    "                    temperature=0,\n",
    "                    max_tokens=500,\n",
    "                    engine=davincimodel)\n",
    "\n",
    "    # print the completion\n",
    "    print(completion.choices[0].text.strip(\" \\n\"))\n",
    "    \n",
    "    # Here indicating if the response is filtered\n",
    "    if completion.choices[0].finish_reason == \"content_filter\":\n",
    "        print(\"The generated content is filtered.\")\n",
    "        \n",
    "except openai.error.APIError as e:\n",
    "    # Handle API error here, e.g. retry or log\n",
    "    print(f\"OpenAI API returned an API Error: {e}\")\n",
    "\n",
    "except openai.error.AuthenticationError as e:\n",
    "    # Handle Authentication error here, e.g. invalid API key\n",
    "    print(f\"OpenAI API returned an Authentication Error: {e}\")\n",
    "\n",
    "except openai.error.APIConnectionError as e:\n",
    "    # Handle connection error here\n",
    "    print(f\"Failed to connect to OpenAI API: {e}\")\n",
    "\n",
    "except openai.error.InvalidRequestError as e:\n",
    "    # Handle connection error here\n",
    "    print(f\"Invalid Request Error: {e}\")\n",
    "\n",
    "except openai.error.RateLimitError as e:\n",
    "    # Handle rate limit error\n",
    "    print(f\"OpenAI API request exceeded rate limit: {e}\")\n",
    "\n",
    "except openai.error.ServiceUnavailableError as e:\n",
    "    # Handle Service Unavailable error\n",
    "    print(f\"Service Unavailable: {e}\")\n",
    "\n",
    "except openai.error.Timeout as e:\n",
    "    # Handle request timeout\n",
    "    print(f\"Request timed out: {e}\")"
   ]
  },
  {
   "cell_type": "code",
   "execution_count": 5,
   "metadata": {},
   "outputs": [
    {
     "name": "stdout",
     "output_type": "stream",
     "text": [
      "Jupiter is the fifth planet from the Sun and the biggest in the Solar System. It is very bright and can be seen in the night sky. It is named after the Roman god Jupiter and has been known since ancient times.\n"
     ]
    }
   ],
   "source": [
    "#Let's change the prompt to specify the length of the summary to be 3 sentences.\n",
    "prompt = \"\"\"Summarize this for a second-grade student in 3 sentences:\n",
    "\n",
    "        Jupiter is the fifth planet from the Sun and the largest in the Solar System. It is a gas giant with a mass one-thousandth that of \n",
    "        the Sun, but two-and-a-half times that of all the other planets in the Solar System combined. \n",
    "        Jupiter is one of the brightest objects visible to the naked eye in the night sky, and has been known to ancient\n",
    "        civilizations since before recorded history. It is named after the Roman god Jupiter. \n",
    "        When viewed from Earth, Jupiter can be bright enough for its reflected light to cast visible shadows, \n",
    "        and is on average the third-brightest natural object in the night sky after the Moon and Venus.\"\"\"\n",
    "\n",
    "# Create a completion for the provided prompt and parameters\n",
    "# To know more about the parameters, checkout this documentation: https://learn.microsoft.com/en-us/azure/cognitive-services/openai/reference\n",
    "completion = openai.Completion.create(\n",
    "                prompt=prompt,\n",
    "                temperature=0,\n",
    "                max_tokens=500,\n",
    "                engine=davincimodel)\n",
    "\n",
    "# print the completion\n",
    "print(completion.choices[0].text.strip(\" \\n\"))"
   ]
  },
  {
   "cell_type": "code",
   "execution_count": 6,
   "metadata": {},
   "outputs": [
    {
     "name": "stdout",
     "output_type": "stream",
     "text": [
      "Jupiter is the fifth planet from the Sun and the largest in the Solar System. It is a gas giant with a mass two-and-a-half times that of all the other planets combined and is visible to the naked eye in the night sky. It is named after the Roman god Jupiter and is the third-brightest natural object in the night sky after the Moon and Venus.\n"
     ]
    }
   ],
   "source": [
    "#Let's now change the prompt to specify the target audience of the summary to be a physicist.\n",
    "prompt = \"\"\"Summarize this for a physicist in 3 sentences:\n",
    "\n",
    "        Jupiter is the fifth planet from the Sun and the largest in the Solar System. It is a gas giant with a mass one-thousandth that of \n",
    "        the Sun, but two-and-a-half times that of all the other planets in the Solar System combined. \n",
    "        Jupiter is one of the brightest objects visible to the naked eye in the night sky, and has been known to ancient\n",
    "        civilizations since before recorded history. It is named after the Roman god Jupiter. \n",
    "        When viewed from Earth, Jupiter can be bright enough for its reflected light to cast visible shadows, \n",
    "        and is on average the third-brightest natural object in the night sky after the Moon and Venus.\"\"\"\n",
    "\n",
    "# Create a completion for the provided prompt and parameters\n",
    "# To know more about the parameters, checkout this documentation: https://learn.microsoft.com/en-us/azure/cognitive-services/openai/reference\n",
    "completion = openai.Completion.create(\n",
    "                prompt=prompt,\n",
    "                temperature=0,\n",
    "                max_tokens=500,\n",
    "                engine=davincimodel)\n",
    "\n",
    "# print the completion\n",
    "print(completion.choices[0].text.strip(\" \\n\"))"
   ]
  },
  {
   "cell_type": "code",
   "execution_count": 7,
   "metadata": {},
   "outputs": [
    {
     "name": "stdout",
     "output_type": "stream",
     "text": [
      "- Jupiter is the fifth planet from the Sun and the largest in the Solar System. \n",
      "- It is very bright and can be seen in the night sky. It is named after the Roman god Jupiter. \n",
      "- When viewed from Earth, Jupiter is the third-brightest natural object in the night sky after the Moon and Venus.\n"
     ]
    }
   ],
   "source": [
    "#You can easily control the format of the summarization as well to fit into desired formats. \n",
    "#Let's summarize the same text in a bullet point format.\n",
    "prompt = \"\"\"Summarize this for a second-grade student in 3 sentences in bullet points:\n",
    "\n",
    "        Jupiter is the fifth planet from the Sun and the largest in the Solar System. It is a gas giant with a mass one-thousandth that of \n",
    "        the Sun, but two-and-a-half times that of all the other planets in the Solar System combined. \n",
    "        Jupiter is one of the brightest objects visible to the naked eye in the night sky, and has been known to ancient\n",
    "        civilizations since before recorded history. It is named after the Roman god Jupiter. \n",
    "        When viewed from Earth, Jupiter can be bright enough for its reflected light to cast visible shadows, \n",
    "        and is on average the third-brightest natural object in the night sky after the Moon and Venus.\"\"\"\n",
    "\n",
    "# Create a completion for the provided prompt and parameters\n",
    "# To know more about the parameters, checkout this documentation: https://learn.microsoft.com/en-us/azure/cognitive-services/openai/reference\n",
    "completion = openai.Completion.create(\n",
    "                prompt=prompt,\n",
    "                temperature=0,\n",
    "                max_tokens=500,\n",
    "                engine=davincimodel)\n",
    "\n",
    "# print the completion\n",
    "print(completion.choices[0].text.strip(\" \\n\"))"
   ]
  },
  {
   "cell_type": "code",
   "execution_count": 8,
   "metadata": {},
   "outputs": [
    {
     "name": "stdout",
     "output_type": "stream",
     "text": [
      "Title: Jupiter, the Brightest Planet in the Solar System\n",
      "Abstract: Jupiter is the fifth planet from the Sun and the brightest object in the night sky, known to ancient civilizations since before recorded history.\n"
     ]
    }
   ],
   "source": [
    "#Summarize this for a second-grade student as a title and a one sentence abstract:\n",
    "prompt = \"\"\"Summarize this for a second-grade student as a title and a one sentence abstract:\n",
    "\n",
    "        Jupiter is the fifth planet from the Sun and the largest in the Solar System. It is a gas giant with a mass one-thousandth that of \n",
    "        the Sun, but two-and-a-half times that of all the other planets in the Solar System combined. \n",
    "        Jupiter is one of the brightest objects visible to the naked eye in the night sky, and has been known to ancient\n",
    "        civilizations since before recorded history. It is named after the Roman god Jupiter. \n",
    "        When viewed from Earth, Jupiter can be bright enough for its reflected light to cast visible shadows, \n",
    "        and is on average the third-brightest natural object in the night sky after the Moon and Venus.\"\"\"\n",
    "\n",
    "# Create a completion for the provided prompt and parameters\n",
    "# To know more about the parameters, checkout this documentation: https://learn.microsoft.com/en-us/azure/cognitive-services/openai/reference\n",
    "completion = openai.Completion.create(\n",
    "                prompt=prompt,\n",
    "                temperature=0,\n",
    "                max_tokens=500,\n",
    "                engine=davincimodel)\n",
    "\n",
    "# print the completion\n",
    "print(completion.choices[0].text.strip(\" \\n\"))"
   ]
  },
  {
   "cell_type": "code",
   "execution_count": 9,
   "metadata": {},
   "outputs": [
    {
     "name": "stdout",
     "output_type": "stream",
     "text": [
      "Negative: I was disappointed with the quality of the product.\n",
      "\n",
      "Positive: I was happy with this product, it is well made and great quality for the price.\n"
     ]
    }
   ],
   "source": [
    "#Sentiment Analysis\n",
    "prompt = \"\"\"Decide whether the following customer feedback is positive or negative.\n",
    "\n",
    "        Q: I was disappointed with the quality of the product. It was very cheaply made and did not meet my expectations at all.\n",
    "        Q: I was happy with this product, it is well made and great quality for the price.\n",
    "        \"\"\"\n",
    "\n",
    "# Create a completion for the provided prompt and parameters\n",
    "# To know more about the parameters, checkout this documentation: https://learn.microsoft.com/en-us/azure/cognitive-services/openai/reference\n",
    "completion = openai.Completion.create(\n",
    "                prompt=prompt,\n",
    "                temperature=0,\n",
    "                max_tokens=500,\n",
    "                engine=davincimodel)\n",
    "\n",
    "# print the completion\n",
    "print(completion.choices[0].text.strip(\" \\n\"))"
   ]
  },
  {
   "cell_type": "code",
   "execution_count": 10,
   "metadata": {},
   "outputs": [
    {
     "name": "stdout",
     "output_type": "stream",
     "text": [
      "PII Data:\n",
      "- John Doe\n",
      "- 35-year old\n",
      "- 21 Main Street, New York, NY\n",
      "- Jane Doe\n",
      "- Two children\n"
     ]
    }
   ],
   "source": [
    "#PII Detection\n",
    "prompt =  \"\"\"List all PII data from following statement:\n",
    "        John Doe is a 35-year old man and he lives at 21 Main Street, New York, NY. He is a software engineer and he works at Google. He has a wife named Jane Doe and they have two children\n",
    "        \"\"\"\n",
    "\n",
    "# Create a completion for the provided prompt and parameters\n",
    "# To know more about the parameters, checkout this documentation: https://learn.microsoft.com/en-us/azure/cognitive-services/openai/reference\n",
    "completion = openai.Completion.create(\n",
    "                prompt=prompt,\n",
    "                temperature=0,\n",
    "                max_tokens=500,\n",
    "                engine=davincimodel)\n",
    "\n",
    "# print the completion\n",
    "print(completion.choices[0].text.strip(\" \\n\"))"
   ]
  },
  {
   "cell_type": "code",
   "execution_count": 11,
   "metadata": {},
   "outputs": [
    {
     "name": "stdout",
     "output_type": "stream",
     "text": [
      "d.name \n",
      "        FROM Department d \n",
      "        INNER JOIN Employee e \n",
      "        ON d.id = e.department_id \n",
      "        INNER JOIN Salary_Payments sp \n",
      "        ON e.id = sp.employee_id \n",
      "        WHERE sp.date > NOW() - INTERVAL '3 months' \n",
      "        GROUP BY d.name \n",
      "        HAVING COUNT(*) > 10;\n"
     ]
    }
   ],
   "source": [
    "#Code Generation\n",
    "prompt =  \"\"\"### Postgres SQL tables, with their properties:\n",
    "        #\n",
    "        # Employee(id, name, department_id)\n",
    "        # Department(id, name, address)\n",
    "        # Salary_Payments(id, employee_id, amount, date)\n",
    "        #\n",
    "        ### A query to list the names of the departments which employed more than 10 employees in the last 3 months\n",
    "        query: SELECT\"\"\"\n",
    "\n",
    "# Create a completion for the provided prompt and parameters\n",
    "# To know more about the parameters, checkout this documentation: https://learn.microsoft.com/en-us/azure/cognitive-services/openai/reference\n",
    "completion = openai.Completion.create(\n",
    "                prompt=prompt,\n",
    "                temperature=0,\n",
    "                max_tokens=500,\n",
    "                engine=davincimodel)\n",
    "\n",
    "# print the completion\n",
    "print(completion.choices[0].text.strip(\" \\n\"))"
   ]
  },
  {
   "cell_type": "code",
   "execution_count": 12,
   "metadata": {},
   "outputs": [
    {
     "name": "stdout",
     "output_type": "stream",
     "text": [
      "This code is a SQL query that will select the name of each department that has more than 10 employees who have received salary payments in the last 3 months. It does this by joining the Department and Employee tables on the department_id field, then selecting the employee_id from the Salary_Payments table where the date is within the last 3 months. Finally, it groups the results by department name and only returns departments that have more than 10 employees.\n"
     ]
    }
   ],
   "source": [
    "#Code Explanation\n",
    "prompt =  \"\"\"Can you explain what does this code do?\n",
    "        #\n",
    "        # ###\n",
    "        Code:\n",
    "        SELECT d.name FROM Department d JOIN Employee e ON d.id = e.department_id WHERE e.id IN (SELECT employee_id \n",
    "        FROM Salary_Payments WHERE date > now() - interval '3 months') GROUP BY d.name HAVING COUNT(*) > 10\n",
    "        #\n",
    "        #\n",
    "        Answer:\n",
    "        #\"\"\"\n",
    "\n",
    "# Create a completion for the provided prompt and parameters\n",
    "# To know more about the parameters, checkout this documentation: https://learn.microsoft.com/en-us/azure/cognitive-services/openai/reference\n",
    "completion = openai.Completion.create(\n",
    "                prompt=prompt,\n",
    "                temperature=0,\n",
    "                max_tokens=500,\n",
    "                engine=davincimodel)\n",
    "\n",
    "# print the completion\n",
    "print(completion.choices[0].text.strip(\" \\n\"))"
   ]
  },
  {
   "cell_type": "code",
   "execution_count": 13,
   "metadata": {},
   "outputs": [],
   "source": [
    "# Helper Function to call OpenAI\n",
    "def callOpenAi(num_times, prompt, temperature):\n",
    "    for i in range(num_times):\n",
    "        response = openai.Completion.create(\n",
    "            engine=davincimodel,\n",
    "            prompt=prompt,\n",
    "            max_tokens=60,\n",
    "            temperature = temperature\n",
    "        )\n",
    "        print(response['choices'][0]['text'])"
   ]
  },
  {
   "cell_type": "code",
   "execution_count": 14,
   "metadata": {},
   "outputs": [
    {
     "name": "stdout",
     "output_type": "stream",
     "text": [
      "\n",
      "dog. Dogs are loyal, loving, and make great companions. They can be trained to do a variety of tasks and can provide a great source of comfort and companionship.\n",
      "\n",
      "dog. Dogs are loyal, loving, and make great companions. They can be trained to do a variety of tasks and can provide a great source of comfort and companionship.\n",
      "\n",
      "dog. Dogs are loyal, loving, and make great companions. They can be trained to do a variety of tasks and can provide a great source of comfort and companionship.\n",
      "\n",
      "dog. Dogs are loyal, loving, and make great companions. They can be trained to do a variety of tasks and can provide a great source of comfort and companionship.\n",
      "\n",
      "dog. Dogs are loyal, loving, and make great companions. They can be trained to do a variety of tasks and can provide a great source of comfort and companionship.\n",
      "\n",
      "dog. Dogs are loyal, loving, and make great companions. They can be trained to do a variety of tasks and can provide a great source of comfort and companionship.\n",
      "\n",
      "dog. Dogs are loyal, loving, and make great companions. They can be trained to do a variety of tasks and can provide a great source of comfort and companionship.\n",
      "\n",
      "dog. Dogs are loyal, loving, and make great companions. They can be trained to do a variety of tasks and can provide a great source of comfort and companionship.\n",
      "\n",
      "dog. Dogs are loyal, loving, and make great companions. They can be trained to do a variety of tasks and can provide a great source of comfort and companionship.\n",
      "\n",
      "dog. Dogs are loyal, loving, and make great companions. They can be trained to do a variety of tasks and can provide a great source of comfort and companionship.\n"
     ]
    }
   ],
   "source": [
    "# Temperature - Defaults to 1\n",
    "# What sampling temperature to use. Higher values means the model will take more risks. \n",
    "# Try 0.9 for more creative applications, and 0 (argmax sampling) for ones with a well-defined answer.\n",
    "#We generally recommend altering this or top_p but not both.\n",
    "callOpenAi(10, 'The best pet is a ', temperature = 0)"
   ]
  },
  {
   "cell_type": "code",
   "execution_count": 15,
   "metadata": {},
   "outputs": [
    {
     "name": "stdout",
     "output_type": "stream",
     "text": [
      "\n",
      "\n",
      "dog. Dogs are loyal, intelligent, loving, and make great companions. They can also provide protection, exercise, stress and anxiety relief, and unconditional love.\n",
      "\n",
      "dog. Dogs are loyal, loving companions and can also provide protection for their families. They are easy to train and have a long lifespan. They can also provide great companionship and help reduce stress and anxiety.\n",
      "\n",
      "dog.\n",
      "Dogs are incredibly loyal and loving animals that form bonds with their owners. They make great companions and can help with depression and anxiety. Dogs are also very active and can be trained to do a variety of activities, from playing catch to performing tricks. Plus, they're great for\n",
      "\n",
      "\n",
      "dog.\n",
      "\n",
      "dog.\n",
      "\n",
      "dog. Dogs are highly intelligent, loyal, playful and generally loving companions. They can provide protection from intruders and help keep the family entertained. They are also generally trainable and willing to learn new tricks and tasks.\n",
      "\n",
      "\n",
      "cat. Cats make great companions, are relatively independent, and can even be trained to do tricks. Furthermore, cats are generally more self-sufficient than other pets, so they generally don't require as much maintenance.\n",
      "\n",
      "dog. Dogs are loyal, loving, and playful animals who make great companions. They can also be trained to do tricks, provide emotional support, and serve as watchdogs.\n",
      "\n",
      "dog. Dogs are loyal and loving companions, and offer unconditional love and affection. They can also be trained to do many different things. Dogs are also great for exercise and provide many health benefits.\n",
      "\n",
      "\n",
      "dog.\n"
     ]
    }
   ],
   "source": [
    "# Let's vary the temperature and set it to \"1\"\n",
    "callOpenAi(10, 'The best pet is a ', temperature = 1)"
   ]
  },
  {
   "cell_type": "code",
   "execution_count": 16,
   "metadata": {},
   "outputs": [],
   "source": [
    "def callOpenAiTopP(num_times, prompt, top_p):\n",
    "    for i in range(num_times):\n",
    "        \n",
    "        response = openai.Completion.create(\n",
    "            engine=davincimodel,\n",
    "            prompt=prompt,\n",
    "            max_tokens=60,\n",
    "            top_p = top_p\n",
    "        )\n",
    "        print(response['choices'][0]['text'])"
   ]
  },
  {
   "cell_type": "code",
   "execution_count": 17,
   "metadata": {},
   "outputs": [
    {
     "name": "stdout",
     "output_type": "stream",
     "text": [
      "\n",
      "dog. Dogs are loyal, friendly, and make great companions. They can provide companionship, help with security, and offer unconditional love and affection.\n",
      "\n",
      "dog. Dogs are loyal companions, loving and affectionate, and can even help you stay fit and active. Plus, their unconditional love always brightens up your day.\n",
      "\n",
      "dog. Dogs are very loving, loyal, and have a strong bond with humans that provides comfort and security. They also require regular exercise, which gives people an opportunity to get outdoors and stay healthy. Additionally, dogs can provide companionship and unconditional love, which can help reduce stress and improve mental\n",
      "\n",
      "dog\n",
      "\n",
      "\n",
      "\n",
      "dog. Dogs make great companions and offer companionship, unconditional love, loyalty and protection. They can also be trained to do many things, such as obedience commands, activity games and therapeutic tasks.\n",
      "\n",
      "\n",
      "cat. Cats make great pets as they are low-maintenance, playful, affectionate, and fairly independent. Plus, cats are clean and can keep pesky pests away from your home.\n",
      "\n",
      "dog. Dogs are loyal, loving, and make great companions. They can also help provide protection, companionship, and emotional support.\n",
      "\n",
      "cat.\n",
      "\n",
      "Cats are arguably one of the most popular pets in the world. They are known for their intelligence, playfulness, and independence. Cats are low-maintenance, sociable animals that offer a lot of companionship without the demanding nature of a dog. They can provide\n",
      "\n",
      "\n",
      "dog!\n",
      "\n",
      "\n",
      "dog. Dogs make wonderful and loyal companions and provide years of unconditional love and friendship. They are also intelligent, gentle, playful, and provide great companionship for both adults and children alike.\n"
     ]
    }
   ],
   "source": [
    "# top_p - Defaults to 1\n",
    "# An alternative to sampling with temperature, called nucleus sampling, where the model considers the results of the tokens \n",
    "# with top_p probability mass. So 0.1 means only the tokens comprising the top 10% probability mass are considered.\n",
    "# We generally recommend altering this or temperature but not both.\n",
    "callOpenAiTopP(10, 'The best pet is a ', top_p = 1)"
   ]
  },
  {
   "cell_type": "code",
   "execution_count": 18,
   "metadata": {},
   "outputs": [
    {
     "name": "stdout",
     "output_type": "stream",
     "text": [
      "\n",
      "dog. Dogs are loyal, loving, and make great companions. They can be trained to do a variety of tasks and can provide a great source of comfort and companionship.\n",
      "\n",
      "dog. Dogs are loyal, loving, and make great companions. They can be trained to do a variety of tasks and can provide a great source of comfort and companionship.\n",
      "\n",
      "dog. Dogs are loyal, loving, and make great companions. They can be trained to do a variety of tasks and can provide a great source of comfort and companionship.\n",
      "\n",
      "dog. Dogs are loyal, loving, and make great companions. They can be trained to do a variety of tasks and can provide a great source of comfort and companionship.\n",
      "\n",
      "dog. Dogs are loyal, loving, and make great companions. They can be trained to do a variety of tasks and can provide a great source of comfort and companionship.\n",
      "\n",
      "dog. Dogs are loyal, loving, and make great companions. They can be trained to do a variety of tasks and can provide a great source of comfort and companionship.\n",
      "\n",
      "dog. Dogs are loyal, loving, and make great companions. They can be trained to do a variety of tasks and can provide a great source of comfort and companionship.\n",
      "\n",
      "dog. Dogs are loyal, loving, and make great companions. They can be trained to do a variety of tasks and can provide a great source of comfort and companionship.\n",
      "\n",
      "dog. Dogs are loyal, loving, and make great companions. They can be trained to do a variety of tasks and can provide a great source of comfort and companionship.\n",
      "\n",
      "dog. Dogs are loyal, loving, and make great companions. They can be trained to do a variety of tasks and can provide a great source of comfort and companionship.\n"
     ]
    }
   ],
   "source": [
    "# Let's vary the top_p and set it to \"0.1\"\n",
    "callOpenAiTopP(10, 'The best pet is a ', top_p = 0.1)"
   ]
  },
  {
   "cell_type": "code",
   "execution_count": null,
   "metadata": {},
   "outputs": [],
   "source": []
  }
 ],
 "metadata": {
  "kernelspec": {
   "display_name": "Python 3",
   "language": "python",
   "name": "python3"
  },
  "language_info": {
   "codemirror_mode": {
    "name": "ipython",
    "version": 3
   },
   "file_extension": ".py",
   "mimetype": "text/x-python",
   "name": "python",
   "nbconvert_exporter": "python",
   "pygments_lexer": "ipython3",
   "version": "3.9.13"
  },
  "orig_nbformat": 4
 },
 "nbformat": 4,
 "nbformat_minor": 2
}
