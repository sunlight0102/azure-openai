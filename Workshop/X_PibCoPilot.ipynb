{
 "cells": [
  {
   "attachments": {},
   "cell_type": "markdown",
   "metadata": {},
   "source": [
    "### PIB CoPilot\n",
    "PIBs are also used to create a pitchbook by assessing a company's strategy, competitive positioning, review of financial statements, industry dynamics, and trends within the industry. \n",
    "\n",
    "- News releases: News articles that may affect a company's stock price or growth prospect would be something that analysts look into, particularly within a 6-12 month time horizon.\n",
    "- SEC filings: These regulatory documents require a company to file Form 10-K and Form 10-Q with the SEC on an ongoing basis. Form 10-K is a financial overview and commentary for the last year, usually found on the company's website. Form 10-Q is similar to form 10-K, but it is a report for the last quarter instead of the previous year.\n",
    "- Equity research reports: Look into key forecasts for metrics like Revenue, EBITDA, and EPS for the company or competing firms to form a consensus estimate. \n",
    "- Investor Presentations: Companies provide historical information as an important foundation from which forecasts are made to guide key forecasting drivers. \n",
    "- Press Release: Can be found in the investor relations section of most companies' websites and contains the financial statements which are used in forms 10-K and 10-Q. \n",
    "- Conference calls: The same day a company issues its quarterly press release, it will also hold a conference call. On the call, analysts often learn details about management guidance. These conference calls are transcribed by several service providers and can be accessed by subscribers of large financial data providers."
   ]
  },
  {
   "cell_type": "code",
   "execution_count": 1,
   "metadata": {},
   "outputs": [],
   "source": [
    "import os  \n",
    "import json  \n",
    "import openai\n",
    "from Utilities.envVars import *\n",
    "\n",
    "# Set Search Service endpoint, index name, and API key from environment variables\n",
    "indexName = SearchIndex\n",
    "\n",
    "# Set OpenAI API key and endpoint\n",
    "openai.api_type = \"azure\"\n",
    "openai.api_version = OpenAiVersion\n",
    "openai_api_key = OpenAiKey\n",
    "assert openai_api_key, \"ERROR: Azure OpenAI Key is missing\"\n",
    "openai.api_key = openai_api_key\n",
    "openAiEndPoint = f\"https://{OpenAiService}.openai.azure.com\"\n",
    "assert openAiEndPoint, \"ERROR: Azure OpenAI Endpoint is missing\"\n",
    "assert \"openai.azure.com\" in openAiEndPoint.lower(), \"ERROR: Azure OpenAI Endpoint should be in the form: \\n\\n\\t<your unique endpoint identifier>.openai.azure.com\"\n",
    "openai.api_base = openAiEndPoint\n",
    "davincimodel = OpenAiDavinci\n"
   ]
  },
  {
   "cell_type": "code",
   "execution_count": 2,
   "metadata": {},
   "outputs": [],
   "source": [
    "import typing\n",
    "from Utilities.fmp import *\n",
    "apikey = FmpKey\n",
    "symbol: str = \"AAPL\"\n",
    "symbols: typing.List[str] = [\"AAPL\", \"CSCO\", \"QQQQ\"]\n",
    "exchange: str = \"NYSE\"\n",
    "exchanges: typing.List[str] = [\"NYSE\", \"NASDAQ\"]\n",
    "query: str = \"AA\"\n",
    "limit: int = 3\n",
    "period: str = \"quarter\"\n",
    "download: bool = True\n",
    "filing_type: str = \"10-K\""
   ]
  },
  {
   "cell_type": "code",
   "execution_count": 3,
   "metadata": {},
   "outputs": [],
   "source": [
    "from datetime import datetime\n",
    "from pytz import timezone\n",
    "from dateutil.relativedelta import relativedelta\n",
    "from datetime import timedelta\n",
    "from Utilities.cogSearch import createEarningCallIndex, indexDocs, createPressReleaseIndex, createStockNewsIndex\n",
    "\n",
    "central = timezone('US/Central')\n",
    "today = datetime.now(central)\n",
    "currentYear = today.year\n",
    "historicalDate = today - relativedelta(years=3)\n",
    "historicalYear = historicalDate.year\n",
    "historicalDate = historicalDate.strftime(\"%Y-%m-%d\")\n",
    "totalYears = currentYear - historicalYear"
   ]
  },
  {
   "attachments": {},
   "cell_type": "markdown",
   "metadata": {},
   "source": [
    "#### Get the Earnings Call Transcript for each quarter for last 3 years"
   ]
  },
  {
   "cell_type": "code",
   "execution_count": 16,
   "metadata": {},
   "outputs": [
    {
     "name": "stdout",
     "output_type": "stream",
     "text": [
      "Search index earningcalls already exists\n",
      "Processing ticker : AMZN\n",
      "Processing year and Quarter : 2020-Q1\n",
      "Processing year and Quarter : 2020-Q2\n",
      "Processing year and Quarter : 2020-Q3\n",
      "Processing year and Quarter : 2020-Q4\n",
      "Processing ticker : AMZN\n",
      "Processing year and Quarter : 2021-Q1\n",
      "Processing year and Quarter : 2021-Q2\n",
      "Processing year and Quarter : 2021-Q3\n",
      "Processing year and Quarter : 2021-Q4\n",
      "Processing ticker : AMZN\n",
      "Processing year and Quarter : 2022-Q1\n",
      "Processing year and Quarter : 2022-Q2\n",
      "Processing year and Quarter : 2022-Q3\n",
      "Processing year and Quarter : 2022-Q4\n",
      "Total docs: 12\n",
      "\tIndexed 12 sections, 12 succeeded\n"
     ]
    }
   ],
   "source": [
    "# For now we are calling API to get data, but otherwise we need to ensure the data is not persisted in our \n",
    "# index repository before calling again, if it is persisted then we need to delete it first\n",
    "i = 0\n",
    "earningsData = []\n",
    "earningIndexName = 'earningcalls'\n",
    "symbol = 'AMZN'\n",
    "# Create the index if it does not exist\n",
    "createEarningCallIndex(SearchService, SearchKey, earningIndexName)\n",
    "for i in range(totalYears):\n",
    "    print(f\"Processing ticker : {symbol}\")\n",
    "    processYear = historicalYear + i\n",
    "    Quarters = ['Q1', 'Q2', 'Q3', 'Q4']\n",
    "    for quarter in Quarters:\n",
    "        print(f\"Processing year and Quarter : {processYear}-{quarter}\")\n",
    "        earningTranscript = earning_call_transcript(apikey=apikey, symbol=symbol, year=str(processYear), quarter=quarter)\n",
    "        for transcript in earningTranscript:\n",
    "            symbol = transcript['symbol']\n",
    "            quarter = transcript['quarter']\n",
    "            year = transcript['year']\n",
    "            callDate = transcript['date']\n",
    "            content = transcript['content']\n",
    "            todayYmd = today.strftime(\"%Y-%m-%d\")\n",
    "            id = f\"{symbol}-{year}-{quarter}-{todayYmd}\"\n",
    "            earningsData.append({\n",
    "                \"id\": id,\n",
    "                \"symbol\": symbol,\n",
    "                \"quarter\": str(quarter),\n",
    "                \"year\": str(year),\n",
    "                \"calldate\": callDate,\n",
    "                \"content\": content,\n",
    "                \"inserteddate\": datetime.now(central).strftime(\"%Y-%m-%d\"),\n",
    "            })\n",
    "# Index the documents in the earning calls index\n",
    "indexDocs(SearchService, SearchKey, earningIndexName, earningsData)"
   ]
  },
  {
   "attachments": {},
   "cell_type": "markdown",
   "metadata": {},
   "source": [
    "### Get the Press Release - Limit it to 200 and most likely that will cover for last 3 years"
   ]
  },
  {
   "cell_type": "code",
   "execution_count": 11,
   "metadata": {},
   "outputs": [
    {
     "name": "stdout",
     "output_type": "stream",
     "text": [
      "Search index pressreleases already exists\n",
      "Processing ticker : MSFT\n",
      "Total docs: 200\n",
      "\tIndexed 200 sections, 200 succeeded\n"
     ]
    }
   ],
   "source": [
    "# For now we are calling API to get data, but otherwise we need to ensure the data is not persisted in our \n",
    "# index repository before calling again, if it is persisted then we need to delete it first\n",
    "counter = 0\n",
    "pressReleases = []\n",
    "pressReleaseIndexName = 'pressreleases'\n",
    "#symbol = 'AMZN'\n",
    "#symbol = 'TSLA'\n",
    "#symbol = 'AAPL'\n",
    "symbol = 'MSFT'\n",
    "# Create the index if it does not exist\n",
    "createPressReleaseIndex(SearchService, SearchKey, pressReleaseIndexName)\n",
    "print(f\"Processing ticker : {symbol}\")\n",
    "pr = press_releases(apikey=apikey, symbol=symbol, limit=200)\n",
    "for pressRelease in pr:\n",
    "    symbol = pressRelease['symbol']\n",
    "    releasedate = pressRelease['date']\n",
    "    title = pressRelease['title']\n",
    "    content = pressRelease['text']\n",
    "    todayYmd = today.strftime(\"%Y-%m-%d\")\n",
    "    id = f\"{symbol}-{todayYmd}-{counter}\"\n",
    "    pressReleases.append({\n",
    "        \"id\": id,\n",
    "        \"symbol\": symbol,\n",
    "        \"releasedate\": releasedate,\n",
    "        \"title\": title,\n",
    "        \"content\": content,\n",
    "        \"inserteddate\": datetime.now(central).strftime(\"%Y-%m-%d\"),\n",
    "    })\n",
    "    counter = counter + 1\n",
    "\n",
    "# Index the documents in the earning calls index\n",
    "indexDocs(SearchService, SearchKey, pressReleaseIndexName, pressReleases)"
   ]
  },
  {
   "attachments": {},
   "cell_type": "markdown",
   "metadata": {},
   "source": [
    "### Get Stock News - Limit it to 5000 and most likely that will cover for current year"
   ]
  },
  {
   "cell_type": "code",
   "execution_count": 7,
   "metadata": {},
   "outputs": [
    {
     "name": "stdout",
     "output_type": "stream",
     "text": [
      "Search index stocknews already exists\n",
      "Processing ticker : MSFT\n",
      "Total docs: 5000\n",
      "\tIndexed 1000 sections, 1000 succeeded\n",
      "\tIndexed 1000 sections, 1000 succeeded\n",
      "\tIndexed 1000 sections, 1000 succeeded\n",
      "\tIndexed 1000 sections, 1000 succeeded\n",
      "\tIndexed 1000 sections, 1000 succeeded\n"
     ]
    }
   ],
   "source": [
    "# For now we are calling API to get data, but otherwise we need to ensure the data is not persisted in our \n",
    "# index repository before calling again, if it is persisted then we need to delete it first\n",
    "counter = 0\n",
    "stocknews = []\n",
    "stockNewsIndexName = 'stocknews'\n",
    "#symbol = 'AMZN'\n",
    "#symbol = 'TSLA'\n",
    "#symbol = 'AAPL'\n",
    "symbol = 'MSFT'\n",
    "# Create the index if it does not exist\n",
    "createStockNewsIndex(SearchService, SearchKey, stockNewsIndexName)\n",
    "print(f\"Processing ticker : {symbol}\")\n",
    "sn = stock_news(apikey=apikey, tickers=symbol, limit=5000)\n",
    "for news in sn:\n",
    "    symbol = news['symbol']\n",
    "    publisheddate = news['publishedDate']\n",
    "    title = news['title']\n",
    "    image = news['image']\n",
    "    site = news['site']\n",
    "    content = news['text']\n",
    "    url = news['url']\n",
    "    todayYmd = today.strftime(\"%Y-%m-%d\")\n",
    "    id = f\"{symbol}-{todayYmd}-{counter}\"\n",
    "    stocknews.append({\n",
    "        \"id\": id,\n",
    "        \"symbol\": symbol,\n",
    "        \"publisheddate\": publisheddate,\n",
    "        \"title\": title,\n",
    "        \"image\": image,\n",
    "        \"site\": site,\n",
    "        \"content\": content,\n",
    "        \"url\": url,\n",
    "        \"inserteddate\": datetime.now(central).strftime(\"%Y-%m-%d\"),\n",
    "    })\n",
    "    counter = counter + 1\n",
    "\n",
    "# Index the documents in the earning calls index\n",
    "indexDocs(SearchService, SearchKey, stockNewsIndexName, stocknews)"
   ]
  },
  {
   "attachments": {},
   "cell_type": "markdown",
   "metadata": {},
   "source": [
    "#### Process the SEC Filings that are stored in JSON Format"
   ]
  },
  {
   "cell_type": "code",
   "execution_count": 24,
   "metadata": {},
   "outputs": [],
   "source": [
    "from Utilities.azureBlob import upsertMetadata, getBlob, getAllBlobs\n",
    "\n",
    "def GetAllFiles():\n",
    "    # Get all files in the container from Azure Blob Storage\n",
    "    # Create the BlobServiceClient object\n",
    "    blobList = getAllBlobs(OpenAiDocConnStr, SecDocContainer)\n",
    "    files = []\n",
    "    for file in blobList:\n",
    "        if (file.metadata == None):\n",
    "            files.append({\n",
    "            \"filename\" : file.name,\n",
    "            \"embedded\": \"false\",\n",
    "            })\n",
    "        else:\n",
    "            files.append({\n",
    "                \"filename\" : file.name,\n",
    "                \"embedded\": file.metadata[\"embedded\"] if \"embedded\" in file.metadata else \"false\",\n",
    "                })\n",
    "    print(f\"Found {len(files)} files in the container\")\n",
    "    return files"
   ]
  },
  {
   "cell_type": "code",
   "execution_count": 25,
   "metadata": {},
   "outputs": [
    {
     "name": "stdout",
     "output_type": "stream",
     "text": [
      "Found 101477 files in the container\n",
      "Found 83575 files to embed\n"
     ]
    }
   ],
   "source": [
    "filesData = GetAllFiles()\n",
    "filesData = list(filter(lambda x : x['embedded'] == \"false\", filesData))\n",
    "filesData = list(map(lambda x: {'filename': x['filename']}, filesData))\n",
    "print(f\"Found {len(filesData)} files to embed\")"
   ]
  },
  {
   "cell_type": "code",
   "execution_count": 16,
   "metadata": {},
   "outputs": [],
   "source": [
    "from azure.search.documents.indexes import SearchIndexClient\n",
    "from azure.search.documents.indexes.models import *\n",
    "from azure.search.documents import SearchClient\n",
    "from azure.core.credentials import AzureKeyCredential\n",
    "from itertools import islice"
   ]
  },
  {
   "cell_type": "code",
   "execution_count": 17,
   "metadata": {},
   "outputs": [],
   "source": [
    "def createSearchIndex(indexName):\n",
    "    indexClient = SearchIndexClient(endpoint=f\"https://{SearchService}.search.windows.net/\",\n",
    "            credential=AzureKeyCredential(SearchKey))\n",
    "    if indexName not in indexClient.list_index_names():\n",
    "        index = SearchIndex(\n",
    "            name=indexName,\n",
    "            fields=[\n",
    "                        SimpleField(name=\"id\", type=SearchFieldDataType.String, key=True),\n",
    "                        SimpleField(name=\"cik\", type=SearchFieldDataType.String),\n",
    "                        SimpleField(name=\"company\", type=SearchFieldDataType.String),\n",
    "                        SimpleField(name=\"filing_type\", type=SearchFieldDataType.String),\n",
    "                        SimpleField(name=\"filing_date\", type=SearchFieldDataType.String),\n",
    "                        SimpleField(name=\"period_of_report\", type=SearchFieldDataType.String),\n",
    "                        SimpleField(name=\"sic\", type=SearchFieldDataType.String),\n",
    "                        SimpleField(name=\"state_of_inc\", type=SearchFieldDataType.String),\n",
    "                        SimpleField(name=\"state_location\", type=SearchFieldDataType.String),\n",
    "                        SimpleField(name=\"fiscal_year_end\", type=SearchFieldDataType.String),\n",
    "                        SimpleField(name=\"filing_html_index\", type=SearchFieldDataType.String),\n",
    "                        SimpleField(name=\"htm_filing_link\", type=SearchFieldDataType.String),\n",
    "                        SimpleField(name=\"complete_text_filing_link\", type=SearchFieldDataType.String),\n",
    "                        SimpleField(name=\"filename\", type=SearchFieldDataType.String),\n",
    "                        SimpleField(name=\"item_1\", type=SearchFieldDataType.String),\n",
    "                        SimpleField(name=\"item_1A\", type=SearchFieldDataType.String),\n",
    "                        SimpleField(name=\"item_1B\", type=SearchFieldDataType.String),\n",
    "                        SimpleField(name=\"item_2\", type=SearchFieldDataType.String),\n",
    "                        SimpleField(name=\"item_3\", type=SearchFieldDataType.String),\n",
    "                        SimpleField(name=\"item_4\", type=SearchFieldDataType.String),\n",
    "                        SimpleField(name=\"item_5\", type=SearchFieldDataType.String),\n",
    "                        SimpleField(name=\"item_6\", type=SearchFieldDataType.String),\n",
    "                        SimpleField(name=\"item_7\", type=SearchFieldDataType.String),\n",
    "                        SimpleField(name=\"item_7A\", type=SearchFieldDataType.String),\n",
    "                        SimpleField(name=\"item_8\", type=SearchFieldDataType.String),\n",
    "                        SimpleField(name=\"item_9\", type=SearchFieldDataType.String),\n",
    "                        SimpleField(name=\"item_9A\", type=SearchFieldDataType.String),\n",
    "                        SimpleField(name=\"item_9B\", type=SearchFieldDataType.String),\n",
    "                        SimpleField(name=\"item_10\", type=SearchFieldDataType.String),\n",
    "                        SimpleField(name=\"item_11\", type=SearchFieldDataType.String),\n",
    "                        SimpleField(name=\"item_12\", type=SearchFieldDataType.String),\n",
    "                        SimpleField(name=\"item_13\", type=SearchFieldDataType.String),\n",
    "                        SimpleField(name=\"item_14\", type=SearchFieldDataType.String),\n",
    "                        SimpleField(name=\"item_15\", type=SearchFieldDataType.String),\n",
    "                        SimpleField(name=\"metadata\", type=SearchFieldDataType.String),\n",
    "                        SearchableField(name=\"content\", type=SearchFieldDataType.String,\n",
    "                                        searchable=True, retrievable=True, analyzer_name=\"en.microsoft\"),\n",
    "                        # SearchField(name=\"contentVector\", type=SearchFieldDataType.Collection(SearchFieldDataType.Single),\n",
    "                        #             searchable=True, dimensions=1536, vector_search_configuration=\"vectorConfig\"),\n",
    "                        SimpleField(name=\"sourcefile\", type=\"Edm.String\", filterable=True, facetable=True),\n",
    "            ],\n",
    "            vector_search = VectorSearch(\n",
    "                algorithm_configurations=[\n",
    "                    VectorSearchAlgorithmConfiguration(\n",
    "                        name=\"vectorConfig\",\n",
    "                        kind=\"hnsw\",\n",
    "                        hnsw_parameters={\n",
    "                            \"m\": 4,\n",
    "                            \"efConstruction\": 400,\n",
    "                            \"efSearch\": 500,\n",
    "                            \"metric\": \"cosine\"\n",
    "                        }\n",
    "                    )\n",
    "                ]\n",
    "            ),\n",
    "            semantic_settings=SemanticSettings(\n",
    "                configurations=[SemanticConfiguration(\n",
    "                    name='semanticConfig',\n",
    "                    prioritized_fields=PrioritizedFields(\n",
    "                        title_field=None, prioritized_content_fields=[SemanticField(field_name='content')]))])\n",
    "        )\n",
    "\n",
    "        try:\n",
    "            print(f\"Creating {indexName} search index\")\n",
    "            indexClient.create_index(index)\n",
    "        except Exception as e:\n",
    "            print(e)"
   ]
  },
  {
   "cell_type": "code",
   "execution_count": 18,
   "metadata": {},
   "outputs": [],
   "source": [
    "def chunkAndEmbed(indexName, secDoc, fullPath):\n",
    "    fullData = []\n",
    "    text = secDoc['item_1'] + secDoc['item_1A'] + secDoc['item_7'] + secDoc['item_7A']\n",
    "    text = text.replace(\"\\n\", \" \")\n",
    "\n",
    "    secCommonData = {\n",
    "            \"id\": f\"{fullPath}\".replace(\".\", \"_\").replace(\" \", \"_\").replace(\":\", \"_\").replace(\"/\", \"_\").replace(\",\", \"_\").replace(\"&\", \"_\"),\n",
    "            \"cik\": secDoc['cik'],\n",
    "            \"company\": secDoc['company'],\n",
    "            \"filing_type\": secDoc['filing_type'],\n",
    "            \"filing_date\": secDoc['filing_date'],\n",
    "            \"period_of_report\": secDoc['period_of_report'],\n",
    "            \"sic\": secDoc['sic'],\n",
    "            \"state_of_inc\": secDoc['state_of_inc'],\n",
    "            \"state_location\": secDoc['state_location'],\n",
    "            \"fiscal_year_end\": secDoc['fiscal_year_end'],\n",
    "            \"filing_html_index\": secDoc['filing_html_index'],\n",
    "            \"htm_filing_link\": secDoc['htm_filing_link'],\n",
    "            \"complete_text_filing_link\": secDoc['complete_text_filing_link'],\n",
    "            \"filename\": secDoc['filename'],\n",
    "            \"item_1\": secDoc['item_1'],\n",
    "            \"item_1A\": secDoc['item_1A'],\n",
    "            \"item_1B\": secDoc['item_1B'],\n",
    "            \"item_2\": secDoc['item_2'],\n",
    "            \"item_3\": secDoc['item_3'],\n",
    "            \"item_4\": secDoc['item_4'],\n",
    "            \"item_5\": secDoc['item_5'],\n",
    "            \"item_6\": secDoc['item_6'],\n",
    "            \"item_7\": secDoc['item_7'],\n",
    "            \"item_7A\": secDoc['item_7A'],\n",
    "            \"item_8\": secDoc['item_8'],\n",
    "            \"item_9\": secDoc['item_9'],\n",
    "            \"item_9A\": secDoc['item_9A'],\n",
    "            \"item_9B\": secDoc['item_9B'],\n",
    "            \"item_10\": secDoc['item_10'],\n",
    "            \"item_11\": secDoc['item_11'],\n",
    "            \"item_12\": secDoc['item_12'],\n",
    "            \"item_13\": secDoc['item_13'],\n",
    "            \"item_14\": secDoc['item_14'],\n",
    "            \"item_15\": secDoc['item_15'],\n",
    "            \"content\": text,\n",
    "            #\"contentVector\": [],\n",
    "            \"metadata\" : json.dumps({\"cik\": secDoc['cik'], \"source\": secDoc['filename'], \"filingType\": secDoc['filing_type'], \"reportDate\": secDoc['period_of_report']}),\n",
    "            \"sourcefile\": fullPath\n",
    "        }\n",
    "    # Comment for now on not generating embeddings\n",
    "    #secCommonData['contentVector'] = generateEmbeddings(embeddingModelType, text)\n",
    "    fullData.append(secCommonData)\n",
    "\n",
    "    searchClient = SearchClient(endpoint=f\"https://{SearchService}.search.windows.net/\",\n",
    "                                index_name=indexName,\n",
    "                                credential=AzureKeyCredential(SearchKey))\n",
    "    results = searchClient.upload_documents(fullData)\n",
    "    succeeded = sum([1 for r in results if r.succeeded])\n",
    "    #print(f\"\\tIndexed {len(results)} sections, {succeeded} succeeded\")\n",
    "\n",
    "    return None"
   ]
  },
  {
   "cell_type": "code",
   "execution_count": 19,
   "metadata": {},
   "outputs": [],
   "source": [
    "import asyncio\n",
    "import time\n",
    "\n",
    "def background(f):\n",
    "    def wrapped(*args, **kwargs):\n",
    "        return asyncio.get_event_loop().run_in_executor(None, f, *args, **kwargs)\n",
    "\n",
    "    return wrapped"
   ]
  },
  {
   "cell_type": "code",
   "execution_count": 20,
   "metadata": {},
   "outputs": [],
   "source": [
    "@background\n",
    "def indexDocuments(file):\n",
    "    fileName = file['filename']\n",
    "    print(f\"Indexing {fileName}\")\n",
    "    readBytes = getBlob(OpenAiDocConnStr, SecDocContainer, fileName)\n",
    "    secDoc = json.loads(readBytes.decode(\"utf-8\"))           \n",
    "    #createSearchIndex(indexName)\n",
    "    chunkAndEmbed(indexName, secDoc, os.path.basename(fileName))\n",
    "    metadata = {'embedded': 'true', 'indexType': \"cogsearchvs\", \"indexName\": indexName}\n",
    "    upsertMetadata(OpenAiDocConnStr, SecDocContainer, fileName, metadata)"
   ]
  },
  {
   "cell_type": "code",
   "execution_count": 21,
   "metadata": {},
   "outputs": [],
   "source": [
    "res = filesData[:10000]"
   ]
  },
  {
   "cell_type": "code",
   "execution_count": 22,
   "metadata": {},
   "outputs": [],
   "source": [
    "indexName = 'secfilings'\n",
    "i = 0\n",
    "for file in res:\n",
    "    indexDocuments(file)"
   ]
  },
  {
   "cell_type": "code",
   "execution_count": 8,
   "metadata": {},
   "outputs": [
    {
     "name": "stdout",
     "output_type": "stream",
     "text": [
      "Company Profile: company_profile(apikey=apikey, symbol=symbol)=[{'symbol': 'MSFT', 'price': 337.3225, 'beta': 0.931034, 'volAvg': 29673707, 'mktCap': 2508158005362, 'lastDiv': 2.72, 'range': '213.43-338.55', 'changes': 1.9225, 'companyName': 'Microsoft Corporation', 'currency': 'USD', 'cik': '0000789019', 'isin': 'US5949181045', 'cusip': '594918104', 'exchange': 'NASDAQ Global Select', 'exchangeShortName': 'NASDAQ', 'industry': 'Software—Infrastructure', 'website': 'https://www.microsoft.com', 'description': 'Microsoft Corporation develops, licenses, and supports software, services, devices, and solutions worldwide. The company operates in three segments: Productivity and Business Processes, Intelligent Cloud, and More Personal Computing. The Productivity and Business Processes segment offers Office, Exchange, SharePoint, Microsoft Teams, Office 365 Security and Compliance, Microsoft Viva, and Skype for Business; Skype, Outlook.com, OneDrive, and LinkedIn; and Dynamics 365, a set of cloud-based and on-premises business solutions for organizations and enterprise divisions. The Intelligent Cloud segment licenses SQL, Windows Servers, Visual Studio, System Center, and related Client Access Licenses; GitHub that provides a collaboration platform and code hosting service for developers; Nuance provides healthcare and enterprise AI solutions; and Azure, a cloud platform. It also offers enterprise support, Microsoft consulting, and nuance professional services to assist customers in developing, deploying, and managing Microsoft server and desktop solutions; and training and certification on Microsoft products. The More Personal Computing segment provides Windows original equipment manufacturer (OEM) licensing and other non-volume licensing of the Windows operating system; Windows Commercial, such as volume licensing of the Windows operating system, Windows cloud services, and other Windows commercial offerings; patent licensing; and Windows Internet of Things. It also offers Surface, PC accessories, PCs, tablets, gaming and entertainment consoles, and other devices; Gaming, including Xbox hardware, and Xbox content and services; video games and third-party video game royalties; and Search, including Bing and Microsoft advertising. The company sells its products through OEMs, distributors, and resellers; and directly through digital marketplaces, online stores, and retail stores. Microsoft Corporation was founded in 1975 and is headquartered in Redmond, Washington.', 'ceo': 'Mr. Satya  Nadella', 'sector': 'Technology', 'country': 'US', 'fullTimeEmployees': '221000', 'phone': '425 882 8080', 'address': 'One Microsoft Way', 'city': 'Redmond', 'state': 'WA', 'zip': '98052-6399', 'dcfDiff': 4.56584, 'dcf': 243.594, 'image': 'https://financialmodelingprep.com/image-stock/MSFT.png', 'ipoDate': '1986-03-13', 'defaultImage': False, 'isEtf': False, 'isActivelyTrading': True, 'isAdr': False, 'isFund': False}]\n"
     ]
    }
   ],
   "source": [
    "print(f\"Company Profile: {company_profile(apikey=apikey, symbol=symbol)=}\")"
   ]
  },
  {
   "cell_type": "code",
   "execution_count": 9,
   "metadata": {},
   "outputs": [
    {
     "name": "stdout",
     "output_type": "stream",
     "text": [
      "Key Executives: key_executives(apikey=apikey, symbol=symbol)=[{'title': 'Pres & Vice Chairman', 'name': 'Mr. Bradford L. Smith LCA', 'pay': 4655274, 'currencyPay': 'USD', 'gender': 'male', 'yearBorn': 1959, 'titleSince': None}, {'title': 'Executive Vice President & Chief Financial Officer', 'name': 'Ms. Amy E. Hood', 'pay': 4637915, 'currencyPay': 'USD', 'gender': 'female', 'yearBorn': 1972, 'titleSince': None}, {'title': 'Gen. Mang. of Investor Relations', 'name': 'Brett  Iversen', 'pay': None, 'currencyPay': 'USD', 'gender': '', 'yearBorn': None, 'titleSince': None}, {'title': 'Corporation Vice President & Chief Accounting Officer', 'name': 'Ms. Alice L. Jolla', 'pay': None, 'currencyPay': 'USD', 'gender': 'female', 'yearBorn': 1967, 'titleSince': None}, {'title': 'Executive Vice President of Bus. Devel., Strategy & Ventures', 'name': 'Mr. Christopher David Young', 'pay': 4588876, 'currencyPay': 'USD', 'gender': 'male', 'yearBorn': 1972, 'titleSince': None}, {'title': 'Executive Vice President & Chief Commercial Officer', 'name': 'Mr. Judson  Althoff', 'pay': 4428268, 'currencyPay': 'USD', 'gender': 'male', 'yearBorn': 1973, 'titleSince': None}, {'title': 'Chairman & Chief Executive Officer', 'name': 'Mr. Satya  Nadella', 'pay': 12676750, 'currencyPay': 'USD', 'gender': 'male', 'yearBorn': 1967, 'titleSince': None}, {'title': 'Executive Vice President & Chief Marketing Officer', 'name': 'Mr. Christopher C. Capossela', 'pay': None, 'currencyPay': 'USD', 'gender': 'male', 'yearBorn': 1970, 'titleSince': None}, {'title': 'Vice President, Deputy Gen. Counsel of Corporation, External & Legal Affairs and Assistant Sec.', 'name': 'Mr. Keith Ranger Dolliver Esq.', 'pay': None, 'currencyPay': 'USD', 'gender': 'male', 'yearBorn': None, 'titleSince': None}, {'title': 'Corporation Vice President for Corp. Communications', 'name': 'Mr. Frank X. Shaw', 'pay': None, 'currencyPay': 'USD', 'gender': 'male', 'yearBorn': None, 'titleSince': None}]\n"
     ]
    }
   ],
   "source": [
    "print(f\"Key Executives: {key_executives(apikey=apikey, symbol=symbol)=}\")"
   ]
  },
  {
   "cell_type": "code",
   "execution_count": 11,
   "metadata": {},
   "outputs": [
    {
     "name": "stdout",
     "output_type": "stream",
     "text": [
      "SEC Filings: sec_filings(apikey=apikey, symbol=symbol, filing_type=filing_type)=[{'symbol': 'MSFT', 'fillingDate': '2022-07-28 00:00:00', 'acceptedDate': '2022-07-28 16:06:19', 'cik': '0000789019', 'type': '10-K', 'link': 'https://www.sec.gov/Archives/edgar/data/789019/000156459022026876/0001564590-22-026876-index.htm', 'finalLink': 'https://www.sec.gov/Archives/edgar/data/789019/000156459022026876/msft-10k_20220630.htm'}, {'symbol': 'MSFT', 'fillingDate': '2021-07-29 00:00:00', 'acceptedDate': '2021-07-29 16:21:55', 'cik': '0000789019', 'type': '10-K', 'link': 'https://www.sec.gov/Archives/edgar/data/789019/000156459021039151/0001564590-21-039151-index.htm', 'finalLink': 'https://www.sec.gov/Archives/edgar/data/789019/000156459021039151/msft-10k_20210630.htm'}, {'symbol': 'MSFT', 'fillingDate': '2020-07-30 00:00:00', 'acceptedDate': '2020-07-30 20:44:46', 'cik': '0000789019', 'type': '10-K', 'link': 'https://www.sec.gov/Archives/edgar/data/789019/000156459020034944/0001564590-20-034944-index.htm', 'finalLink': 'https://www.sec.gov/Archives/edgar/data/789019/000156459020034944/msft-10k_20200630.htm'}, {'symbol': 'MSFT', 'fillingDate': '2019-08-01 00:00:00', 'acceptedDate': '2019-08-01 16:09:55', 'cik': '0000789019', 'type': '10-K', 'link': 'https://www.sec.gov/Archives/edgar/data/789019/000156459019027952/0001564590-19-027952-index.htm', 'finalLink': 'https://www.sec.gov/Archives/edgar/data/789019/000156459019027952/msft-10k_20190630.htm'}, {'symbol': 'MSFT', 'fillingDate': '2018-08-03 00:00:00', 'acceptedDate': '2018-08-03 11:03:33', 'cik': '0000789019', 'type': '10-K', 'link': 'https://www.sec.gov/Archives/edgar/data/789019/000156459018019062/0001564590-18-019062-index.htm', 'finalLink': 'https://www.sec.gov/Archives/edgar/data/789019/000156459018019062/msft-10k_20180630.htm'}, {'symbol': 'MSFT', 'fillingDate': '2017-08-02 00:00:00', 'acceptedDate': '2017-08-02 16:15:01', 'cik': '0000789019', 'type': '10-K', 'link': 'https://www.sec.gov/Archives/edgar/data/789019/000156459017014900/0001564590-17-014900-index.htm', 'finalLink': 'https://www.sec.gov/Archives/edgar/data/789019/000156459017014900/msft-10k_20170630.htm'}, {'symbol': 'MSFT', 'fillingDate': '2016-07-28 00:00:00', 'acceptedDate': '2016-07-28 16:12:18', 'cik': '0000789019', 'type': '10-K', 'link': 'https://www.sec.gov/Archives/edgar/data/789019/000119312516662209/0001193125-16-662209-index.htm', 'finalLink': 'https://www.sec.gov/Archives/edgar/data/789019/000119312516662209/d187868d10k.htm'}, {'symbol': 'MSFT', 'fillingDate': '2015-07-31 00:00:00', 'acceptedDate': '2015-07-31 15:07:52', 'cik': '0000789019', 'type': '10-K', 'link': 'https://www.sec.gov/Archives/edgar/data/789019/000119312515272806/0001193125-15-272806-index.htm', 'finalLink': 'https://www.sec.gov/Archives/edgar/data/789019/000119312515272806/d918813d10k.htm'}, {'symbol': 'MSFT', 'fillingDate': '2014-07-31 00:00:00', 'acceptedDate': '2014-07-31 17:16:52', 'cik': '0000789019', 'type': '10-K', 'link': 'https://www.sec.gov/Archives/edgar/data/789019/000119312514289961/0001193125-14-289961-index.htm', 'finalLink': 'https://www.sec.gov/Archives/edgar/data/789019/000119312514289961/d722626d10k.htm'}, {'symbol': 'MSFT', 'fillingDate': '2013-07-30 00:00:00', 'acceptedDate': '2013-07-30 16:14:49', 'cik': '0000789019', 'type': '10-K', 'link': 'https://www.sec.gov/Archives/edgar/data/789019/000119312513310206/0001193125-13-310206-index.htm', 'finalLink': 'https://www.sec.gov/Archives/edgar/data/789019/000119312513310206/d527745d10k.htm'}]\n"
     ]
    }
   ],
   "source": [
    "print(f\"SEC Filings: {sec_filings(apikey=apikey, symbol=symbol, filing_type=filing_type)=}\")"
   ]
  },
  {
   "cell_type": "code",
   "execution_count": null,
   "metadata": {},
   "outputs": [],
   "source": []
  }
 ],
 "metadata": {
  "kernelspec": {
   "display_name": "Python 3",
   "language": "python",
   "name": "python3"
  },
  "language_info": {
   "codemirror_mode": {
    "name": "ipython",
    "version": 3
   },
   "file_extension": ".py",
   "mimetype": "text/x-python",
   "name": "python",
   "nbconvert_exporter": "python",
   "pygments_lexer": "ipython3",
   "version": "3.9.13"
  },
  "orig_nbformat": 4
 },
 "nbformat": 4,
 "nbformat_minor": 2
}
