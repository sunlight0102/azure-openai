{
 "cells": [
  {
   "attachments": {},
   "cell_type": "markdown",
   "metadata": {},
   "source": [
    "### Querying Tabular Data\n",
    "Lots of data and information is stored in tabular data, whether it be csvs, excel sheets, or SQL tables. We already covered talking to SQL, so let's focus on the other two.\n",
    "\n",
    "Options available for querying tabular data:\n",
    "- Document Loading - Load the data into a Document and then index it as you would other text/unstructured data. For this, you should use a document loader like the CSVLoader and then you should create an Index over that data, and query it that way.\n",
    "- Querying - If you have more numeric tabular data, or have a large amount of data and don't want to index it, you can also use a language model to interact with it directly.\n",
    "- Chains - If you are just getting started, and you have relatively small/simple tabular data, you should get started with chains. Chains are a sequence of predetermined steps, so they are good to get started with as they give you more control and let you understand what is happening better.\n",
    "- Agents - Agents are more complex, and involve multiple queries to the LLM to understand what to do. The downside of agents are that you have less control. The upside is that they are more powerful, which allows you to use them on larger databases and more complex schemas.\n",
    "\n",
    "Examples of chains and agents are covered in AskSQL notebook, where we used SQLAgents and SQLDatabaseChain.  This notebook covers the concept on CSV Agent\n",
    "\n"
   ]
  },
  {
   "attachments": {},
   "cell_type": "markdown",
   "metadata": {},
   "source": [
    "#### Set Environment Variables"
   ]
  },
  {
   "cell_type": "code",
   "execution_count": 1,
   "metadata": {},
   "outputs": [],
   "source": [
    "import os  \n",
    "import json  \n",
    "import openai\n",
    "from Utilities.envVars import *\n",
    "\n",
    "# Set Search Service endpoint, index name, and API key from environment variables\n",
    "indexName = SearchIndex\n",
    "\n",
    "# Set OpenAI API key and endpoint\n",
    "openai.api_type = \"azure\"\n",
    "openai.api_version = OpenAiVersion\n",
    "openai_api_key = OpenAiKey\n",
    "assert openai_api_key, \"ERROR: Azure OpenAI Key is missing\"\n",
    "openai.api_key = openai_api_key\n",
    "openAiEndPoint = f\"https://{OpenAiService}.openai.azure.com\"\n",
    "assert openAiEndPoint, \"ERROR: Azure OpenAI Endpoint is missing\"\n",
    "assert \"openai.azure.com\" in openAiEndPoint.lower(), \"ERROR: Azure OpenAI Endpoint should be in the form: \\n\\n\\t<your unique endpoint identifier>.openai.azure.com\"\n",
    "openai.api_base = openAiEndPoint\n",
    "davincimodel = OpenAiDavinci"
   ]
  },
  {
   "cell_type": "code",
   "execution_count": 2,
   "metadata": {},
   "outputs": [],
   "source": [
    "# Import the needed Python packages\n",
    "import urllib\n",
    "from langchain.chat_models import AzureChatOpenAI, ChatOpenAI\n",
    "from langchain.embeddings.openai import OpenAIEmbeddings\n",
    "from IPython.display import display, HTML\n",
    "from langchain.agents import create_csv_agent\n",
    "\n",
    "embeddingModelType = \"azureopenai\"\n",
    "temperature = 0.3\n",
    "tokenLength = 1000\n",
    "\n",
    "if (embeddingModelType == 'azureopenai'):\n",
    "        baseUrl = f\"https://{OpenAiService}.openai.azure.com\"\n",
    "        openai.api_type = \"azure\"\n",
    "        openai.api_key = OpenAiKey\n",
    "        openai.api_version = OpenAiVersion\n",
    "        openai.api_base = f\"https://{OpenAiService}.openai.azure.com\"\n",
    "\n",
    "        llm = AzureChatOpenAI(\n",
    "                    openai_api_base=baseUrl,\n",
    "                    openai_api_version=OpenAiVersion,\n",
    "                    deployment_name=OpenAiChat,\n",
    "                    temperature=temperature,\n",
    "                    openai_api_key=OpenAiKey,\n",
    "                    openai_api_type=\"azure\",\n",
    "                    max_tokens=tokenLength)\n",
    "        embeddings = OpenAIEmbeddings(model=OpenAiEmbedding, chunk_size=1, openai_api_key=OpenAiKey)\n",
    "        \n",
    "elif embeddingModelType == \"openai\":\n",
    "        openai.api_type = \"open_ai\"\n",
    "        openai.api_base = \"https://api.openai.com/v1\"\n",
    "        openai.api_version = '2020-11-07' \n",
    "        openai.api_key = OpenAiApiKey\n",
    "        llm = ChatOpenAI(temperature=temperature,\n",
    "                openai_api_key=OpenAiApiKey,\n",
    "                max_tokens=tokenLength)\n",
    "        embeddings = OpenAIEmbeddings(openai_api_key=OpenAiApiKey)\n"
   ]
  },
  {
   "attachments": {},
   "cell_type": "markdown",
   "metadata": {},
   "source": [
    "This shows how to use agents to interact with a csv. It is mostly optimized for question answering.\n",
    "NOTE: this agent calls the Pandas DataFrame agent under the hood, which in turn calls the Python agent, which executes LLM generated Python code - this can be bad if the LLM generated Python code is harmful.\n"
   ]
  },
  {
   "cell_type": "code",
   "execution_count": 7,
   "metadata": {},
   "outputs": [],
   "source": [
    "# Create CSV Agent and reference the Covid19 Dataset\n",
    "csvAgent = create_csv_agent(llm, './Data/CSV/Covid19History.csv', verbose=False)"
   ]
  },
  {
   "cell_type": "code",
   "execution_count": 8,
   "metadata": {},
   "outputs": [
    {
     "data": {
      "text/plain": [
       "'There are 20780 rows in the dataframe.'"
      ]
     },
     "execution_count": 8,
     "metadata": {},
     "output_type": "execute_result"
    }
   ],
   "source": [
    "csvAgent.run(\"how many rows are there?\")"
   ]
  },
  {
   "cell_type": "code",
   "execution_count": 10,
   "metadata": {},
   "outputs": [
    {
     "name": "stdout",
     "output_type": "stream",
     "text": [
      "31\n",
      "0.0\n"
     ]
    }
   ],
   "source": [
    "answer = csvAgent.run(\"How may patients were hospitalized during July 2020 in Texas?\")\n",
    "print(answer)"
   ]
  },
  {
   "attachments": {},
   "cell_type": "markdown",
   "metadata": {},
   "source": [
    "Knowing that langchain csv_agent is using Pandas Dataframe under the hood, what if we create pandas dataframe agent to test the same query?"
   ]
  },
  {
   "cell_type": "code",
   "execution_count": 11,
   "metadata": {},
   "outputs": [
    {
     "name": "stdout",
     "output_type": "stream",
     "text": [
      "5,535,849.0\n"
     ]
    }
   ],
   "source": [
    "from langchain.agents import create_pandas_dataframe_agent\n",
    "import pandas as pd\n",
    "\n",
    "csvPromptPrefix = \"\"\"\n",
    "First set the pandas display options to show all the columns, get the column names, then answer the question.\n",
    "Use pandasql and SQL queries to interact with the dataframe.\n",
    "\n",
    "\"\"\"\n",
    "\n",
    "csvPromptSuffx = \"\"\"\n",
    "- **ALWAYS** before giving the Final Answer, try another method. Then reflect on the answers of the two methods you did and ask yourself if it answers correctly the original question. If you are not sure, try another method.\n",
    "- If the methods tried do not give the same result, reflect and try again until you have two methods that have the same result. \n",
    "- If you still cannot arrive to a consistent result, say that you are not sure of the answer.\n",
    "- If you are sure of the correct answer, create a beautiful and thorough response using Markdown.\n",
    "- **DO NOT MAKE UP AN ANSWER OR USE PRIOR KNOWLEDGE, ONLY USE THE RESULTS OF THE CALCULATIONS YOU HAVE DONE**. \n",
    "- **ALWAYS**, as part of your \"Final Answer\", explain how you got to the answer on a section that starts with: \"\\n\\nExplanation:\\n\". In the explanation, mention the column names that you used to get to the final answer. \n",
    "\"\"\"\n",
    "\n",
    "question = \"How may patients were hospitalized during July 2020 nationwide as the total of all states?\"\n",
    "df = pd.read_csv(\"./Data/CSV/Covid19History.csv\").fillna(value = 0)\n",
    "pandasAgent = create_pandas_dataframe_agent(llm=llm,df=df,verbose=False)\n",
    "#answer = pandasAgent.run(csvPromptPrefix + question + csvPromptSuffx)\n",
    "answer = pandasAgent.run(question)\n",
    "print(answer)"
   ]
  }
 ],
 "metadata": {
  "kernelspec": {
   "display_name": "Python 3",
   "language": "python",
   "name": "python3"
  },
  "language_info": {
   "codemirror_mode": {
    "name": "ipython",
    "version": 3
   },
   "file_extension": ".py",
   "mimetype": "text/x-python",
   "name": "python",
   "nbconvert_exporter": "python",
   "pygments_lexer": "ipython3",
   "version": "3.9.13"
  },
  "orig_nbformat": 4
 },
 "nbformat": 4,
 "nbformat_minor": 2
}
