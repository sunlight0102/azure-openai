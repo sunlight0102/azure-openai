{
 "cells": [
  {
   "attachments": {},
   "cell_type": "markdown",
   "metadata": {},
   "source": [
    "### Summarization\n",
    "A common use case is wanting to summarize long documents. This naturally runs into the context window limitations. Unlike in question-answering, you can't just do some semantic search hacks to only select the chunks of text most relevant to the question (because, in this case, there is no particular question - you want to summarize everything). So what do you do then?\n",
    "\n",
    "The most common way around this is to split the documents into chunks and then do summarization in a recursive manner. By this we mean you first summarize each chunk by itself, then you group the summaries into chunks and summarize each chunk of summaries, and continue doing that until only one is left."
   ]
  },
  {
   "attachments": {},
   "cell_type": "markdown",
   "metadata": {},
   "source": [
    "#### Set Environment variables"
   ]
  },
  {
   "cell_type": "code",
   "execution_count": 1,
   "metadata": {},
   "outputs": [],
   "source": [
    "import os  \n",
    "import json  \n",
    "import openai\n",
    "from Utilities.envVars import *\n",
    "\n",
    "# Set Search Service endpoint, index name, and API key from environment variables\n",
    "indexName = SearchIndex\n",
    "\n",
    "# Set OpenAI API key and endpoint\n",
    "openai.api_type = \"azure\"\n",
    "openai.api_version = OpenAiVersion\n",
    "openai_api_key = OpenAiKey\n",
    "assert openai_api_key, \"ERROR: Azure OpenAI Key is missing\"\n",
    "openai.api_key = openai_api_key\n",
    "openAiEndPoint = f\"https://{OpenAiService}.openai.azure.com\"\n",
    "assert openAiEndPoint, \"ERROR: Azure OpenAI Endpoint is missing\"\n",
    "assert \"openai.azure.com\" in openAiEndPoint.lower(), \"ERROR: Azure OpenAI Endpoint should be in the form: \\n\\n\\t<your unique endpoint identifier>.openai.azure.com\"\n",
    "openai.api_base = openAiEndPoint\n",
    "davincimodel = OpenAiDavinci\n"
   ]
  },
  {
   "attachments": {},
   "cell_type": "markdown",
   "metadata": {},
   "source": [
    "#### Summarize the document/PDF (instead of getting that data from Vector store or document reposit)"
   ]
  },
  {
   "cell_type": "code",
   "execution_count": 2,
   "metadata": {},
   "outputs": [],
   "source": [
    "# Import required libraries\n",
    "# Import required libraries\n",
    "from langchain.llms.openai import AzureOpenAI, OpenAI\n",
    "from langchain.embeddings.openai import OpenAIEmbeddings\n",
    "from langchain.text_splitter import RecursiveCharacterTextSplitter\n",
    "from langchain.document_loaders import (\n",
    "    PDFMinerLoader,\n",
    "    UnstructuredFileLoader,\n",
    ")"
   ]
  },
  {
   "cell_type": "code",
   "execution_count": 3,
   "metadata": {},
   "outputs": [],
   "source": [
    "# Set the file name and the namespace for the index\n",
    "fileName = \"Fabric Get Started.pdf\"\n",
    "fabricGetStartedPath = \"Data/PDF/\" + fileName\n",
    "# Load the PDF with Document Loader available from Langchain\n",
    "loader = PDFMinerLoader(fabricGetStartedPath)\n",
    "rawDocs = loader.load()\n",
    "# Set the source \n",
    "for doc in rawDocs:\n",
    "    doc.metadata['source'] = fabricGetStartedPath\n",
    "\n",
    "textSplitter = RecursiveCharacterTextSplitter(chunk_size=1500, chunk_overlap=0)\n",
    "docs = textSplitter.split_documents(rawDocs)"
   ]
  },
  {
   "cell_type": "code",
   "execution_count": 4,
   "metadata": {},
   "outputs": [
    {
     "name": "stdout",
     "output_type": "stream",
     "text": [
      "Number of documents chunks generated from PDF :  58\n"
     ]
    }
   ],
   "source": [
    "print(\"Number of documents chunks generated from PDF : \", len(docs))"
   ]
  },
  {
   "cell_type": "code",
   "execution_count": 5,
   "metadata": {},
   "outputs": [],
   "source": [
    "from langchain.chains.qa_with_sources import load_qa_with_sources_chain\n",
    "from langchain.llms.openai import AzureOpenAI, OpenAI\n",
    "from langchain.embeddings.openai import OpenAIEmbeddings\n",
    "from Utilities.cogSearch import performCogSearch\n",
    "from langchain.docstore.document import Document\n",
    "from langchain.prompts import PromptTemplate\n",
    "from IPython.display import display, HTML\n",
    "from langchain.chains.summarize import load_summarize_chain\n",
    "\n",
    "# Flexibility to change the call to OpenAI or Azure OpenAI\n",
    "embeddingModelType = \"azureopenai\"\n",
    "temperature = 0.3\n",
    "tokenLength = 1000\n",
    "\n",
    "if (embeddingModelType == 'azureopenai'):\n",
    "    openai.api_type = \"azure\"\n",
    "    openai.api_key = OpenAiKey\n",
    "    openai.api_version = OpenAiVersion\n",
    "    openai.api_base = OpenAiBase\n",
    "\n",
    "    llm = AzureOpenAI(deployment_name=OpenAiDavinci,\n",
    "            temperature=temperature,\n",
    "            openai_api_key=OpenAiKey,\n",
    "            max_tokens=tokenLength,\n",
    "            batch_size=10, \n",
    "            max_retries=12)\n",
    "\n",
    "    logging.info(\"LLM Setup done\")\n",
    "    embeddings = OpenAIEmbeddings(model=OpenAiEmbedding, chunk_size=1, openai_api_key=OpenAiKey)\n",
    "elif embeddingModelType == \"openai\":\n",
    "    openai.api_type = \"open_ai\"\n",
    "    openai.api_base = \"https://api.openai.com/v1\"\n",
    "    openai.api_version = '2020-11-07' \n",
    "    openai.api_key = OpenAiApiKey\n",
    "    llm = OpenAI(temperature=temperature,\n",
    "            openai_api_key=OpenAiApiKey,\n",
    "            max_tokens=tokenLength)\n",
    "    embeddings = OpenAIEmbeddings(openai_api_key=OpenAiApiKey)\n"
   ]
  },
  {
   "cell_type": "code",
   "execution_count": null,
   "metadata": {},
   "outputs": [],
   "source": [
    "# Because we have a large document, it is expected that we will run into Token limitation error with code below\n",
    "chainType = \"stuff\"\n",
    "summaryChain = load_summarize_chain(llm, chain_type=chainType)\n",
    "summary = summaryChain.run(docs)\n",
    "print(\"Summary: \", summary)\n"
   ]
  },
  {
   "cell_type": "code",
   "execution_count": 8,
   "metadata": {},
   "outputs": [],
   "source": [
    "def callOpenAi(prompt):\n",
    "    response = openai.Completion.create(\n",
    "        engine=davincimodel,\n",
    "        prompt=prompt,\n",
    "        max_tokens=100,\n",
    "    )\n",
    "    return response['choices'][0]['text']"
   ]
  },
  {
   "cell_type": "code",
   "execution_count": null,
   "metadata": {},
   "outputs": [],
   "source": [
    "for doc in docs:\n",
    "    resp = callOpenAi(\"Generate summary for the following text : \" + doc.page_content)\n",
    "    print(resp)"
   ]
  },
  {
   "cell_type": "code",
   "execution_count": 13,
   "metadata": {},
   "outputs": [
    {
     "name": "stdout",
     "output_type": "stream",
     "text": [
      " Microsoft Fabric is an all-in-one analytics solution for enterprises that provides a comprehensive suite of services, including data lake, data engineering, and data integration. It includes a trial with tutorials, a guide to help decide between workloads, and a reference guide to help choose between a data warehouse or lakehouse. It also offers a Help pane, global search box, sorting and filtering, and access management. Advanced settings in Power BI allow users to add contacts, set a license mode, and set a default storage format, as well as promote and certify items and apply sensitivity labels.\n"
     ]
    }
   ],
   "source": [
    "# Let's change now the chaintype from stuff to mapreduce and refine to see the summary\n",
    "chainType = \"map_reduce\"\n",
    "summaryChain = load_summarize_chain(llm, chain_type=chainType, return_intermediate_steps=True)\n",
    "summary = summaryChain({\"input_documents\": docs}, return_only_outputs=True)\n",
    "outputAnswer = summary['output_text']\n",
    "print(outputAnswer)"
   ]
  },
  {
   "cell_type": "code",
   "execution_count": 14,
   "metadata": {},
   "outputs": [
    {
     "data": {
      "text/html": [
       "<b>Chunk Summary:</b> \n",
       "\n",
       "Microsoft Fabric is a unified platform that provides an all-in-one analytics solution for enterprises. It offers a comprehensive suite of services, including data lake, data engineering, and data integration, all in one place. It is built on a foundation of Software as a Service (SaaS) for easy integration and use. The Microsoft Fabric get started documentation provides an overview, get started tutorials, concept guides, and how-to guides."
      ],
      "text/plain": [
       "<IPython.core.display.HTML object>"
      ]
     },
     "metadata": {},
     "output_type": "display_data"
    },
    {
     "data": {
      "text/html": [
       "<b>Chunk Summary:</b>  Microsoft Fabric is a prerelease product that brings together components from Power BI, Azure Synapse, and Azure Data Explorer into a single integrated environment. It provides an extensive range of deeply integrated analytics, shared experiences, easy access to assets, a unified data lake, centralized administration, and governance across all experiences. IT teams can centrally configure core enterprise capabilities and data sensitivity labels are inherited automatically."
      ],
      "text/plain": [
       "<IPython.core.display.HTML object>"
      ]
     },
     "metadata": {},
     "output_type": "display_data"
    },
    {
     "data": {
      "text/html": [
       "<b>Chunk Summary:</b>  Microsoft Fabric is a comprehensive set of analytics experiences designed to work together seamlessly. It includes Data Engineering, Data Factory, and Data Science experiences to provide a world-class Spark platform, the ability to connect to data sources, and the ability to build, deploy, and operationalize machine learning models."
      ],
      "text/plain": [
       "<IPython.core.display.HTML object>"
      ]
     },
     "metadata": {},
     "output_type": "display_data"
    },
    {
     "data": {
      "text/html": [
       "<b>Chunk Summary:</b>  Microsoft Fabric provides Data Science, Data Warehouse, Real-Time Analytics, and Power BI tools to empower data scientists to enrich organizational data with predictions and insights, and to provide business analysts with the ability to integrate those predictions into their BI reports. These tools enable the separation of compute and storage, natively store data in the open Delta Lake format, and provide the fastest growing data category with the best in class engine for observational data analytics. Power BI is the world's leading Business Intelligence platform to access all data in Fabric quickly and intuitively."
      ],
      "text/plain": [
       "<IPython.core.display.HTML object>"
      ]
     },
     "metadata": {},
     "output_type": "display_data"
    },
    {
     "data": {
      "text/html": [
       "<b>Chunk Summary:</b>  Microsoft Fabric is a comprehensive big data analytics platform that unifies the OneLake and lakehouse architecture across enterprises. It is built on top of Azure Data Lake Storage Gen2 and provides a single SaaS experience and tenant-wide store for data. It eliminates data silos and simplifies the experiences for users, eliminating the need for them to understand any infrastructure concepts."
      ],
      "text/plain": [
       "<IPython.core.display.HTML object>"
      ]
     },
     "metadata": {},
     "output_type": "display_data"
    },
    {
     "data": {
      "text/html": [
       "<b>Chunk Summary:</b>  OneLake is a unified storage system that provides a single-pane-of-glass file-system namespace for users, regions, and clouds. It is hierarchical in structure and built into Microsoft Fabric, with no up-front provisioning required. It is divided into tenants, workspaces, and lakehouses, with each lakehouse representing a database over a data lake."
      ],
      "text/plain": [
       "<IPython.core.display.HTML object>"
      ]
     },
     "metadata": {},
     "output_type": "display_data"
    },
    {
     "data": {
      "text/html": [
       "<b>Chunk Summary:</b> \n",
       "The Microsoft Fabric (Preview) trial provides access to the Fabric product experiences, including OneLake workspaces which allow users to ingest data into their own lakehouses, start processing, analyzing, and collaborating on the data. Shortcut features allow users to access data stored in Azure Data Lake Storage and share data between users and applications without moving or duplicating information. The trial also includes access to end-to-end tutorials in Microsoft Fabric."
      ],
      "text/plain": [
       "<IPython.core.display.HTML object>"
      ]
     },
     "metadata": {},
     "output_type": "display_data"
    },
    {
     "data": {
      "text/html": [
       "<b>Chunk Summary:</b>  This document explains how to start a Microsoft Fabric (Preview) trial, which requires a Power BI license. Existing Power BI users can skip to the start of the trial, while new users must first sign up for a free Power BI license. The trial lasts until Fabric General Availability (GA) and is extended for 60 days after GA. The steps to start the trial include opening the Fabric homepage, selecting the Account manager, agreeing to the terms, and receiving a confirmation message."
      ],
      "text/plain": [
       "<IPython.core.display.HTML object>"
      ]
     },
     "metadata": {},
     "output_type": "display_data"
    },
    {
     "data": {
      "text/html": [
       "<b>Chunk Summary:</b>  Microsoft Fabric (Preview) trial allows users to access all Fabric experiences and features, as well as 1TB of OneLake storage. The trial capacity is determined by the SKU and users can create workspaces and collaborate with others in the same trial capacity. The Account Manager keeps track of the number of days remaining in the trial and users can also see the countdown in the Fabric menu bar."
      ],
      "text/plain": [
       "<IPython.core.display.HTML object>"
      ]
     },
     "metadata": {},
     "output_type": "display_data"
    },
    {
     "data": {
      "text/html": [
       "<b>Chunk Summary:</b>  Fabric (Preview) is a platform that allows users to share items such as datasets, warehouses, and notebooks, and collaborate on them with other Fabric users. Users can create analytics solutions using these items, and are provided with one 64 capacity unit (CU) trial capacity. The Fabric platform aggregates consumption from all experiences and applies it to the reserved capacity, and there is no limit on the number of workspaces or items that can be created within the capacity, as long as there is enough capacity available."
      ],
      "text/plain": [
       "<IPython.core.display.HTML object>"
      ]
     },
     "metadata": {},
     "output_type": "display_data"
    },
    {
     "data": {
      "text/html": [
       "<b>Chunk Summary:</b>  As the capacity owner for a Fabric trial capacity, you have access to a detailed report of how capacity units are consumed. You can cancel the trial from the Account manager, which will delete the trial capacity and all its workspaces and contents. Power BI administrators can enable and disable trials for paid features for Power BI and Fabric, and each trial user is the capacity admin for their trial capacity."
      ],
      "text/plain": [
       "<IPython.core.display.HTML object>"
      ]
     },
     "metadata": {},
     "output_type": "display_data"
    },
    {
     "data": {
      "text/html": [
       "<b>Chunk Summary:</b>  Power BI administrators may have disabled access to Fabric (Preview) trials, and users may not be able to start a trial if their tenant has exhausted its trial capacity limit. Options for users include purchasing a Fabric capacity from Azure, requesting another trial capacity user to share their trial capacity, or reaching out to the Power BI administrator to create a CSS request to increase tenant trial capacity limits. Additionally, administrators cannot view metrics for individual capacities, but there are plans to support this capability in an upcoming admin monitoring feature."
      ],
      "text/plain": [
       "<IPython.core.display.HTML object>"
      ]
     },
     "metadata": {},
     "output_type": "display_data"
    },
    {
     "data": {
      "text/html": [
       "<b>Chunk Summary:</b>  This known bug occurs when the Power BI administrator turns off trials after the user has already started a trial. To fix this, the user must open the Admin portal, select Trial > Capacity settings, and add their workspace if it is not already assigned. The region for the Fabric (Preview) trial capacity is the home region for the tenant, and if the home region does not have Fabric enabled, the user will not be able to create any Fabric items in their trial capacity. The Fabric (Preview) trial is different from an individual trial of Power BI paid, as the latter allows access to the Fabric landing page."
      ],
      "text/plain": [
       "<IPython.core.display.HTML object>"
      ]
     },
     "metadata": {},
     "output_type": "display_data"
    },
    {
     "data": {
      "text/html": [
       "<b>Chunk Summary:</b>  The Fabric (Preview) trial is a free trial for users to access non-Power BI experiences and items. It does not support autoscale, and private links and public access must be enabled. Existing Synapse and Power BI users can sign up for the trial without an Azure subscription, and existing Azure users can purchase a (paid) Fabric capacity."
      ],
      "text/plain": [
       "<IPython.core.display.HTML object>"
      ]
     },
     "metadata": {},
     "output_type": "display_data"
    },
    {
     "data": {
      "text/html": [
       "<b>Chunk Summary:</b>  This article provides an overview of Microsoft Fabric terminology, including terms related to Synapse Data Warehouse, Synapse Data Engineering, Synapse Data Science, Synapse Real-Time Analytics, Data Factory, and Power BI. It explains how to migrate existing workspaces into a trial capacity and provides definitions for terms such as capacity, experience, and item."
      ],
      "text/plain": [
       "<IPython.core.display.HTML object>"
      ]
     },
     "metadata": {},
     "output_type": "display_data"
    },
    {
     "data": {
      "text/html": [
       "<b>Chunk Summary:</b>  Synapse Data Engineering is a platform that provides a tenant instance aligned with an Azure Active Directory and a workspace container for collaboration. It includes capabilities such as lakehouse, notebook, and Spark job definition items. Lakehouse is a collection of files, folders, and tables that represent a database over a data lake, and notebooks are multi-language interactive programming tools."
      ],
      "text/plain": [
       "<IPython.core.display.HTML object>"
      ]
     },
     "metadata": {},
     "output_type": "display_data"
    },
    {
     "data": {
      "text/html": [
       "<b>Chunk Summary:</b>  Apache Spark is a program that helps data engineers and data scientists explore, process, and build machine learning experiments with code and low-code experience. It is divided into one or more Spark jobs that run in parallel to process data faster. It also has a set of parameters, called Spark job definitions, that allow users to submit batch or streaming jobs to the Spark cluster. Additionally, V-order is a write optimization to the parquet file format that enables fast reads and provides cost efficiency and better performance. Data Factory also offers a rich set of connectors to connect to various sources."
      ],
      "text/plain": [
       "<IPython.core.display.HTML object>"
      ]
     },
     "metadata": {},
     "output_type": "display_data"
    },
    {
     "data": {
      "text/html": [
       "<b>Chunk Summary:</b>  Data Factory is a tool used for orchestrating data movement and transformation. It includes Dataflows, which provide a low-code interface for ingesting data from hundreds of sources, and Data Wrangler, a notebook-based tool for exploratory data analysis. It also includes Machine Learning Experiments for organizing and controlling related machine learning runs."
      ],
      "text/plain": [
       "<IPython.core.display.HTML object>"
      ]
     },
     "metadata": {},
     "output_type": "display_data"
    },
    {
     "data": {
      "text/html": [
       "<b>Chunk Summary:</b> \n",
       "\n",
       "MLflow is a machine learning model that uses an algorithm to learn from a data set. A run corresponds to a single execution of the model code. Synapse Data Warehouse is a traditional data warehouse that supports T-SQL capabilities. KQL database is a database that holds data in a format to execute a KQL query. KQL Queryset is an item used to run queries, view results, and manipulate query results on data from the Data Explorer database."
      ],
      "text/plain": [
       "<IPython.core.display.HTML object>"
      ]
     },
     "metadata": {},
     "output_type": "display_data"
    },
    {
     "data": {
      "text/html": [
       "<b>Chunk Summary:</b>  Microsoft Fabric is a platform that provides a centralized place to capture, transform, and route real-time events to destinations with a no-code experience. OneLake shortcuts provide a way to connect to existing data without having to directly copy it. End-to-end tutorials are available to guide users through the entire process from data acquisition to data consumption. Microsoft Fabric is currently in PREVIEW."
      ],
      "text/plain": [
       "<IPython.core.display.HTML object>"
      ]
     },
     "metadata": {},
     "output_type": "display_data"
    },
    {
     "data": {
      "text/html": [
       "<b>Chunk Summary:</b>  This article provides tutorials for multiple Fabric experiences, including Lakehouse, Data Science, Real-Time Analytics, and Data Warehouse. It also provides tutorials for specific Fabric experiences, such as Power BI. Each tutorial provides a scenario and instructions on how to complete the task."
      ],
      "text/plain": [
       "<IPython.core.display.HTML object>"
      ]
     },
     "metadata": {},
     "output_type": "display_data"
    },
    {
     "data": {
      "text/html": [
       "<b>Chunk Summary:</b>  This article provides a guide to help decide between using a copy activity, dataflow, or Spark for workloads using Microsoft Fabric. It outlines the use cases, primary developer persona, primary developer skill set, and code written for each. It is important to note that Microsoft Fabric is currently in PREVIEW and may be substantially modified before it is released."
      ],
      "text/plain": [
       "<IPython.core.display.HTML object>"
      ]
     },
     "metadata": {},
     "output_type": "display_data"
    },
    {
     "data": {
      "text/html": [
       "<b>Chunk Summary:</b> \n",
       "Dataflow Gen 2 is a low-code/no-code platform that allows data engineers, data scientists, and data developers to ingest, transform, process, and profile data from external systems such as databases, file systems, and APIs. It features 30+ connectors for sources, 150+ connectors for destinations, hundreds of Spark libraries, and 300+ transformations. It supports native Spark and open-source libraries, and provides a wizard and canvas for a lightweight development interface. This platform is ideal for data engineers, such as Leo, who need to ingest a large volume of data from external systems without writing and maintaining code."
      ],
      "text/plain": [
       "<IPython.core.display.HTML object>"
      ]
     },
     "metadata": {},
     "output_type": "display_data"
    },
    {
     "data": {
      "text/html": [
       "<b>Chunk Summary:</b>  Leo is a data engineer who wants to consolidate data from various sources into a single lakehouse. He uses copy activity to move petabytes of data with no code, either ad-hoc or via a schedule. Mary is a data engineer tasked with cleaning the data, applying business logics, and loading it into multiple destinations for their respective reporting teams."
      ],
      "text/plain": [
       "<IPython.core.display.HTML object>"
      ]
     },
     "metadata": {},
     "output_type": "display_data"
    },
    {
     "data": {
      "text/html": [
       "<b>Chunk Summary:</b>  Mary is an experienced Power Query user and decides to use Dataflow Gen 2 as her preferred transformation option for ingesting data from hundreds of sources. Adam is a data engineer working for a large retail company and uses Spark to build the extract and transformation logic to perform customer review analytics. He writes a Spark application using Python or Scala to read data from OneLake, cleanse and transform it, and write it to Delta tables in the lakehouse."
      ],
      "text/plain": [
       "<IPython.core.display.HTML object>"
      ]
     },
     "metadata": {},
     "output_type": "display_data"
    },
    {
     "data": {
      "text/html": [
       "<b>Chunk Summary:</b>  This article provides a reference guide and example scenarios to help choose between a data warehouse or lakehouse for workloads using Microsoft Fabric. It outlines the properties of each, such as data volume, type of data, primary developer persona, primary developer skill set, citizen developer, read and write operations, security, and development interface. It is important to note that Microsoft Fabric is currently in PREVIEW."
      ],
      "text/plain": [
       "<IPython.core.display.HTML object>"
      ]
     },
     "metadata": {},
     "output_type": "display_data"
    },
    {
     "data": {
      "text/html": [
       "<b>Chunk Summary:</b>  Susan, a professional developer, is new to Microsoft Fabric and needs to decide between building a data warehouse or a lakehouse. After review of the details, the primary decision points are the available skill set and the need for multi-table transactions. Susan has experience with data warehouses and is familiar with SQL syntax and functionality, so she decides to use a data warehouse which allows the team to interact primarily with T-SQL while also allowing any Spark users in the organization to access the data."
      ],
      "text/plain": [
       "<IPython.core.display.HTML object>"
      ]
     },
     "metadata": {},
     "output_type": "display_data"
    },
    {
     "data": {
      "text/html": [
       "<b>Chunk Summary:</b>  Rob, a data engineer, needs to store and model several terabytes of data in Fabric, and decides to use a lakehouse to accommodate the team's diverse skills. Ash, a citizen developer, is a Power BI developer and needs to build a data product for a business unit. They decide to use a Premium capacity subscription, as the primary consumers of the data are analysts familiar with no-code capabilities."
      ],
      "text/plain": [
       "<IPython.core.display.HTML object>"
      ]
     },
     "metadata": {},
     "output_type": "display_data"
    },
    {
     "data": {
      "text/html": [
       "<b>Chunk Summary:</b> \n",
       "\n",
       "This article provides an overview of navigating to items and actions from Microsoft Fabric Home. It discusses the similarities that the product experiences share, such as using a Power BI datamart to interact with data and execute queries via Power BI and T-SQL, and creating warehouses and lakehouses in Microsoft Fabric. It also notes that Microsoft Fabric is currently in preview and that the content available on Home is different for each user."
      ],
      "text/plain": [
       "<IPython.core.display.HTML object>"
      ]
     },
     "metadata": {},
     "output_type": "display_data"
    },
    {
     "data": {
      "text/html": [
       "<b>Chunk Summary:</b>  Microsoft Fabric is a platform that allows users to create and share items such as apps, lakehouses, warehouses, reports, and more. Home is the best place to start working in Microsoft Fabric, but users can also navigate directly to a workspace using the nav pane and workspace selector. Home provides users with access to their items and the layout and content on Home is different for each user and product experience. The left navigation pane links users to different views of their items and to creator resources, and the selector allows users to switch product experiences."
      ],
      "text/plain": [
       "<IPython.core.display.HTML object>"
      ]
     },
     "metadata": {},
     "output_type": "display_data"
    },
    {
     "data": {
      "text/html": [
       "<b>Chunk Summary:</b>  Microsoft Fabric offers a top menu bar for orienting oneself, creating new items, and accessing recommended content. It also provides a way to locate items from Home, such as searching or using the navigation pane. The Account manager control is a critical icon for looking up account information and managing the Fabric trial. The items that appear on Home are the same across product experiences, with the exception of the Power BI experience."
      ],
      "text/plain": [
       "<IPython.core.display.HTML object>"
      ]
     },
     "metadata": {},
     "output_type": "display_data"
    },
    {
     "data": {
      "text/html": [
       "<b>Chunk Summary:</b>  The nav pane in Data Factory organizes actions you can take with items and helps you get to where you want to be quickly. The bottom section of the nav pane is where you find and open your workspaces. You can search for the name or owner of the workspace, or select the Workspaces icon in the nav pane and choose which workspace to open. Once opened, the name of the workspace is listed on the canvas."
      ],
      "text/plain": [
       "<IPython.core.display.HTML object>"
      ]
     },
     "metadata": {},
     "output_type": "display_data"
    },
    {
     "data": {
      "text/html": [
       "<b>Chunk Summary:</b>  Microsoft Fabric provides a nav pane that allows users to view its content such as notebooks, pipelines, reports, and lakehouses. The experience selector in the bottom left corner allows users to open and make active other product experiences. Searching, sorting, and filtering are available to find content, and the Help pane provides context sensitive help and suggested topics to learn how to use Microsoft Fabric features and terminology."
      ],
      "text/plain": [
       "<IPython.core.display.HTML object>"
      ]
     },
     "metadata": {},
     "output_type": "display_data"
    },
    {
     "data": {
      "text/html": [
       "<b>Chunk Summary:</b>  The Help pane is a great place to search for answers to your questions. It also provides links to ask the community for help or to connect with Microsoft Fabric Support. Account and license information is available from the Account manager. Notifications, settings, and feedback options are available in the upper right corner of Home. The canvas in the center of Home is also a helpful resource."
      ],
      "text/plain": [
       "<IPython.core.display.HTML object>"
      ]
     },
     "metadata": {},
     "output_type": "display_data"
    },
    {
     "data": {
      "text/html": [
       "<b>Chunk Summary:</b>  Power BI Home is a feature that allows users to create new items, view recommended items, recents, favorites, and content that has been shared with them. It also includes a Fabric Help pane which is feature-aware and provides articles and search engine capabilities to quickly find answers to questions in the Fabric documentation and Fabric community forums."
      ],
      "text/plain": [
       "<IPython.core.display.HTML object>"
      ]
     },
     "metadata": {},
     "output_type": "display_data"
    },
    {
     "data": {
      "text/html": [
       "<b>Chunk Summary:</b>  The Help pane is a search engine and feature-aware state in Fabric that provides recommended topics, resources relevant to the user's current context, and links to other resources. It is a great way to learn how to use Fabric by making selections and reading feature-aware documents."
      ],
      "text/plain": [
       "<IPython.core.display.HTML object>"
      ]
     },
     "metadata": {},
     "output_type": "display_data"
    },
    {
     "data": {
      "text/html": [
       "<b>Chunk Summary:</b>  \n",
       "Microsoft Fabric is a data hub that offers a Help pane to assist users in navigating the platform. The Help pane provides documents, forum posts, and other resources to help users learn about the platform. Additionally, users can search the Microsoft documentation and community forums for keywords, and submit questions or ideas for new features. Finally, a global search article is available to help users find content with long lists of items."
      ],
      "text/plain": [
       "<IPython.core.display.HTML object>"
      ]
     },
     "metadata": {},
     "output_type": "display_data"
    },
    {
     "data": {
      "text/html": [
       "<b>Chunk Summary:</b>  Microsoft Fabric provides a global search box at the top of Home to quickly find items by title, name, or keyword. Search is available from Home and other areas of Microsoft Fabric, and a Filter by keyword field is available to narrow down content on the canvas."
      ],
      "text/plain": [
       "<IPython.core.display.HTML object>"
      ]
     },
     "metadata": {},
     "output_type": "display_data"
    },
    {
     "data": {
      "text/html": [
       "<b>Chunk Summary:</b>  Microsoft Fabric provides users with the ability to sort and filter content lists to quickly locate items. Sorting criteria can be set by selecting a column header, and filtering criteria can be set by selecting the Filter option in the upper right corner. Microsoft Fabric is currently in PREVIEW and the information provided is subject to change."
      ],
      "text/plain": [
       "<IPython.core.display.HTML object>"
      ]
     },
     "metadata": {},
     "output_type": "display_data"
    },
    {
     "data": {
      "text/html": [
       "<b>Chunk Summary:</b>  This article explains how to open the Fabric settings pane and the different settings that can be accessed from there. These include preferences, such as setting the display language of the Fabric interface, managing account and notifications, and configuring settings for personal use. It also provides links to pages where users can manage personal/group storage and Power BI settings."
      ],
      "text/plain": [
       "<IPython.core.display.HTML object>"
      ]
     },
     "metadata": {},
     "output_type": "display_data"
    },
    {
     "data": {
      "text/html": [
       "<b>Chunk Summary:</b>  Workspaces are places to collaborate with colleagues to create collections of Power BI items such as dashboards, datasets, workbooks, reports, datamarts, and dataflows. The Manage page allows users to manage connections, on-premises data gateways, embed codes, and virtual networks data gateways. The Azure Analysis Services page allows users to migrate their datasets to Power BI Premium. The Governance and Insights settings provide links to help admins and users with their admin, governance, and compliance tasks. The Admin portal and Microsoft Purview hub provide additional links and resources to help with governance and compliance in Fabric."
      ],
      "text/plain": [
       "<IPython.core.display.HTML object>"
      ]
     },
     "metadata": {},
     "output_type": "display_data"
    },
    {
     "data": {
      "text/html": [
       "<b>Chunk Summary:</b>  This article provides tips on how to manage access to workspaces, such as lakehouses, warehouses, and reports, and what settings are available. It includes advice on pinning workspaces, using granular workspace roles, navigating to the current workspace, and managing workspace settings. It also explains how to set a contact list to receive notifications about workspace activity."
      ],
      "text/plain": [
       "<IPython.core.display.HTML object>"
      ]
     },
     "metadata": {},
     "output_type": "display_data"
    },
    {
     "data": {
      "text/html": [
       "<b>Chunk Summary:</b>  The Contact list feature in the Workspace settings allows users to specify which users receive notifications about issues occurring in the workspace. The Workspace OneDrive feature allows users to configure a Microsoft 365 Group whose SharePoint document library is available to workspace users. Creating Microsoft 365 Groups may be restricted in some environments, and permissions between users or groups with workspace access and users or groups with Microsoft 365 Group membership are not synchronized."
      ],
      "text/plain": [
       "<IPython.core.display.HTML object>"
      ]
     },
     "metadata": {},
     "output_type": "display_data"
    },
    {
     "data": {
      "text/html": [
       "<b>Chunk Summary:</b> \n",
       "\n",
       "You can configure OneDrive and license mode in workspace settings, and configure Azure Data Lake Gen 2 storage and Azure Log Analytics (LA) connection to collect usage and performance logs for the workspace. System storage is the place to manage your dataset storage in your individual or organization's capacity."
      ],
      "text/plain": [
       "<IPython.core.display.HTML object>"
      ]
     },
     "metadata": {},
     "output_type": "display_data"
    },
    {
     "data": {
      "text/html": [
       "<b>Chunk Summary:</b>  This article explains how to manage and audit workspace accounts, including how to delete a workspace, how to view used and free storage, and how to manage users' ability to create workspaces. It also outlines the activities that Microsoft Fabric audits for workspaces."
      ],
      "text/plain": [
       "<IPython.core.display.HTML object>"
      ]
     },
     "metadata": {},
     "output_type": "display_data"
    },
    {
     "data": {
      "text/html": [
       "<b>Chunk Summary:</b>  This article explains how to create workspaces in Microsoft Fabric. It outlines the steps to create a workspace, including giving it a unique name, providing a description, and assigning it to a domain. It also outlines limitations and considerations to be aware of, such as the maximum number of datasets and reports per dataset, and the use of URL encoding for special characters. Finally, it provides instructions on how to give users access to the workspace."
      ],
      "text/plain": [
       "<IPython.core.display.HTML object>"
      ]
     },
     "metadata": {},
     "output_type": "display_data"
    },
    {
     "data": {
      "text/html": [
       "<b>Chunk Summary:</b> \n",
       "\n",
       "Advanced settings in Power BI allow users to add contacts to a contact list, set a license mode, and set a default storage format. The license mode can be changed after creation, but some migration effort may be required. For downgrading from Premium capacity to Pro (Shared capacity), any non-Power BI Fabric items must be removed first. Large datasets can be enabled with the Large dataset storage format setting."
      ],
      "text/plain": [
       "<IPython.core.display.HTML object>"
      ]
     },
     "metadata": {},
     "output_type": "display_data"
    },
    {
     "data": {
      "text/html": [
       "<b>Chunk Summary:</b>  Power BI template apps are developed for sharing outside organizations and can be stored in Azure Data Lake Storage Gen2 accounts. Users can be added to roles in the workspace to collaborate, and workspaces can be pinned to the top of the workspace flyout list for quick access. Workspace roles let users manage who can do what in a Microsoft Fabric workspace."
      ],
      "text/plain": [
       "<IPython.core.display.HTML object>"
      ]
     },
     "metadata": {},
     "output_type": "display_data"
    },
    {
     "data": {
      "text/html": [
       "<b>Chunk Summary:</b>  Microsoft Fabric workspaces are built on top of OneLake and divide the data lake into separate containers that can be secured independently. Workspace roles in Microsoft Fabric extend the Power BI workspace roles by associating new Microsoft Fabric capabilities such as data integration and data exploration with existing workspace roles. Users in workspace roles have the additional Microsoft Fabric capabilities in addition to the existing Power BI capabilities associated with these roles."
      ],
      "text/plain": [
       "<IPython.core.display.HTML object>"
      ]
     },
     "metadata": {},
     "output_type": "display_data"
    },
    {
     "data": {
      "text/html": [
       "<b>Chunk Summary:</b>  This article discusses roles and permissions for users of Power BI workspaces, including the ability to view and read content of KQL databases, KQL query-sets, and real-time dashboards, as well as connect to SQL endpoints of Lakehouse and Data warehouse and read data and shortcuts through OneLake APIs and Spark. It also covers granting viewers granular SQL permissions to read Lakehouse and Data warehouse data, and the security models for OneLake shortcuts and Data warehouse security. Finally, it outlines the steps to create workspaces and give users access to them."
      ],
      "text/plain": [
       "<IPython.core.display.HTML object>"
      ]
     },
     "metadata": {},
     "output_type": "display_data"
    },
    {
     "data": {
      "text/html": [
       "<b>Chunk Summary:</b>  Microsoft Fabric allows users to give others access to their workspace by assigning them different roles. Workspace creators are automatically admins and to enforce row-level security, assign the Viewer Role. To add or remove access, select Manage Access and add people or groups. You can view and modify access later if needed."
      ],
      "text/plain": [
       "<IPython.core.display.HTML object>"
      ]
     },
     "metadata": {},
     "output_type": "display_data"
    },
    {
     "data": {
      "text/html": [
       "<b>Chunk Summary:</b>  This article explains how to use the OneLake data hub to find, explore, and use the Fabric data items in an organization. It provides information about the items and entry points for working with them, including a filterable list of all the data items, a gallery of recommended data items, and a way to display only the data items of a selected domain. It also explains how to use the three tabs in the data items list to narrow down the list of data items."
      ],
      "text/plain": [
       "<IPython.core.display.HTML object>"
      ]
     },
     "metadata": {},
     "output_type": "display_data"
    },
    {
     "data": {
      "text/html": [
       "<b>Chunk Summary:</b>  The Endorsement overview provides a list of data items with columns for Name, Endorsement status, Owner, Workspace, Refreshed, Next refresh, and Sensitivity. The Explorer pane can be used to view data items by workspace, and the data hub provides recommended data items."
      ],
      "text/plain": [
       "<IPython.core.display.HTML object>"
      ]
     },
     "metadata": {},
     "output_type": "display_data"
    },
    {
     "data": {
      "text/html": [
       "<b>Chunk Summary:</b> \n",
       "\n",
       "This article explains how to use the data hub to view recommended data items, display only data items belonging to a particular domain, and open an item's options menu. It also notes that the Explorer pane may list workspaces that the user may not have access to, but will still be able to view the items within it."
      ],
      "text/plain": [
       "<IPython.core.display.HTML object>"
      ]
     },
     "metadata": {},
     "output_type": "display_data"
    },
    {
     "data": {
      "text/html": [
       "<b>Chunk Summary:</b>  Fabric provides two ways to endorse items: promotion and certification. Promotion is done by anyone with write permissions on the item, while certification is done by authorized reviewers. This article explains how to promote and certify items, as well as how to request certification if you are not an authorized reviewer."
      ],
      "text/plain": [
       "<IPython.core.display.HTML object>"
      ]
     },
     "metadata": {},
     "output_type": "display_data"
    },
    {
     "data": {
      "text/html": [
       "<b>Chunk Summary:</b>  This article outlines the steps for promoting and certifying content in Power BI, such as datasets. It explains how to get write permissions, review the item, and select the Promoted or Certified option in the settings. It also explains how to make the item discoverable for users who don't have access to it. Lastly, it explains how to request item certification if you are not authorized to do so."
      ],
      "text/plain": [
       "<IPython.core.display.HTML object>"
      ]
     },
     "metadata": {},
     "output_type": "display_data"
    },
    {
     "data": {
      "text/html": [
       "<b>Chunk Summary:</b>  This article explains how to apply sensitivity labels to Microsoft Fabric items. It outlines the steps to open settings, expand the endorsement section, and select the link about how to get an item certified. It also provides information about prerequisites and notes that if the link is redirected back to the note, the Power BI admin has not made any information available. Finally, it provides links to read more about endorsement, content certification, dataset discoverability, and applying sensitivity labels in Power BI Desktop."
      ],
      "text/plain": [
       "<IPython.core.display.HTML object>"
      ]
     },
     "metadata": {},
     "output_type": "display_data"
    },
    {
     "data": {
      "text/html": [
       "<b>Chunk Summary:</b>  In order to apply sensitivity labels to Fabric items, you must have a Power BI Pro or Premium Per User (PPU) license, and edit permissions on the item. If the label is greyed out, contact your organization's tech support. There are two ways to apply a label: from the flyout menu in the item header, or in the item settings."
      ],
      "text/plain": [
       "<IPython.core.display.HTML object>"
      ]
     },
     "metadata": {},
     "output_type": "display_data"
    }
   ],
   "source": [
    "# For the chaintype of MapReduce and Refine, we can also get insight into intermediate steps of the pipeline.\n",
    "# This way you can inspect the results from map_reduce chain type, each top similar chunk summary\n",
    "intermediateSteps = summary['intermediate_steps']\n",
    "for step in intermediateSteps:\n",
    "        display(HTML(\"<b>Chunk Summary:</b> \" + step))"
   ]
  },
  {
   "cell_type": "code",
   "execution_count": 10,
   "metadata": {},
   "outputs": [
    {
     "name": "stdout",
     "output_type": "stream",
     "text": [
      "\n",
      "Microsoft Fabric is a unified platform that provides an all-in-one analytics solution for enterprises. It includes industry-leading experiences in Data Engineering, Data Factory, Data Science, Data Warehouse, Real-Time Analytics, and Power BI, as well as OneLake, a unified storage system. It also offers end-to-end tutorials, context-sensitive Help pane, and how-to guides to help users get started. Microsoft Fabric workspaces sit on top of OneLake and divide the data lake into separate containers that can be secured independently. It also provides Data Hub, Endorsement feature, and sensitivity labels for items in Power BI. It simplifies the experiences by eliminating the need for users to understand any infrastructure concepts such as resource groups, RBAC (Role-Based Access Control), Azure Resource Manager, redundancy, or regions.\n"
     ]
    }
   ],
   "source": [
    "from langchain.prompts import PromptTemplate\n",
    "# While we are using the standard prompt by langchain, you can modify the prompt to suit your needs\n",
    "promptTemplate = \"\"\"You are an AI assistant tasked with summarizing documents. \n",
    "        Your summary should accurately capture the key information in the document while avoiding the omission of any domain-specific words. \n",
    "        Please generate a concise and comprehensive summary that includes details. \n",
    "        Ensure that the summary is easy to understand and provides an accurate representation. \n",
    "        Begin the summary with a brief introduction, followed by the main points. \n",
    "        Please remember to use clear language and maintain the integrity of the original information without missing any important details:\n",
    "        {text}\n",
    "\n",
    "        \"\"\"\n",
    "customPrompt = PromptTemplate(template=promptTemplate, input_variables=[\"text\"])\n",
    "chainType = \"map_reduce\"\n",
    "summaryChain = load_summarize_chain(llm, chain_type=chainType, return_intermediate_steps=True, \n",
    "                                    map_prompt=customPrompt, combine_prompt=customPrompt)\n",
    "summary = summaryChain({\"input_documents\": docs}, return_only_outputs=True)\n",
    "outputAnswer = summary['output_text']\n",
    "print(outputAnswer)"
   ]
  },
  {
   "cell_type": "code",
   "execution_count": 11,
   "metadata": {},
   "outputs": [
    {
     "data": {
      "text/html": [
       "<b>Chunk Summary:</b> \n",
       "Microsoft Fabric is a unified platform that provides an all-in-one analytics solution for enterprises. It offers a comprehensive suite of services, including data lake, data engineering, and data integration, all in one place. Fabric is built on a foundation of Software as a Service (SaaS) and is designed to simplify analytics needs. It provides end-to-end tutorials, context-sensitive Help pane, and how-to guides to help users get started. It also allows users to find items in OneLake data hub, promote and certify items, apply sensitivity labels, and create and manage workspaces."
      ],
      "text/plain": [
       "<IPython.core.display.HTML object>"
      ]
     },
     "metadata": {},
     "output_type": "display_data"
    },
    {
     "data": {
      "text/html": [
       "<b>Chunk Summary:</b> \n",
       "Microsoft Fabric is a prerelease product that brings together components from Power BI, Azure Synapse, and Azure Data Explorer into a single integrated environment. This integration provides an extensive range of deeply integrated analytics, shared experiences across experiences that are familiar and easy to learn, developers can easily access and reuse all assets, a unified data lake, and centralized administration and governance across all experiences. IT teams can centrally configure core enterprise capabilities and permissions are automatically applied across all the underlying services, and data sensitivity labels are inherited automatically across the items in the suite."
      ],
      "text/plain": [
       "<IPython.core.display.HTML object>"
      ]
     },
     "metadata": {},
     "output_type": "display_data"
    },
    {
     "data": {
      "text/html": [
       "<b>Chunk Summary:</b> \n",
       "Microsoft Fabric is an end-to-end analytics platform that enables creators to focus on producing their best work without needing to understand or manage the underlying infrastructure. It includes industry-leading experiences in Data Engineering, Data Factory, and Data Science. Data Engineering provides a Spark platform with authoring experiences, Data Factory combines the simplicity of Power Query with the scale of Azure Data Factory, and Data Science enables the building, deployment, and operationalization of machine learning models."
      ],
      "text/plain": [
       "<IPython.core.display.HTML object>"
      ]
     },
     "metadata": {},
     "output_type": "display_data"
    },
    {
     "data": {
      "text/html": [
       "<b>Chunk Summary:</b> \n",
       "Microsoft Fabric is a data platform that provides a suite of services for data scientists, business analysts, and other professionals. It includes a Data Warehouse, Real-Time Analytics, and Power BI. Data Warehouse provides industry leading SQL performance and scale, natively storing data in the open Delta Lake format. Real-Time Analytics is a best-in-class engine for observational data analytics, which is collected from various sources such as apps, IoT devices, and human interactions. Power BI is a Business Intelligence platform that allows business owners to access all the data in Fabric quickly and intuitively."
      ],
      "text/plain": [
       "<IPython.core.display.HTML object>"
      ]
     },
     "metadata": {},
     "output_type": "display_data"
    },
    {
     "data": {
      "text/html": [
       "<b>Chunk Summary:</b>  Microsoft Fabric is a comprehensive big data analytics platform that unifies OneLake and lakehouse architecture across enterprises. OneLake is built on top of ADLS (Azure Data Lake Storage) Gen2 and provides a single SaaS experience and a tenant-wide store for data. It simplifies the experiences by eliminating the need for users to understand any infrastructure concepts such as resource groups, RBAC (Role-Based Access Control), Azure Resource Manager, redundancy, or regions. Additionally, it does not require users to have an Azure account. OneLake eliminates today's pervasive and chaotic data silos, allowing developers to access and analyze data from any source."
      ],
      "text/plain": [
       "<IPython.core.display.HTML object>"
      ]
     },
     "metadata": {},
     "output_type": "display_data"
    },
    {
     "data": {
      "text/html": [
       "<b>Chunk Summary:</b> \n",
       "OneLake is a unified storage system that provides a single-pane-of-glass file-system namespace across users, regions, and clouds. It is hierarchical in nature and built into Microsoft Fabric, meaning there is no up-front provisioning required. The tenant maps to the root of OneLake and is at the top level of the hierarchy. Within a tenant, users can create any number of workspaces, which can be thought of as folders. Each workspace can contain multiple lakehouses, which are collections of files, folders, and tables that represent a database over a data lake. OneLake simplifies management across organizations, facilitates discovery and data sharing, and enforces policy and security settings centrally and uniformly."
      ],
      "text/plain": [
       "<IPython.core.display.HTML object>"
      ]
     },
     "metadata": {},
     "output_type": "display_data"
    },
    {
     "data": {
      "text/html": [
       "<b>Chunk Summary:</b> \n",
       "OneLake is a cloud-native data lake platform from Microsoft Fabric that provides users with a unified experience for managing their data and workspaces. It allows users to ingest data into their own lakehouses, start processing, analyzing, and collaborating on the data, just like OneDrive in Office. All the Microsoft Fabric compute experiences are prewired to OneLake, and the experiences such as Data Engineering, Data Warehouse, Data Factory, Power BI, and Real-Time Analytics use OneLake as their native store. Additionally, shortcuts allow users to easily share data between users and applications without moving or duplicating information, and extend to other storage systems, allowing users to compose and analyze data across clouds with transparent, intelligent caching. The Microsoft Fabric (Preview) trial includes access to the Fabric product experiences, and provides users with the ability to create a workspace, navigate to their items from the Microsoft Fabric Home page, and access end-to-end tutorials."
      ],
      "text/plain": [
       "<IPython.core.display.HTML object>"
      ]
     },
     "metadata": {},
     "output_type": "display_data"
    },
    {
     "data": {
      "text/html": [
       "<b>Chunk Summary:</b> \n",
       "Microsoft Fabric is currently in Preview and requires a Power BI license to start the trial. Existing Power BI users can skip to Start the Trial. New users must navigate to https://app.fabric.microsoft.com to sign up for a Power BI free license. To start the trial, open the Fabric homepage, select the Account manager, select Start trial, agree to the terms, and select Start trial. Once the trial capacity is ready, select Got it to begin working in Fabric. The Fabric (Preview) trial lasts until General Availability (GA) and is extended for 60 days after GA."
      ],
      "text/plain": [
       "<IPython.core.display.HTML object>"
      ]
     },
     "metadata": {},
     "output_type": "display_data"
    },
    {
     "data": {
      "text/html": [
       "<b>Chunk Summary:</b> \n",
       "This summary provides an overview of the features and benefits of a Microsoft Fabric (Preview) trial. It includes information on the trial capacity, which is a distinct pool of resources allocated to Fabric, and the features that come with the trial, such as OneLake storage up to 1 TB and the ability to create workspaces for projects that support Fabric capabilities. Additionally, the summary explains how to start a Fabric (Preview) trial, either through an Account Manager or if the Power BI administrator has enabled the preview of Microsoft Fabric for the tenant."
      ],
      "text/plain": [
       "<IPython.core.display.HTML object>"
      ]
     },
     "metadata": {},
     "output_type": "display_data"
    },
    {
     "data": {
      "text/html": [
       "<b>Chunk Summary:</b> \n",
       "Fabric (Preview) is a trial platform that allows users to create workspaces, share items such as datasets, warehouses, and notebooks, and collaborate on them with other Fabric users. It also allows users to create analytics solutions using these items. To begin using the trial, users must add items to their workspace and assign it to their trial capacity using the \"Trial\" license mode. The trial capacity is 64 capacity units (CUs) which allows users to consume 64x60 CU seconds every minute. The capacity consumption is aggregated from all experiences and applied to the reserved capacity. There is no limit on the number of workspaces or items that can be created, but the availability of CUs and the rate of consumption must be taken into account."
      ],
      "text/plain": [
       "<IPython.core.display.HTML object>"
      ]
     },
     "metadata": {},
     "output_type": "display_data"
    },
    {
     "data": {
      "text/html": [
       "<b>Chunk Summary:</b> \n",
       "This document provides information on managing and administering a Fabric (Preview) trial. It explains how to cancel a trial, what happens when a trial is cancelled, and how Power BI administrators can enable and disable trials for paid features for Power BI and Fabric. Capacity admins have access to a detailed and transparent report for how capacity units are consumed via the Capacity Metrics app. When a trial is cancelled, the trial capacity, with all of its workspaces and their contents, is deleted. Power BI administrators can enable and disable trials for paid features for Power BI and Fabric at a tenant level, which applies to all users or to specific security groups. Each trial user is the capacity admin for their trial capacity, and Microsoft currently doesn't support multiple capacity administrators per trial capacity."
      ],
      "text/plain": [
       "<IPython.core.display.HTML object>"
      ]
     },
     "metadata": {},
     "output_type": "display_data"
    },
    {
     "data": {
      "text/html": [
       "<b>Chunk Summary:</b> \n",
       "Power BI administrators are unable to view metrics for individual capacities, but plans are in place to support this capability in an upcoming admin monitoring feature. Additionally, if the Start trial button is not visible in the Account manager, the Power BI administrator may have disabled access. If the button is visible, the tenant may have exhausted its limit of trial capacities. In this case, users can purchase a Fabric capacity from Azure, request another trial capacity user to share their trial capacity, or reach out to their Power BI administrator to create a CSS request to increase tenant trial capacity limits. Lastly, it is not possible to assign a workspace to the trial capacity in Workplace settings."
      ],
      "text/plain": [
       "<IPython.core.display.HTML object>"
      ]
     },
     "metadata": {},
     "output_type": "display_data"
    },
    {
     "data": {
      "text/html": [
       "<b>Chunk Summary:</b> \n",
       "This document outlines the steps to take when starting a Fabric (Preview) trial. It is important to note that if the home region for your tenant does not have Fabric enabled, you will not be able to create any Fabric items in your trial capacity. To start a trial, open the Admin portal by selecting it from the gear icon in the top menu bar. Then, select Trial > Capacity settings and choose the name of the capacity. If you don't see your workspace assigned, add it here. It is also important to note that the Fabric (Preview) trial is different from an individual trial of Power BI paid, as the latter allows access to the Fabric landing page."
      ],
      "text/plain": [
       "<IPython.core.display.HTML object>"
      ]
     },
     "metadata": {},
     "output_type": "display_data"
    },
    {
     "data": {
      "text/html": [
       "<b>Chunk Summary:</b> \n",
       "The Fabric (Preview) trial is a free trial that allows users to access non-Power BI experiences and items. It requires a Fabric capacity, and all rules guiding Power BI licenses and what you can do in the Power BI experience remain the same. Autoscale is not supported, and users with private links enabled and public access disabled cannot create Fabric items in the trial capacity. Existing Synapse and Power BI users do not need an Azure subscription to start the trial, and it does not require customization or financial investment."
      ],
      "text/plain": [
       "<IPython.core.display.HTML object>"
      ]
     },
     "metadata": {},
     "output_type": "display_data"
    },
    {
     "data": {
      "text/html": [
       "<b>Chunk Summary:</b>  Microsoft Fabric is a prerelease product that provides a collection of experiences, including Synapse Data Warehouse, Synapse Data Engineering, Synapse Data Science, Synapse Real-Time Analytics, Data Factory and Power BI. Capacity is a dedicated set of resources available at a given time and is offered through the Fabric SKU and Trials. Users can create, edit, and manage items within an experience, such as workspaces, pipelines, and notebooks. To learn more about Fabric and its terms, see the article \"Microsoft Fabric Terminology\"."
      ],
      "text/plain": [
       "<IPython.core.display.HTML object>"
      ]
     },
     "metadata": {},
     "output_type": "display_data"
    },
    {
     "data": {
      "text/html": [
       "<b>Chunk Summary:</b> \n",
       "This document discusses the capabilities of Synapse Data Engineering, which includes the lakehouse, notebook, and Spark job definition items. A tenant is a single instance of Fabric for an organization that is aligned with an Azure Active Directory. A workspace is a collection of items that brings together different functionality in a single environment designed for collaboration. The lakehouse item is hosted within a unique workspace folder in Microsoft OneLake and contains files in various formats organized in folders and subfolders. The notebook item is a multi-language interactive programming tool with rich functions, such as authoring code and markdown, running and debugging code, and visualizing data. Finally, the Spark job definition item enables users to create and execute Spark jobs."
      ],
      "text/plain": [
       "<IPython.core.display.HTML object>"
      ]
     },
     "metadata": {},
     "output_type": "display_data"
    },
    {
     "data": {
      "text/html": [
       "<b>Chunk Summary:</b>  Apache Spark is an open-source platform that enables data engineers and data scientists to explore and process data, build machine learning experiments with both code and low-code experience, and transform it into a pipeline activity for orchestration. It consists of a program written by a user using one of Spark's API languages (Scala, Python, Spark SQL, or Java) or Microsoft-added languages (.NET with C# or F#). When an application runs, it is divided into one or more Spark jobs that run in parallel to process the data faster. It also offers a rich set of connectors that allow users to view and visualize results, collaborate with the team, and optimize the parquet file format for faster reads and better performance."
      ],
      "text/plain": [
       "<IPython.core.display.HTML object>"
      ]
     },
     "metadata": {},
     "output_type": "display_data"
    },
    {
     "data": {
      "text/html": [
       "<b>Chunk Summary:</b> \n",
       "Data Factory is an orchestration tool used for data movement and transformation. It has pipelines which are different from the deployment pipelines in Fabric. Dataflows in Fabric are referred to as Dataflow Gen2 and offer extra capabilities compared to Dataflows in Azure Data Factory or Power BI. Data Wrangler is a notebook-based tool that provides users with an immersive experience to conduct exploratory data analysis. Machine learning experiments are the primary unit of organization and control for all related machine learning runs. Data Factory provides connectors to different types of data stores which can be used to transform data."
      ],
      "text/plain": [
       "<IPython.core.display.HTML object>"
      ]
     },
     "metadata": {},
     "output_type": "display_data"
    },
    {
     "data": {
      "text/html": [
       "<b>Chunk Summary:</b> \n",
       "This document provides an overview of the different types of machine learning models, runs, and data warehousing and analytics tools available in MLflow and Synapse. A machine learning model is a file trained to recognize certain types of patterns. A run corresponds to a single execution of model code and is tracked in MLflow based on experiments and runs. Synapse Data Warehouse is a traditional data warehouse and supports full transactional T-SQL capabilities. The KQL database is the representation of a database holding data in a format to execute a KQL query against it. The KQL Queryset is the item used to run queries, view results, and manipulate query results on data from the Data Explorer database."
      ],
      "text/plain": [
       "<IPython.core.display.HTML object>"
      ]
     },
     "metadata": {},
     "output_type": "display_data"
    },
    {
     "data": {
      "text/html": [
       "<b>Chunk Summary:</b> \n",
       "Microsoft Fabric is a platform that provides a centralized place to capture, transform, and route real-time events to destinations with a no-code experience. It also offers shortcuts to existing data stores and end-to-end tutorials to help users develop a foundational understanding of the Fabric UI, the various experiences supported by Fabric, and the professional and citizen developer experiences available. Currently in PREVIEW, Microsoft Fabric is a great resource for data acquisition, transformation, and consumption."
      ],
      "text/plain": [
       "<IPython.core.display.HTML object>"
      ]
     },
     "metadata": {},
     "output_type": "display_data"
    },
    {
     "data": {
      "text/html": [
       "<b>Chunk Summary:</b> \n",
       "This document provides an overview of tutorials for multi-experience and experience-specific scenarios. The multi-experience tutorials include Lakehouse, Data Science, Real-Time Analytics, and Data Warehouse. The experience-specific tutorial is Power BI. Each tutorial provides a step-by-step guide to working with data and uncovering insights. The tutorials are designed to help users gain a better understanding of the capabilities of Microsoft Fabric."
      ],
      "text/plain": [
       "<IPython.core.display.HTML object>"
      ]
     },
     "metadata": {},
     "output_type": "display_data"
    },
    {
     "data": {
      "text/html": [
       "<b>Chunk Summary:</b> \n",
       "This guide provides an overview of Microsoft Fabric and helps you decide whether to use a copy activity, a dataflow, or Spark for your workloads. Microsoft Fabric is a cloud-based data integration service that enables you to move data between data stores, transform data, and automate data pipelines. It is currently in PREVIEW and provides three different tools for data integration: copy activity, dataflow, and Spark. Each tool has its own properties and use cases, and this guide provides an overview of each tool and example scenarios to help you decide which tool is best for your workloads."
      ],
      "text/plain": [
       "<IPython.core.display.HTML object>"
      ]
     },
     "metadata": {},
     "output_type": "display_data"
    },
    {
     "data": {
      "text/html": [
       "<b>Chunk Summary:</b> \n",
       "For Leo, Dataflow Gen2 is the ideal solution. It provides 30+ connectors for data ingestion from external systems, including databases, file systems, and APIs. It also provides 150+ connectors for data transformation and wrangling, and hundreds of Spark libraries for data profiling. Dataflow Gen2 also supports low-code and no-code development, allowing Leo to quickly and easily build pipelines without writing code. Furthermore, it supports data volumes from low to high, and provides a wizard and canvas for development interface, as well as Power Query and Notebook for Spark job definition. Finally, it provides 300+ transformations and supports native Spark and open-source libraries."
      ],
      "text/plain": [
       "<IPython.core.display.HTML object>"
      ]
     },
     "metadata": {},
     "output_type": "display_data"
    },
    {
     "data": {
      "text/html": [
       "<b>Chunk Summary:</b> \n",
       "Mary is tasked with cleaning and preparing data from multiple sources for reporting. She needs to apply business logics to the data and load it into multiple destinations, such as Azure SQL DB, ADX, and a lakehouse. To accomplish this, Mary will use copy activity to move petabytes of data from various sources, either ad-hoc or via a schedule. She will also use pipeline copy activity to load the data into a consolidated lakehouse, ensuring that all data from various LOB, on-premises, and cloud sources reside in a single place. Finally, Mary can use copy activity to load the data into a data warehouse with no code if the need arises."
      ],
      "text/plain": [
       "<IPython.core.display.HTML object>"
      ]
     },
     "metadata": {},
     "output_type": "display_data"
    },
    {
     "data": {
      "text/html": [
       "<b>Chunk Summary:</b> \n",
       "Adam has decided to use Spark to build the data pipelines for extracting, transforming, and loading customer review data into the lakehouse. The Spark application will read data from OneLake and write it to Delta tables in the lakehouse. This will enable the company to gain insights into their customers' experiences and improve their services. Adam's next steps will be to write the Spark application using Python or Scala, cleanse and transform the data, and write it to the lakehouse."
      ],
      "text/plain": [
       "<IPython.core.display.HTML object>"
      ]
     },
     "metadata": {},
     "output_type": "display_data"
    },
    {
     "data": {
      "text/html": [
       "<b>Chunk Summary:</b> \n",
       "This article provides a guide to help users choose between a data warehouse and a lakehouse for their workloads using Microsoft Fabric. Data warehouses are designed for structured data and have unlimited data volume, while lakehouses are designed for unstructured, semi-structured, and structured data with up to 100GB of data. Data warehouse developers typically use T-SQL, while lakehouse developers use Spark (Scala, PySpark, Spark SQL, R). Data warehouses support multi-table transactions and Power BI Datamart, while lakehouses do not. Security is also different between the two, with data warehouses offering more security."
      ],
      "text/plain": [
       "<IPython.core.display.HTML object>"
      ]
     },
     "metadata": {},
     "output_type": "display_data"
    },
    {
     "data": {
      "text/html": [
       "<b>Chunk Summary:</b> \n",
       "Susan should use a data warehouse in Microsoft Fabric as it allows the team to interact primarily with T-SQL, while also allowing any Spark users in the organization to access the data. The decision is based on Susan's familiarity with SQL syntax and functionality, as well as the primary consumers of the data being skilled with SQL and SQL analytical tools. The data warehouse also allows for multi-table transactions, which is a key factor in the decision."
      ],
      "text/plain": [
       "<IPython.core.display.HTML object>"
      ]
     },
     "metadata": {},
     "output_type": "display_data"
    },
    {
     "data": {
      "text/html": [
       "<b>Chunk Summary:</b> \n",
       "Rob has decided to use a lakehouse to store and model terabytes of data for his team, which has a mix of PySpark and T-SQL skills. The data engineering team can use their diverse skills against the data, while the T-SQL consumers can interact with a similar SQL syntax. Ash, a citizen developer, is a Power BI developer and needs to build a data product for a business unit. They realize that a data warehouse or lakehouse is too much for their needs and data volumes, and decide to use a Premium capacity subscription with Power BI and Microsoft Office for their self-service, no code capability and data volume under 100 GB."
      ],
      "text/plain": [
       "<IPython.core.display.HTML object>"
      ]
     },
     "metadata": {},
     "output_type": "display_data"
    },
    {
     "data": {
      "text/html": [
       "<b>Chunk Summary:</b>  Microsoft Fabric is a cloud-based platform that provides data warehousing and lakehouse capabilities, allowing users to quickly build and interact with data using code and SQL analytical tools. Ash decided to use Power BI datamarts, which provide a no-code experience and allow users to execute queries via Power BI and T-SQL, as well as access data via Spark. This article provides an overview of navigating to items and actions from Microsoft Fabric Home, which is currently in PREVIEW. Home displays items from all workspaces that the user has access to, and provides detailed information about each product experience."
      ],
      "text/plain": [
       "<IPython.core.display.HTML object>"
      ]
     },
     "metadata": {},
     "output_type": "display_data"
    },
    {
     "data": {
      "text/html": [
       "<b>Chunk Summary:</b> \n",
       "Microsoft Fabric is a platform that allows users to access and view their items such as apps, lakehouses, warehouses, reports, and more. Home is the starting point for working in Microsoft Fabric, and it contains the items that the user can access. Home is not workspace-specific, and the Recent area on Home may include items from many different workspaces. The left navigation pane links users to different views of their items and to creator resources, while the selector for switching product experiences allows users to move between different product experiences. Power BI Home is different from the other product experiences and provides more information."
      ],
      "text/plain": [
       "<IPython.core.display.HTML object>"
      ]
     },
     "metadata": {},
     "output_type": "display_data"
    },
    {
     "data": {
      "text/html": [
       "<b>Chunk Summary:</b> \n",
       "This summary provides an overview of Microsoft Fabric's Home page, which includes a top menu bar, options for creating new items, links to recommended content, and items organized by recent, favorites, and items shared with you. Additionally, the Home page only displays content that the user has permission to access, and users can locate items from Home using the navigation pane or searching."
      ],
      "text/plain": [
       "<IPython.core.display.HTML object>"
      ]
     },
     "metadata": {},
     "output_type": "display_data"
    },
    {
     "data": {
      "text/html": [
       "<b>Chunk Summary:</b>  nav pane. The Data Factory nav pane provides an easy way to find and open workspaces. By default, My workspace is the active workspace, and the Workspaces selector allows you to view a list of your workspaces and select one to open. Additionally, any new items created are added to the open workspace."
      ],
      "text/plain": [
       "<IPython.core.display.HTML object>"
      ]
     },
     "metadata": {},
     "output_type": "display_data"
    },
    {
     "data": {
      "text/html": [
       "<b>Chunk Summary:</b> \n",
       "Microsoft Fabric is a platform that provides users with a variety of product experiences. The bottom left corner of the screen contains the experience selector, which allows users to open and make active different product experiences. Searching and sorting can be done by item, name, keyword, workspace, and more. The Help pane provides context-sensitive help in the right rail of the browser, with articles and forum topics related to the current view. The Help pane can be left open while working to learn how to use Microsoft Fabric features and terminology."
      ],
      "text/plain": [
       "<IPython.core.display.HTML object>"
      ]
     },
     "metadata": {},
     "output_type": "display_data"
    },
    {
     "data": {
      "text/html": [
       "<b>Chunk Summary:</b>  Home canvas is determined by the type of account you have. The canvas is\n",
       "\n",
       "customizable and can be used to display the information you need most.\n",
       "\n",
       "This document provides an overview of the Help pane, Account manager, Notifications center, Settings, Feedback, and Home canvas in Microsoft Fabric. The Help pane is a great place to search for answers to your questions. To return to the default Help pane, select the left arrow. The Account manager provides information about your account and license. The Notifications center, Settings, and Feedback options are available from the icons in the upper right corner of Home. The Home canvas displays the information you need most and is customizable."
      ],
      "text/plain": [
       "<IPython.core.display.HTML object>"
      ]
     },
     "metadata": {},
     "output_type": "display_data"
    },
    {
     "data": {
      "text/html": [
       "<b>Chunk Summary:</b> \n",
       "This article provides an overview of the Help pane in Microsoft Fabric. The Help pane is a contextual help feature that displays articles related to the actions and features available on the current Fabric screen. It is also a search engine that quickly finds answers to questions in the Fabric documentation and Fabric community forums. The Help pane is available in the Fabric preview and will be available in the full release. Microsoft Fabric is currently in PREVIEW and this information relates to a prerelease product that may be substantially modified before it's released. Microsoft makes no warranties, expressed or implied, with respect to the information provided here."
      ],
      "text/plain": [
       "<IPython.core.display.HTML object>"
      ]
     },
     "metadata": {},
     "output_type": "display_data"
    },
    {
     "data": {
      "text/html": [
       "<b>Chunk Summary:</b> \n",
       "The Help pane is a search engine that provides a comprehensive list of recommended topics, resources, and links relevant to the current context and location in Fabric. It has three sections: Feature-aware documents, Forum topics, and Other resources. The Feature-aware documents section groups documents by the features available on the current screen. The Forum topics section shows topics from the community forums related to the features on the current screen. The Other resources section has links for feedback and Support. The Help pane is also a search engine that allows users to search for relevant information and resources from Microsoft documentation and community forum topics. It is perfect for learning and getting started as it provides guided tours by making selections in Fabric and reading the feature-aware documents."
      ],
      "text/plain": [
       "<IPython.core.display.HTML object>"
      ]
     },
     "metadata": {},
     "output_type": "display_data"
    },
    {
     "data": {
      "text/html": [
       "<b>Chunk Summary:</b> \n",
       "The Help pane in Microsoft Fabric allows users to quickly find relevant information and resources. It includes documents about features, forum posts, and searchable Microsoft documentation and community forums. Users can open the Help pane from the upper-right corner of Fabric, browse recent documents, select forum posts, search for keywords, return to the default display, and close the pane. If more help is needed, users can submit a question or an idea for a new feature. Microsoft Fabric is currently in PREVIEW and provides users with a way to search, filter, and sort long lists of content."
      ],
      "text/plain": [
       "<IPython.core.display.HTML object>"
      ]
     },
     "metadata": {},
     "output_type": "display_data"
    },
    {
     "data": {
      "text/html": [
       "<b>Chunk Summary:</b> \n",
       "Microsoft Fabric provides a global search box at the top of Home to quickly find items by title, name, or keyword. Search is available from Home and most other areas of Microsoft Fabric, and can be used to find content shared by colleagues. Additionally, most experiences on the Microsoft Fabric canvas include a Filter by keyword field to narrow down the content on the canvas. Microsoft Fabric searches only the items in the current view, and users can enter keywords to quickly find what they need."
      ],
      "text/plain": [
       "<IPython.core.display.HTML object>"
      ]
     },
     "metadata": {},
     "output_type": "display_data"
    },
    {
     "data": {
      "text/html": [
       "<b>Chunk Summary:</b> \n",
       "This article provides an overview of how to sort and filter content lists in Microsoft Fabric. Sorting content lists helps users quickly find what they need, while filtering allows users to narrow down the list by content type, time, or owner. It is important to note that Microsoft Fabric is currently in PREVIEW and the information provided is subject to change."
      ],
      "text/plain": [
       "<IPython.core.display.HTML object>"
      ]
     },
     "metadata": {},
     "output_type": "display_data"
    },
    {
     "data": {
      "text/html": [
       "<b>Chunk Summary:</b> \n",
       "The Fabric settings pane provides links to various settings that can be configured for individual users, such as language, account management, notifications, and item settings. Additionally, users can access resources and extensions, such as the personal/group storage management page and the Power BI settings page."
      ],
      "text/plain": [
       "<IPython.core.display.HTML object>"
      ]
     },
     "metadata": {},
     "output_type": "display_data"
    },
    {
     "data": {
      "text/html": [
       "<b>Chunk Summary:</b> \n",
       "This article provides an overview of the Power BI workspaces, which are used to store and manage Power BI items such as dashboards, datasets, workbooks, reports, datamarts, and dataflows. It explains how to manage connections, on-premises data gateways, embed codes, and virtual networks data gateways. Additionally, it provides information on how to migrate Azure Analysis Services datasets to Power BI Premium. Finally, it outlines the governance and insights settings with links to the Fabric admin portal, the Microsoft Purview hub, and documentation to help with Microsoft Purview governance and compliance in Fabric."
      ],
      "text/plain": [
       "<IPython.core.display.HTML object>"
      ]
     },
     "metadata": {},
     "output_type": "display_data"
    },
    {
     "data": {
      "text/html": [
       "<b>Chunk Summary:</b> \n",
       "This article provides an overview of workspaces, including how to manage access, pin workspaces, use granular workspace roles, navigate to the current workspace, and update workspace settings. Workspace admins can use the settings to manage and update the workspace, including the basic information, contact list, OneDrive, license, Azure connections, storage, and other experiences' specific settings. Pinning workspaces to the top of the list allows for quick access to favorite workspaces, and granular workspace roles provide flexible permissions management."
      ],
      "text/plain": [
       "<IPython.core.display.HTML object>"
      ]
     },
     "metadata": {},
     "output_type": "display_data"
    },
    {
     "data": {
      "text/html": [
       "<b>Chunk Summary:</b> \n",
       "This document provides an overview of the Workspace Settings and Contact list features in Microsoft Fabric. It also explains how to configure a Microsoft 365 Group from OneDrive, and the best practice for synchronizing permissions between users or groups with workspace access and Microsoft 365 Group membership. Workspace Settings can be accessed by selecting the workspace in the nav pane, then selecting More options (...) > Workspace settings next to the workspace name. The Contact list feature allows users to specify which users receive notifications about issues occurring in the workspace. By default, the creator of the workspace is in the contact list, but additional users or groups can be added. The Workspace OneDrive feature allows users to configure a Microsoft 365 Group whose SharePoint document library is available to workspace users. Creating Microsoft 365 Groups may be restricted in the environment, and users should speak with their IT department if this is the case. Microsoft Fabric does not synchronize permissions between users or groups with workspace access and Microsoft 365 Group membership, so it is best practice to give access to the workspace to the same Microsoft 365 Group whose file library is being used."
      ],
      "text/plain": [
       "<IPython.core.display.HTML object>"
      ]
     },
     "metadata": {},
     "output_type": "display_data"
    },
    {
     "data": {
      "text/html": [
       "<b>Chunk Summary:</b> \n",
       "This document outlines how to configure OneDrive, license mode, and Azure connections for workspaces. OneDrive can be configured in workspace settings by typing in the name of the Microsoft 365 group that was created earlier. Workspaces are created in the organization's shared capacity by default, but can be assigned to any capacity in the organization. Azure Data Lake Gen 2 storage and Azure Log Analytics (LA) connection can be configured in workspace settings to bring storage to dataflows and collect usage and performance logs for the workspace. System storage is the place to manage dataset storage in individual or shared workspaces."
      ],
      "text/plain": [
       "<IPython.core.display.HTML object>"
      ]
     },
     "metadata": {},
     "output_type": "display_data"
    },
    {
     "data": {
      "text/html": [
       "<b>Chunk Summary:</b> \n",
       "This article provides an overview of managing and auditing workspaces in the Microsoft Fabric admin portal. Workspace storage includes datasets, Excel reports, and items shared with the user. Admins can manage users' ability to create workspaces, manage the workspaces themselves, and audit activities such as creating and deleting folders. Additionally, admins can delete a workspace, which will delete everything contained within the workspace for all group members, and the associated app will be removed from AppSource."
      ],
      "text/plain": [
       "<IPython.core.display.HTML object>"
      ]
     },
     "metadata": {},
     "output_type": "display_data"
    },
    {
     "data": {
      "text/html": [
       "<b>Chunk Summary:</b>  This article explains how to create and manage workspaces in Microsoft Fabric. A workspace is a collection of items such as lakehouses, warehouses, and reports. To create a workspace, select Workspaces > New workspace and provide a unique name and optional description. Domain contributors can associate the workspace to a domain or change an existing association. There are certain limitations to be aware of, such as a maximum of 1,000 datasets or reports per dataset, and special characters not supported in workspace names. Additionally, a user or service principal can be a member of up to 1,000 workspaces. Finally, users can be given access to workspaces."
      ],
      "text/plain": [
       "<IPython.core.display.HTML object>"
      ]
     },
     "metadata": {},
     "output_type": "display_data"
    },
    {
     "data": {
      "text/html": [
       "<b>Chunk Summary:</b> \n",
       "This document outlines the advanced settings for Power BI workspaces, including contact list, license mode, and default storage format. The contact list is a place to store the names of people as contacts for information about the workspace. The license mode determines the feature set of the workspace and can be changed after creation, though some migration effort may be required. The default storage format is an in-memory cache that enables fast user interactivity, and with Premium capacities, large datasets beyond the default limit can be enabled with the Large dataset storage format setting."
      ],
      "text/plain": [
       "<IPython.core.display.HTML object>"
      ]
     },
     "metadata": {},
     "output_type": "display_data"
    },
    {
     "data": {
      "text/html": [
       "<b>Chunk Summary:</b> \n",
       "Power BI template apps are developed for sharing outside an organization. When this option is checked, a special type of workspace (template app workspace) is created. Data used with Power BI is stored in internal storage provided by Power BI by default, but with the integration of dataflows and Azure Data Lake Storage Gen 2 (ADLS Gen2), users can store their dataflows in their organization's Azure Data Lake Storage Gen2 account. To give users access to the workspace, they must be added to roles in the workspace. Pinning workspaces to the top of the workspace flyout list allows quick access to favorite workspaces. Workspace roles let users manage who can do what in a Microsoft Fabric workspace."
      ],
      "text/plain": [
       "<IPython.core.display.HTML object>"
      ]
     },
     "metadata": {},
     "output_type": "display_data"
    },
    {
     "data": {
      "text/html": [
       "<b>Chunk Summary:</b> \n",
       "Microsoft Fabric workspaces sit on top of OneLake and divide the data lake into separate containers that can be secured independently. Workspace roles in Microsoft Fabric extend the Power BI workspace roles by associating new Microsoft Fabric capabilities such as data integration and data exploration with existing workspace roles. Users can be assigned roles individually or to security groups, Microsoft 365 groups, and distribution lists. These roles include Admin, Member, Contributor, and Viewer, each with different levels of access and capabilities. In addition to the existing Power BI capabilities associated with these roles, Microsoft Fabric workspace roles also provide access to view and read content of data pipelines, notebooks, Spark job definitions, ML models and experiments, and Event streams."
      ],
      "text/plain": [
       "<IPython.core.display.HTML object>"
      ]
     },
     "metadata": {},
     "output_type": "display_data"
    },
    {
     "data": {
      "text/html": [
       "<b>Chunk Summary:</b> \n",
       "This article provides an overview of roles and permissions in workspaces in Power BI. It explains how to create workspaces, grant users access to workspaces, and set up OneLake security, OneLake shortcuts, Data warehouse security, Data engineering security, and Data science roles and permissions. It also provides guidance on the next steps to take to ensure secure access to data."
      ],
      "text/plain": [
       "<IPython.core.display.HTML object>"
      ]
     },
     "metadata": {},
     "output_type": "display_data"
    },
    {
     "data": {
      "text/html": [
       "<b>Chunk Summary:</b> \n",
       "This document explains how to give access to a workspace in Microsoft Fabric. Workspace creators are automatically admins and can add others to the different roles such as Admin, Member, Contributor, or Viewer. To enforce row-level security (RLS) for Pro users, assign them the Viewer Role. After adding or removing access for a user or group, the permission change only takes effect after the user logs in. To add access, select Manage Access on the command bar of the workspace page, select Add people or groups, enter name or email, select a role, and select Add. Access can be viewed and modified later if needed. Finally, read about the workspace experience and create workspaces."
      ],
      "text/plain": [
       "<IPython.core.display.HTML object>"
      ]
     },
     "metadata": {},
     "output_type": "display_data"
    },
    {
     "data": {
      "text/html": [
       "<b>Chunk Summary:</b> \n",
       "This article explains the features of the OneLake data hub, which provides an easy way to find, explore, and use the Fabric data items in your organization. It provides a filterable list of all the data items you can access, a gallery of recommended data items, a way of finding data items by workspace, a way to display only the data items of a selected domain, and an options menu of things you can do with the data item. To open the data hub, select the OneLake data hub icon in the navigation pane. The data items list displays all the data items you have access to and can be filtered by keyword or data-item type. The list also has three tabs to narrow down the list of data items: All, My Data, and Endorsed in your organization. Certified data items are listed first, followed by promoted data items."
      ],
      "text/plain": [
       "<IPython.core.display.HTML object>"
      ]
     },
     "metadata": {},
     "output_type": "display_data"
    },
    {
     "data": {
      "text/html": [
       "<b>Chunk Summary:</b> \n",
       "This overview provides an introduction to the Endorsement feature in the Data Hub. The Endorsement feature allows users to view data items in their organization and view their endorsement status. The list of data items includes columns such as Name, Endorsement, Owner, Workspace, Refreshed, Next Refresh, and Sensitivity. Users can also explore data items by workspace by expanding the Explorer pane and selecting the workspace they are interested in. Additionally, the tiles across the top of the Data Hub can be used to find and explore recommended data items."
      ],
      "text/plain": [
       "<IPython.core.display.HTML object>"
      ]
     },
     "metadata": {},
     "output_type": "display_data"
    },
    {
     "data": {
      "text/html": [
       "<b>Chunk Summary:</b> \n",
       "This document provides an overview of the data hub, which is a tool that enables users to view and manage data items. It outlines how to view recommended data items, filter by domain, and open an item's options menu. Recommended data items are those that have been certified or promoted by someone in the organization, or have recently been refreshed or accessed. The domain selector can be used to filter the data items list to only display those belonging to a particular domain. The options menu for each item enables users to open the item's settings, manage item permissions, and more. Finally, users should be aware that the Explorer pane may list workspaces that they don't have access to if the workspace contains items that they do have access to."
      ],
      "text/plain": [
       "<IPython.core.display.HTML object>"
      ]
     },
     "metadata": {},
     "output_type": "display_data"
    },
    {
     "data": {
      "text/html": [
       "<b>Chunk Summary:</b> \n",
       "Fabric provides two ways to endorse items to increase visibility: promotion and certification. Promotion is a way to highlight items that are valuable and worthwhile for others to use, and is available to anyone with write permissions on the item. Certification means that the item meets the organization's quality standards and can be regarded as reliable, authoritative, and ready for use across the organization. Currently, all Fabric items except Power BI dashboards can be endorsed. Promotion is available to anyone with write permissions on the item, while certification is only available to authorized reviewers defined by the Power BI administrator. This article provides information on how to promote and certify items, as well as how to request certification if you are not authorized."
      ],
      "text/plain": [
       "<IPython.core.display.HTML object>"
      ]
     },
     "metadata": {},
     "output_type": "display_data"
    },
    {
     "data": {
      "text/html": [
       "<b>Chunk Summary:</b>  open the settings of the item.\n",
       "\n",
       "2. Expand the endorsement section and select Request Certification.\n",
       "\n",
       "3. Select Apply.\n",
       "\n",
       "Summary: Item certification is a significant responsibility and only authorized users can certify items. Other users can request item certification by getting write permissions on the item and carefully reviewing it to determine if it meets the organization's standards. To certify an item, go to the workspace where it resides and open the settings of the item, expand the endorsement section, and select Certified. If certifying a Power BI dataset, there is an option to make it discoverable. To request item certification, go to the workspace where the item is located, open the settings of the item, expand the endorsement section, and select Request Certification."
      ],
      "text/plain": [
       "<IPython.core.display.HTML object>"
      ]
     },
     "metadata": {},
     "output_type": "display_data"
    },
    {
     "data": {
      "text/html": [
       "<b>Chunk Summary:</b> \n",
       "This article assumes that you have the following prerequisites:\n",
       "\n",
       "• You have a Power BI Pro license.\n",
       "• You have a Power BI admin who has enabled content certification.\n",
       "• You have a sensitivity label set up in the Microsoft 365 Security & Compliance\n",
       "Center.\n",
       "\n",
       "Summary: Microsoft Fabric is currently in PREVIEW and this article provides instructions on how to apply sensitivity labels to Fabric items. Prerequisites include a Power BI Pro license, a Power BI admin who has enabled content certification, and a sensitivity label set up in the Microsoft 365 Security & Compliance Center."
      ],
      "text/plain": [
       "<IPython.core.display.HTML object>"
      ]
     },
     "metadata": {},
     "output_type": "display_data"
    },
    {
     "data": {
      "text/html": [
       "<b>Chunk Summary:</b> \n",
       "To apply sensitivity labels to items in Microsoft Power BI, a Power BI Pro or Premium Per User (PPU) license is required, as well as edit permissions on the item. There are two ways to apply a label: from the flyout menu in the item header, and in the item settings. If a label cannot be applied, or if it is greyed out in the sensitivity label menu, contact the organization's tech support. For more information, visit the Sensitivity Label Overview."
      ],
      "text/plain": [
       "<IPython.core.display.HTML object>"
      ]
     },
     "metadata": {},
     "output_type": "display_data"
    }
   ],
   "source": [
    "# For the chaintype of MapReduce and Refine, we can also get insight into intermediate steps of the pipeline.\n",
    "# This way you can inspect the results from map_reduce chain type, each top similar chunk summary\n",
    "intermediateSteps = summary['intermediate_steps']\n",
    "for step in intermediateSteps:\n",
    "        display(HTML(\"<b>Chunk Summary:</b> \" + step))"
   ]
  },
  {
   "cell_type": "code",
   "execution_count": null,
   "metadata": {},
   "outputs": [],
   "source": []
  }
 ],
 "metadata": {
  "kernelspec": {
   "display_name": "Python 3",
   "language": "python",
   "name": "python3"
  },
  "language_info": {
   "codemirror_mode": {
    "name": "ipython",
    "version": 3
   },
   "file_extension": ".py",
   "mimetype": "text/x-python",
   "name": "python",
   "nbconvert_exporter": "python",
   "pygments_lexer": "ipython3",
   "version": "3.9.13"
  },
  "orig_nbformat": 4
 },
 "nbformat": 4,
 "nbformat_minor": 2
}
