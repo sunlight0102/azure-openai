{
 "cells": [
  {
   "attachments": {},
   "cell_type": "markdown",
   "metadata": {},
   "source": [
    "### Summarization\n",
    "A common use case is wanting to summarize long documents. This naturally runs into the context window limitations. Unlike in question-answering, you can't just do some semantic search hacks to only select the chunks of text most relevant to the question (because, in this case, there is no particular question - you want to summarize everything). So what do you do then?\n",
    "\n",
    "The most common way around this is to split the documents into chunks and then do summarization in a recursive manner. By this we mean you first summarize each chunk by itself, then you group the summaries into chunks and summarize each chunk of summaries, and continue doing that until only one is left."
   ]
  },
  {
   "attachments": {},
   "cell_type": "markdown",
   "metadata": {},
   "source": [
    "#### Set Environment variables"
   ]
  },
  {
   "cell_type": "code",
   "execution_count": 6,
   "metadata": {},
   "outputs": [],
   "source": [
    "import os  \n",
    "import json  \n",
    "import openai\n",
    "from Utilities.envVars import *\n",
    "\n",
    "# Set Search Service endpoint, index name, and API key from environment variables\n",
    "indexName = SearchIndex\n",
    "\n",
    "# Set OpenAI API key and endpoint\n",
    "openai.api_type = \"azure\"\n",
    "openai.api_version = OpenAiVersion\n",
    "openai_api_key = OpenAiKey\n",
    "assert openai_api_key, \"ERROR: Azure OpenAI Key is missing\"\n",
    "openai.api_key = openai_api_key\n",
    "openAiEndPoint = f\"https://{OpenAiService}.openai.azure.com\"\n",
    "assert openAiEndPoint, \"ERROR: Azure OpenAI Endpoint is missing\"\n",
    "assert \"openai.azure.com\" in openAiEndPoint.lower(), \"ERROR: Azure OpenAI Endpoint should be in the form: \\n\\n\\t<your unique endpoint identifier>.openai.azure.com\"\n",
    "openai.api_base = openAiEndPoint\n",
    "davincimodel = OpenAiDavinci\n"
   ]
  },
  {
   "attachments": {},
   "cell_type": "markdown",
   "metadata": {},
   "source": [
    "#### Summarize the document/PDF (instead of getting that data from Vector store or document reposit)"
   ]
  },
  {
   "cell_type": "code",
   "execution_count": 7,
   "metadata": {},
   "outputs": [],
   "source": [
    "# Import required libraries\n",
    "# Import required libraries\n",
    "from langchain.llms.openai import AzureOpenAI, OpenAI\n",
    "from langchain.embeddings.openai import OpenAIEmbeddings\n",
    "from langchain.text_splitter import RecursiveCharacterTextSplitter\n",
    "from langchain.document_loaders import (\n",
    "    PDFMinerLoader,\n",
    "    UnstructuredFileLoader,\n",
    ")"
   ]
  },
  {
   "cell_type": "code",
   "execution_count": 8,
   "metadata": {},
   "outputs": [],
   "source": [
    "# Flexibility to change the call to OpenAI or Azure OpenAI\n",
    "embeddingModelType = \"openai\"\n",
    "\n",
    "# Set the file name and the namespace for the index\n",
    "fileName = \"Fabric Get Started.pdf\"\n",
    "fabricGetStartedPath = \"Data/PDF/\" + fileName\n",
    "# Load the PDF with Document Loader available from Langchain\n",
    "loader = PDFMinerLoader(fabricGetStartedPath)\n",
    "rawDocs = loader.load()\n",
    "# Set the source \n",
    "for doc in rawDocs:\n",
    "    doc.metadata['source'] = fabricGetStartedPath\n",
    "\n",
    "textSplitter = RecursiveCharacterTextSplitter(chunk_size=1500, chunk_overlap=0)\n",
    "docs = textSplitter.split_documents(rawDocs)"
   ]
  },
  {
   "cell_type": "code",
   "execution_count": 9,
   "metadata": {},
   "outputs": [
    {
     "name": "stdout",
     "output_type": "stream",
     "text": [
      "Number of documents chunks generated from PDF :  58\n"
     ]
    }
   ],
   "source": [
    "print(\"Number of documents chunks generated from PDF : \", len(docs))"
   ]
  },
  {
   "cell_type": "code",
   "execution_count": 10,
   "metadata": {},
   "outputs": [],
   "source": [
    "from langchain.chains.qa_with_sources import load_qa_with_sources_chain\n",
    "from langchain.llms.openai import AzureOpenAI, OpenAI\n",
    "from langchain.embeddings.openai import OpenAIEmbeddings\n",
    "from Utilities.cogSearch import performCogSearch\n",
    "from langchain.docstore.document import Document\n",
    "from langchain.prompts import PromptTemplate\n",
    "from IPython.display import display, HTML\n",
    "from langchain.chains.summarize import load_summarize_chain\n",
    "\n",
    "embeddingModelType = \"azureopenai\"\n",
    "temperature = 0.3\n",
    "tokenLength = 1000\n",
    "\n",
    "if (embeddingModelType == 'azureopenai'):\n",
    "    openai.api_type = \"azure\"\n",
    "    openai.api_key = OpenAiKey\n",
    "    openai.api_version = OpenAiVersion\n",
    "    openai.api_base = f\"https://{OpenAiService}.openai.azure.com\"\n",
    "\n",
    "    llm = AzureOpenAI(deployment_name=OpenAiDavinci,\n",
    "            temperature=temperature,\n",
    "            openai_api_key=OpenAiKey,\n",
    "            max_tokens=tokenLength,\n",
    "            batch_size=10, \n",
    "            max_retries=12)\n",
    "\n",
    "    logging.info(\"LLM Setup done\")\n",
    "    embeddings = OpenAIEmbeddings(model=OpenAiEmbedding, chunk_size=1, openai_api_key=OpenAiKey)\n",
    "elif embeddingModelType == \"openai\":\n",
    "    openai.api_type = \"open_ai\"\n",
    "    openai.api_base = \"https://api.openai.com/v1\"\n",
    "    openai.api_version = '2020-11-07' \n",
    "    openai.api_key = OpenAiApiKey\n",
    "    llm = OpenAI(temperature=temperature,\n",
    "            openai_api_key=OpenAiApiKey,\n",
    "            max_tokens=tokenLength)\n",
    "    embeddings = OpenAIEmbeddings(openai_api_key=OpenAiApiKey)\n"
   ]
  },
  {
   "cell_type": "code",
   "execution_count": null,
   "metadata": {},
   "outputs": [],
   "source": [
    "# Because we have a large document, it is expected that we will run into Token limitation error with code below\n",
    "chainType = \"stuff\"\n",
    "summaryChain = load_summarize_chain(llm, chain_type=chainType)\n",
    "summary = summaryChain.run(docs)\n",
    "print(\"Summary: \", summary)\n"
   ]
  },
  {
   "cell_type": "code",
   "execution_count": 10,
   "metadata": {},
   "outputs": [
    {
     "name": "stdout",
     "output_type": "stream",
     "text": [
      " Microsoft Fabric is a prerelease product that provides an all-in-one analytics solution for enterprises. It includes Data Engineering, Data Factory, Data Science, and Power BI experiences, and is built on top of Azure Data Lake Storage Gen2. It offers a suite of services, including data lake, data engineering, and data integration, and provides users with the ability to search for content, sort and filter content lists, configure settings, manage workspaces, and apply sensitivity labels.\n"
     ]
    }
   ],
   "source": [
    "# Let's change now the chaintype from stuff to mapreduce and refine to see the summary\n",
    "chainType = \"map_reduce\"\n",
    "summaryChain = load_summarize_chain(llm, chain_type=chainType, return_intermediate_steps=True)\n",
    "summary = summaryChain({\"input_documents\": docs}, return_only_outputs=True)\n",
    "outputAnswer = summary['output_text']\n",
    "print(outputAnswer)"
   ]
  },
  {
   "cell_type": "code",
   "execution_count": 11,
   "metadata": {},
   "outputs": [
    {
     "data": {
      "text/html": [
       "<b>Chunk Summary:</b>  \n",
       "Microsoft Fabric is an all-in-one analytics solution for enterprises that covers everything from data movement to data science, Real-Time Analytics, and business intelligence. It offers a comprehensive suite of services, including data lake, data engineering, and data integration, all in one place. The platform is built on a foundation of Software as a Service (SaaS) for easy integration and use. The Microsoft Fabric get started documentation provides an overview of the platform, instructions on how to get started, and how-to guides for various tasks."
      ],
      "text/plain": [
       "<IPython.core.display.HTML object>"
      ]
     },
     "metadata": {},
     "output_type": "display_data"
    },
    {
     "data": {
      "text/html": [
       "<b>Chunk Summary:</b>  Microsoft Fabric is a prerelease product that brings together components from Power BI, Azure Synapse, and Azure Data Explorer into a single integrated environment. It provides an extensive range of deeply integrated analytics, shared experiences across experiences, easy access and reuse of assets, a unified data lake, and centralized administration and governance. IT teams can centrally configure core enterprise capabilities and data sensitivity labels are inherited automatically."
      ],
      "text/plain": [
       "<IPython.core.display.HTML object>"
      ]
     },
     "metadata": {},
     "output_type": "display_data"
    },
    {
     "data": {
      "text/html": [
       "<b>Chunk Summary:</b>  Microsoft Fabric is a comprehensive set of analytics experiences designed to work together seamlessly. It includes Data Engineering, Data Factory, and Data Science experiences, which provide world-class Spark platforms, Power Query, and Azure Machine Learning integration respectively. These experiences allow creators to focus on producing their best work without needing to understand the underlying infrastructure."
      ],
      "text/plain": [
       "<IPython.core.display.HTML object>"
      ]
     },
     "metadata": {},
     "output_type": "display_data"
    },
    {
     "data": {
      "text/html": [
       "<b>Chunk Summary:</b>  Microsoft Fabric is a platform that provides data science, data warehousing, real-time analytics, and Power BI capabilities. Data scientists can enrich organizational data with predictions, while data warehousing provides SQL performance and scale. Real-time analytics is best in class for observational data analytics, and Power BI is the world's leading Business Intelligence platform."
      ],
      "text/plain": [
       "<IPython.core.display.HTML object>"
      ]
     },
     "metadata": {},
     "output_type": "display_data"
    },
    {
     "data": {
      "text/html": [
       "<b>Chunk Summary:</b>  Microsoft Fabric is a big data analytics platform that unifies OneLake and lakehouse architecture across enterprises. It is built on top of Azure Data Lake Storage Gen2 and provides a single SaaS experience and tenant-wide store for data. It eliminates data silos and simplifies the experiences for users, eliminating the need for them to understand any infrastructure concepts."
      ],
      "text/plain": [
       "<IPython.core.display.HTML object>"
      ]
     },
     "metadata": {},
     "output_type": "display_data"
    },
    {
     "data": {
      "text/html": [
       "<b>Chunk Summary:</b>  OneLake is a unified storage system that simplifies data management and sharing across an organization. It is hierarchical in structure and built into Microsoft Fabric, with tenants at the top level of the hierarchy. Workspaces and lakehouses can be created within tenants, with lakehouses representing a database over a data lake. No up-front provisioning is required."
      ],
      "text/plain": [
       "<IPython.core.display.HTML object>"
      ]
     },
     "metadata": {},
     "output_type": "display_data"
    },
    {
     "data": {
      "text/html": [
       "<b>Chunk Summary:</b>  Microsoft Fabric (Preview) trial provides access to the Fabric product experiences, including OneLake workspaces which allow users to ingest data, start processing, analyzing, and collaborating on the data. Additionally, shortcuts allow users to easily share data between users and applications without moving or duplicating information. The trial includes access to the Fabric product experiences and end-to-end tutorials."
      ],
      "text/plain": [
       "<IPython.core.display.HTML object>"
      ]
     },
     "metadata": {},
     "output_type": "display_data"
    },
    {
     "data": {
      "text/html": [
       "<b>Chunk Summary:</b>  This document explains how to start a Fabric (Preview) trial, which requires a Power BI license. Existing Power BI users can skip to the trial steps, while new users must first sign up for a free Power BI license. The trial lasts until Fabric General Availability (GA), and is then extended for 60 days. After following the steps, users will receive a confirmation message and be able to begin working in Fabric."
      ],
      "text/plain": [
       "<IPython.core.display.HTML object>"
      ]
     },
     "metadata": {},
     "output_type": "display_data"
    },
    {
     "data": {
      "text/html": [
       "<b>Chunk Summary:</b>  Microsoft Fabric (Preview) trial allows users to create workspaces (folders) for projects that support Fabric capabilities. It includes a Power BI individual trial and OneLake storage up to 1 TB. The trial capacity determines the amount of computation power reserved for users of that capacity. The Account manager keeps track of the number of days remaining in the trial. The countdown is also visible in the Fabric menu bar."
      ],
      "text/plain": [
       "<IPython.core.display.HTML object>"
      ]
     },
     "metadata": {},
     "output_type": "display_data"
    },
    {
     "data": {
      "text/html": [
       "<b>Chunk Summary:</b>  Fabric (Preview) is a trial capacity that allows users to share and collaborate on datasets, warehouses, and notebooks. It also allows users to create analytics solutions. The trial capacity is 64 capacity units (CU) which allows users to consume 64x60 CU seconds per minute. There is no limit on the number of workspaces or items that can be created, but the rate of consumption of the capacity units must be taken into account."
      ],
      "text/plain": [
       "<IPython.core.display.HTML object>"
      ]
     },
     "metadata": {},
     "output_type": "display_data"
    },
    {
     "data": {
      "text/html": [
       "<b>Chunk Summary:</b>  This article provides information about administering a Fabric (Preview) trial, including how to cancel the trial, how to administer user access, and the capacity admin's responsibilities. Power BI administrators can enable and disable trials for paid features for Power BI and Fabric, and each trial user is the capacity admin for their trial capacity."
      ],
      "text/plain": [
       "<IPython.core.display.HTML object>"
      ]
     },
     "metadata": {},
     "output_type": "display_data"
    },
    {
     "data": {
      "text/html": [
       "<b>Chunk Summary:</b>  Power BI administrators can disable access to the Fabric (Preview) trial and may need to increase tenant trial capacity limits if the limit has been reached. If access is enabled, users can start a trial by attempting to create a Fabric item or by clicking the Start trial button in their Account manager. If the limit has been reached, users can purchase a Fabric capacity from Azure, request another trial capacity user to share their trial capacity, or reach out to their Power BI administrator to create a CSS request to increase tenant trial capacity limits."
      ],
      "text/plain": [
       "<IPython.core.display.HTML object>"
      ]
     },
     "metadata": {},
     "output_type": "display_data"
    },
    {
     "data": {
      "text/html": [
       "<b>Chunk Summary:</b>  This known bug occurs when the Power BI administrator turns off trials after a trial has been started. To add your workspace to the trial capacity, open the Admin portal and choose the name of the capacity. The region for the Fabric (Preview) trial capacity is the home region for the tenant. The Fabric (Preview) trial is different from an individual trial of Power BI paid, as the latter allows access to the Fabric landing page."
      ],
      "text/plain": [
       "<IPython.core.display.HTML object>"
      ]
     },
     "metadata": {},
     "output_type": "display_data"
    },
    {
     "data": {
      "text/html": [
       "<b>Chunk Summary:</b>  The Fabric (Preview) trial allows users to store workspaces and items and run Fabric experiences without needing an Azure subscription. Private links and public access are disabled, and autoscale is not supported. Existing Synapse and Power BI users can sign up for a free trial and start running product experiences immediately, with the option to purchase a (paid) Fabric capacity with an existing Azure subscription."
      ],
      "text/plain": [
       "<IPython.core.display.HTML object>"
      ]
     },
     "metadata": {},
     "output_type": "display_data"
    },
    {
     "data": {
      "text/html": [
       "<b>Chunk Summary:</b>  This article explains the terminology used in Microsoft Fabric, a prerelease product. It provides information on capacity, experiences, and items, and explains how to migrate existing workspaces into a trial capacity. It also provides links to learn more about licenses and Fabric terminology."
      ],
      "text/plain": [
       "<IPython.core.display.HTML object>"
      ]
     },
     "metadata": {},
     "output_type": "display_data"
    },
    {
     "data": {
      "text/html": [
       "<b>Chunk Summary:</b>  Fabric is an organization-aligned Azure Active Directory that provides a workspace for collaboration and data engineering. This includes a lakehouse, notebook, and Spark job definition items. The lakehouse is a database over a data lake with ACID transactions, while the notebook is an interactive programming tool with rich authoring functions."
      ],
      "text/plain": [
       "<IPython.core.display.HTML object>"
      ]
     },
     "metadata": {},
     "output_type": "display_data"
    },
    {
     "data": {
      "text/html": [
       "<b>Chunk Summary:</b>  Apache Spark is a program written by a user using one of Spark's API languages that is divided into one or more Spark jobs that run in parallel to process data faster. It helps data engineers and data scientists explore and process data and build machine learning experiments with both code and low-code experience. It can also be easily transformed to a pipeline activity for orchestration. Data Factory offers a rich set of connectors to connect and monitor a Spark job, view and visualize results, and collaborate with the team."
      ],
      "text/plain": [
       "<IPython.core.display.HTML object>"
      ]
     },
     "metadata": {},
     "output_type": "display_data"
    },
    {
     "data": {
      "text/html": [
       "<b>Chunk Summary:</b>  Data Factory is a platform for orchestrating data movement and transformation. It includes Dataflow Gen2, a low-code interface for ingesting data from hundreds of sources and transforming it, and Data Wrangler, a notebook-based tool for exploratory data analysis. It also includes machine learning experiments for organizing and controlling related machine learning runs."
      ],
      "text/plain": [
       "<IPython.core.display.HTML object>"
      ]
     },
     "metadata": {},
     "output_type": "display_data"
    },
    {
     "data": {
      "text/html": [
       "<b>Chunk Summary:</b>  MLflow is a platform that uses experiments and runs to track machine learning models. Synapse Data Warehouse is a traditional data warehouse that supports transactional T-SQL capabilities. KQL database and KQL Queryset are used to query and manipulate data from the Data Explorer database."
      ],
      "text/plain": [
       "<IPython.core.display.HTML object>"
      ]
     },
     "metadata": {},
     "output_type": "display_data"
    },
    {
     "data": {
      "text/html": [
       "<b>Chunk Summary:</b>  Microsoft Fabric is a platform that provides a centralized place to capture, transform, and route real-time events to destinations with a no-code experience. It also provides shortcuts to existing data and end-to-end tutorials to help users understand the Fabric UI, experiences, and integration points. Microsoft Fabric is currently in PREVIEW."
      ],
      "text/plain": [
       "<IPython.core.display.HTML object>"
      ]
     },
     "metadata": {},
     "output_type": "display_data"
    },
    {
     "data": {
      "text/html": [
       "<b>Chunk Summary:</b>  This article provides tutorials for multiple Fabric experiences, such as Lakehouse, Data Science, Real-Time Analytics, and Data Warehouse. Each tutorial provides instructions on how to ingest, transform, and load data into the lakehouse, build a machine learning model, analyze trip statistics, build an end-to-end data warehouse, and create a dimensional model. Additionally, a tutorial for Power BI is provided which outlines how to build a dataflow and pipeline to bring data into a lakehouse. Microsoft provides no warranties with respect to the information provided."
      ],
      "text/plain": [
       "<IPython.core.display.HTML object>"
      ]
     },
     "metadata": {},
     "output_type": "display_data"
    },
    {
     "data": {
      "text/html": [
       "<b>Chunk Summary:</b>  This article provides a reference guide and example scenarios to help decide whether to use a copy activity, dataflow, or Spark for workloads using Microsoft Fabric. It covers the use cases, primary developer personas, primary developer skill sets, and code written for each of the three options. Microsoft Fabric is currently in PREVIEW."
      ],
      "text/plain": [
       "<IPython.core.display.HTML object>"
      ]
     },
     "metadata": {},
     "output_type": "display_data"
    },
    {
     "data": {
      "text/html": [
       "<b>Chunk Summary:</b> \n",
       "Dataflow Gen 2 is a low-code/no-code platform that enables data engineers, data scientists, and data developers to ingest, transform, wrangle, and profile data from multiple sources, including databases, file systems, and APIs. It supports Spark (Scala, Python, Spark SQL, R) and provides hundreds of transformations and native Spark functions. It also has 30+ connectors for sources and 18+ connectors for destinations, such as Azure SQL Database, Azure Data Explorer, and Azure Synapse Analytics."
      ],
      "text/plain": [
       "<IPython.core.display.HTML object>"
      ]
     },
     "metadata": {},
     "output_type": "display_data"
    },
    {
     "data": {
      "text/html": [
       "<b>Chunk Summary:</b>  Leo, a data engineer with minimal coding experience, is tasked with getting raw data from Azure data resources and third-party sources into a consolidated lakehouse. Mary, a data engineer with a deep knowledge of the multiple LOB analytic reporting requirements, is tasked with cleaning the data, applying business logics, and loading it into multiple destinations. Both Leo and Mary use copy activity to move petabytes of data to lakehouses and warehouses from varieties of sources, either ad-hoc or via a schedule."
      ],
      "text/plain": [
       "<IPython.core.display.HTML object>"
      ]
     },
     "metadata": {},
     "output_type": "display_data"
    },
    {
     "data": {
      "text/html": [
       "<b>Chunk Summary:</b>  Mary is an experienced Power Query user and has decided to use Dataflow Gen 2 for data transformation due to its easy-to-use, highly visual user interface. Adam is a data engineer working for a large retail company and has decided to use Spark to build the extract and transformation logic for customer review analytics. He writes a Spark application using Python or Scala to read data from OneLake, cleanse, transform, and write it to Delta tables in the lakehouse."
      ],
      "text/plain": [
       "<IPython.core.display.HTML object>"
      ]
     },
     "metadata": {},
     "output_type": "display_data"
    },
    {
     "data": {
      "text/html": [
       "<b>Chunk Summary:</b>  This article provides a guide to help users choose between a data warehouse or a lakehouse for their workloads using Microsoft Fabric. It outlines the properties of each option, such as data volume, type of data, primary developer persona, primary developer skill set, citizen developer, read and write operations, multi-table transactions, primary development interface, and security. It is important to note that Microsoft Fabric is currently in PREVIEW."
      ],
      "text/plain": [
       "<IPython.core.display.HTML object>"
      ]
     },
     "metadata": {},
     "output_type": "display_data"
    },
    {
     "data": {
      "text/html": [
       "<b>Chunk Summary:</b>  Susan, a professional developer, is new to Microsoft Fabric and needs to decide between building a data warehouse or lakehouse. After review of the details, the primary decision points are the available skill set and the need for multi-table transactions. Susan decides to use a data warehouse since she and the primary consumers of the data are skilled with SQL and SQL analytical tools, while also allowing any Spark users in the organization to access the data."
      ],
      "text/plain": [
       "<IPython.core.display.HTML object>"
      ]
     },
     "metadata": {},
     "output_type": "display_data"
    },
    {
     "data": {
      "text/html": [
       "<b>Chunk Summary:</b>  \n",
       "Rob, a data engineer, needs to store and model several terabytes of data and decides to use a lakehouse to allow the data engineering team to use their diverse skills against the data. Ash, a citizen developer, needs to build a data product for a business unit and decides to use a Premium capacity subscription with Power BI and Microsoft Office as the primary consumers of the data."
      ],
      "text/plain": [
       "<IPython.core.display.HTML object>"
      ]
     },
     "metadata": {},
     "output_type": "display_data"
    },
    {
     "data": {
      "text/html": [
       "<b>Chunk Summary:</b> \n",
       "\n",
       "This article provides an overview of navigating to items and actions from Microsoft Fabric Home. It explains the similarities between the different product experiences, such as Data Factory Home, and provides an introduction to Power BI datamarts. It also provides important information about the Microsoft Fabric PREVIEW."
      ],
      "text/plain": [
       "<IPython.core.display.HTML object>"
      ]
     },
     "metadata": {},
     "output_type": "display_data"
    },
    {
     "data": {
      "text/html": [
       "<b>Chunk Summary:</b>  Microsoft Fabric is a platform that allows users to create and share items such as apps, lakehouses, warehouses, reports, and more. Home is the best place to start working in Microsoft Fabric, but users can also navigate directly to a workspace using the nav pane and workspace selector. Home contains the most important content for the user and the layout and content is different for each user. The left navigation pane links users to different views of their items and to creator resources, and the selector allows users to switch product experiences."
      ],
      "text/plain": [
       "<IPython.core.display.HTML object>"
      ]
     },
     "metadata": {},
     "output_type": "display_data"
    },
    {
     "data": {
      "text/html": [
       "<b>Chunk Summary:</b>  Microsoft Fabric provides a top menu bar for orienting oneself, finding items, getting help, and sending feedback. It also provides options for creating new items, links to recommended content, and items organized by recent, favorites, and items shared with colleagues. The navigation pane along the left side is also available to help locate and view content."
      ],
      "text/plain": [
       "<IPython.core.display.HTML object>"
      ]
     },
     "metadata": {},
     "output_type": "display_data"
    },
    {
     "data": {
      "text/html": [
       "<b>Chunk Summary:</b>  The nav pane in Microsoft Fabric organizes actions to help users quickly get to where they need to be. Workspaces are places to collaborate with colleagues and create collections of items. You can search for workspaces by name or owner, or you can select the Workspaces icon in the nav pane to open them. When a workspace is opened, its name replaces My workspace."
      ],
      "text/plain": [
       "<IPython.core.display.HTML object>"
      ]
     },
     "metadata": {},
     "output_type": "display_data"
    },
    {
     "data": {
      "text/html": [
       "<b>Chunk Summary:</b>  Microsoft Fabric provides a navigation pane that allows users to view notebooks, pipelines, reports, and lakehouses in a workspace. The experience selector in the bottom left corner allows users to open other product experiences. Search, sort, and filter functions are available to help users find their content. The Help pane provides context sensitive help and suggested topics to learn how to use Microsoft Fabric features and terminology."
      ],
      "text/plain": [
       "<IPython.core.display.HTML object>"
      ]
     },
     "metadata": {},
     "output_type": "display_data"
    },
    {
     "data": {
      "text/html": [
       "<b>Chunk Summary:</b>  The Help pane is a great place to search for answers to questions. For more information about searching, support, account and license information, notifications, settings, and feedback, explore the options available in the Help pane, Account manager, Notifications center, Settings, and Feedback. The canvas in the center of Home provides additional information."
      ],
      "text/plain": [
       "<IPython.core.display.HTML object>"
      ]
     },
     "metadata": {},
     "output_type": "display_data"
    },
    {
     "data": {
      "text/html": [
       "<b>Chunk Summary:</b>  Power BI Home is a feature that allows users to create new items, view recommended items, recents, favorites, and content shared with them. The Help pane is a feature-aware search engine that helps users quickly find answers to questions in the Fabric documentation and Fabric community forums. Microsoft Fabric is currently in PREVIEW."
      ],
      "text/plain": [
       "<IPython.core.display.HTML object>"
      ]
     },
     "metadata": {},
     "output_type": "display_data"
    },
    {
     "data": {
      "text/html": [
       "<b>Chunk Summary:</b>  The Help pane is a search engine in Fabric that provides feature-aware documents, forum topics, and other resources. It is perfect for learning and getting started by providing documents related to the current screen and location in Fabric. Entering a keyword will provide relevant information and resources from Microsoft documentation and community forum topics."
      ],
      "text/plain": [
       "<IPython.core.display.HTML object>"
      ]
     },
     "metadata": {},
     "output_type": "display_data"
    },
    {
     "data": {
      "text/html": [
       "<b>Chunk Summary:</b> \n",
       "Microsoft Fabric is a data hub that provides users with helpful articles and resources to learn how to use the Help pane. The Help pane can be opened from the upper-right corner of Fabric and allows users to browse recent documents, search the Microsoft documentation and community forums, and submit questions or ideas. Additionally, users can use the global search feature to filter and sort through long lists of content. Microsoft Fabric is currently in PREVIEW."
      ],
      "text/plain": [
       "<IPython.core.display.HTML object>"
      ]
     },
     "metadata": {},
     "output_type": "display_data"
    },
    {
     "data": {
      "text/html": [
       "<b>Chunk Summary:</b>  Microsoft Fabric offers a global search box at the top of Home that can be used to find items by title, name, or keyword. It is also possible to search for content shared by colleagues. Additionally, most experiences on the Microsoft Fabric canvas include a Filter by keyword field, which can be used to narrow down the content on the canvas."
      ],
      "text/plain": [
       "<IPython.core.display.HTML object>"
      ]
     },
     "metadata": {},
     "output_type": "display_data"
    },
    {
     "data": {
      "text/html": [
       "<b>Chunk Summary:</b>  Microsoft Fabric provides users with the ability to sort and filter content lists to quickly locate items. Hovering over the column headings will indicate which columns can be sorted. Filters are available depending on the location in Microsoft Fabric and can be used to filter content by type, time, or owner. Microsoft Fabric is currently in preview and the information provided is subject to change."
      ],
      "text/plain": [
       "<IPython.core.display.HTML object>"
      ]
     },
     "metadata": {},
     "output_type": "display_data"
    },
    {
     "data": {
      "text/html": [
       "<b>Chunk Summary:</b>  This article explains how to open the Fabric settings pane and the types of settings that can be accessed from there. Preferences can be set for individual users, including language and notifications. Item settings, developer settings, and Power BI settings can also be configured. Additionally, users can manage personal/group storage."
      ],
      "text/plain": [
       "<IPython.core.display.HTML object>"
      ]
     },
     "metadata": {},
     "output_type": "display_data"
    },
    {
     "data": {
      "text/html": [
       "<b>Chunk Summary:</b>  Workspaces are places to collaborate with colleagues to create collections of Power BI items such as dashboards, datasets, workbooks, reports, datamarts, and dataflows. The Manage page allows users to manage connections, on-premises data gateways, embed codes, and virtual networks data gateways. The Azure Analysis Services page allows users to migrate datasets to Power BI Premium. The Governance and Insights settings provide links to help admins and users with their admin, governance, and compliance tasks. The Admin portal and Microsoft Purview hub provide additional management and governance capabilities."
      ],
      "text/plain": [
       "<IPython.core.display.HTML object>"
      ]
     },
     "metadata": {},
     "output_type": "display_data"
    },
    {
     "data": {
      "text/html": [
       "<b>Chunk Summary:</b>  This article provides tips for working with workspaces, such as pinning workspaces to the top of the list, using granular workspace roles for flexible permissions management, navigating to the current workspace, and managing workspace configurations in the workspace settings. It also explains the concept of a current workspace and how to access it."
      ],
      "text/plain": [
       "<IPython.core.display.HTML object>"
      ]
     },
     "metadata": {},
     "output_type": "display_data"
    },
    {
     "data": {
      "text/html": [
       "<b>Chunk Summary:</b>  The Contact list feature in Workspace settings allows users to specify which users receive notifications about issues occurring in the workspace. Additionally, the Workspace OneDrive feature allows users to configure a Microsoft 365 Group whose SharePoint document library is available to workspace users. It is important to note that creating Microsoft 365 Groups may be restricted in some environments, and that Microsoft Fabric does not synchronize permissions between users or groups with workspace access and users or groups with Microsoft 365 Group membership."
      ],
      "text/plain": [
       "<IPython.core.display.HTML object>"
      ]
     },
     "metadata": {},
     "output_type": "display_data"
    },
    {
     "data": {
      "text/html": [
       "<b>Chunk Summary:</b> \n",
       "\n",
       "You can configure OneDrive in workspace settings by typing in the name of the Microsoft 365 group you created earlier. Workspaces can be assigned to any capacity in your organization, and workspace admins can configure dataflow storage to use Azure Data Lake Gen 2 storage and Azure Log Analytics (LA) connection. System storage is the place to manage your dataset storage in your individual or shared capacity."
      ],
      "text/plain": [
       "<IPython.core.display.HTML object>"
      ]
     },
     "metadata": {},
     "output_type": "display_data"
    },
    {
     "data": {
      "text/html": [
       "<b>Chunk Summary:</b>  This article explains how to manage workspaces in Microsoft Fabric. It covers how to view and free up system storage, remove a workspace, and administer and audit workspaces. It also explains the activities that are audited by Microsoft Fabric."
      ],
      "text/plain": [
       "<IPython.core.display.HTML object>"
      ]
     },
     "metadata": {},
     "output_type": "display_data"
    },
    {
     "data": {
      "text/html": [
       "<b>Chunk Summary:</b>  This article explains how to create workspaces in Microsoft Fabric. It provides instructions on how to give the workspace a unique name, provide a description, and assign the workspace to a domain. It also provides considerations and limitations to be aware of, such as the maximum number of datasets and reports per dataset, and the limitation of special characters in workspace names. Finally, it provides instructions on how to give users access to workspaces."
      ],
      "text/plain": [
       "<IPython.core.display.HTML object>"
      ]
     },
     "metadata": {},
     "output_type": "display_data"
    },
    {
     "data": {
      "text/html": [
       "<b>Chunk Summary:</b> \n",
       "\n",
       "Advanced settings in Power BI include the Contact list, License mode, and Default storage format. The Contact list allows users to add other users or groups to receive system email notifications. The License mode provides different sets of features and can be changed, but some migration effort is needed. The Default storage format enables fast user interactivity and large datasets can be enabled with the Large dataset storage format setting."
      ],
      "text/plain": [
       "<IPython.core.display.HTML object>"
      ]
     },
     "metadata": {},
     "output_type": "display_data"
    },
    {
     "data": {
      "text/html": [
       "<b>Chunk Summary:</b>  Power BI template apps are developed for sharing outside an organization and data used with Power BI is stored in internal storage provided by Power BI. Users can give access to a workspace and pin workspaces to the top of the workspace flyout list. Workspace roles allow users to manage who can do what in a Microsoft Fabric workspace."
      ],
      "text/plain": [
       "<IPython.core.display.HTML object>"
      ]
     },
     "metadata": {},
     "output_type": "display_data"
    },
    {
     "data": {
      "text/html": [
       "<b>Chunk Summary:</b>  Microsoft Fabric workspaces sit on top of OneLake, dividing the data lake into separate containers that can be secured independently. There are four roles (Admin, Member, Contributor, and Viewer) that can be assigned to individuals or user groups, granting them access to the workspace and additional Microsoft Fabric capabilities. These capabilities include viewing and reading content of data pipelines, notebooks, Spark job definitions, ML models and experiments, and Event streams."
      ],
      "text/plain": [
       "<IPython.core.display.HTML object>"
      ]
     },
     "metadata": {},
     "output_type": "display_data"
    },
    {
     "data": {
      "text/html": [
       "<b>Chunk Summary:</b>  This article discusses the capabilities of KQL databases, KQL query-sets, and real-time dashboards, as well as how to connect to SQL endpoints of Lakehouse and Data warehouse to read data and shortcuts. It also covers granting users granular SQL permissions to read Lakehouse and Data warehouse data, as well as roles and permissions for data engineering and data science. Finally, it outlines the next steps to create workspaces and give users access to workspaces."
      ],
      "text/plain": [
       "<IPython.core.display.HTML object>"
      ]
     },
     "metadata": {},
     "output_type": "display_data"
    },
    {
     "data": {
      "text/html": [
       "<b>Chunk Summary:</b>  Microsoft Fabric allows workspace creators to give access to others by assigning them different roles. Admins and members can add security groups, distribution lists, Microsoft 365 groups, or individuals to the workspace as admins, members, contributors, or viewers. To enforce row-level security, assign the Viewer Role. Access changes take effect the next time the user logs into Microsoft Fabric. To manage access, select the Manage Access option on the command bar or More options menu."
      ],
      "text/plain": [
       "<IPython.core.display.HTML object>"
      ]
     },
     "metadata": {},
     "output_type": "display_data"
    },
    {
     "data": {
      "text/html": [
       "<b>Chunk Summary:</b>  This article explains how to use the OneLake data hub to find, explore, and use data items in an organization. It provides a filterable list of data items, a gallery of recommended data items, a way of finding data items by workspace, a way to display only the data items of a selected domain, and an options menu of things you can do with the data item. It also explains how to use the three tabs in the list to narrow down the list of data items."
      ],
      "text/plain": [
       "<IPython.core.display.HTML object>"
      ]
     },
     "metadata": {},
     "output_type": "display_data"
    },
    {
     "data": {
      "text/html": [
       "<b>Chunk Summary:</b>  This article provides information about the columns of the list in the Endorsement overview, including the Name, Endorsement, Owner, Workspace, Refreshed, Next Refresh, and Sensitivity. It also provides instructions on how to find items by workspace and recommended items."
      ],
      "text/plain": [
       "<IPython.core.display.HTML object>"
      ]
     },
     "metadata": {},
     "output_type": "display_data"
    },
    {
     "data": {
      "text/html": [
       "<b>Chunk Summary:</b>  This article explains how to use the data hub to view recommended data items, filter by domain, and open an item's options menu. It also notes that the Explorer pane may list workspaces that the user does not have access to, but will still display items that the user has access to."
      ],
      "text/plain": [
       "<IPython.core.display.HTML object>"
      ]
     },
     "metadata": {},
     "output_type": "display_data"
    },
    {
     "data": {
      "text/html": [
       "<b>Chunk Summary:</b>  Fabric provides two ways to endorse items - promotion and certification - to increase their visibility. Promotion can be done by anyone with write permissions on the item, while certification requires an authorized reviewer. This article explains how to promote and certify items, and how to request certification if you don't have the permissions."
      ],
      "text/plain": [
       "<IPython.core.display.HTML object>"
      ]
     },
     "metadata": {},
     "output_type": "display_data"
    },
    {
     "data": {
      "text/html": [
       "<b>Chunk Summary:</b>  This article explains how to promote and certify items in Power BI. It outlines the steps to take to expand the endorsement section and select Promoted or Certified. It also explains how to request item certification if the user is not authorized to do so."
      ],
      "text/plain": [
       "<IPython.core.display.HTML object>"
      ]
     },
     "metadata": {},
     "output_type": "display_data"
    },
    {
     "data": {
      "text/html": [
       "<b>Chunk Summary:</b>  This article explains how to apply sensitivity labels to Microsoft Fabric items in order to protect sensitive data from unauthorized access. It provides instructions on how to open the settings of an item, expand the endorsement section, and select the link about how to get the item certified. It also includes prerequisites and a note about how to apply sensitivity labels in Power BI Desktop."
      ],
      "text/plain": [
       "<IPython.core.display.HTML object>"
      ]
     },
     "metadata": {},
     "output_type": "display_data"
    },
    {
     "data": {
      "text/html": [
       "<b>Chunk Summary:</b>  To apply sensitivity labels to Fabric items, you must have Power BI Pro or Premium Per User (PPU) license and edit permissions on the item. If you cannot apply the label or it is greyed out, contact your organization's tech support. There are two ways to apply the label: from the flyout menu in the item header or in the item settings."
      ],
      "text/plain": [
       "<IPython.core.display.HTML object>"
      ]
     },
     "metadata": {},
     "output_type": "display_data"
    }
   ],
   "source": [
    "# For the chaintype of MapReduce and Refine, we can also get insight into intermediate steps of the pipeline.\n",
    "# This way you can inspect the results from map_reduce chain type, each top similar chunk summary\n",
    "intermediateSteps = summary['intermediate_steps']\n",
    "for step in intermediateSteps:\n",
    "        display(HTML(\"<b>Chunk Summary:</b> \" + step))"
   ]
  },
  {
   "cell_type": "code",
   "execution_count": null,
   "metadata": {},
   "outputs": [],
   "source": []
  }
 ],
 "metadata": {
  "kernelspec": {
   "display_name": "Python 3",
   "language": "python",
   "name": "python3"
  },
  "language_info": {
   "codemirror_mode": {
    "name": "ipython",
    "version": 3
   },
   "file_extension": ".py",
   "mimetype": "text/x-python",
   "name": "python",
   "nbconvert_exporter": "python",
   "pygments_lexer": "ipython3",
   "version": "3.9.13"
  },
  "orig_nbformat": 4
 },
 "nbformat": 4,
 "nbformat_minor": 2
}
