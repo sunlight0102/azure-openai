{
 "cells": [
  {
   "attachments": {},
   "cell_type": "markdown",
   "metadata": {},
   "source": [
    "### Summarization\n",
    "A common use case is wanting to summarize long documents. This naturally runs into the context window limitations. Unlike in question-answering, you can't just do some semantic search hacks to only select the chunks of text most relevant to the question (because, in this case, there is no particular question - you want to summarize everything). So what do you do then?\n",
    "\n",
    "The most common way around this is to split the documents into chunks and then do summarization in a recursive manner. By this we mean you first summarize each chunk by itself, then you group the summaries into chunks and summarize each chunk of summaries, and continue doing that until only one is left."
   ]
  },
  {
   "attachments": {},
   "cell_type": "markdown",
   "metadata": {},
   "source": [
    "#### Set Environment variables"
   ]
  },
  {
   "cell_type": "code",
   "execution_count": 10,
   "metadata": {},
   "outputs": [],
   "source": [
    "import os  \n",
    "import json  \n",
    "import openai\n",
    "from Utilities.envVars import *\n",
    "\n",
    "# Set Search Service endpoint, index name, and API key from environment variables\n",
    "indexName = SearchIndex\n",
    "\n",
    "# Set OpenAI API key and endpoint\n",
    "openai.api_type = \"azure\"\n",
    "openai.api_version = OpenAiVersion\n",
    "openai_api_key = OpenAiKey\n",
    "assert openai_api_key, \"ERROR: Azure OpenAI Key is missing\"\n",
    "openai.api_key = openai_api_key\n",
    "openAiEndPoint = f\"https://{OpenAiService}.openai.azure.com\"\n",
    "assert openAiEndPoint, \"ERROR: Azure OpenAI Endpoint is missing\"\n",
    "assert \"openai.azure.com\" in openAiEndPoint.lower(), \"ERROR: Azure OpenAI Endpoint should be in the form: \\n\\n\\t<your unique endpoint identifier>.openai.azure.com\"\n",
    "openai.api_base = openAiEndPoint\n",
    "davincimodel = OpenAiDavinci\n"
   ]
  },
  {
   "attachments": {},
   "cell_type": "markdown",
   "metadata": {},
   "source": [
    "#### Summarize the document/PDF (instead of getting that data from Vector store or document reposit)"
   ]
  },
  {
   "cell_type": "code",
   "execution_count": 11,
   "metadata": {},
   "outputs": [],
   "source": [
    "# Import required libraries\n",
    "# Import required libraries\n",
    "from langchain.llms.openai import AzureOpenAI, OpenAI\n",
    "from langchain.embeddings.openai import OpenAIEmbeddings\n",
    "from langchain.text_splitter import RecursiveCharacterTextSplitter\n",
    "from langchain.document_loaders import (\n",
    "    PDFMinerLoader,\n",
    "    UnstructuredFileLoader,\n",
    ")"
   ]
  },
  {
   "cell_type": "code",
   "execution_count": 12,
   "metadata": {},
   "outputs": [],
   "source": [
    "# Flexibility to change the call to OpenAI or Azure OpenAI\n",
    "embeddingModelType = \"openai\"\n",
    "\n",
    "# Set the file name and the namespace for the index\n",
    "fileName = \"Fabric Get Started.pdf\"\n",
    "fabricGetStartedPath = \"Data/PDF/\" + fileName\n",
    "# Load the PDF with Document Loader available from Langchain\n",
    "loader = PDFMinerLoader(fabricGetStartedPath)\n",
    "rawDocs = loader.load()\n",
    "# Set the source \n",
    "for doc in rawDocs:\n",
    "    doc.metadata['source'] = fabricGetStartedPath\n",
    "\n",
    "textSplitter = RecursiveCharacterTextSplitter(chunk_size=1500, chunk_overlap=0)\n",
    "docs = textSplitter.split_documents(rawDocs)"
   ]
  },
  {
   "cell_type": "code",
   "execution_count": 13,
   "metadata": {},
   "outputs": [
    {
     "name": "stdout",
     "output_type": "stream",
     "text": [
      "Number of documents chunks generated from PDF :  58\n"
     ]
    }
   ],
   "source": [
    "print(\"Number of documents chunks generated from PDF : \", len(docs))"
   ]
  },
  {
   "cell_type": "code",
   "execution_count": 14,
   "metadata": {},
   "outputs": [],
   "source": [
    "from langchain.chains.qa_with_sources import load_qa_with_sources_chain\n",
    "from langchain.llms.openai import AzureOpenAI, OpenAI\n",
    "from langchain.embeddings.openai import OpenAIEmbeddings\n",
    "from Utilities.cogSearch import performCogSearch\n",
    "from langchain.docstore.document import Document\n",
    "from langchain.prompts import PromptTemplate\n",
    "from IPython.display import display, HTML\n",
    "from langchain.chains.summarize import load_summarize_chain\n",
    "\n",
    "embeddingModelType = \"azureopenai\"\n",
    "temperature = 0.3\n",
    "tokenLength = 1000\n",
    "\n",
    "if (embeddingModelType == 'azureopenai'):\n",
    "    openai.api_type = \"azure\"\n",
    "    openai.api_key = OpenAiKey\n",
    "    openai.api_version = OpenAiVersion\n",
    "    openai.api_base = f\"https://{OpenAiService}.openai.azure.com\"\n",
    "\n",
    "    llm = AzureOpenAI(deployment_name=OpenAiDavinci,\n",
    "            temperature=temperature,\n",
    "            openai_api_key=OpenAiKey,\n",
    "            max_tokens=tokenLength,\n",
    "            batch_size=10, \n",
    "            max_retries=12)\n",
    "\n",
    "    logging.info(\"LLM Setup done\")\n",
    "    embeddings = OpenAIEmbeddings(model=OpenAiEmbedding, chunk_size=1, openai_api_key=OpenAiKey)\n",
    "elif embeddingModelType == \"openai\":\n",
    "    openai.api_type = \"open_ai\"\n",
    "    openai.api_base = \"https://api.openai.com/v1\"\n",
    "    openai.api_version = '2020-11-07' \n",
    "    openai.api_key = OpenAiApiKey\n",
    "    llm = OpenAI(temperature=temperature,\n",
    "            openai_api_key=OpenAiApiKey,\n",
    "            max_tokens=tokenLength)\n",
    "    embeddings = OpenAIEmbeddings(openai_api_key=OpenAiApiKey)\n"
   ]
  },
  {
   "cell_type": "code",
   "execution_count": null,
   "metadata": {},
   "outputs": [],
   "source": [
    "# Because we have a large document, it is expected that we will run into Token limitation error with code below\n",
    "chainType = \"stuff\"\n",
    "summaryChain = load_summarize_chain(llm, chain_type=chainType)\n",
    "summary = summaryChain.run(docs)\n",
    "print(\"Summary: \", summary)\n"
   ]
  },
  {
   "cell_type": "code",
   "execution_count": 10,
   "metadata": {},
   "outputs": [
    {
     "name": "stdout",
     "output_type": "stream",
     "text": [
      " Microsoft Fabric is a prerelease product that provides an all-in-one analytics solution for enterprises. It includes Data Engineering, Data Factory, Data Science, and Power BI experiences, and is built on top of Azure Data Lake Storage Gen2. It offers a suite of services, including data lake, data engineering, and data integration, and provides users with the ability to search for content, sort and filter content lists, configure settings, manage workspaces, and apply sensitivity labels.\n"
     ]
    }
   ],
   "source": [
    "# Let's change now the chaintype from stuff to mapreduce and refine to see the summary\n",
    "chainType = \"map_reduce\"\n",
    "summaryChain = load_summarize_chain(llm, chain_type=chainType, return_intermediate_steps=True)\n",
    "summary = summaryChain({\"input_documents\": docs}, return_only_outputs=True)\n",
    "outputAnswer = summary['output_text']\n",
    "print(outputAnswer)"
   ]
  },
  {
   "cell_type": "code",
   "execution_count": 11,
   "metadata": {},
   "outputs": [
    {
     "data": {
      "text/html": [
       "<b>Chunk Summary:</b>  \n",
       "Microsoft Fabric is an all-in-one analytics solution for enterprises that covers everything from data movement to data science, Real-Time Analytics, and business intelligence. It offers a comprehensive suite of services, including data lake, data engineering, and data integration, all in one place. The platform is built on a foundation of Software as a Service (SaaS) for easy integration and use. The Microsoft Fabric get started documentation provides an overview of the platform, instructions on how to get started, and how-to guides for various tasks."
      ],
      "text/plain": [
       "<IPython.core.display.HTML object>"
      ]
     },
     "metadata": {},
     "output_type": "display_data"
    },
    {
     "data": {
      "text/html": [
       "<b>Chunk Summary:</b>  Microsoft Fabric is a prerelease product that brings together components from Power BI, Azure Synapse, and Azure Data Explorer into a single integrated environment. It provides an extensive range of deeply integrated analytics, shared experiences across experiences, easy access and reuse of assets, a unified data lake, and centralized administration and governance. IT teams can centrally configure core enterprise capabilities and data sensitivity labels are inherited automatically."
      ],
      "text/plain": [
       "<IPython.core.display.HTML object>"
      ]
     },
     "metadata": {},
     "output_type": "display_data"
    },
    {
     "data": {
      "text/html": [
       "<b>Chunk Summary:</b>  Microsoft Fabric is a comprehensive set of analytics experiences designed to work together seamlessly. It includes Data Engineering, Data Factory, and Data Science experiences, which provide world-class Spark platforms, Power Query, and Azure Machine Learning integration respectively. These experiences allow creators to focus on producing their best work without needing to understand the underlying infrastructure."
      ],
      "text/plain": [
       "<IPython.core.display.HTML object>"
      ]
     },
     "metadata": {},
     "output_type": "display_data"
    },
    {
     "data": {
      "text/html": [
       "<b>Chunk Summary:</b>  Microsoft Fabric is a platform that provides data science, data warehousing, real-time analytics, and Power BI capabilities. Data scientists can enrich organizational data with predictions, while data warehousing provides SQL performance and scale. Real-time analytics is best in class for observational data analytics, and Power BI is the world's leading Business Intelligence platform."
      ],
      "text/plain": [
       "<IPython.core.display.HTML object>"
      ]
     },
     "metadata": {},
     "output_type": "display_data"
    },
    {
     "data": {
      "text/html": [
       "<b>Chunk Summary:</b>  Microsoft Fabric is a big data analytics platform that unifies OneLake and lakehouse architecture across enterprises. It is built on top of Azure Data Lake Storage Gen2 and provides a single SaaS experience and tenant-wide store for data. It eliminates data silos and simplifies the experiences for users, eliminating the need for them to understand any infrastructure concepts."
      ],
      "text/plain": [
       "<IPython.core.display.HTML object>"
      ]
     },
     "metadata": {},
     "output_type": "display_data"
    },
    {
     "data": {
      "text/html": [
       "<b>Chunk Summary:</b>  OneLake is a unified storage system that simplifies data management and sharing across an organization. It is hierarchical in structure and built into Microsoft Fabric, with tenants at the top level of the hierarchy. Workspaces and lakehouses can be created within tenants, with lakehouses representing a database over a data lake. No up-front provisioning is required."
      ],
      "text/plain": [
       "<IPython.core.display.HTML object>"
      ]
     },
     "metadata": {},
     "output_type": "display_data"
    },
    {
     "data": {
      "text/html": [
       "<b>Chunk Summary:</b>  Microsoft Fabric (Preview) trial provides access to the Fabric product experiences, including OneLake workspaces which allow users to ingest data, start processing, analyzing, and collaborating on the data. Additionally, shortcuts allow users to easily share data between users and applications without moving or duplicating information. The trial includes access to the Fabric product experiences and end-to-end tutorials."
      ],
      "text/plain": [
       "<IPython.core.display.HTML object>"
      ]
     },
     "metadata": {},
     "output_type": "display_data"
    },
    {
     "data": {
      "text/html": [
       "<b>Chunk Summary:</b>  This document explains how to start a Fabric (Preview) trial, which requires a Power BI license. Existing Power BI users can skip to the trial steps, while new users must first sign up for a free Power BI license. The trial lasts until Fabric General Availability (GA), and is then extended for 60 days. After following the steps, users will receive a confirmation message and be able to begin working in Fabric."
      ],
      "text/plain": [
       "<IPython.core.display.HTML object>"
      ]
     },
     "metadata": {},
     "output_type": "display_data"
    },
    {
     "data": {
      "text/html": [
       "<b>Chunk Summary:</b>  Microsoft Fabric (Preview) trial allows users to create workspaces (folders) for projects that support Fabric capabilities. It includes a Power BI individual trial and OneLake storage up to 1 TB. The trial capacity determines the amount of computation power reserved for users of that capacity. The Account manager keeps track of the number of days remaining in the trial. The countdown is also visible in the Fabric menu bar."
      ],
      "text/plain": [
       "<IPython.core.display.HTML object>"
      ]
     },
     "metadata": {},
     "output_type": "display_data"
    },
    {
     "data": {
      "text/html": [
       "<b>Chunk Summary:</b>  Fabric (Preview) is a trial capacity that allows users to share and collaborate on datasets, warehouses, and notebooks. It also allows users to create analytics solutions. The trial capacity is 64 capacity units (CU) which allows users to consume 64x60 CU seconds per minute. There is no limit on the number of workspaces or items that can be created, but the rate of consumption of the capacity units must be taken into account."
      ],
      "text/plain": [
       "<IPython.core.display.HTML object>"
      ]
     },
     "metadata": {},
     "output_type": "display_data"
    },
    {
     "data": {
      "text/html": [
       "<b>Chunk Summary:</b>  This article provides information about administering a Fabric (Preview) trial, including how to cancel the trial, how to administer user access, and the capacity admin's responsibilities. Power BI administrators can enable and disable trials for paid features for Power BI and Fabric, and each trial user is the capacity admin for their trial capacity."
      ],
      "text/plain": [
       "<IPython.core.display.HTML object>"
      ]
     },
     "metadata": {},
     "output_type": "display_data"
    },
    {
     "data": {
      "text/html": [
       "<b>Chunk Summary:</b>  Power BI administrators can disable access to the Fabric (Preview) trial and may need to increase tenant trial capacity limits if the limit has been reached. If access is enabled, users can start a trial by attempting to create a Fabric item or by clicking the Start trial button in their Account manager. If the limit has been reached, users can purchase a Fabric capacity from Azure, request another trial capacity user to share their trial capacity, or reach out to their Power BI administrator to create a CSS request to increase tenant trial capacity limits."
      ],
      "text/plain": [
       "<IPython.core.display.HTML object>"
      ]
     },
     "metadata": {},
     "output_type": "display_data"
    },
    {
     "data": {
      "text/html": [
       "<b>Chunk Summary:</b>  This known bug occurs when the Power BI administrator turns off trials after a trial has been started. To add your workspace to the trial capacity, open the Admin portal and choose the name of the capacity. The region for the Fabric (Preview) trial capacity is the home region for the tenant. The Fabric (Preview) trial is different from an individual trial of Power BI paid, as the latter allows access to the Fabric landing page."
      ],
      "text/plain": [
       "<IPython.core.display.HTML object>"
      ]
     },
     "metadata": {},
     "output_type": "display_data"
    },
    {
     "data": {
      "text/html": [
       "<b>Chunk Summary:</b>  The Fabric (Preview) trial allows users to store workspaces and items and run Fabric experiences without needing an Azure subscription. Private links and public access are disabled, and autoscale is not supported. Existing Synapse and Power BI users can sign up for a free trial and start running product experiences immediately, with the option to purchase a (paid) Fabric capacity with an existing Azure subscription."
      ],
      "text/plain": [
       "<IPython.core.display.HTML object>"
      ]
     },
     "metadata": {},
     "output_type": "display_data"
    },
    {
     "data": {
      "text/html": [
       "<b>Chunk Summary:</b>  This article explains the terminology used in Microsoft Fabric, a prerelease product. It provides information on capacity, experiences, and items, and explains how to migrate existing workspaces into a trial capacity. It also provides links to learn more about licenses and Fabric terminology."
      ],
      "text/plain": [
       "<IPython.core.display.HTML object>"
      ]
     },
     "metadata": {},
     "output_type": "display_data"
    },
    {
     "data": {
      "text/html": [
       "<b>Chunk Summary:</b>  Fabric is an organization-aligned Azure Active Directory that provides a workspace for collaboration and data engineering. This includes a lakehouse, notebook, and Spark job definition items. The lakehouse is a database over a data lake with ACID transactions, while the notebook is an interactive programming tool with rich authoring functions."
      ],
      "text/plain": [
       "<IPython.core.display.HTML object>"
      ]
     },
     "metadata": {},
     "output_type": "display_data"
    },
    {
     "data": {
      "text/html": [
       "<b>Chunk Summary:</b>  Apache Spark is a program written by a user using one of Spark's API languages that is divided into one or more Spark jobs that run in parallel to process data faster. It helps data engineers and data scientists explore and process data and build machine learning experiments with both code and low-code experience. It can also be easily transformed to a pipeline activity for orchestration. Data Factory offers a rich set of connectors to connect and monitor a Spark job, view and visualize results, and collaborate with the team."
      ],
      "text/plain": [
       "<IPython.core.display.HTML object>"
      ]
     },
     "metadata": {},
     "output_type": "display_data"
    },
    {
     "data": {
      "text/html": [
       "<b>Chunk Summary:</b>  Data Factory is a platform for orchestrating data movement and transformation. It includes Dataflow Gen2, a low-code interface for ingesting data from hundreds of sources and transforming it, and Data Wrangler, a notebook-based tool for exploratory data analysis. It also includes machine learning experiments for organizing and controlling related machine learning runs."
      ],
      "text/plain": [
       "<IPython.core.display.HTML object>"
      ]
     },
     "metadata": {},
     "output_type": "display_data"
    },
    {
     "data": {
      "text/html": [
       "<b>Chunk Summary:</b>  MLflow is a platform that uses experiments and runs to track machine learning models. Synapse Data Warehouse is a traditional data warehouse that supports transactional T-SQL capabilities. KQL database and KQL Queryset are used to query and manipulate data from the Data Explorer database."
      ],
      "text/plain": [
       "<IPython.core.display.HTML object>"
      ]
     },
     "metadata": {},
     "output_type": "display_data"
    },
    {
     "data": {
      "text/html": [
       "<b>Chunk Summary:</b>  Microsoft Fabric is a platform that provides a centralized place to capture, transform, and route real-time events to destinations with a no-code experience. It also provides shortcuts to existing data and end-to-end tutorials to help users understand the Fabric UI, experiences, and integration points. Microsoft Fabric is currently in PREVIEW."
      ],
      "text/plain": [
       "<IPython.core.display.HTML object>"
      ]
     },
     "metadata": {},
     "output_type": "display_data"
    },
    {
     "data": {
      "text/html": [
       "<b>Chunk Summary:</b>  This article provides tutorials for multiple Fabric experiences, such as Lakehouse, Data Science, Real-Time Analytics, and Data Warehouse. Each tutorial provides instructions on how to ingest, transform, and load data into the lakehouse, build a machine learning model, analyze trip statistics, build an end-to-end data warehouse, and create a dimensional model. Additionally, a tutorial for Power BI is provided which outlines how to build a dataflow and pipeline to bring data into a lakehouse. Microsoft provides no warranties with respect to the information provided."
      ],
      "text/plain": [
       "<IPython.core.display.HTML object>"
      ]
     },
     "metadata": {},
     "output_type": "display_data"
    },
    {
     "data": {
      "text/html": [
       "<b>Chunk Summary:</b>  This article provides a reference guide and example scenarios to help decide whether to use a copy activity, dataflow, or Spark for workloads using Microsoft Fabric. It covers the use cases, primary developer personas, primary developer skill sets, and code written for each of the three options. Microsoft Fabric is currently in PREVIEW."
      ],
      "text/plain": [
       "<IPython.core.display.HTML object>"
      ]
     },
     "metadata": {},
     "output_type": "display_data"
    },
    {
     "data": {
      "text/html": [
       "<b>Chunk Summary:</b> \n",
       "Dataflow Gen 2 is a low-code/no-code platform that enables data engineers, data scientists, and data developers to ingest, transform, wrangle, and profile data from multiple sources, including databases, file systems, and APIs. It supports Spark (Scala, Python, Spark SQL, R) and provides hundreds of transformations and native Spark functions. It also has 30+ connectors for sources and 18+ connectors for destinations, such as Azure SQL Database, Azure Data Explorer, and Azure Synapse Analytics."
      ],
      "text/plain": [
       "<IPython.core.display.HTML object>"
      ]
     },
     "metadata": {},
     "output_type": "display_data"
    },
    {
     "data": {
      "text/html": [
       "<b>Chunk Summary:</b>  Leo, a data engineer with minimal coding experience, is tasked with getting raw data from Azure data resources and third-party sources into a consolidated lakehouse. Mary, a data engineer with a deep knowledge of the multiple LOB analytic reporting requirements, is tasked with cleaning the data, applying business logics, and loading it into multiple destinations. Both Leo and Mary use copy activity to move petabytes of data to lakehouses and warehouses from varieties of sources, either ad-hoc or via a schedule."
      ],
      "text/plain": [
       "<IPython.core.display.HTML object>"
      ]
     },
     "metadata": {},
     "output_type": "display_data"
    },
    {
     "data": {
      "text/html": [
       "<b>Chunk Summary:</b>  Mary is an experienced Power Query user and has decided to use Dataflow Gen 2 for data transformation due to its easy-to-use, highly visual user interface. Adam is a data engineer working for a large retail company and has decided to use Spark to build the extract and transformation logic for customer review analytics. He writes a Spark application using Python or Scala to read data from OneLake, cleanse, transform, and write it to Delta tables in the lakehouse."
      ],
      "text/plain": [
       "<IPython.core.display.HTML object>"
      ]
     },
     "metadata": {},
     "output_type": "display_data"
    },
    {
     "data": {
      "text/html": [
       "<b>Chunk Summary:</b>  This article provides a guide to help users choose between a data warehouse or a lakehouse for their workloads using Microsoft Fabric. It outlines the properties of each option, such as data volume, type of data, primary developer persona, primary developer skill set, citizen developer, read and write operations, multi-table transactions, primary development interface, and security. It is important to note that Microsoft Fabric is currently in PREVIEW."
      ],
      "text/plain": [
       "<IPython.core.display.HTML object>"
      ]
     },
     "metadata": {},
     "output_type": "display_data"
    },
    {
     "data": {
      "text/html": [
       "<b>Chunk Summary:</b>  Susan, a professional developer, is new to Microsoft Fabric and needs to decide between building a data warehouse or lakehouse. After review of the details, the primary decision points are the available skill set and the need for multi-table transactions. Susan decides to use a data warehouse since she and the primary consumers of the data are skilled with SQL and SQL analytical tools, while also allowing any Spark users in the organization to access the data."
      ],
      "text/plain": [
       "<IPython.core.display.HTML object>"
      ]
     },
     "metadata": {},
     "output_type": "display_data"
    },
    {
     "data": {
      "text/html": [
       "<b>Chunk Summary:</b>  \n",
       "Rob, a data engineer, needs to store and model several terabytes of data and decides to use a lakehouse to allow the data engineering team to use their diverse skills against the data. Ash, a citizen developer, needs to build a data product for a business unit and decides to use a Premium capacity subscription with Power BI and Microsoft Office as the primary consumers of the data."
      ],
      "text/plain": [
       "<IPython.core.display.HTML object>"
      ]
     },
     "metadata": {},
     "output_type": "display_data"
    },
    {
     "data": {
      "text/html": [
       "<b>Chunk Summary:</b> \n",
       "\n",
       "This article provides an overview of navigating to items and actions from Microsoft Fabric Home. It explains the similarities between the different product experiences, such as Data Factory Home, and provides an introduction to Power BI datamarts. It also provides important information about the Microsoft Fabric PREVIEW."
      ],
      "text/plain": [
       "<IPython.core.display.HTML object>"
      ]
     },
     "metadata": {},
     "output_type": "display_data"
    },
    {
     "data": {
      "text/html": [
       "<b>Chunk Summary:</b>  Microsoft Fabric is a platform that allows users to create and share items such as apps, lakehouses, warehouses, reports, and more. Home is the best place to start working in Microsoft Fabric, but users can also navigate directly to a workspace using the nav pane and workspace selector. Home contains the most important content for the user and the layout and content is different for each user. The left navigation pane links users to different views of their items and to creator resources, and the selector allows users to switch product experiences."
      ],
      "text/plain": [
       "<IPython.core.display.HTML object>"
      ]
     },
     "metadata": {},
     "output_type": "display_data"
    },
    {
     "data": {
      "text/html": [
       "<b>Chunk Summary:</b>  Microsoft Fabric provides a top menu bar for orienting oneself, finding items, getting help, and sending feedback. It also provides options for creating new items, links to recommended content, and items organized by recent, favorites, and items shared with colleagues. The navigation pane along the left side is also available to help locate and view content."
      ],
      "text/plain": [
       "<IPython.core.display.HTML object>"
      ]
     },
     "metadata": {},
     "output_type": "display_data"
    },
    {
     "data": {
      "text/html": [
       "<b>Chunk Summary:</b>  The nav pane in Microsoft Fabric organizes actions to help users quickly get to where they need to be. Workspaces are places to collaborate with colleagues and create collections of items. You can search for workspaces by name or owner, or you can select the Workspaces icon in the nav pane to open them. When a workspace is opened, its name replaces My workspace."
      ],
      "text/plain": [
       "<IPython.core.display.HTML object>"
      ]
     },
     "metadata": {},
     "output_type": "display_data"
    },
    {
     "data": {
      "text/html": [
       "<b>Chunk Summary:</b>  Microsoft Fabric provides a navigation pane that allows users to view notebooks, pipelines, reports, and lakehouses in a workspace. The experience selector in the bottom left corner allows users to open other product experiences. Search, sort, and filter functions are available to help users find their content. The Help pane provides context sensitive help and suggested topics to learn how to use Microsoft Fabric features and terminology."
      ],
      "text/plain": [
       "<IPython.core.display.HTML object>"
      ]
     },
     "metadata": {},
     "output_type": "display_data"
    },
    {
     "data": {
      "text/html": [
       "<b>Chunk Summary:</b>  The Help pane is a great place to search for answers to questions. For more information about searching, support, account and license information, notifications, settings, and feedback, explore the options available in the Help pane, Account manager, Notifications center, Settings, and Feedback. The canvas in the center of Home provides additional information."
      ],
      "text/plain": [
       "<IPython.core.display.HTML object>"
      ]
     },
     "metadata": {},
     "output_type": "display_data"
    },
    {
     "data": {
      "text/html": [
       "<b>Chunk Summary:</b>  Power BI Home is a feature that allows users to create new items, view recommended items, recents, favorites, and content shared with them. The Help pane is a feature-aware search engine that helps users quickly find answers to questions in the Fabric documentation and Fabric community forums. Microsoft Fabric is currently in PREVIEW."
      ],
      "text/plain": [
       "<IPython.core.display.HTML object>"
      ]
     },
     "metadata": {},
     "output_type": "display_data"
    },
    {
     "data": {
      "text/html": [
       "<b>Chunk Summary:</b>  The Help pane is a search engine in Fabric that provides feature-aware documents, forum topics, and other resources. It is perfect for learning and getting started by providing documents related to the current screen and location in Fabric. Entering a keyword will provide relevant information and resources from Microsoft documentation and community forum topics."
      ],
      "text/plain": [
       "<IPython.core.display.HTML object>"
      ]
     },
     "metadata": {},
     "output_type": "display_data"
    },
    {
     "data": {
      "text/html": [
       "<b>Chunk Summary:</b> \n",
       "Microsoft Fabric is a data hub that provides users with helpful articles and resources to learn how to use the Help pane. The Help pane can be opened from the upper-right corner of Fabric and allows users to browse recent documents, search the Microsoft documentation and community forums, and submit questions or ideas. Additionally, users can use the global search feature to filter and sort through long lists of content. Microsoft Fabric is currently in PREVIEW."
      ],
      "text/plain": [
       "<IPython.core.display.HTML object>"
      ]
     },
     "metadata": {},
     "output_type": "display_data"
    },
    {
     "data": {
      "text/html": [
       "<b>Chunk Summary:</b>  Microsoft Fabric offers a global search box at the top of Home that can be used to find items by title, name, or keyword. It is also possible to search for content shared by colleagues. Additionally, most experiences on the Microsoft Fabric canvas include a Filter by keyword field, which can be used to narrow down the content on the canvas."
      ],
      "text/plain": [
       "<IPython.core.display.HTML object>"
      ]
     },
     "metadata": {},
     "output_type": "display_data"
    },
    {
     "data": {
      "text/html": [
       "<b>Chunk Summary:</b>  Microsoft Fabric provides users with the ability to sort and filter content lists to quickly locate items. Hovering over the column headings will indicate which columns can be sorted. Filters are available depending on the location in Microsoft Fabric and can be used to filter content by type, time, or owner. Microsoft Fabric is currently in preview and the information provided is subject to change."
      ],
      "text/plain": [
       "<IPython.core.display.HTML object>"
      ]
     },
     "metadata": {},
     "output_type": "display_data"
    },
    {
     "data": {
      "text/html": [
       "<b>Chunk Summary:</b>  This article explains how to open the Fabric settings pane and the types of settings that can be accessed from there. Preferences can be set for individual users, including language and notifications. Item settings, developer settings, and Power BI settings can also be configured. Additionally, users can manage personal/group storage."
      ],
      "text/plain": [
       "<IPython.core.display.HTML object>"
      ]
     },
     "metadata": {},
     "output_type": "display_data"
    },
    {
     "data": {
      "text/html": [
       "<b>Chunk Summary:</b>  Workspaces are places to collaborate with colleagues to create collections of Power BI items such as dashboards, datasets, workbooks, reports, datamarts, and dataflows. The Manage page allows users to manage connections, on-premises data gateways, embed codes, and virtual networks data gateways. The Azure Analysis Services page allows users to migrate datasets to Power BI Premium. The Governance and Insights settings provide links to help admins and users with their admin, governance, and compliance tasks. The Admin portal and Microsoft Purview hub provide additional management and governance capabilities."
      ],
      "text/plain": [
       "<IPython.core.display.HTML object>"
      ]
     },
     "metadata": {},
     "output_type": "display_data"
    },
    {
     "data": {
      "text/html": [
       "<b>Chunk Summary:</b>  This article provides tips for working with workspaces, such as pinning workspaces to the top of the list, using granular workspace roles for flexible permissions management, navigating to the current workspace, and managing workspace configurations in the workspace settings. It also explains the concept of a current workspace and how to access it."
      ],
      "text/plain": [
       "<IPython.core.display.HTML object>"
      ]
     },
     "metadata": {},
     "output_type": "display_data"
    },
    {
     "data": {
      "text/html": [
       "<b>Chunk Summary:</b>  The Contact list feature in Workspace settings allows users to specify which users receive notifications about issues occurring in the workspace. Additionally, the Workspace OneDrive feature allows users to configure a Microsoft 365 Group whose SharePoint document library is available to workspace users. It is important to note that creating Microsoft 365 Groups may be restricted in some environments, and that Microsoft Fabric does not synchronize permissions between users or groups with workspace access and users or groups with Microsoft 365 Group membership."
      ],
      "text/plain": [
       "<IPython.core.display.HTML object>"
      ]
     },
     "metadata": {},
     "output_type": "display_data"
    },
    {
     "data": {
      "text/html": [
       "<b>Chunk Summary:</b> \n",
       "\n",
       "You can configure OneDrive in workspace settings by typing in the name of the Microsoft 365 group you created earlier. Workspaces can be assigned to any capacity in your organization, and workspace admins can configure dataflow storage to use Azure Data Lake Gen 2 storage and Azure Log Analytics (LA) connection. System storage is the place to manage your dataset storage in your individual or shared capacity."
      ],
      "text/plain": [
       "<IPython.core.display.HTML object>"
      ]
     },
     "metadata": {},
     "output_type": "display_data"
    },
    {
     "data": {
      "text/html": [
       "<b>Chunk Summary:</b>  This article explains how to manage workspaces in Microsoft Fabric. It covers how to view and free up system storage, remove a workspace, and administer and audit workspaces. It also explains the activities that are audited by Microsoft Fabric."
      ],
      "text/plain": [
       "<IPython.core.display.HTML object>"
      ]
     },
     "metadata": {},
     "output_type": "display_data"
    },
    {
     "data": {
      "text/html": [
       "<b>Chunk Summary:</b>  This article explains how to create workspaces in Microsoft Fabric. It provides instructions on how to give the workspace a unique name, provide a description, and assign the workspace to a domain. It also provides considerations and limitations to be aware of, such as the maximum number of datasets and reports per dataset, and the limitation of special characters in workspace names. Finally, it provides instructions on how to give users access to workspaces."
      ],
      "text/plain": [
       "<IPython.core.display.HTML object>"
      ]
     },
     "metadata": {},
     "output_type": "display_data"
    },
    {
     "data": {
      "text/html": [
       "<b>Chunk Summary:</b> \n",
       "\n",
       "Advanced settings in Power BI include the Contact list, License mode, and Default storage format. The Contact list allows users to add other users or groups to receive system email notifications. The License mode provides different sets of features and can be changed, but some migration effort is needed. The Default storage format enables fast user interactivity and large datasets can be enabled with the Large dataset storage format setting."
      ],
      "text/plain": [
       "<IPython.core.display.HTML object>"
      ]
     },
     "metadata": {},
     "output_type": "display_data"
    },
    {
     "data": {
      "text/html": [
       "<b>Chunk Summary:</b>  Power BI template apps are developed for sharing outside an organization and data used with Power BI is stored in internal storage provided by Power BI. Users can give access to a workspace and pin workspaces to the top of the workspace flyout list. Workspace roles allow users to manage who can do what in a Microsoft Fabric workspace."
      ],
      "text/plain": [
       "<IPython.core.display.HTML object>"
      ]
     },
     "metadata": {},
     "output_type": "display_data"
    },
    {
     "data": {
      "text/html": [
       "<b>Chunk Summary:</b>  Microsoft Fabric workspaces sit on top of OneLake, dividing the data lake into separate containers that can be secured independently. There are four roles (Admin, Member, Contributor, and Viewer) that can be assigned to individuals or user groups, granting them access to the workspace and additional Microsoft Fabric capabilities. These capabilities include viewing and reading content of data pipelines, notebooks, Spark job definitions, ML models and experiments, and Event streams."
      ],
      "text/plain": [
       "<IPython.core.display.HTML object>"
      ]
     },
     "metadata": {},
     "output_type": "display_data"
    },
    {
     "data": {
      "text/html": [
       "<b>Chunk Summary:</b>  This article discusses the capabilities of KQL databases, KQL query-sets, and real-time dashboards, as well as how to connect to SQL endpoints of Lakehouse and Data warehouse to read data and shortcuts. It also covers granting users granular SQL permissions to read Lakehouse and Data warehouse data, as well as roles and permissions for data engineering and data science. Finally, it outlines the next steps to create workspaces and give users access to workspaces."
      ],
      "text/plain": [
       "<IPython.core.display.HTML object>"
      ]
     },
     "metadata": {},
     "output_type": "display_data"
    },
    {
     "data": {
      "text/html": [
       "<b>Chunk Summary:</b>  Microsoft Fabric allows workspace creators to give access to others by assigning them different roles. Admins and members can add security groups, distribution lists, Microsoft 365 groups, or individuals to the workspace as admins, members, contributors, or viewers. To enforce row-level security, assign the Viewer Role. Access changes take effect the next time the user logs into Microsoft Fabric. To manage access, select the Manage Access option on the command bar or More options menu."
      ],
      "text/plain": [
       "<IPython.core.display.HTML object>"
      ]
     },
     "metadata": {},
     "output_type": "display_data"
    },
    {
     "data": {
      "text/html": [
       "<b>Chunk Summary:</b>  This article explains how to use the OneLake data hub to find, explore, and use data items in an organization. It provides a filterable list of data items, a gallery of recommended data items, a way of finding data items by workspace, a way to display only the data items of a selected domain, and an options menu of things you can do with the data item. It also explains how to use the three tabs in the list to narrow down the list of data items."
      ],
      "text/plain": [
       "<IPython.core.display.HTML object>"
      ]
     },
     "metadata": {},
     "output_type": "display_data"
    },
    {
     "data": {
      "text/html": [
       "<b>Chunk Summary:</b>  This article provides information about the columns of the list in the Endorsement overview, including the Name, Endorsement, Owner, Workspace, Refreshed, Next Refresh, and Sensitivity. It also provides instructions on how to find items by workspace and recommended items."
      ],
      "text/plain": [
       "<IPython.core.display.HTML object>"
      ]
     },
     "metadata": {},
     "output_type": "display_data"
    },
    {
     "data": {
      "text/html": [
       "<b>Chunk Summary:</b>  This article explains how to use the data hub to view recommended data items, filter by domain, and open an item's options menu. It also notes that the Explorer pane may list workspaces that the user does not have access to, but will still display items that the user has access to."
      ],
      "text/plain": [
       "<IPython.core.display.HTML object>"
      ]
     },
     "metadata": {},
     "output_type": "display_data"
    },
    {
     "data": {
      "text/html": [
       "<b>Chunk Summary:</b>  Fabric provides two ways to endorse items - promotion and certification - to increase their visibility. Promotion can be done by anyone with write permissions on the item, while certification requires an authorized reviewer. This article explains how to promote and certify items, and how to request certification if you don't have the permissions."
      ],
      "text/plain": [
       "<IPython.core.display.HTML object>"
      ]
     },
     "metadata": {},
     "output_type": "display_data"
    },
    {
     "data": {
      "text/html": [
       "<b>Chunk Summary:</b>  This article explains how to promote and certify items in Power BI. It outlines the steps to take to expand the endorsement section and select Promoted or Certified. It also explains how to request item certification if the user is not authorized to do so."
      ],
      "text/plain": [
       "<IPython.core.display.HTML object>"
      ]
     },
     "metadata": {},
     "output_type": "display_data"
    },
    {
     "data": {
      "text/html": [
       "<b>Chunk Summary:</b>  This article explains how to apply sensitivity labels to Microsoft Fabric items in order to protect sensitive data from unauthorized access. It provides instructions on how to open the settings of an item, expand the endorsement section, and select the link about how to get the item certified. It also includes prerequisites and a note about how to apply sensitivity labels in Power BI Desktop."
      ],
      "text/plain": [
       "<IPython.core.display.HTML object>"
      ]
     },
     "metadata": {},
     "output_type": "display_data"
    },
    {
     "data": {
      "text/html": [
       "<b>Chunk Summary:</b>  To apply sensitivity labels to Fabric items, you must have Power BI Pro or Premium Per User (PPU) license and edit permissions on the item. If you cannot apply the label or it is greyed out, contact your organization's tech support. There are two ways to apply the label: from the flyout menu in the item header or in the item settings."
      ],
      "text/plain": [
       "<IPython.core.display.HTML object>"
      ]
     },
     "metadata": {},
     "output_type": "display_data"
    }
   ],
   "source": [
    "# For the chaintype of MapReduce and Refine, we can also get insight into intermediate steps of the pipeline.\n",
    "# This way you can inspect the results from map_reduce chain type, each top similar chunk summary\n",
    "intermediateSteps = summary['intermediate_steps']\n",
    "for step in intermediateSteps:\n",
    "        display(HTML(\"<b>Chunk Summary:</b> \" + step))"
   ]
  },
  {
   "cell_type": "code",
   "execution_count": 15,
   "metadata": {},
   "outputs": [
    {
     "name": "stdout",
     "output_type": "stream",
     "text": [
      "\n",
      "Microsoft Fabric is a unified platform that provides users with an all-in-one analytics solution for their data and analytics needs. It offers a comprehensive suite of services, including data lake, data engineering, data integration, and data science, all in one place. It includes features such as sensitivity labels, workspaces, and workspace access control, as well as end-to-end tutorials, context-sensitive Help pane, and the ability to promote and certify items. Through the Fabric (Preview) trial, users can access non-Power BI experiences and items, and store Fabric workspaces and items. It includes industry-leading experiences in data engineering, data factory, and data science, and provides a Data Warehouse experience with independent scaling of compute and storage, natively storing data in the open Delta Lake format. Additionally, it provides users with access to items and actions from all the workspaces they have permission to use, including a left navigation pane, a selector for switching product experiences, and a global search feature. It also outlines the features of the OneLake data hub, including the filterable list of all the data items, the gallery of recommended data items, and the ability to find data items by workspace. Finally, it explains how to apply sensitivity labels to Fabric items, and the prerequisites for doing so.\n"
     ]
    }
   ],
   "source": [
    "from langchain.prompts import PromptTemplate\n",
    "# While we are using the standard prompt by langchain, you can modify the prompt to suit your needs\n",
    "promptTemplate = \"\"\"You are an AI assistant tasked with summarizing documents. \n",
    "        Your summary should accurately capture the key information in the document while avoiding the omission of any domain-specific words. \n",
    "        Please generate a concise and comprehensive summary that includes details. \n",
    "        Ensure that the summary is easy to understand and provides an accurate representation. \n",
    "        Begin the summary with a brief introduction, followed by the main points. \n",
    "        Please remember to use clear language and maintain the integrity of the original information without missing any important details:\n",
    "        {text}\n",
    "\n",
    "        \"\"\"\n",
    "customPrompt = PromptTemplate(template=promptTemplate, input_variables=[\"text\"])\n",
    "chainType = \"map_reduce\"\n",
    "summaryChain = load_summarize_chain(llm, chain_type=chainType, return_intermediate_steps=True, \n",
    "                                    map_prompt=customPrompt, combine_prompt=customPrompt)\n",
    "summary = summaryChain({\"input_documents\": docs}, return_only_outputs=True)\n",
    "outputAnswer = summary['output_text']\n",
    "print(outputAnswer)"
   ]
  },
  {
   "cell_type": "code",
   "execution_count": 16,
   "metadata": {},
   "outputs": [
    {
     "data": {
      "text/html": [
       "<b>Chunk Summary:</b> \n",
       "Microsoft Fabric is a unified platform that provides users with an all-in-one analytics solution for their data and analytics needs. It offers a comprehensive suite of services, including data lake, data engineering, and data integration, all in one place. Fabric is built on a foundation of Software as a Service (SaaS) and is designed to simplify analytics needs. It provides users with end-to-end tutorials, context-sensitive Help pane, and the ability to promote and certify items. Additionally, Fabric offers features such as sensitivity labels, workspaces, and workspace access control."
      ],
      "text/plain": [
       "<IPython.core.display.HTML object>"
      ]
     },
     "metadata": {},
     "output_type": "display_data"
    },
    {
     "data": {
      "text/html": [
       "<b>Chunk Summary:</b> \n",
       "Microsoft Fabric is a prerelease product that brings together components from Power BI, Azure Synapse, and Azure Data Explorer into a single integrated environment. This integration provides an extensive range of deeply integrated analytics, shared experiences across experiences that are familiar and easy to learn, the ability to easily access and reuse all assets, a unified data lake, and centralized administration and governance across all experiences. Additionally, IT teams can centrally configure core enterprise capabilities and data sensitivity labels are inherited automatically across the items in the suite."
      ],
      "text/plain": [
       "<IPython.core.display.HTML object>"
      ]
     },
     "metadata": {},
     "output_type": "display_data"
    },
    {
     "data": {
      "text/html": [
       "<b>Chunk Summary:</b> \n",
       "Microsoft Fabric is a comprehensive set of analytics experiences designed to work together seamlessly. It includes industry-leading experiences in data engineering, data factory, and data science. Data engineering provides a world-class Spark platform with great authoring experiences, enabling data engineers to perform large scale data transformation and democratize data through the lakehouse. Data factory combines the simplicity of Power Query with the scale and power of Azure Data Factory, allowing users to connect to data sources on-premises and in the cloud. Data science experience enables users to build, deploy, and operationalize machine learning models within the Fabric experience, integrating with Azure Machine Learning to provide built-in experiment tracking."
      ],
      "text/plain": [
       "<IPython.core.display.HTML object>"
      ]
     },
     "metadata": {},
     "output_type": "display_data"
    },
    {
     "data": {
      "text/html": [
       "<b>Chunk Summary:</b> \n",
       "Microsoft Fabric is a platform that provides data scientists with the tools to create predictive insights from organizational data and allows business analysts to integrate those predictions into their BI reports. It also provides a Data Warehouse experience with independent scaling of compute and storage, natively storing data in the open Delta Lake format. Additionally, it provides Real-Time Analytics for observational data, which is collected from various sources and often semi-structured in formats like JSON or Text. Finally, Power BI is the world's leading Business Intelligence platform, allowing business owners to access all the data in Fabric quickly and intuitively."
      ],
      "text/plain": [
       "<IPython.core.display.HTML object>"
      ]
     },
     "metadata": {},
     "output_type": "display_data"
    },
    {
     "data": {
      "text/html": [
       "<b>Chunk Summary:</b>  Microsoft Fabric is a comprehensive big data analytics platform that unifies the OneLake and lakehouse architecture across enterprises. OneLake, built on top of ADLS (Azure Data Lake Storage) Gen2, provides a single SaaS experience and a tenant-wide store for data that serves both professional and citizen developers. It simplifies the experiences, eliminating the need for users to understand any infrastructure concepts such as resource groups, RBAC (Role-Based Access Control), Azure Resource Manager, redundancy, or regions. OneLake eliminates today's pervasive and chaotic data silos, allowing for a unified location to store all organizational data where the experiences operate."
      ],
      "text/plain": [
       "<IPython.core.display.HTML object>"
      ]
     },
     "metadata": {},
     "output_type": "display_data"
    },
    {
     "data": {
      "text/html": [
       "<b>Chunk Summary:</b> \n",
       "OneLake provides a unified storage system that eliminates the need for developers to provision and configure their own isolated storage accounts. It is hierarchical in nature and is built into Microsoft Fabric, with no up-front provisioning required. There is only one OneLake per tenant, which provides a single-pane-of-glass file-system namespace that spans across users, regions, and clouds. Data is divided into manageable containers, with the tenant mapping to the root of OneLake. Within the tenant, users can create any number of workspaces, which can be thought of as folders, and multiple lakehouses within each workspace. A lakehouse is a collection of files, folders, and tables that represents a database over a data lake."
      ],
      "text/plain": [
       "<IPython.core.display.HTML object>"
      ]
     },
     "metadata": {},
     "output_type": "display_data"
    },
    {
     "data": {
      "text/html": [
       "<b>Chunk Summary:</b> \n",
       "OneLake is a unified data lakehouse experience from Microsoft Fabric that provides users with a single workspace to ingest, process, analyze, and collaborate on data. It is prewired to the Microsoft Fabric compute experiences such as Data Engineering, Data Warehouse, Data Factory, Power BI, and Real-Time Analytics, and allows users to mount existing PaaS storage accounts into OneLake with the Shortcut feature. Additionally, shortcuts allow users to share data between users and applications without moving or duplicating information, and compose and analyze data across clouds with transparent, intelligent caching that reduces egress costs. The Microsoft Fabric (Preview) trial includes access to the Fabric product experiences and tutorials to help users get started."
      ],
      "text/plain": [
       "<IPython.core.display.HTML object>"
      ]
     },
     "metadata": {},
     "output_type": "display_data"
    },
    {
     "data": {
      "text/html": [
       "<b>Chunk Summary:</b> \n",
       "Microsoft Fabric is a pre-release product that requires a Power BI license to access the trial. This document provides instructions on how to start the Fabric (Preview) trial, which lasts until General Availability (GA) and is then extended for 60 days. To start the trial, users must navigate to the Fabric homepage, select the Account manager, and select Start trial. After agreeing to the terms, they will receive a confirmation message when their trial capacity is ready. Finally, they can open the Account manager again to confirm the trial has started."
      ],
      "text/plain": [
       "<IPython.core.display.HTML object>"
      ]
     },
     "metadata": {},
     "output_type": "display_data"
    },
    {
     "data": {
      "text/html": [
       "<b>Chunk Summary:</b> \n",
       "This summary introduces Microsoft Fabric (Preview) trial, which provides users with full access to all Fabric experiences and features, as well as OneLake storage up to 1 TB. The trial also includes a Power BI individual trial, and the capacity of the trial is determined by the SKU. With a Fabric (Preview) trial, users can create workspaces for projects that support Fabric capabilities."
      ],
      "text/plain": [
       "<IPython.core.display.HTML object>"
      ]
     },
     "metadata": {},
     "output_type": "display_data"
    },
    {
     "data": {
      "text/html": [
       "<b>Chunk Summary:</b> \n",
       "Fabric (Preview) is a cloud-based analytics platform that allows users to share and collaborate on Fabric items, such as datasets, warehouses, and notebooks. It also enables users to create analytics solutions using these items. To begin using the trial, users must add items to their workspace and assign the workspace to their trial capacity using the \"Trial\" license mode. The trial capacity is 64 capacity units (CUs) which allow users to consume 64x60 CU seconds every minute. The Fabric platform aggregates consumption from all experiences and applies it to the reserved capacity. There is no limit on the number of workspaces or items that can be created, only the availability of CUs and the rate of consumption."
      ],
      "text/plain": [
       "<IPython.core.display.HTML object>"
      ]
     },
     "metadata": {},
     "output_type": "display_data"
    },
    {
     "data": {
      "text/html": [
       "<b>Chunk Summary:</b> \n",
       "This document provides an overview of the steps to administer a Fabric (Preview) trial. It outlines how to cancel a trial, how to administer user access, and how to access the Capacity Metrics app. Cancelling a trial will delete the trial capacity, its workspaces, and their contents. Power BI administrators can enable and disable trials for paid features for Power BI and Fabric at a tenant level. Each trial user is the capacity admin for their trial capacity and Microsoft currently doesn't support multiple capacity administrators per trial capacity. The Capacity Metrics app provides a detailed and transparent report for how capacity units are consumed."
      ],
      "text/plain": [
       "<IPython.core.display.HTML object>"
      ]
     },
     "metadata": {},
     "output_type": "display_data"
    },
    {
     "data": {
      "text/html": [
       "<b>Chunk Summary:</b> \n",
       "Power BI administrators are unable to view metrics for individual capacities, however, there are plans to support this capability in an upcoming admin monitoring feature. If the Start trial button is not visible in the Account manager, it may be due to the tenant having exhausted its limit of trial capacities or the Power BI administrator disabling access. In this case, users can purchase a Fabric capacity from Azure, request another trial capacity user to share their trial capacity with them, or reach out to their Power BI administrator to increase the tenant trial capacity limit. Additionally, users are unable to assign a workspace to the trial capacity in Workplace settings."
      ],
      "text/plain": [
       "<IPython.core.display.HTML object>"
      ]
     },
     "metadata": {},
     "output_type": "display_data"
    },
    {
     "data": {
      "text/html": [
       "<b>Chunk Summary:</b> \n",
       "This document explains the known bug that occurs when the Power BI administrator turns off trials after the user has already started a trial. It also explains the impact of region on the Fabric (Preview) trial and how it differs from an individual trial of Power BI paid. To add a workspace to the trial capacity, users should open the Admin portal by selecting it from the gear icon in the top menu bar. Then, they should select Trial > Capacity settings and choose the name of the capacity. If the workspace is not assigned, it should be added here. The home region for the trial capacity is identified by selecting the ? icon on the top menu bar and then choosing About Power BI > About Fabric. The home region is where the data is stored and if it doesn't have Fabric enabled, users won't be able to create any Fabric items in the trial capacity. When Fabric is Generally Available (GA), users can use the Account manager to start a trial and assign their Fabric capacity to a specific region. A per-user trial of Power BI paid allows access to the Fabric landing page."
      ],
      "text/plain": [
       "<IPython.core.display.HTML object>"
      ]
     },
     "metadata": {},
     "output_type": "display_data"
    },
    {
     "data": {
      "text/html": [
       "<b>Chunk Summary:</b> \n",
       "The Fabric (Preview) trial allows users to access non-Power BI experiences and items, and to store Fabric workspaces and items. It is free for users through public preview and does not require customization. However, users cannot create Fabric items in the trial capacity if they or their tenant have private links enabled and public access is disabled. Autoscale is not supported in the trial capacity, but users can purchase a Fabric capacity in Azure if they need more compute capacity. Existing Power BI users do not need an Azure subscription to start a Fabric (Preview) trial."
      ],
      "text/plain": [
       "<IPython.core.display.HTML object>"
      ]
     },
     "metadata": {},
     "output_type": "display_data"
    },
    {
     "data": {
      "text/html": [
       "<b>Chunk Summary:</b> \n",
       "This article provides an overview of Microsoft Fabric terminology, including terms related to Synapse Data Warehouse, Synapse Data Engineering, Synapse Data Science, Synapse Real-Time Analytics, Data Factory, and Power BI. Capacity is a dedicated set of resources available at a given time to be used, and is offered through the Fabric SKU and Trials. Experiences are collections of capabilities targeted to a specific functionality, while an item is a set of capabilities within an experience. Users can create, edit, and delete items within an experience."
      ],
      "text/plain": [
       "<IPython.core.display.HTML object>"
      ]
     },
     "metadata": {},
     "output_type": "display_data"
    },
    {
     "data": {
      "text/html": [
       "<b>Chunk Summary:</b> \n",
       "This document provides an overview of the capabilities of Microsoft Synapse Data Engineering. It explains the concept of tenants, workspaces, lakehouses, notebooks, and Spark job definitions. A tenant is a single instance of Fabric for an organization and is aligned with an Azure Active Directory. A workspace is a collection of items that brings together different functionality in a single environment designed for collaboration. It acts as a container that leverages capacity for the work that is executed, and provides controls for who can access the items in it. A lakehouse is a collection of files, folders, and tables that represent a database over a data lake used by the Apache Spark engine and SQL engine for big data processing. A notebook is a multi-language interactive programming tool with rich functions for authoring code and markdown, running and debugging code, and viewing results. Finally, a Spark job definition is a script that defines the job parameters and execution environment for a Spark job."
      ],
      "text/plain": [
       "<IPython.core.display.HTML object>"
      ]
     },
     "metadata": {},
     "output_type": "display_data"
    },
    {
     "data": {
      "text/html": [
       "<b>Chunk Summary:</b>  Apache Spark is an open-source platform that helps data engineers and data scientists explore, process, and build machine learning experiments with both code and low-code experience. It can be easily transformed to a pipeline activity for orchestration. A Spark application is a program written by a user using one of Spark's API languages (Scala, Python, Spark SQL, or Java) or Microsoft-added languages (.NET with C# or F#). When an application runs, it's divided into one or more Spark jobs that run in parallel to process the data faster. Additionally, a Spark job definition is a set of parameters set by the user, indicating how a Spark application should be run. Data Factory offers a rich set of connectors that allow users to view and visualize results, collaborate with the team, and monitor a Spark job. V-order is a write optimization to the parquet file format that enables fast reads and provides cost efficiency and better performance."
      ],
      "text/plain": [
       "<IPython.core.display.HTML object>"
      ]
     },
     "metadata": {},
     "output_type": "display_data"
    },
    {
     "data": {
      "text/html": [
       "<b>Chunk Summary:</b> \n",
       "Data Factory is a tool used for orchestrating data movement and transformation. It provides a low-code interface for ingesting data from hundreds of data sources and transforming data. Dataflows in Fabric are referred to as Dataflow Gen2, which offers extra capabilities compared to Dataflows in Azure Data Factory or Power BI. Data Wrangler is a notebook-based tool that provides users with an immersive experience to conduct exploratory data analysis. A machine learning experiment is the primary unit of organization and control for all related machine learning runs."
      ],
      "text/plain": [
       "<IPython.core.display.HTML object>"
      ]
     },
     "metadata": {},
     "output_type": "display_data"
    },
    {
     "data": {
      "text/html": [
       "<b>Chunk Summary:</b> \n",
       "This document provides an overview of the various machine learning models, runs, SQL endpoints, Synapse data warehousing, KQL databases, and KQL querysets available in MLflow. A machine learning model is a file trained to recognize certain types of patterns, and a run corresponds to a single execution of model code. SQL endpoints allow users to query delta table data with TSQL over TDS, while Synapse Data Warehouse supports traditional data warehouse capabilities. KQL databases are used to execute KQL queries, and KQL querysets are used to run queries, view results, and manipulate query results."
      ],
      "text/plain": [
       "<IPython.core.display.HTML object>"
      ]
     },
     "metadata": {},
     "output_type": "display_data"
    },
    {
     "data": {
      "text/html": [
       "<b>Chunk Summary:</b> \n",
       "Microsoft Fabric is a platform that provides a centralized place to capture, transform, and route real-time events to destinations with a no-code experience. It also offers shortcuts to connect to existing data without having to directly copy it. End-to-end tutorials are available to help users develop a foundational understanding of the Fabric UI, the various experiences supported by Fabric and their integration points, and the professional and citizen developer experiences that are available. These tutorials guide users through a scenario that covers the entire process, from data acquisition to data consumption. Microsoft Fabric is currently in PREVIEW."
      ],
      "text/plain": [
       "<IPython.core.display.HTML object>"
      ]
     },
     "metadata": {},
     "output_type": "display_data"
    },
    {
     "data": {
      "text/html": [
       "<b>Chunk Summary:</b> \n",
       "This document provides tutorials for multiple Fabric experiences, including Lakehouse, Data Science, Real-Time Analytics, and Data Warehouse. These tutorials cover scenarios such as ingesting, transforming, and loading data into the lakehouse, exploring and cleaning a taxicab trip dataset, analyzing the New York Yellow Taxi trip dataset, and building an end-to-end data warehouse. Additionally, the Power BI tutorial provides instructions on building a dataflow and pipeline to bring data into a lakehouse, create a dimensional model, and generate a report. Microsoft makes no warranties, expressed or implied, with respect to the information provided."
      ],
      "text/plain": [
       "<IPython.core.display.HTML object>"
      ]
     },
     "metadata": {},
     "output_type": "display_data"
    },
    {
     "data": {
      "text/html": [
       "<b>Chunk Summary:</b> \n",
       "This article provides a guide to help you decide between using a copy activity, a dataflow, or Spark for your workloads using Microsoft Fabric. Copy activities are used for data lake and data warehouse migrations, data ingestion, and lightweight transformations. Dataflows are used for ETL and SQL transformations. Spark is used for more complex transformations. The primary developer personas for copy activities are data engineers and data integrators, while the primary developer skill set is ETL, SQL, and JSON. Dataflows require no code or low code. Microsoft Fabric is currently in PREVIEW."
      ],
      "text/plain": [
       "<IPython.core.display.HTML object>"
      ]
     },
     "metadata": {},
     "output_type": "display_data"
    },
    {
     "data": {
      "text/html": [
       "<b>Chunk Summary:</b> \n",
       "For Leo, Dataflow Gen2 is the ideal solution. It provides 30+ connectors for ingesting data from external systems, both on-premises and cloud. It also provides 150+ connectors for data transformation and wrangling, and hundreds of Spark libraries for data profiling. Dataflow Gen2 also supports low-code and no-code development, with a wizard and canvas for easy data transformation and a Power Query for notebook and Spark job definition. Finally, it supports low to high complexity transformation with 300+ transformation functions, and support for native Spark and open-source libraries."
      ],
      "text/plain": [
       "<IPython.core.display.HTML object>"
      ]
     },
     "metadata": {},
     "output_type": "display_data"
    },
    {
     "data": {
      "text/html": [
       "<b>Chunk Summary:</b> \n",
       "Mary is tasked with cleaning and loading data from multiple sources into a common lakehouse as well as Azure SQL DB and ADX. She needs to apply business logics to the data and ensure that it is ready for the respective reporting teams. Mary will use pipeline copy activity to move the data from the sources to the lakehouse, and then use Data Factory to move the data to the other destinations. Data Factory provides high scale data ingestion and can move petabyte-scale data, making it an ideal choice for Mary's task."
      ],
      "text/plain": [
       "<IPython.core.display.HTML object>"
      ]
     },
     "metadata": {},
     "output_type": "display_data"
    },
    {
     "data": {
      "text/html": [
       "<b>Chunk Summary:</b> \n",
       "Adam is a data engineer tasked with building and maintaining data pipelines to extract, transform, and load customer data into a lakehouse. To gain insights into customer experiences, he decides to use Spark to build the extract and transformation logic. He writes a Spark application using Python or Scala to read structured, semi-structured, and unstructured data from OneLake for customer reviews and feedback. The application cleanses, transforms, and writes data to Delta tables in the lakehouse, making the data ready for downstream analytics."
      ],
      "text/plain": [
       "<IPython.core.display.HTML object>"
      ]
     },
     "metadata": {},
     "output_type": "display_data"
    },
    {
     "data": {
      "text/html": [
       "<b>Chunk Summary:</b> \n",
       "This article provides a guide to choosing between a data warehouse and a lakehouse for workloads using Microsoft Fabric. Data warehouses are suitable for structured data with unlimited data volume and are best suited for data warehouse developers and SQL engineers. Lakehouses are suitable for unstructured, semi-structured, and structured data with unlimited data volume and are best suited for data engineers and data scientists. They support up to 100GB of structured data and use Spark (Scala, PySpark, Spark SQL, R) for read and write operations. Data warehouses support multi-table transactions and use T-SQL for read and write operations. Lakehouses support dataflows and T-SQL, as well as Power BI Datamarts. Security is better supported in data warehouses than lakehouses."
      ],
      "text/plain": [
       "<IPython.core.display.HTML object>"
      ]
     },
     "metadata": {},
     "output_type": "display_data"
    },
    {
     "data": {
      "text/html": [
       "<b>Chunk Summary:</b> \n",
       "Susan should use a data warehouse for her project as she is familiar with SQL syntax and functionality and the primary consumers of the data are also skilled with SQL and SQL analytical tools. The data warehouse allows the team to interact primarily with T-SQL, while also allowing any Spark users in the organization to access the data. It also provides support for multi-table transactions, object level, column level, and row level DDL/DML, and built-in RLS editor. It can also be a source for shortcuts and query across lakehouses and warehouse tables."
      ],
      "text/plain": [
       "<IPython.core.display.HTML object>"
      ]
     },
     "metadata": {},
     "output_type": "display_data"
    },
    {
     "data": {
      "text/html": [
       "<b>Chunk Summary:</b> \n",
       "Rob has decided to use a lakehouse to store and model several terabytes of data in Fabric. This allows the data engineering team to use their diverse skills against the data, while allowing the team members who are highly skilled in T-SQL to consume the data. Ash, a citizen developer, is a Power BI developer and needs to build a data product for a business unit. They review the details and decide that a Premium capacity subscription is the best option for their team, as it provides a self-service, no-code capability and data volume under 100 GB."
      ],
      "text/plain": [
       "<IPython.core.display.HTML object>"
      ]
     },
     "metadata": {},
     "output_type": "display_data"
    },
    {
     "data": {
      "text/html": [
       "<b>Chunk Summary:</b>  Microsoft Fabric Home is a prerelease product that provides users with access to items and actions from all the workspaces they have permission to use. On Home, users can view items they have created, as well as items from other workspaces. This article provides an overview of navigating to items and actions from Microsoft Fabric Home, including detailed information about Home for specific product experiences."
      ],
      "text/plain": [
       "<IPython.core.display.HTML object>"
      ]
     },
     "metadata": {},
     "output_type": "display_data"
    },
    {
     "data": {
      "text/html": [
       "<b>Chunk Summary:</b> \n",
       "Microsoft Fabric is a platform that allows users to create, view, and share various items such as apps, lakehouses, warehouses, reports, and more. Home is the main page of the platform and is not workspace-specific. It includes items from many different workspaces and is the best place to start working in Microsoft Fabric. Users can navigate to a workspace by using the nav pane and workspace selector. Home also includes a left navigation pane, a selector for switching product experiences, and a global search feature to quickly find items. Power BI Home is different from the other product experiences and provides more information on its own page."
      ],
      "text/plain": [
       "<IPython.core.display.HTML object>"
      ]
     },
     "metadata": {},
     "output_type": "display_data"
    },
    {
     "data": {
      "text/html": [
       "<b>Chunk Summary:</b> \n",
       "This summary provides an overview of Microsoft Fabric's Home page, which includes a top menu bar, options for creating new items, links to recommended content, and items organized by recent, favorites, and items shared with you. Additionally, it explains that only content that you can access appears on Home, and that searching and using the navigation pane are the best ways to locate items."
      ],
      "text/plain": [
       "<IPython.core.display.HTML object>"
      ]
     },
     "metadata": {},
     "output_type": "display_data"
    },
    {
     "data": {
      "text/html": [
       "<b>Chunk Summary:</b> \n",
       "This article explains how to use the Data Factory navigation pane to find and open workspaces. The navigation pane includes the Workspaces selector, which displays a list of workspaces and allows users to select one to open. Additionally, the name of the currently open workspace is displayed in the bottom section of the nav pane. When a workspace is opened, its name replaces \"My workspace\" and any new items created are added to the open workspace. The navigation pane is available in all Microsoft Fabric product experiences, which include Home, Browse, OneLake data hub, Create, and Workspaces. Users can find and open workspaces by searching for the name or owner, or by selecting the Workspaces icon in the nav pane and choosing the desired workspace."
      ],
      "text/plain": [
       "<IPython.core.display.HTML object>"
      ]
     },
     "metadata": {},
     "output_type": "display_data"
    },
    {
     "data": {
      "text/html": [
       "<b>Chunk Summary:</b>  Microsoft Fabric provides an intuitive user experience for finding and accessing content. The experience selector in the bottom left corner allows users to open product experiences, while the Help pane in the right rail provides context-sensitive help and answers to questions. Searching and sorting is available by item, name, keyword, workspace, and more. The Help pane also displays articles and forum topics related to the current view, allowing users to learn how to use Microsoft Fabric features and terminology."
      ],
      "text/plain": [
       "<IPython.core.display.HTML object>"
      ]
     },
     "metadata": {},
     "output_type": "display_data"
    },
    {
     "data": {
      "text/html": [
       "<b>Chunk Summary:</b>  Home canvas is personalized to your needs. It includes links to the most recent\n",
       "\n",
       "files you've worked on, quick access to your favorite apps, and more.\n",
       "\n",
       "This document provides an overview of the features available on the Microsoft Fabric Home page. It explains how to access the Help pane, Account manager, Notifications center, Settings, and Feedback options. It also describes the personalized content of the Home canvas, which includes links to recent files, favorite apps, and more."
      ],
      "text/plain": [
       "<IPython.core.display.HTML object>"
      ]
     },
     "metadata": {},
     "output_type": "display_data"
    },
    {
     "data": {
      "text/html": [
       "<b>Chunk Summary:</b> \n",
       "This article explains how to use the Fabric Help pane, a feature-aware search engine that quickly finds answers to questions in the Fabric documentation and Fabric community forums. The Help pane displays articles about the actions and features available on the current Fabric screen, making it an ideal self-help tool. Microsoft Fabric is currently in PREVIEW, and this information relates to a prerelease product that may be substantially modified before it's released. Microsoft makes no warranties, expressed or implied, with respect to the information provided."
      ],
      "text/plain": [
       "<IPython.core.display.HTML object>"
      ]
     },
     "metadata": {},
     "output_type": "display_data"
    },
    {
     "data": {
      "text/html": [
       "<b>Chunk Summary:</b> \n",
       "The Help pane is a search engine and feature-aware state that provides users with recommended topics, resources relevant to their current context and location in Fabric, and links to other resources. It has three sections: Feature-aware documents, Forum topics, and Other resources. Feature-aware documents group documents by the features available on the current screen, Forum topics show topics from the community forums related to the features on the current screen, and Other resources has links for feedback and Support. The Help pane is perfect for learning and getting started as it updates based on what the user has selected and where they are in Fabric. Entering a keyword will find relevant information and resources from Microsoft documentation and community forum topics."
      ],
      "text/plain": [
       "<IPython.core.display.HTML object>"
      ]
     },
     "metadata": {},
     "output_type": "display_data"
    },
    {
     "data": {
      "text/html": [
       "<b>Chunk Summary:</b> \n",
       "This article provides an overview of the search capabilities in Microsoft Fabric. It explains how to search for items, filter and sort search results, and use global search. Global search is a powerful search tool that helps you find items quickly and easily. It is available in the upper-right corner of the Fabric interface."
      ],
      "text/plain": [
       "<IPython.core.display.HTML object>"
      ]
     },
     "metadata": {},
     "output_type": "display_data"
    },
    {
     "data": {
      "text/html": [
       "<b>Chunk Summary:</b> \n",
       "Microsoft Fabric provides a global search box at the top of Home that allows users to quickly find items by title, name, or keyword. Search is available from Home and most other areas of Microsoft Fabric, and users can enter all or part of the name of an item, creator, keyword, or workspace. Additionally, most experiences on the Microsoft Fabric canvas include a Filter by keyword field to narrow down the content on the canvas. Search and Filter by keyword help users quickly find the content they need."
      ],
      "text/plain": [
       "<IPython.core.display.HTML object>"
      ]
     },
     "metadata": {},
     "output_type": "display_data"
    },
    {
     "data": {
      "text/html": [
       "<b>Chunk Summary:</b> \n",
       "This article provides an overview of how to use sorting and filtering in Microsoft Fabric. Sorting allows users to quickly locate content within lists by changing the sort criteria, while filtering allows users to narrow down content lists based on type, time, or owner. Microsoft Fabric is currently in PREVIEW and this article provides information on how to use the sorting and filtering features in the prerelease product."
      ],
      "text/plain": [
       "<IPython.core.display.HTML object>"
      ]
     },
     "metadata": {},
     "output_type": "display_data"
    },
    {
     "data": {
      "text/html": [
       "<b>Chunk Summary:</b> \n",
       "The Fabric settings pane provides users with access to various settings that can be configured. In the preferences section, users can set their user preferences, specify the language of the Fabric user interface, manage their account and notifications, and configure settings for their personal use. The resources and extensions section provides links to pages where users can manage personal/group storage, access the Power BI settings page, and configure per-item-type and developer mode settings."
      ],
      "text/plain": [
       "<IPython.core.display.HTML object>"
      ]
     },
     "metadata": {},
     "output_type": "display_data"
    },
    {
     "data": {
      "text/html": [
       "<b>Chunk Summary:</b> \n",
       "This article provides an overview of workspaces in Power BI, which are places to collaborate with colleagues to create collections of Power BI items such as dashboards, datasets, workbooks, reports, datamarts, and dataflows. It explains how to manage connections, on-premises data gateways, embed codes, and virtual networks data gateways. It also explains how to migrate Azure Analysis Services datasets to Power BI Premium. Additionally, it provides links to the Fabric admin portal, Microsoft Purview hub, and documentation to help admins and users with their admin, governance, and compliance tasks."
      ],
      "text/plain": [
       "<IPython.core.display.HTML object>"
      ]
     },
     "metadata": {},
     "output_type": "display_data"
    },
    {
     "data": {
      "text/html": [
       "<b>Chunk Summary:</b> \n",
       "This article provides an overview of workspaces, including how to manage access and settings. It explains how to pin workspaces to the top of the workspace flyout list for easy access, use granular workspace roles for flexible permissions management, navigate to the current workspace from anywhere, and manage workspace settings. Additionally, it covers how to specify a contact list to receive notifications about workspace activity."
      ],
      "text/plain": [
       "<IPython.core.display.HTML object>"
      ]
     },
     "metadata": {},
     "output_type": "display_data"
    },
    {
     "data": {
      "text/html": [
       "<b>Chunk Summary:</b> \n",
       "This document provides instructions on how to open workspace settings and configure the Contact list and Microsoft 365 Group in Microsoft Fabric. The Contact list feature allows users to specify which users receive notifications about issues occurring in the workspace. By default, the creator of the workspace is in the contact list, but other users or groups can be added. The Workspace OneDrive feature allows users to configure a Microsoft 365 Group whose SharePoint document library is available to workspace users. This can be done by creating the Group outside of Microsoft Fabric, such as from OneDrive. However, note that creating Microsoft 365 Groups may be restricted in some environments, and users should contact their IT department if this is the case. Additionally, Microsoft Fabric does not synchronize permissions between users or groups with workspace access and those with Microsoft 365 Group membership. As such, it is recommended to give access to the workspace to the same Microsoft 365 Group whose file library is connected."
      ],
      "text/plain": [
       "<IPython.core.display.HTML object>"
      ]
     },
     "metadata": {},
     "output_type": "display_data"
    },
    {
     "data": {
      "text/html": [
       "<b>Chunk Summary:</b> \n",
       "This document outlines how to configure OneDrive, license mode, Azure connections, and system storage in a workspace. OneDrive can be configured in workspace settings by typing in the name of the Microsoft 365 group. Workspaces are created in the organization's shared capacity by default, but can be assigned to any capacity in the organization. Azure connections can be configured to use Azure Data Lake Gen 2 storage and Azure Log Analytics (LA) connection to collect usage and performance logs. System storage is used to manage dataset storage in individual or shared workspaces."
      ],
      "text/plain": [
       "<IPython.core.display.HTML object>"
      ]
     },
     "metadata": {},
     "output_type": "display_data"
    },
    {
     "data": {
      "text/html": [
       "<b>Chunk Summary:</b> \n",
       "This article provides an overview of workspaces in Microsoft Fabric, including how to create and manage them, as well as how to audit activities related to them. Workspaces provide a secure system storage for users to store and access their own datasets, Excel reports, and items that have been shared with them. As an admin, you can manage users' ability to create workspaces, view the state of all workspaces in the organization, manage, recover, and delete workspaces. Microsoft Fabric audits activities such as creating and deleting folders, as well as other operations."
      ],
      "text/plain": [
       "<IPython.core.display.HTML object>"
      ]
     },
     "metadata": {},
     "output_type": "display_data"
    },
    {
     "data": {
      "text/html": [
       "<b>Chunk Summary:</b>  This article explains how to create workspaces in Microsoft Fabric. Workspaces are collections of items such as lakehouses, warehouses, and reports. To create a workspace, select Workspaces > New workspace and provide a unique name and optional description. Domain contributors can associate the workspace to a domain or change an existing association. Special characters are not supported in workspace names, but can be URL encoded as a workaround. A user or service principal can be a member of up to 1,000 workspaces, and each workspace can contain a maximum of 1,000 datasets or 1,000 reports per dataset."
      ],
      "text/plain": [
       "<IPython.core.display.HTML object>"
      ]
     },
     "metadata": {},
     "output_type": "display_data"
    },
    {
     "data": {
      "text/html": [
       "<b>Chunk Summary:</b> \n",
       "This document provides an overview of the advanced settings available in Power BI workspaces. These settings include Contact list, License mode, and Default storage format. The Contact list allows users to add names of people as contacts for information about the workspace. License mode provides different sets of features for the workspace, and can be changed in the workspace settings. Default storage format enables fast user interactivity and allows large datasets to be enabled with the Large dataset storage format setting. Note that when downgrading the workspace license type from Premium capacity to Pro (Shared capacity), any non-Power BI Fabric items must be removed first."
      ],
      "text/plain": [
       "<IPython.core.display.HTML object>"
      ]
     },
     "metadata": {},
     "output_type": "display_data"
    },
    {
     "data": {
      "text/html": [
       "<b>Chunk Summary:</b> \n",
       "Power BI Template Apps are developed for sharing outside an organization. When this option is selected, a special type of workspace (Template App Workspace) is created. Data used with Power BI is stored in internal storage provided by Power BI, but with the integration of dataflows and Azure Data Lake Storage Gen 2 (ADLS Gen2), dataflows can be stored in an organization's Azure Data Lake Storage Gen2 account. To collaborate with other users, they must be added to roles in the workspace. Pinning workspaces to the top of the workspace flyout list allows for quick access. Workspace roles let users manage who can do what in a Microsoft Fabric workspace."
      ],
      "text/plain": [
       "<IPython.core.display.HTML object>"
      ]
     },
     "metadata": {},
     "output_type": "display_data"
    },
    {
     "data": {
      "text/html": [
       "<b>Chunk Summary:</b> \n",
       "Microsoft Fabric workspaces provide a secure way to divide data lakes into separate containers that can be managed independently. Power BI workspace roles can be extended with additional capabilities such as data integration and data exploration. Access to workspaces is granted by assigning user groups or individuals to one of the workspace roles: Admin, Member, Contributor, or Viewer. Users in these roles have access to the existing Power BI capabilities, as well as additional Microsoft Fabric capabilities such as the ability to view and read content of data pipelines, notebooks, Spark job definitions, ML models and experiments, and Event streams."
      ],
      "text/plain": [
       "<IPython.core.display.HTML object>"
      ]
     },
     "metadata": {},
     "output_type": "display_data"
    },
    {
     "data": {
      "text/html": [
       "<b>Chunk Summary:</b> \n",
       "This article explains how to give users access to workspaces in Power BI. It outlines the roles of Admin, Member, Contributor, and Viewer and the permissions associated with each. It also provides an overview of the security models for OneLake, shortcuts, data warehouses, data engineering, and data science. Finally, it provides a list of next steps for users to take to ensure their data is secure."
      ],
      "text/plain": [
       "<IPython.core.display.HTML object>"
      ]
     },
     "metadata": {},
     "output_type": "display_data"
    },
    {
     "data": {
      "text/html": [
       "<b>Chunk Summary:</b> \n",
       "This document explains how to give access to a workspace in Microsoft Fabric. Workspace creators are automatically admins and can add others to the different roles, such as admins, members, contributors, and viewers. To enforce row-level security, assign the Viewer Role to Microsoft Fabric Pro users. To add or remove access, select Manage Access from the command bar of the workspace page and enter the name or email of the user or group, select a role, and select Add. Access changes take effect the next time the user logs into Microsoft Fabric. To modify access, search for people or groups who already have access and select a role from the drop-down arrow."
      ],
      "text/plain": [
       "<IPython.core.display.HTML object>"
      ]
     },
     "metadata": {},
     "output_type": "display_data"
    },
    {
     "data": {
      "text/html": [
       "<b>Chunk Summary:</b> \n",
       "This article provides an overview of the OneLake data hub, which is a platform that enables users to find, explore, and use the data items in their organization that they have access to. It provides a filterable list of all the data items, a gallery of recommended data items, a way of finding data items by workspace, a way to display only the data items of a selected domain, and an options menu of things users can do with the data item. The data hub also has three tabs to narrow down the list of data items: All, My Data, and Endorsed in Your Organization. All displays data items that users are allowed to find, My Data displays data items that users own, and Endorsed in Your Organization displays endorsed data items in the organization that users are allowed to find. Certified data items are listed first, followed by promoted data items."
      ],
      "text/plain": [
       "<IPython.core.display.HTML object>"
      ]
     },
     "metadata": {},
     "output_type": "display_data"
    },
    {
     "data": {
      "text/html": [
       "<b>Chunk Summary:</b> \n",
       "This overview provides information about the data items list in the Data Hub. The list includes columns such as Name, Endorsement, Owner, Workspace, Refreshed, Next Refresh, and Sensitivity. The Explorer pane can be used to view data items by workspace, and the tiles across the top of the Data Hub can be used to find and explore recommended data items. Additionally, users can access the exact time of the last refresh by viewing the details section on the item's detail page."
      ],
      "text/plain": [
       "<IPython.core.display.HTML object>"
      ]
     },
     "metadata": {},
     "output_type": "display_data"
    },
    {
     "data": {
      "text/html": [
       "<b>Chunk Summary:</b> \n",
       "This document provides information about data items in an organization, including how to display only data items belonging to a particular domain, open an item's options menu, and note that the Explorer pane may list workspaces that the user may not have access to. It also explains that each tile contains information about the item and an options menu for doing things with the item, and that when a recommended tile is selected, the user is taken to the item's details page."
      ],
      "text/plain": [
       "<IPython.core.display.HTML object>"
      ]
     },
     "metadata": {},
     "output_type": "display_data"
    },
    {
     "data": {
      "text/html": [
       "<b>Chunk Summary:</b> \n",
       "Fabric provides two ways to endorse items: promotion and certification. Promotion is a way to highlight items that are valuable and worthwhile for others to use, while certification means that the item meets the organization's quality standards and can be regarded as reliable, authoritative, and ready for use. Promotion can be done by any item owner or anyone with write permissions on the item, while certification is only available to authorized reviewers. Currently, all Fabric items except Power BI dashboards can be endorsed. This article explains how to promote and certify items, as well as how to request certification if you are not an authorized reviewer."
      ],
      "text/plain": [
       "<IPython.core.display.HTML object>"
      ]
     },
     "metadata": {},
     "output_type": "display_data"
    },
    {
     "data": {
      "text/html": [
       "<b>Chunk Summary:</b>  open the settings of the item.\n",
       "\n",
       "2. Expand the endorsement section and select Request certification.\n",
       "\n",
       "3. Select the user or group who you want to certify the item.\n",
       "\n",
       "4. Select Apply.\n",
       "\n",
       "Summary: Item certification is a significant responsibility and only authorized users can certify items. Other users can request item certification by getting write permissions on the item and selecting the user or group who they want to certify the item. To certify a Power BI dataset, expand the endorsement section and select Certified. If the Make discoverable checkbox is present, it means users who don't have access to the dataset can find it. See dataset discovery for more detail."
      ],
      "text/plain": [
       "<IPython.core.display.HTML object>"
      ]
     },
     "metadata": {},
     "output_type": "display_data"
    },
    {
     "data": {
      "text/html": [
       "<b>Chunk Summary:</b> \n",
       "This article assumes that you have already set up sensitivity labels in Microsoft\n",
       "\n",
       "Purview Information Protection.\n",
       "\n",
       "Summary: Microsoft Fabric allows users to apply sensitivity labels to their items in order to protect sensitive data from unauthorized access and leakage. This article provides instructions on how to apply sensitivity labels to Fabric items, and outlines the prerequisites for doing so. It also provides a link to more information about applying sensitivity labels in Power BI Desktop."
      ],
      "text/plain": [
       "<IPython.core.display.HTML object>"
      ]
     },
     "metadata": {},
     "output_type": "display_data"
    },
    {
     "data": {
      "text/html": [
       "<b>Chunk Summary:</b> \n",
       "To apply sensitivity labels to items in Power BI, users must have a Power BI Pro or Premium Per User (PPU) license, and edit permissions on the item they wish to label. There are two common ways of applying a sensitivity label to an item: from the flyout menu in the item header, and in the item settings. If users cannot apply a sensitivity label, or if the sensitivity label is greyed out in the sensitivity label menu, they may not have permissions to use the label and should contact their organization's tech support. For more information, users can refer to the sensitivity label overview."
      ],
      "text/plain": [
       "<IPython.core.display.HTML object>"
      ]
     },
     "metadata": {},
     "output_type": "display_data"
    }
   ],
   "source": [
    "# For the chaintype of MapReduce and Refine, we can also get insight into intermediate steps of the pipeline.\n",
    "# This way you can inspect the results from map_reduce chain type, each top similar chunk summary\n",
    "intermediateSteps = summary['intermediate_steps']\n",
    "for step in intermediateSteps:\n",
    "        display(HTML(\"<b>Chunk Summary:</b> \" + step))"
   ]
  },
  {
   "cell_type": "code",
   "execution_count": null,
   "metadata": {},
   "outputs": [],
   "source": []
  }
 ],
 "metadata": {
  "kernelspec": {
   "display_name": "Python 3",
   "language": "python",
   "name": "python3"
  },
  "language_info": {
   "codemirror_mode": {
    "name": "ipython",
    "version": 3
   },
   "file_extension": ".py",
   "mimetype": "text/x-python",
   "name": "python",
   "nbconvert_exporter": "python",
   "pygments_lexer": "ipython3",
   "version": "3.9.13"
  },
  "orig_nbformat": 4
 },
 "nbformat": 4,
 "nbformat_minor": 2
}
