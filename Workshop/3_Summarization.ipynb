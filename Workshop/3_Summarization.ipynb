{
 "cells": [
  {
   "attachments": {},
   "cell_type": "markdown",
   "metadata": {},
   "source": [
    "### Summarization\n",
    "A common use case is wanting to summarize long documents. This naturally runs into the context window limitations. Unlike in question-answering, you can't just do some semantic search hacks to only select the chunks of text most relevant to the question (because, in this case, there is no particular question - you want to summarize everything). So what do you do then?\n",
    "\n",
    "The most common way around this is to split the documents into chunks and then do summarization in a recursive manner. By this we mean you first summarize each chunk by itself, then you group the summaries into chunks and summarize each chunk of summaries, and continue doing that until only one is left."
   ]
  },
  {
   "attachments": {},
   "cell_type": "markdown",
   "metadata": {},
   "source": [
    "#### Set Environment variables"
   ]
  },
  {
   "cell_type": "code",
   "execution_count": 4,
   "metadata": {},
   "outputs": [],
   "source": [
    "import os  \n",
    "import json  \n",
    "import openai\n",
    "from Utilities.envVars import *\n",
    "\n",
    "# Set Search Service endpoint, index name, and API key from environment variables\n",
    "indexName = SearchIndex\n",
    "\n",
    "# Set OpenAI API key and endpoint\n",
    "openai.api_type = \"azure\"\n",
    "openai.api_version = OpenAiVersion\n",
    "openai_api_key = OpenAiKey\n",
    "assert openai_api_key, \"ERROR: Azure OpenAI Key is missing\"\n",
    "openai.api_key = openai_api_key\n",
    "openAiEndPoint = f\"https://{OpenAiService}.openai.azure.com\"\n",
    "assert openAiEndPoint, \"ERROR: Azure OpenAI Endpoint is missing\"\n",
    "assert \"openai.azure.com\" in openAiEndPoint.lower(), \"ERROR: Azure OpenAI Endpoint should be in the form: \\n\\n\\t<your unique endpoint identifier>.openai.azure.com\"\n",
    "openai.api_base = openAiEndPoint\n",
    "davincimodel = OpenAiDavinci\n"
   ]
  },
  {
   "attachments": {},
   "cell_type": "markdown",
   "metadata": {},
   "source": [
    "#### Summarize the document/PDF (instead of getting that data from Vector store or document reposit)"
   ]
  },
  {
   "cell_type": "code",
   "execution_count": 5,
   "metadata": {},
   "outputs": [],
   "source": [
    "# Import required libraries\n",
    "# Import required libraries\n",
    "from langchain.llms.openai import AzureOpenAI, OpenAI\n",
    "from langchain.embeddings.openai import OpenAIEmbeddings\n",
    "from langchain.text_splitter import RecursiveCharacterTextSplitter\n",
    "from langchain.document_loaders import (\n",
    "    PDFMinerLoader,\n",
    "    UnstructuredFileLoader,\n",
    ")"
   ]
  },
  {
   "cell_type": "code",
   "execution_count": 6,
   "metadata": {},
   "outputs": [],
   "source": [
    "# Flexibility to change the call to OpenAI or Azure OpenAI\n",
    "embeddingModelType = \"openai\"\n",
    "\n",
    "# Set the file name and the namespace for the index\n",
    "fileName = \"Fabric Get Started.pdf\"\n",
    "fabricGetStartedPath = \"Data/PDF/\" + fileName\n",
    "# Load the PDF with Document Loader available from Langchain\n",
    "loader = PDFMinerLoader(fabricGetStartedPath)\n",
    "rawDocs = loader.load()\n",
    "# Set the source \n",
    "for doc in rawDocs:\n",
    "    doc.metadata['source'] = fabricGetStartedPath\n",
    "\n",
    "textSplitter = RecursiveCharacterTextSplitter(chunk_size=1500, chunk_overlap=0)\n",
    "docs = textSplitter.split_documents(rawDocs)"
   ]
  },
  {
   "cell_type": "code",
   "execution_count": 7,
   "metadata": {},
   "outputs": [
    {
     "name": "stdout",
     "output_type": "stream",
     "text": [
      "Number of documents chunks generated from PDF :  58\n"
     ]
    }
   ],
   "source": [
    "print(\"Number of documents chunks generated from PDF : \", len(docs))"
   ]
  },
  {
   "cell_type": "code",
   "execution_count": 8,
   "metadata": {},
   "outputs": [],
   "source": [
    "from langchain.chains.qa_with_sources import load_qa_with_sources_chain\n",
    "from langchain.llms.openai import AzureOpenAI, OpenAI\n",
    "from langchain.embeddings.openai import OpenAIEmbeddings\n",
    "from Utilities.cogSearch import performCogSearch\n",
    "from langchain.docstore.document import Document\n",
    "from langchain.prompts import PromptTemplate\n",
    "from IPython.display import display, HTML\n",
    "from langchain.chains.summarize import load_summarize_chain\n",
    "\n",
    "embeddingModelType = \"openai\"\n",
    "temperature = 0.3\n",
    "tokenLength = 1000\n",
    "\n",
    "if (embeddingModelType == 'azureopenai'):\n",
    "    openai.api_type = \"azure\"\n",
    "    openai.api_key = OpenAiKey\n",
    "    openai.api_version = OpenAiVersion\n",
    "    openai.api_base = f\"https://{OpenAiService}.openai.azure.com\"\n",
    "\n",
    "    llm = AzureOpenAI(deployment_name=OpenAiDavinci,\n",
    "            temperature=temperature,\n",
    "            openai_api_key=OpenAiKey,\n",
    "            max_tokens=tokenLength,\n",
    "            batch_size=10, \n",
    "            max_retries=12)\n",
    "\n",
    "    logging.info(\"LLM Setup done\")\n",
    "    embeddings = OpenAIEmbeddings(model=OpenAiEmbedding, chunk_size=1, openai_api_key=OpenAiKey)\n",
    "elif embeddingModelType == \"openai\":\n",
    "    openai.api_type = \"open_ai\"\n",
    "    openai.api_base = \"https://api.openai.com/v1\"\n",
    "    openai.api_version = '2020-11-07' \n",
    "    openai.api_key = OpenAiApiKey\n",
    "    llm = OpenAI(temperature=temperature,\n",
    "            openai_api_key=OpenAiApiKey,\n",
    "            max_tokens=tokenLength)\n",
    "    embeddings = OpenAIEmbeddings(openai_api_key=OpenAiApiKey)\n"
   ]
  },
  {
   "cell_type": "code",
   "execution_count": null,
   "metadata": {},
   "outputs": [],
   "source": [
    "# Because we have a large document, it is expected that we will run into Token limitation error with code below\n",
    "chainType = \"stuff\"\n",
    "summaryChain = load_summarize_chain(llm, chain_type=chainType)\n",
    "summary = summaryChain.run(docs)\n",
    "print(\"Summary: \", summary)\n"
   ]
  },
  {
   "cell_type": "code",
   "execution_count": 11,
   "metadata": {},
   "outputs": [
    {
     "name": "stdout",
     "output_type": "stream",
     "text": [
      " Microsoft Fabric is a comprehensive analytics solution built on Software as a Service (SaaS) that includes data lake, data engineering, and data integration. It provides users with documentation, tutorials, and context-sensitive help to get started, and offers a trial capacity with full access to all Fabric experiences and features. It also includes a nav pane, Help pane, filterable list of data items, gallery of recommended items, Power BI Home, global search box, sorting and filtering options, workspace accounts, and roles in workspaces.\n"
     ]
    }
   ],
   "source": [
    "# Let's change now the chaintype from stuff to mapreduce and refine to see the summary\n",
    "chainType = \"map_reduce\"\n",
    "summaryChain = load_summarize_chain(llm, chain_type=chainType, return_intermediate_steps=True)\n",
    "summary = summaryChain({\"input_documents\": docs}, return_only_outputs=True)\n",
    "outputAnswer = summary['output_text']\n",
    "print(outputAnswer)"
   ]
  },
  {
   "cell_type": "code",
   "execution_count": 12,
   "metadata": {},
   "outputs": [
    {
     "data": {
      "text/html": [
       "<b>Chunk Summary:</b>  Microsoft Fabric is an all-in-one analytics solution that offers a comprehensive suite of services, including data lake, data engineering, and data integration. It is built on a foundation of Software as a Service (SaaS) and provides an end-to-end, easy-to-use product that simplifies analytics needs. The platform provides documentation to help users get started, including tutorials, context-sensitive help, and how-to guides."
      ],
      "text/plain": [
       "<IPython.core.display.HTML object>"
      ]
     },
     "metadata": {},
     "output_type": "display_data"
    },
    {
     "data": {
      "text/html": [
       "<b>Chunk Summary:</b>  Microsoft Fabric is a prerelease product that brings together components from Power BI, Azure Synapse, and Azure Data Explorer into a single integrated environment. This integration provides an extensive range of deeply integrated analytics, shared experiences across experiences that are familiar and easy to learn, developers can easily access and reuse all assets, a unified data lake, centralized administration and governance across all experiences, and data sensitivity labels inherited automatically across the items in the suite."
      ],
      "text/plain": [
       "<IPython.core.display.HTML object>"
      ]
     },
     "metadata": {},
     "output_type": "display_data"
    },
    {
     "data": {
      "text/html": [
       "<b>Chunk Summary:</b>  Microsoft Fabric is a comprehensive set of analytics experiences designed to work together seamlessly. It includes Data Engineering, Data Factory, and Data Science experiences to help creators produce their best work without needing to manage or understand the underlying infrastructure. It integrates with Azure Machine Learning to provide built-in experiment tracking."
      ],
      "text/plain": [
       "<IPython.core.display.HTML object>"
      ]
     },
     "metadata": {},
     "output_type": "display_data"
    },
    {
     "data": {
      "text/html": [
       "<b>Chunk Summary:</b>  Microsoft Fabric is a data platform that enables data scientists to enrich organizational data with predictions and allows business analysts to integrate those predictions into their BI reports. It features a Data Warehouse with SQL performance and scale, Real-Time Analytics for observational data, and Power BI for business intelligence."
      ],
      "text/plain": [
       "<IPython.core.display.HTML object>"
      ]
     },
     "metadata": {},
     "output_type": "display_data"
    },
    {
     "data": {
      "text/html": [
       "<b>Chunk Summary:</b>  Microsoft Fabric is a comprehensive big data analytics platform that unifies OneLake and lakehouse architecture across enterprises. It is built on top of ADLS (Azure Data Lake Storage) Gen2 and provides a single SaaS experience and a tenant-wide store for data. It simplifies the experiences and eliminates data silos, making it easier for developers to access and use data."
      ],
      "text/plain": [
       "<IPython.core.display.HTML object>"
      ]
     },
     "metadata": {},
     "output_type": "display_data"
    },
    {
     "data": {
      "text/html": [
       "<b>Chunk Summary:</b>  OneLake is a unified storage system for all developers, where discovery and data sharing is easy and compliance with policy and security settings is enforced centrally. It is hierarchical in nature and built into Microsoft Fabric, with one tenant per tenant and workspaces and lakehouses within each tenant. Lakehouses are collections of files, folders, and tables that represent a database over a data lake."
      ],
      "text/plain": [
       "<IPython.core.display.HTML object>"
      ]
     },
     "metadata": {},
     "output_type": "display_data"
    },
    {
     "data": {
      "text/html": [
       "<b>Chunk Summary:</b>  Microsoft Fabric (Preview) trial provides access to the Fabric product experiences, such as Data Engineering, Data Warehouse, Data Factory, Power BI, and Real-Time Analytics. It also allows users to ingest data into their own lakehouses, start processing, analyzing, and collaborating on the data, just like OneDrive in Office. Additionally, shortcuts allow users to easily share data between users and applications without moving or duplicating information, and to compose and analyze data across clouds. Next steps include learning Microsoft Fabric terminology, creating a workspace, navigating to items from the Microsoft Fabric Home page, and end-to-end tutorials."
      ],
      "text/plain": [
       "<IPython.core.display.HTML object>"
      ]
     },
     "metadata": {},
     "output_type": "display_data"
    },
    {
     "data": {
      "text/html": [
       "<b>Chunk Summary:</b>  This document explains how to start a Microsoft Fabric (Preview) trial, which requires a Power BI license. The trial lasts until Fabric General Availability (GA) and is extended for 60 days after GA. Steps to start the trial include navigating to the Fabric homepage, selecting the Account manager, agreeing to the terms, and selecting Start trial. Once the trial capacity is ready, a confirmation message is received and the user can begin working in Fabric."
      ],
      "text/plain": [
       "<IPython.core.display.HTML object>"
      ]
     },
     "metadata": {},
     "output_type": "display_data"
    },
    {
     "data": {
      "text/html": [
       "<b>Chunk Summary:</b>  Microsoft Fabric (Preview) trial is a capacity that provides users with full access to all Fabric experiences and features, as well as OneLake storage up to 1 TB. It also allows users to create workspaces (folders) for projects that support Fabric capabilities. The trial is enabled by a Power BI administrator and can be tracked by an Account manager. The amount of compute resources is based on the SKU."
      ],
      "text/plain": [
       "<IPython.core.display.HTML object>"
      ]
     },
     "metadata": {},
     "output_type": "display_data"
    },
    {
     "data": {
      "text/html": [
       "<b>Chunk Summary:</b>  Fabric (Preview) is a trial capacity that allows users to share and collaborate on Fabric items such as datasets, warehouses, and notebooks. It is provisioned with 64 capacity units (CUs) which allow users to consume 64x60 CU seconds every minute. There is no limit on the number of workspaces or items that can be created, but the rate of consumption of CUs must be taken into account."
      ],
      "text/plain": [
       "<IPython.core.display.HTML object>"
      ]
     },
     "metadata": {},
     "output_type": "display_data"
    },
    {
     "data": {
      "text/html": [
       "<b>Chunk Summary:</b>  As the capacity owner for a Fabric (Preview) trial, you have access to a Capacity Metrics app to monitor how capacity units are consumed. Cancelling the trial will delete the trial capacity and its contents, and prevent users from creating workspaces, sharing Fabric items, and creating analytics solutions. Power BI administrators can enable and disable trials for paid features for Power BI and Fabric, but each trial user is the capacity admin for their trial capacity."
      ],
      "text/plain": [
       "<IPython.core.display.HTML object>"
      ]
     },
     "metadata": {},
     "output_type": "display_data"
    },
    {
     "data": {
      "text/html": [
       "<b>Chunk Summary:</b>  Power BI administrators may disable access to the Fabric (Preview) trial, or the tenant may have exhausted its limit of trial capacities. If the Start trial button is visible in the Account manager, the user may be able to purchase a Fabric capacity from Azure, request another trial capacity user to share their trial capacity with them, or reach out to their Power BI administrator to create a CSS request to increase tenant trial capacity limits. Additionally, administrators cannot view metrics for individual capacities, but this capability is planned to be supported in an upcoming admin monitoring feature."
      ],
      "text/plain": [
       "<IPython.core.display.HTML object>"
      ]
     },
     "metadata": {},
     "output_type": "display_data"
    },
    {
     "data": {
      "text/html": [
       "<b>Chunk Summary:</b>  This known bug occurs when the Power BI administrator turns off trials after they have been started. To add a workspace to the trial capacity, the Admin portal must be opened from the gear icon in the top menu bar. The region of the Fabric (Preview) trial capacity can be identified by selecting the ? icon on the top menu bar and then choosing About Power BI > About Fabric. The Fabric (Preview) trial is different from an individual trial of Power BI paid as it allows access to the Fabric landing page."
      ],
      "text/plain": [
       "<IPython.core.display.HTML object>"
      ]
     },
     "metadata": {},
     "output_type": "display_data"
    },
    {
     "data": {
      "text/html": [
       "<b>Chunk Summary:</b>  The Fabric (Preview) trial allows users to store Fabric workspaces and items and run Fabric experiences. All Power BI rules and experiences remain the same. Private links and public access are not available during the trial. Autoscale is not supported and users do not need an Azure subscription to start the trial. Existing Synapse and Power BI users can sign up for the free trial and start running product experiences immediately."
      ],
      "text/plain": [
       "<IPython.core.display.HTML object>"
      ]
     },
     "metadata": {},
     "output_type": "display_data"
    },
    {
     "data": {
      "text/html": [
       "<b>Chunk Summary:</b>  This article explains how to migrate existing workspaces into a trial capacity using workspace settings and choosing \"Trial\" as the license mode. It also provides definitions of terms used in Microsoft Fabric, including capacity, experience, and item."
      ],
      "text/plain": [
       "<IPython.core.display.HTML object>"
      ]
     },
     "metadata": {},
     "output_type": "display_data"
    },
    {
     "data": {
      "text/html": [
       "<b>Chunk Summary:</b>  In Synapse Data Engineering, a tenant is an instance of Fabric for an organization and a workspace is a collection of items that brings together different functionality in a single environment. A lakehouse is a collection of files, folders, and tables that represent a database over a data lake used by the Apache Spark engine and SQL engine, and a notebook is a multi-language interactive programming tool with rich functions."
      ],
      "text/plain": [
       "<IPython.core.display.HTML object>"
      ]
     },
     "metadata": {},
     "output_type": "display_data"
    },
    {
     "data": {
      "text/html": [
       "<b>Chunk Summary:</b>  Apache Spark is a program used by data engineers and data scientists to explore, process, and build machine learning experiments with both code and low-code experience. It is divided into one or more Spark jobs that run in parallel to process the data faster. It also offers a write optimization to the parquet file format called v-order, which enables fast reads and provides cost efficiency and better performance. Data Factory offers a rich set of connectors to connect to the Spark application."
      ],
      "text/plain": [
       "<IPython.core.display.HTML object>"
      ]
     },
     "metadata": {},
     "output_type": "display_data"
    },
    {
     "data": {
      "text/html": [
       "<b>Chunk Summary:</b>  Data Factory is a platform for orchestrating data movement and transformation. It includes Dataflows, which provide a low-code interface for ingesting data from hundreds of data sources and transforming it. Data Wrangler is a notebook-based tool for exploratory data analysis and machine learning experiments are the primary unit of organization and control for all related machine learning runs. Connectors are available for different types of data stores."
      ],
      "text/plain": [
       "<IPython.core.display.HTML object>"
      ]
     },
     "metadata": {},
     "output_type": "display_data"
    },
    {
     "data": {
      "text/html": [
       "<b>Chunk Summary:</b>  MLflow is a machine learning model that is trained over a set of data and uses an algorithm to learn from it. Synapse Data Warehouse is a traditional data warehouse with full transactional T-SQL capabilities. KQL database and KQL Queryset are used to query and manipulate data from the Data Explorer database, allowing users to save, export, and share queries."
      ],
      "text/plain": [
       "<IPython.core.display.HTML object>"
      ]
     },
     "metadata": {},
     "output_type": "display_data"
    },
    {
     "data": {
      "text/html": [
       "<b>Chunk Summary:</b>  Microsoft Fabric is a platform that provides a centralized place to capture, transform, and route real-time events. It also features shortcuts that point to other file store locations and provides end-to-end tutorials to help users understand the platform and its various experiences. Microsoft Fabric is currently in PREVIEW."
      ],
      "text/plain": [
       "<IPython.core.display.HTML object>"
      ]
     },
     "metadata": {},
     "output_type": "display_data"
    },
    {
     "data": {
      "text/html": [
       "<b>Chunk Summary:</b>  This article provides tutorials for multiple Fabric experiences, such as Lakehouse, Data Science, Real-Time Analytics, and Data Warehouse. It also provides experience-specific tutorials, such as Power BI. The tutorials provide step-by-step instructions on how to ingest, transform, and load data into the lakehouse, build a machine learning model to predict trip duration, analyze the New York Yellow Taxi trip dataset, and build an end-to-end data warehouse."
      ],
      "text/plain": [
       "<IPython.core.display.HTML object>"
      ]
     },
     "metadata": {},
     "output_type": "display_data"
    },
    {
     "data": {
      "text/html": [
       "<b>Chunk Summary:</b>  This article provides a guide for deciding between copy activity, dataflow, or Spark for workloads using Microsoft Fabric. It outlines the use cases, primary developer personas, primary developer skill sets, and code written for each. It also provides an example scenario to help with the decision-making process."
      ],
      "text/plain": [
       "<IPython.core.display.HTML object>"
      ]
     },
     "metadata": {},
     "output_type": "display_data"
    },
    {
     "data": {
      "text/html": [
       "<b>Chunk Summary:</b> \n",
       "\n",
       "Dataflow Gen 2 is a platform that enables data engineers, data scientists, and data developers to ingest, transform, wrangle, and profile data from external systems such as databases, file systems, and APIs. It supports ETL, M, and SQL, and provides a no-code and low-code development interface with wizards and canvases. It offers 30+ connectors for sources and 18+ connectors for destinations, and can handle data volumes from low to high complexity. It also supports 300+ transformations and native Spark functions. This platform is suitable for scenarios such as Leo's, who needs to ingest a large volume of data from external systems without writing and maintaining code."
      ],
      "text/plain": [
       "<IPython.core.display.HTML object>"
      ]
     },
     "metadata": {},
     "output_type": "display_data"
    },
    {
     "data": {
      "text/html": [
       "<b>Chunk Summary:</b>  Mary is a data engineer tasked with cleaning and preparing data from multiple sources for reporting teams. She is using a solution to migrate historical and incremental data into a common lakehouse, and then applying business logics to load it into multiple destinations. She is using copy activity as a low-code/no-code choice to move petabytes of data to lakehouses and warehouses from various sources, either ad-hoc or via a schedule."
      ],
      "text/plain": [
       "<IPython.core.display.HTML object>"
      ]
     },
     "metadata": {},
     "output_type": "display_data"
    },
    {
     "data": {
      "text/html": [
       "<b>Chunk Summary:</b>  Mary is an experienced Power Query user and has decided to use Dataflow Gen 2 as her preferred transformation option for low to medium data volume. Adam is a data engineer for a large retail company and has chosen to use Spark to build the extract and transformation logic in order to perform customer review analytics. He writes a Spark application using Python or Scala to read, cleanse, transform, and write data to Delta tables in the lakehouse."
      ],
      "text/plain": [
       "<IPython.core.display.HTML object>"
      ]
     },
     "metadata": {},
     "output_type": "display_data"
    },
    {
     "data": {
      "text/html": [
       "<b>Chunk Summary:</b>  This article provides a reference guide to help users choose between a data warehouse or a lakehouse for their workloads using Microsoft Fabric. It outlines the properties of each, including data volume, type of data, primary developer persona, primary developer skill set, citizen developer, read and write operations, multi-table transactions, primary development interface, and security. It is important to note that Microsoft Fabric is currently in PREVIEW."
      ],
      "text/plain": [
       "<IPython.core.display.HTML object>"
      ]
     },
     "metadata": {},
     "output_type": "display_data"
    },
    {
     "data": {
      "text/html": [
       "<b>Chunk Summary:</b>  Susan, a professional developer, is new to Microsoft Fabric and needs to decide between building a data warehouse or a lakehouse. After review of the details, the primary decision points are the available skill set and the need for multi-table transactions. Susan has experience with data warehouses and SQL, and the primary consumers of the data are also skilled with SQL and SQL analytical tools, so she decides to use a data warehouse. This allows the team to interact primarily with T-SQL, while also allowing any Spark users in the organization to access the data."
      ],
      "text/plain": [
       "<IPython.core.display.HTML object>"
      ]
     },
     "metadata": {},
     "output_type": "display_data"
    },
    {
     "data": {
      "text/html": [
       "<b>Chunk Summary:</b>  Rob, a data engineer, needs to store and model several terabytes of data in Fabric. He decides to use a lakehouse, which allows the data engineering team to use their diverse skills against the data. Ash, a citizen developer, is a Power BI developer and needs to build a data product for a business unit. They decide to use a Premium capacity subscription, as the primary consumers of this data are analysts familiar with no-code."
      ],
      "text/plain": [
       "<IPython.core.display.HTML object>"
      ]
     },
     "metadata": {},
     "output_type": "display_data"
    },
    {
     "data": {
      "text/html": [
       "<b>Chunk Summary:</b> \n",
       "\n",
       "This article provides a high-level overview of navigating items and actions from Microsoft Fabric Home. It explains that each product experience has its own Home, and describes the similarities they all share. Ash decides to use a Power BI datamart to interact and build the capability fast, using a no-code experience. Queries can be executed via Power BI and T-SQL, and Spark users can access the data as well. The article also provides an introduction to data warehousing and lakehouses in Microsoft Fabric, and how to create them."
      ],
      "text/plain": [
       "<IPython.core.display.HTML object>"
      ]
     },
     "metadata": {},
     "output_type": "display_data"
    },
    {
     "data": {
      "text/html": [
       "<b>Chunk Summary:</b>  Microsoft Fabric is a platform for creating and sharing items such as apps, lakehouses, warehouses, reports, and more. Home is the best place to start working in Microsoft Fabric, but users can also navigate directly to a workspace. Home includes the left navigation pane, the selector for switching product experiences, and global search to quickly find content. Power BI Home is different from the other product experiences."
      ],
      "text/plain": [
       "<IPython.core.display.HTML object>"
      ]
     },
     "metadata": {},
     "output_type": "display_data"
    },
    {
     "data": {
      "text/html": [
       "<b>Chunk Summary:</b>  Microsoft Fabric offers various ways to locate and view content, such as searching, using the navigation pane, or selecting a card on the Home canvas. The top menu bar provides a way to orient oneself, find items, get help, and send feedback. The Account manager control is a critical icon for looking up account information and managing the Fabric trial. Options for creating new items and links to recommended content are also available. Items are organized by recent, favorites, and items shared with others. Access to content is dependent on permissions, and if a subscription or license changes, a prompt will appear to start a trial or upgrade the license."
      ],
      "text/plain": [
       "<IPython.core.display.HTML object>"
      ]
     },
     "metadata": {},
     "output_type": "display_data"
    },
    {
     "data": {
      "text/html": [
       "<b>Chunk Summary:</b>  The Data Factory nav pane helps users quickly get to their items. The default view includes the Workspaces selector and My workspace. When a workspace is opened, its name replaces My workspace. The nav pane includes Home, Browse, OneLake data hub, Create, and Workspaces. Workspaces are places to collaborate and create items such as lakehouses, warehouses, and reports. Users can search for workspaces by name or owner, or select the Workspaces icon in the nav pane. When a workspace is opened, its name is listed on the canvas."
      ],
      "text/plain": [
       "<IPython.core.display.HTML object>"
      ]
     },
     "metadata": {},
     "output_type": "display_data"
    },
    {
     "data": {
      "text/html": [
       "<b>Chunk Summary:</b>  Microsoft Fabric provides a nav pane to view content such as notebooks, pipelines, reports, and lakehouses. The experience selector in the bottom left corner allows users to open other product experiences. Search, sort, and filter options are available to find content. The Help pane provides context sensitive help and suggested topics to learn how to use Microsoft Fabric features and terminology."
      ],
      "text/plain": [
       "<IPython.core.display.HTML object>"
      ]
     },
     "metadata": {},
     "output_type": "display_data"
    },
    {
     "data": {
      "text/html": [
       "<b>Chunk Summary:</b>  The Help pane in Microsoft Fabric is a great place to search for answers to questions. It also provides links to ask the community for help, connect with Microsoft Fabric Support, view account and license information, access the Notifications center, Settings, and Feedback options, and explore the Home canvas."
      ],
      "text/plain": [
       "<IPython.core.display.HTML object>"
      ]
     },
     "metadata": {},
     "output_type": "display_data"
    },
    {
     "data": {
      "text/html": [
       "<b>Chunk Summary:</b>  Power BI Home is a feature that allows users to create new items, view recommended items, recents, favorites, and content shared with them. It also includes a Help pane which is feature-aware and provides articles about the actions and features available on the current Fabric screen, as well as a search engine to quickly find answers to questions in the Fabric documentation and Fabric community forums. Microsoft Fabric is currently in PREVIEW."
      ],
      "text/plain": [
       "<IPython.core.display.HTML object>"
      ]
     },
     "metadata": {},
     "output_type": "display_data"
    },
    {
     "data": {
      "text/html": [
       "<b>Chunk Summary:</b>  The Help pane in Fabric is a search engine that provides feature-aware documents, forum topics, and other resources related to the current context and location in Fabric. It is a great way to learn how to use Fabric by making selections and reading the feature-aware documents."
      ],
      "text/plain": [
       "<IPython.core.display.HTML object>"
      ]
     },
     "metadata": {},
     "output_type": "display_data"
    },
    {
     "data": {
      "text/html": [
       "<b>Chunk Summary:</b> \n",
       "The Help pane in Microsoft Fabric provides users with articles, forum posts, and other resources to help them learn about the data hub. Users can open the Help pane, browse recent features, search for keywords, and submit questions or ideas. Additionally, there is a global search feature that helps users find content in long lists. Microsoft Fabric is currently in PREVIEW."
      ],
      "text/plain": [
       "<IPython.core.display.HTML object>"
      ]
     },
     "metadata": {},
     "output_type": "display_data"
    },
    {
     "data": {
      "text/html": [
       "<b>Chunk Summary:</b>  Microsoft Fabric provides a global search box at the top of Home to quickly find items by title, name, or keyword. Additionally, most experiences on the Microsoft Fabric canvas include a Filter by keyword field to narrow down the content on the canvas. Microsoft makes no warranties with respect to the information provided."
      ],
      "text/plain": [
       "<IPython.core.display.HTML object>"
      ]
     },
     "metadata": {},
     "output_type": "display_data"
    },
    {
     "data": {
      "text/html": [
       "<b>Chunk Summary:</b>  Microsoft Fabric provides sorting and filtering options to help users quickly locate content. Sorting is available in many areas of Fabric and can be set by selecting a column header. Filtering is also available and depends on the location in Fabric. This article provides an overview of these features and important information about the Fabric preview."
      ],
      "text/plain": [
       "<IPython.core.display.HTML object>"
      ]
     },
     "metadata": {},
     "output_type": "display_data"
    },
    {
     "data": {
      "text/html": [
       "<b>Chunk Summary:</b>  This article explains how to open the Fabric settings pane and the different settings that can be accessed from there, such as preferences, item settings, developer settings, and resources and extensions. Preferences include language settings, account management, and notifications. Resources and extensions include personal/group storage management and Power BI settings."
      ],
      "text/plain": [
       "<IPython.core.display.HTML object>"
      ]
     },
     "metadata": {},
     "output_type": "display_data"
    },
    {
     "data": {
      "text/html": [
       "<b>Chunk Summary:</b>  Workspaces are places to collaborate with colleagues to create collections of items such as Power BI dashboards, datasets, workbooks, reports, datamarts, and dataflows. The Manage page allows users to manage connections, on-premises data gateways, embed codes, and virtual networks data gateways. The Azure Analysis Services page allows users to migrate their Azure Analysis Services datasets to Power BI Premium. The Governance and Insights section provides links to help admins and users with their admin, governance, and compliance tasks. The Fabric admin portal and Microsoft Purview hub are available to Power BI admins to view Purview insights and configure Fabric tenant settings."
      ],
      "text/plain": [
       "<IPython.core.display.HTML object>"
      ]
     },
     "metadata": {},
     "output_type": "display_data"
    },
    {
     "data": {
      "text/html": [
       "<b>Chunk Summary:</b>  This article provides tips on how to manage workspaces, such as pinning workspaces to the top of the list, using granular workspace roles, navigating to the current workspace, and updating workspace settings. It also explains how to use the contact list to receive notifications about workspace activity."
      ],
      "text/plain": [
       "<IPython.core.display.HTML object>"
      ]
     },
     "metadata": {},
     "output_type": "display_data"
    },
    {
     "data": {
      "text/html": [
       "<b>Chunk Summary:</b>  The Workspace Contact List feature allows users to specify which users receive notifications about issues occurring in the workspace. The Workspace OneDrive feature allows users to configure a Microsoft 365 Group whose SharePoint document library is available to workspace users. It is important to note that creating Microsoft 365 Groups may be restricted in some environments and that permissions between users or groups with workspace access and users or groups with Microsoft 365 Group membership are not synchronized."
      ],
      "text/plain": [
       "<IPython.core.display.HTML object>"
      ]
     },
     "metadata": {},
     "output_type": "display_data"
    },
    {
     "data": {
      "text/html": [
       "<b>Chunk Summary:</b>  You can configure OneDrive in workspace settings by typing in the name of the Microsoft 365 group you created earlier. Workspaces can be assigned to any capacity in your organization, and workspace admins can configure dataflow storage to use Azure Data Lake Gen 2 storage and Azure Log Analytics (LA) connection to collect usage and performance logs. Additionally, you can bring your own storage to dataflows and establish a connection at the workspace level. System storage is the place to manage your dataset storage in your individual or organization's capacity."
      ],
      "text/plain": [
       "<IPython.core.display.HTML object>"
      ]
     },
     "metadata": {},
     "output_type": "display_data"
    },
    {
     "data": {
      "text/html": [
       "<b>Chunk Summary:</b> \n",
       "\n",
       "This article provides an overview of workspace accounts, how to free up storage, how to delete a workspace, and how to administer and audit workspaces. Microsoft Fabric admins can manage users' ability to create workspaces, manage and delete workspaces, and audit activities such as creating and deleting folders."
      ],
      "text/plain": [
       "<IPython.core.display.HTML object>"
      ]
     },
     "metadata": {},
     "output_type": "display_data"
    },
    {
     "data": {
      "text/html": [
       "<b>Chunk Summary:</b>  This article explains how to create workspaces in Microsoft Fabric. It provides instructions on how to give the workspace a unique name, provide a description, and assign the workspace to a domain. It also outlines the limitations and considerations to be aware of when creating workspaces."
      ],
      "text/plain": [
       "<IPython.core.display.HTML object>"
      ]
     },
     "metadata": {},
     "output_type": "display_data"
    },
    {
     "data": {
      "text/html": [
       "<b>Chunk Summary:</b>  The Advanced Settings section of Power BI Workspace Settings allows users to add contacts to a contact list, change the license mode, and set the default storage format. Depending on the license mode, users may need to remove non-Power BI Fabric items before downgrading the workspace license type. Large datasets can be enabled with the Large dataset storage format setting."
      ],
      "text/plain": [
       "<IPython.core.display.HTML object>"
      ]
     },
     "metadata": {},
     "output_type": "display_data"
    },
    {
     "data": {
      "text/html": [
       "<b>Chunk Summary:</b>  Power BI template apps are developed for sharing outside an organization, and data used with Power BI is stored in internal storage provided by Power BI. Users can also store dataflows in their organization's Azure Data Lake Storage Gen2 account. Users can give other users access to the workspace and pin workspaces to the top of the workspace flyout list. Roles in workspaces let users manage who can do what in a Microsoft Fabric workspace."
      ],
      "text/plain": [
       "<IPython.core.display.HTML object>"
      ]
     },
     "metadata": {},
     "output_type": "display_data"
    },
    {
     "data": {
      "text/html": [
       "<b>Chunk Summary:</b>  Microsoft Fabric workspaces sit on top of OneLake and divide the data lake into separate containers that can be secured independently. Workspace roles in Microsoft Fabric extend the Power BI workspace roles by associating new Microsoft Fabric capabilities such as data integration and data exploration with existing workspace roles. Users in workspace roles have the ability to view and read content of data pipelines, notebooks, Spark job definitions, ML models and experiments, and Event streams."
      ],
      "text/plain": [
       "<IPython.core.display.HTML object>"
      ]
     },
     "metadata": {},
     "output_type": "display_data"
    },
    {
     "data": {
      "text/html": [
       "<b>Chunk Summary:</b>  This article outlines the capabilities and next steps of roles in workspaces in Power BI, including the ability to view and read content of KQL databases, KQL query-sets, and real-time dashboards, connect to SQL endpoints of Lakehouse and Data warehouse, read and write data pipelines, notebooks, Spark job definitions, ML models and experiments, and Event streams, and grant viewers granular SQL permissions to read Lakehouse and Data warehouse data. It also outlines the next steps of creating workspaces, giving users access to workspaces, and understanding OneLake security, OneLake shortcuts, Data warehouse security, Data engineering security, and Data science roles and permissions."
      ],
      "text/plain": [
       "<IPython.core.display.HTML object>"
      ]
     },
     "metadata": {},
     "output_type": "display_data"
    },
    {
     "data": {
      "text/html": [
       "<b>Chunk Summary:</b>  Microsoft Fabric allows users to give others access to their workspace by assigning them different roles. Workspace creators are automatically admins. To enforce row-level security, assign the Viewer Role. Access changes only take effect when the user logs in. To add people or groups, enter their name or email, select a role, and add. Access can be viewed and modified later if needed."
      ],
      "text/plain": [
       "<IPython.core.display.HTML object>"
      ]
     },
     "metadata": {},
     "output_type": "display_data"
    },
    {
     "data": {
      "text/html": [
       "<b>Chunk Summary:</b>  The OneLake data hub provides an easy way to find, explore, and use Fabric data items. It includes a filterable list of all the data items you can access, a gallery of recommended data items, a way of finding data items by workspace, and a way to display only the data items of a selected domain. It also has three tabs to narrow down the list of data items: All, My Data, and Endorsed in your organization."
      ],
      "text/plain": [
       "<IPython.core.display.HTML object>"
      ]
     },
     "metadata": {},
     "output_type": "display_data"
    },
    {
     "data": {
      "text/html": [
       "<b>Chunk Summary:</b>  This article explains how to use the Endorsement overview to view data items in an organization. It describes the columns of the list, such as Name, Endorsement, Owner, Workspace, Refreshed, Next Refresh, and Sensitivity. It also explains how to find items by workspace and recommended items."
      ],
      "text/plain": [
       "<IPython.core.display.HTML object>"
      ]
     },
     "metadata": {},
     "output_type": "display_data"
    },
    {
     "data": {
      "text/html": [
       "<b>Chunk Summary:</b> \n",
       "\n",
       "The data hub enables users to view recommended data items, and filter them by domain. Each item has an options menu which provides different actions depending on the item and user permissions. The Explorer pane may list workspaces that the user does not have access to, but will still be able to view items within the workspace that they do have access to."
      ],
      "text/plain": [
       "<IPython.core.display.HTML object>"
      ]
     },
     "metadata": {},
     "output_type": "display_data"
    },
    {
     "data": {
      "text/html": [
       "<b>Chunk Summary:</b>  Microsoft Fabric provides two ways to endorse items: promotion and certification. Promotion is done by anyone with write permissions on the item, while certification is done by authorized reviewers. This article explains how to promote and certify items, as well as how to request certification if you are not an authorized reviewer."
      ],
      "text/plain": [
       "<IPython.core.display.HTML object>"
      ]
     },
     "metadata": {},
     "output_type": "display_data"
    },
    {
     "data": {
      "text/html": [
       "<b>Chunk Summary:</b>  This article outlines how to promote and certify items in Power BI. It explains how to get write permissions on the item, review it to ensure it meets certification standards, and then select Promoted or Certified in the endorsement section. It also explains how to request item certification if you are not authorized to certify it."
      ],
      "text/plain": [
       "<IPython.core.display.HTML object>"
      ]
     },
     "metadata": {},
     "output_type": "display_data"
    },
    {
     "data": {
      "text/html": [
       "<b>Chunk Summary:</b>  This article provides instructions on how to apply sensitivity labels to Microsoft Fabric items. It explains how to open the settings of the item, expand the endorsement section, and select the link about how to get the item certified. It also provides information about dataset discoverability, prerequisites, and how to apply sensitivity labels in Power BI Desktop."
      ],
      "text/plain": [
       "<IPython.core.display.HTML object>"
      ]
     },
     "metadata": {},
     "output_type": "display_data"
    },
    {
     "data": {
      "text/html": [
       "<b>Chunk Summary:</b>  To apply sensitivity labels to Fabric items, users must have Power BI Pro or Premium Per User (PPU) license, edit permissions on the item, and select the sensitivity indication in the header or open the item's settings to find the sensitivity section and choose the desired label. If the sensitivity label is greyed out, contact tech support."
      ],
      "text/plain": [
       "<IPython.core.display.HTML object>"
      ]
     },
     "metadata": {},
     "output_type": "display_data"
    }
   ],
   "source": [
    "# For the chaintype of MapReduce and Refine, we can also get insight into intermediate steps of the pipeline.\n",
    "# This way you can inspect the results from map_reduce chain type, each top similar chunk summary\n",
    "intermediateSteps = summary['intermediate_steps']\n",
    "for step in intermediateSteps:\n",
    "        display(HTML(\"<b>Chunk Summary:</b> \" + step))"
   ]
  },
  {
   "cell_type": "code",
   "execution_count": null,
   "metadata": {},
   "outputs": [],
   "source": []
  }
 ],
 "metadata": {
  "kernelspec": {
   "display_name": "Python 3",
   "language": "python",
   "name": "python3"
  },
  "language_info": {
   "codemirror_mode": {
    "name": "ipython",
    "version": 3
   },
   "file_extension": ".py",
   "mimetype": "text/x-python",
   "name": "python",
   "nbconvert_exporter": "python",
   "pygments_lexer": "ipython3",
   "version": "3.9.13"
  },
  "orig_nbformat": 4
 },
 "nbformat": 4,
 "nbformat_minor": 2
}
