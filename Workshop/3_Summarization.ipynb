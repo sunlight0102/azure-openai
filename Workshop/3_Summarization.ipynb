{
 "cells": [
  {
   "attachments": {},
   "cell_type": "markdown",
   "metadata": {},
   "source": [
    "### Summarization\n",
    "A common use case is wanting to summarize long documents. This naturally runs into the context window limitations. Unlike in question-answering, you can't just do some semantic search hacks to only select the chunks of text most relevant to the question (because, in this case, there is no particular question - you want to summarize everything). So what do you do then?\n",
    "\n",
    "The most common way around this is to split the documents into chunks and then do summarization in a recursive manner. By this we mean you first summarize each chunk by itself, then you group the summaries into chunks and summarize each chunk of summaries, and continue doing that until only one is left."
   ]
  },
  {
   "attachments": {},
   "cell_type": "markdown",
   "metadata": {},
   "source": [
    "#### Set Environment variables"
   ]
  },
  {
   "cell_type": "code",
   "execution_count": 1,
   "metadata": {},
   "outputs": [],
   "source": [
    "import os  \n",
    "import json  \n",
    "import openai\n",
    "from Utilities.envVars import *\n",
    "\n",
    "# Set Search Service endpoint, index name, and API key from environment variables\n",
    "indexName = SearchIndex\n",
    "\n",
    "# Set OpenAI API key and endpoint\n",
    "openai.api_type = \"azure\"\n",
    "openai.api_version = OpenAiVersion\n",
    "openai_api_key = OpenAiKey\n",
    "assert openai_api_key, \"ERROR: Azure OpenAI Key is missing\"\n",
    "openai.api_key = openai_api_key\n",
    "openAiEndPoint = f\"https://{OpenAiService}.openai.azure.com\"\n",
    "assert openAiEndPoint, \"ERROR: Azure OpenAI Endpoint is missing\"\n",
    "assert \"openai.azure.com\" in openAiEndPoint.lower(), \"ERROR: Azure OpenAI Endpoint should be in the form: \\n\\n\\t<your unique endpoint identifier>.openai.azure.com\"\n",
    "openai.api_base = openAiEndPoint\n",
    "davincimodel = OpenAiDavinci\n"
   ]
  },
  {
   "attachments": {},
   "cell_type": "markdown",
   "metadata": {},
   "source": [
    "#### Summarize the document/PDF (instead of getting that data from Vector store or document reposit)"
   ]
  },
  {
   "cell_type": "code",
   "execution_count": 5,
   "metadata": {},
   "outputs": [],
   "source": [
    "# Import required libraries\n",
    "# Import required libraries\n",
    "from langchain.llms.openai import AzureOpenAI, OpenAI\n",
    "from langchain.embeddings.openai import OpenAIEmbeddings\n",
    "from langchain.text_splitter import RecursiveCharacterTextSplitter\n",
    "from langchain.document_loaders import (\n",
    "    PDFMinerLoader,\n",
    "    UnstructuredFileLoader,\n",
    ")"
   ]
  },
  {
   "cell_type": "code",
   "execution_count": 6,
   "metadata": {},
   "outputs": [],
   "source": [
    "# Set the file name and the namespace for the index\n",
    "fileName = \"Fabric Get Started.pdf\"\n",
    "fabricGetStartedPath = \"Data/PDF/\" + fileName\n",
    "# Load the PDF with Document Loader available from Langchain\n",
    "loader = PDFMinerLoader(fabricGetStartedPath)\n",
    "rawDocs = loader.load()\n",
    "# Set the source \n",
    "for doc in rawDocs:\n",
    "    doc.metadata['source'] = fabricGetStartedPath\n",
    "\n",
    "textSplitter = RecursiveCharacterTextSplitter(chunk_size=1500, chunk_overlap=0)\n",
    "docs = textSplitter.split_documents(rawDocs)"
   ]
  },
  {
   "cell_type": "code",
   "execution_count": 7,
   "metadata": {},
   "outputs": [
    {
     "name": "stdout",
     "output_type": "stream",
     "text": [
      "Number of documents chunks generated from PDF :  58\n"
     ]
    }
   ],
   "source": [
    "print(\"Number of documents chunks generated from PDF : \", len(docs))"
   ]
  },
  {
   "cell_type": "code",
   "execution_count": 12,
   "metadata": {},
   "outputs": [],
   "source": [
    "from langchain.chains.qa_with_sources import load_qa_with_sources_chain\n",
    "from langchain.llms.openai import AzureOpenAI, OpenAI\n",
    "from langchain.embeddings.openai import OpenAIEmbeddings\n",
    "from Utilities.cogSearch import performCogSearch\n",
    "from langchain.docstore.document import Document\n",
    "from langchain.prompts import PromptTemplate\n",
    "from IPython.display import display, HTML\n",
    "from langchain.chains.summarize import load_summarize_chain\n",
    "\n",
    "# Flexibility to change the call to OpenAI or Azure OpenAI\n",
    "embeddingModelType = \"azureopenai\"\n",
    "temperature = 0.3\n",
    "tokenLength = 1000\n",
    "\n",
    "if (embeddingModelType == 'azureopenai'):\n",
    "    openai.api_type = \"azure\"\n",
    "    openai.api_key = OpenAiKey\n",
    "    openai.api_version = OpenAiVersion\n",
    "    openai.api_base = f\"https://{OpenAiService}.openai.azure.com\"\n",
    "\n",
    "    llm = AzureOpenAI(deployment_name=OpenAiDavinci,\n",
    "            temperature=temperature,\n",
    "            openai_api_key=OpenAiKey,\n",
    "            max_tokens=tokenLength,\n",
    "            batch_size=10, \n",
    "            max_retries=12)\n",
    "\n",
    "    logging.info(\"LLM Setup done\")\n",
    "    embeddings = OpenAIEmbeddings(model=OpenAiEmbedding, chunk_size=1, openai_api_key=OpenAiKey)\n",
    "elif embeddingModelType == \"openai\":\n",
    "    openai.api_type = \"open_ai\"\n",
    "    openai.api_base = \"https://api.openai.com/v1\"\n",
    "    openai.api_version = '2020-11-07' \n",
    "    openai.api_key = OpenAiApiKey\n",
    "    llm = OpenAI(temperature=temperature,\n",
    "            openai_api_key=OpenAiApiKey,\n",
    "            max_tokens=tokenLength)\n",
    "    embeddings = OpenAIEmbeddings(openai_api_key=OpenAiApiKey)\n"
   ]
  },
  {
   "cell_type": "code",
   "execution_count": null,
   "metadata": {},
   "outputs": [],
   "source": [
    "# Because we have a large document, it is expected that we will run into Token limitation error with code below\n",
    "chainType = \"stuff\"\n",
    "summaryChain = load_summarize_chain(llm, chain_type=chainType)\n",
    "summary = summaryChain.run(docs)\n",
    "print(\"Summary: \", summary)\n"
   ]
  },
  {
   "cell_type": "code",
   "execution_count": null,
   "metadata": {},
   "outputs": [],
   "source": [
    "# Let's change now the chaintype from stuff to mapreduce and refine to see the summary\n",
    "chainType = \"map_reduce\"\n",
    "summaryChain = load_summarize_chain(llm, chain_type=chainType, return_intermediate_steps=True)\n",
    "summary = summaryChain({\"input_documents\": docs}, return_only_outputs=True)\n",
    "outputAnswer = summary['output_text']\n",
    "print(outputAnswer)"
   ]
  },
  {
   "cell_type": "code",
   "execution_count": 8,
   "metadata": {},
   "outputs": [
    {
     "data": {
      "text/html": [
       "<b>Chunk Summary:</b> \n",
       "\n",
       "Microsoft Fabric is an all-in-one analytics solution for enterprises that offers a comprehensive suite of services, such as data lake, data engineering, and data integration. It is built on a foundation of Software as a Service (SaaS) and provides an end-to-end, easy-to-use product to simplify analytics needs. The platform also includes documentation and tutorials to help users get started."
      ],
      "text/plain": [
       "<IPython.core.display.HTML object>"
      ]
     },
     "metadata": {},
     "output_type": "display_data"
    },
    {
     "data": {
      "text/html": [
       "<b>Chunk Summary:</b>  Microsoft Fabric is a prerelease product that brings together existing and new components from Power BI, Azure Synapse, and Azure Data Explorer into a single integrated environment. It provides an extensive range of deeply integrated analytics, shared experiences across experiences, easy access and reuse of assets, a unified data lake, centralized administration, and governance. IT teams can centrally configure core enterprise capabilities and data sensitivity labels are inherited automatically."
      ],
      "text/plain": [
       "<IPython.core.display.HTML object>"
      ]
     },
     "metadata": {},
     "output_type": "display_data"
    },
    {
     "data": {
      "text/html": [
       "<b>Chunk Summary:</b>  Microsoft Fabric is a comprehensive set of analytics experiences designed to work together seamlessly. It includes Data Engineering, Data Factory, and Data Science experiences tailored to specific personas and tasks. It integrates with Azure Machine Learning to provide built-in experiment tracking and allows creators to focus on producing their best work without having to manage the underlying infrastructure."
      ],
      "text/plain": [
       "<IPython.core.display.HTML object>"
      ]
     },
     "metadata": {},
     "output_type": "display_data"
    },
    {
     "data": {
      "text/html": [
       "<b>Chunk Summary:</b>  Microsoft Fabric is a data platform that provides industry-leading SQL performance and scale, natively stores data in the open Delta Lake format, and offers a best-in-class engine for observational data analytics. Additionally, it provides Power BI, the world's leading Business Intelligence platform, to enable business owners to access data quickly and intuitively. Data scientists are empowered to enrich organizational data with predictions and allow business analysts to integrate those predictions into their BI reports."
      ],
      "text/plain": [
       "<IPython.core.display.HTML object>"
      ]
     },
     "metadata": {},
     "output_type": "display_data"
    },
    {
     "data": {
      "text/html": [
       "<b>Chunk Summary:</b>  Microsoft Fabric is a big data analytics platform that unifies OneLake and lakehouse architecture across enterprises. It is built on top of ADLS (Azure Data Lake Storage) Gen2 and provides a single SaaS experience and tenant-wide store for data. It simplifies the experiences and eliminates the need for users to understand any infrastructure concepts, and does not require an Azure account. It eliminates data silos and provides a unified platform for comprehensive big data analytics."
      ],
      "text/plain": [
       "<IPython.core.display.HTML object>"
      ]
     },
     "metadata": {},
     "output_type": "display_data"
    },
    {
     "data": {
      "text/html": [
       "<b>Chunk Summary:</b>  OneLake is a unified storage system that simplifies data management and sharing across an organization, with no up-front provisioning required. It is hierarchical in nature and is divided into tenants, workspaces, and lakehouses. It provides a single-pane-of-glass file-system namespace that spans across users, regions, and clouds. Every developer and business unit in the tenant can instantly create their own isolated storage accounts."
      ],
      "text/plain": [
       "<IPython.core.display.HTML object>"
      ]
     },
     "metadata": {},
     "output_type": "display_data"
    },
    {
     "data": {
      "text/html": [
       "<b>Chunk Summary:</b>  Microsoft Fabric (Preview) trial provides access to the Fabric product experiences, including OneLake workspaces which allow users to ingest data, process, analyze and collaborate on the data. Additionally, shortcuts allow users to access data stored in Azure Data Lake Storage and share data between users and applications without moving or duplicating information. The trial includes access to end-to-end tutorials in Microsoft Fabric."
      ],
      "text/plain": [
       "<IPython.core.display.HTML object>"
      ]
     },
     "metadata": {},
     "output_type": "display_data"
    },
    {
     "data": {
      "text/html": [
       "<b>Chunk Summary:</b>  This document provides information on how to start a Microsoft Fabric (Preview) trial, which requires a Power BI license. Existing Power BI users can skip to the trial start steps, while new users must first sign up for a Power BI free license. The Fabric (Preview) trial lasts until Fabric General Availability (GA) and is extended for 60 days after GA. The trial start steps include navigating to the Fabric homepage, selecting the Account manager, agreeing to the terms, and receiving a confirmation message."
      ],
      "text/plain": [
       "<IPython.core.display.HTML object>"
      ]
     },
     "metadata": {},
     "output_type": "display_data"
    },
    {
     "data": {
      "text/html": [
       "<b>Chunk Summary:</b>  Microsoft Fabric (Preview) trial includes a Power BI individual trial and a Fabric (Preview) trial capacity. It provides full access to all Fabric experiences and features, as well as OneLake storage up to 1 TB. It also allows users to create workspaces for projects that support Fabric capabilities. The size of the capacity determines the amount of computation power reserved for users of that capacity."
      ],
      "text/plain": [
       "<IPython.core.display.HTML object>"
      ]
     },
     "metadata": {},
     "output_type": "display_data"
    },
    {
     "data": {
      "text/html": [
       "<b>Chunk Summary:</b>  Fabric (Preview) is a trial capacity that allows users to share Fabric items such as datasets, warehouses, and notebooks, and collaborate on them with other Fabric users. It also allows users to create analytics solutions using these items. The trial capacity is 64 capacity units (CUs) which allows users to consume 64x60 CU seconds every minute. There is no limit on the number of workspaces or items that can be created, but the rate at which CUs are consumed must be taken into account."
      ],
      "text/plain": [
       "<IPython.core.display.HTML object>"
      ]
     },
     "metadata": {},
     "output_type": "display_data"
    },
    {
     "data": {
      "text/html": [
       "<b>Chunk Summary:</b>  As the capacity owner for a Fabric (Preview) trial, you have access to a report for capacity unit consumption, and can cancel the trial from the Account manager. Power BI administrators can enable and disable trials for paid features for Power BI and Fabric, and each trial user is the capacity admin for their trial capacity."
      ],
      "text/plain": [
       "<IPython.core.display.HTML object>"
      ]
     },
     "metadata": {},
     "output_type": "display_data"
    },
    {
     "data": {
      "text/html": [
       "<b>Chunk Summary:</b>  Power BI administrators may have disabled access to Fabric (Preview) trials, and if the Start trial button is visible in the Account manager, the tenant may have exhausted its trial capacity limit. Options to start a trial include purchasing a Fabric capacity from Azure, requesting another trial capacity user to share their trial capacity, or reaching out to the Power BI administrator to increase the tenant trial capacity limit. Additionally, administrators cannot view metrics for individual capacities and there are plans to support this capability in an upcoming admin monitoring feature."
      ],
      "text/plain": [
       "<IPython.core.display.HTML object>"
      ]
     },
     "metadata": {},
     "output_type": "display_data"
    },
    {
     "data": {
      "text/html": [
       "<b>Chunk Summary:</b>  This known bug occurs when the Power BI administrator turns off trials after they have already been started. To add a workspace to the trial capacity, open the Admin portal and select Trial > Capacity settings. The region for the Fabric (Preview) trial capacity is the home region for the tenant, which can be found in the About Power BI > About Fabric section. The Fabric (Preview) trial is different from an individual trial of Power BI paid as it allows access to the Fabric landing page."
      ],
      "text/plain": [
       "<IPython.core.display.HTML object>"
      ]
     },
     "metadata": {},
     "output_type": "display_data"
    },
    {
     "data": {
      "text/html": [
       "<b>Chunk Summary:</b>  The Fabric (Preview) trial is a free trial for users to access non-Power BI experiences and items. Private links and public access are disabled and autoscale is not supported. Existing Synapse and Power BI users do not need an Azure subscription to start the trial, but can purchase a paid Fabric capacity if they have an existing Azure subscription."
      ],
      "text/plain": [
       "<IPython.core.display.HTML object>"
      ]
     },
     "metadata": {},
     "output_type": "display_data"
    },
    {
     "data": {
      "text/html": [
       "<b>Chunk Summary:</b>  This article explains how to migrate existing workspaces into a trial capacity using workspace settings and choosing \"Trial\" as the license mode. It also provides definitions of terms used in Microsoft Fabric, including capacity, experience, and item."
      ],
      "text/plain": [
       "<IPython.core.display.HTML object>"
      ]
     },
     "metadata": {},
     "output_type": "display_data"
    },
    {
     "data": {
      "text/html": [
       "<b>Chunk Summary:</b> \n",
       "\n",
       "Fabric is an organization-aligned Azure Active Directory instance that provides a collaborative environment for data engineering. It includes a lakehouse, notebook, and Spark job definition items, all of which are contained within a workspace. The lakehouse is a database over a data lake with enhanced ACID transaction capabilities, and the notebook is a multi-language interactive programming tool."
      ],
      "text/plain": [
       "<IPython.core.display.HTML object>"
      ]
     },
     "metadata": {},
     "output_type": "display_data"
    },
    {
     "data": {
      "text/html": [
       "<b>Chunk Summary:</b>  Apache Spark is a program that helps data engineers and data scientists explore and process data, build machine learning experiments, and collaborate with the team. It is divided into one or more Spark jobs that run in parallel and can be easily transformed into a pipeline activity for orchestration. It also offers a rich set of connectors for Data Factory and a write optimization called V-order for parquet files."
      ],
      "text/plain": [
       "<IPython.core.display.HTML object>"
      ]
     },
     "metadata": {},
     "output_type": "display_data"
    },
    {
     "data": {
      "text/html": [
       "<b>Chunk Summary:</b>  Data Factory uses data pipelines to move and transform data from different sources. Dataflows provide a low-code interface for ingesting data and transforming it. Data Wrangler is a notebook-based tool for exploratory data analysis. Experiments are used to organize and control machine learning runs."
      ],
      "text/plain": [
       "<IPython.core.display.HTML object>"
      ]
     },
     "metadata": {},
     "output_type": "display_data"
    },
    {
     "data": {
      "text/html": [
       "<b>Chunk Summary:</b>  MLflow is a machine learning model that is trained to recognize certain patterns. A run corresponds to a single execution of model code, and Synapse Data Warehouse is a traditional data warehouse. The KQL database is a representation of a database that can be queried with KQL queries, and the KQL Queryset allows users to save, export, and share queries."
      ],
      "text/plain": [
       "<IPython.core.display.HTML object>"
      ]
     },
     "metadata": {},
     "output_type": "display_data"
    },
    {
     "data": {
      "text/html": [
       "<b>Chunk Summary:</b>  Microsoft Fabric is a platform that provides a centralized place to capture, transform, and route real-time events. It also provides shortcuts to existing data stores, and end-to-end tutorials to help users understand the platform. Microsoft Fabric is currently in PREVIEW."
      ],
      "text/plain": [
       "<IPython.core.display.HTML object>"
      ]
     },
     "metadata": {},
     "output_type": "display_data"
    },
    {
     "data": {
      "text/html": [
       "<b>Chunk Summary:</b>  This article provides tutorials for multiple Fabric experiences, including ingesting, transforming, and loading data into a lakehouse, exploring and cleaning a taxicab trip dataset, analyzing the New York Yellow Taxi trip dataset, building an end-to-end data warehouse, and creating a dataflow and pipeline to bring data into a lakehouse and generate a report."
      ],
      "text/plain": [
       "<IPython.core.display.HTML object>"
      ]
     },
     "metadata": {},
     "output_type": "display_data"
    },
    {
     "data": {
      "text/html": [
       "<b>Chunk Summary:</b>  This article provides a guide to help decide between using a copy activity, dataflow, or Spark for workloads using Microsoft Fabric. It outlines the use cases, primary developer persona, primary developer skill set, and code written for each. Microsoft Fabric is currently in PREVIEW."
      ],
      "text/plain": [
       "<IPython.core.display.HTML object>"
      ]
     },
     "metadata": {},
     "output_type": "display_data"
    },
    {
     "data": {
      "text/html": [
       "<b>Chunk Summary:</b>  \n",
       "Dataflow Gen 2 is a platform that allows users to ingest, transform, wrangle, and profile data without writing code. It supports ETL, M, and SQL and provides a development interface with wizards and canvas. It has 30+ connectors for sources and 18+ connectors for destinations, with hundreds of Spark libraries and 300+ transformations. It is suitable for data engineers, data scientists, and data developers and can handle low to high data volumes."
      ],
      "text/plain": [
       "<IPython.core.display.HTML object>"
      ]
     },
     "metadata": {},
     "output_type": "display_data"
    },
    {
     "data": {
      "text/html": [
       "<b>Chunk Summary:</b>  Leo, a data engineer with no experience in Spark, wants to consolidate raw data from various sources into a single lakehouse. He uses pipeline copy activity to move petabyte-scale data with no code. Mary, a data engineer with a deep knowledge of the multiple LOB analytic reporting requirements, is tasked with cleaning the data, applying business logics, and loading it into multiple destinations (such as Azure SQL DB, ADX, and a lakehouse)."
      ],
      "text/plain": [
       "<IPython.core.display.HTML object>"
      ]
     },
     "metadata": {},
     "output_type": "display_data"
    },
    {
     "data": {
      "text/html": [
       "<b>Chunk Summary:</b>  Mary is an experienced Power Query user and decides to use Dataflow Gen 2 as her preferred transformation option. Adam is a data engineer responsible for building and maintaining the data pipelines that extract, transform, and load data into the lakehouse. He decides to use Spark to build the extract and transformation logic and writes a Spark application using Python or Scala to read structured, semi-structured, and unstructured data from OneLake. The application cleanses, transforms, and writes data to Delta tables in the lakehouse, making the data ready for downstream analytics."
      ],
      "text/plain": [
       "<IPython.core.display.HTML object>"
      ]
     },
     "metadata": {},
     "output_type": "display_data"
    },
    {
     "data": {
      "text/html": [
       "<b>Chunk Summary:</b>  This article provides a guide to help choose between a data warehouse or lakehouse for workloads using Microsoft Fabric. It outlines the properties of each, such as data volume, type of data, primary developer persona and skill set, development interface, and security. Data warehouse is suitable for structured data, while lakehouse is suitable for unstructured, semi-structured, and structured data. It also provides information on read and write operations, multi-table transactions, and primary development interface."
      ],
      "text/plain": [
       "<IPython.core.display.HTML object>"
      ]
     },
     "metadata": {},
     "output_type": "display_data"
    },
    {
     "data": {
      "text/html": [
       "<b>Chunk Summary:</b> \n",
       "\n",
       "Susan, a professional developer, is new to Microsoft Fabric and needs to decide between building a data warehouse or a lakehouse. After reviewing the available skill set and the need for multi-table transactions, Susan decides to use a data warehouse since she and the primary consumers of the data are familiar with SQL syntax and functionality. The data warehouse allows the team to interact primarily with T-SQL, while also allowing any Spark users in the organization to access the data."
      ],
      "text/plain": [
       "<IPython.core.display.HTML object>"
      ]
     },
     "metadata": {},
     "output_type": "display_data"
    },
    {
     "data": {
      "text/html": [
       "<b>Chunk Summary:</b> \n",
       "Rob, a data engineer, is using a lakehouse to store and model several terabytes of data in Fabric, allowing the team to use their diverse skills while allowing T-SQL consumers to access the data. Ash, a citizen developer, is using a Premium capacity subscription to build a data product for a business unit, as it is the best fit for their skills and data volume."
      ],
      "text/plain": [
       "<IPython.core.display.HTML object>"
      ]
     },
     "metadata": {},
     "output_type": "display_data"
    },
    {
     "data": {
      "text/html": [
       "<b>Chunk Summary:</b> \n",
       "\n",
       "This article provides an overview of navigating to items and actions from Microsoft Fabric Home. It explains the similarities between the product experiences and provides an introduction to Power BI datamarts. It also explains the importance of data warehousing and lakehouse in Microsoft Fabric and how to create them. Finally, it reminds readers that Microsoft Fabric is currently in PREVIEW."
      ],
      "text/plain": [
       "<IPython.core.display.HTML object>"
      ]
     },
     "metadata": {},
     "output_type": "display_data"
    },
    {
     "data": {
      "text/html": [
       "<b>Chunk Summary:</b>  Microsoft Fabric allows users to access and view items such as apps, lakehouses, warehouses, reports, and more. Home is the best place to start working in Microsoft Fabric, but users can also navigate directly to a workspace. Home includes items from many different workspaces and has a left navigation pane and selector for switching product experiences. Power BI Home is different from the other product experiences."
      ],
      "text/plain": [
       "<IPython.core.display.HTML object>"
      ]
     },
     "metadata": {},
     "output_type": "display_data"
    },
    {
     "data": {
      "text/html": [
       "<b>Chunk Summary:</b>  Microsoft Fabric offers many ways to locate and view content, including a top menu bar, creating new items, recommended content, and items organized by recent, favorites, and items shared with you. The navigation pane along the left side is also a useful tool for finding items."
      ],
      "text/plain": [
       "<IPython.core.display.HTML object>"
      ]
     },
     "metadata": {},
     "output_type": "display_data"
    },
    {
     "data": {
      "text/html": [
       "<b>Chunk Summary:</b>  The Data Factory nav pane organizes actions to help users quickly get to their items. The Workspaces selector allows users to view and open their workspaces, and when a workspace is opened, its name replaces My workspace. The nav pane includes Home, Browse, OneLake data hub, Create, and Workspaces. Workspaces are places to collaborate with colleagues and create collections of items. Users can search for workspaces by name or owner, or select the Workspaces icon in the nav pane to open a workspace."
      ],
      "text/plain": [
       "<IPython.core.display.HTML object>"
      ]
     },
     "metadata": {},
     "output_type": "display_data"
    },
    {
     "data": {
      "text/html": [
       "<b>Chunk Summary:</b>  Microsoft Fabric provides a nav pane to view content such as notebooks, pipelines, reports, and lakehouses. The experience selector in the bottom left corner allows users to open and make active other product experiences. Searching and sorting is available by item, name, keyword, workspace, and more. The Help pane provides context sensitive help and forum topics related to the current view. It can be left open to learn about features and terminology."
      ],
      "text/plain": [
       "<IPython.core.display.HTML object>"
      ]
     },
     "metadata": {},
     "output_type": "display_data"
    },
    {
     "data": {
      "text/html": [
       "<b>Chunk Summary:</b>  The Help pane is a great place to search for answers to questions. For more help and support, users can scroll to the bottom of the Help pane for more resources. Account and license information can be found in the Account manager. Notifications, settings, and feedback can be found in the upper right corner of Home. The canvas in the center of Home also provides helpful content."
      ],
      "text/plain": [
       "<IPython.core.display.HTML object>"
      ]
     },
     "metadata": {},
     "output_type": "display_data"
    },
    {
     "data": {
      "text/html": [
       "<b>Chunk Summary:</b>  Power BI Home is a feature that allows users to create items, view recommended items, recents, favorites, and content shared with them. It also includes a Help pane that is feature-aware and provides articles and search engine to quickly find answers to questions in the Fabric documentation and Fabric community forums. Microsoft Fabric is currently in PREVIEW."
      ],
      "text/plain": [
       "<IPython.core.display.HTML object>"
      ]
     },
     "metadata": {},
     "output_type": "display_data"
    },
    {
     "data": {
      "text/html": [
       "<b>Chunk Summary:</b>  The Help pane is a search engine in Fabric that shows recommended topics, resources relevant to the current context, and other resources. It is feature-aware, meaning it updates based on selections made in Fabric, and is perfect for learning and getting started."
      ],
      "text/plain": [
       "<IPython.core.display.HTML object>"
      ]
     },
     "metadata": {},
     "output_type": "display_data"
    },
    {
     "data": {
      "text/html": [
       "<b>Chunk Summary:</b>  The Help pane in Microsoft Fabric provides articles and forum posts to help users learn about the data hub. It also allows users to search the Microsoft documentation and community forums for keywords. If users still need help, they can submit a question or suggest a new feature. Additionally, there is an article about searching, filtering, and sorting to help users navigate long lists of content."
      ],
      "text/plain": [
       "<IPython.core.display.HTML object>"
      ]
     },
     "metadata": {},
     "output_type": "display_data"
    },
    {
     "data": {
      "text/html": [
       "<b>Chunk Summary:</b>  Microsoft Fabric provides a search function to quickly find items by title, name, or keyword. It also includes a Filter by keyword field to narrow down the content on the canvas. Search and Filter by keyword are available from Home and most other areas of Microsoft Fabric."
      ],
      "text/plain": [
       "<IPython.core.display.HTML object>"
      ]
     },
     "metadata": {},
     "output_type": "display_data"
    },
    {
     "data": {
      "text/html": [
       "<b>Chunk Summary:</b>  Microsoft Fabric offers content sorting and filtering to help users quickly find what they need. Sorting is available in many areas and can be done by selecting the arrow next to the column header. Filtering is also available and the filters depend on the location in Microsoft Fabric. This article provides information about the prerelease product."
      ],
      "text/plain": [
       "<IPython.core.display.HTML object>"
      ]
     },
     "metadata": {},
     "output_type": "display_data"
    },
    {
     "data": {
      "text/html": [
       "<b>Chunk Summary:</b>  This article explains how to open the Fabric settings pane and the different settings that can be accessed from there. These include preferences, such as language and account settings, as well as item settings, developer settings, and resources and extensions. The resources and extensions section provides links to pages where users can manage personal/group storage and Power BI settings."
      ],
      "text/plain": [
       "<IPython.core.display.HTML object>"
      ]
     },
     "metadata": {},
     "output_type": "display_data"
    },
    {
     "data": {
      "text/html": [
       "<b>Chunk Summary:</b> \n",
       "\n",
       "Workspaces are places to collaborate with colleagues to create collections of Power BI items such as dashboards, datasets, workbooks, reports, datamarts, and dataflows. Manage page allows users to manage connections, on-premises data gateways, embed codes, and virtual networks data gateways. Azure Analysis Services page allows users to migrate datasets to Power BI Premium. Governance and insights settings provide links to help admins and users with their admin, governance, and compliance tasks. Microsoft Purview hub provides insights about sensitive data and links to documentation to help with governance and compliance."
      ],
      "text/plain": [
       "<IPython.core.display.HTML object>"
      ]
     },
     "metadata": {},
     "output_type": "display_data"
    },
    {
     "data": {
      "text/html": [
       "<b>Chunk Summary:</b>  This article provides tips on how to manage workspaces, including how to pin workspaces, use granular workspace roles, navigate to the current workspace, and manage workspace settings. It also explains how to use the contact list and OneDrive settings for workspace notifications."
      ],
      "text/plain": [
       "<IPython.core.display.HTML object>"
      ]
     },
     "metadata": {},
     "output_type": "display_data"
    },
    {
     "data": {
      "text/html": [
       "<b>Chunk Summary:</b>  The Workspace Contact List feature allows users to specify who receives notifications about issues occurring in the workspace. The Workspace OneDrive feature allows users to configure a Microsoft 365 Group whose SharePoint document library is available to workspace users. Best practice is to give access to the workspace to the same Microsoft 365 Group whose file is being shared."
      ],
      "text/plain": [
       "<IPython.core.display.HTML object>"
      ]
     },
     "metadata": {},
     "output_type": "display_data"
    },
    {
     "data": {
      "text/html": [
       "<b>Chunk Summary:</b> \n",
       "\n",
       "You can configure OneDrive in workspace settings by typing in the name of the Microsoft 365 group created earlier. Workspaces can be assigned to any capacity in your organization and admins can configure dataflow storage to use Azure Data Lake Gen 2 storage and Azure Log Analytics (LA) connection. System storage is used to manage dataset storage in individual or shared workspaces."
      ],
      "text/plain": [
       "<IPython.core.display.HTML object>"
      ]
     },
     "metadata": {},
     "output_type": "display_data"
    },
    {
     "data": {
      "text/html": [
       "<b>Chunk Summary:</b>  This article discusses how to create and manage workspaces in the Microsoft Fabric admin portal. It explains how to view and free up storage, delete a workspace, and audit activities related to workspaces. It also provides information on managing users' ability to create workspaces."
      ],
      "text/plain": [
       "<IPython.core.display.HTML object>"
      ]
     },
     "metadata": {},
     "output_type": "display_data"
    },
    {
     "data": {
      "text/html": [
       "<b>Chunk Summary:</b>  This article explains how to create workspaces in Microsoft Fabric, including how to give the workspace a unique name, provide a description, and assign it to a domain. It also outlines the limitations of workspaces and provides instructions on how to give users access to workspaces."
      ],
      "text/plain": [
       "<IPython.core.display.HTML object>"
      ]
     },
     "metadata": {},
     "output_type": "display_data"
    },
    {
     "data": {
      "text/html": [
       "<b>Chunk Summary:</b> \n",
       "\n",
       "Advanced settings in Power BI allow users to add contacts to the contact list, change the license mode, and set the default storage format. When downgrading the workspace license type from Premium capacity to Pro (Shared capacity), any non-Power BI Fabric items must be removed. Large datasets can be enabled with the Large dataset storage format setting."
      ],
      "text/plain": [
       "<IPython.core.display.HTML object>"
      ]
     },
     "metadata": {},
     "output_type": "display_data"
    },
    {
     "data": {
      "text/html": [
       "<b>Chunk Summary:</b>  Power BI template apps are designed for sharing outside of an organization, and data used with Power BI is stored in internal storage provided by Power BI by default. Users can also store dataflows in their organization's Azure Data Lake Storage Gen2 account. Users can give other users access to their workspace and pin workspaces to the top of the workspace flyout list. Workspace roles let users manage who can do what in a Microsoft Fabric workspace."
      ],
      "text/plain": [
       "<IPython.core.display.HTML object>"
      ]
     },
     "metadata": {},
     "output_type": "display_data"
    },
    {
     "data": {
      "text/html": [
       "<b>Chunk Summary:</b>  Microsoft Fabric workspaces sit on top of OneLake and divide the data lake into separate containers that can be secured independently. There are four workspace roles that can be assigned to individuals or user groups, which grant access to the workspace and additional Microsoft Fabric capabilities such as data integration and data exploration. These roles also have existing Power BI capabilities associated with them."
      ],
      "text/plain": [
       "<IPython.core.display.HTML object>"
      ]
     },
     "metadata": {},
     "output_type": "display_data"
    },
    {
     "data": {
      "text/html": [
       "<b>Chunk Summary:</b>  This article provides an overview of the roles and permissions needed to access and manipulate data from KQL databases, Lakehouses, Data warehouses, and shortcuts. It outlines the capabilities of Admin, Member, Contributor, and Viewer roles, as well as the steps to create workspaces and grant users access to them. It also provides an overview of OneLake security, Data warehouse security, Data engineering security, and Data science roles and permissions."
      ],
      "text/plain": [
       "<IPython.core.display.HTML object>"
      ]
     },
     "metadata": {},
     "output_type": "display_data"
    },
    {
     "data": {
      "text/html": [
       "<b>Chunk Summary:</b>  Microsoft Fabric allows workspace creators to add others to the workspace with different roles such as Admin, Member, Contributor, or Viewer. To enforce row-level security, assign the Viewer Role. The permission change only takes effect the next time the user logs into Microsoft Fabric. To add people or groups, enter name or email, select a role, and select Add. You can view and modify access later if needed."
      ],
      "text/plain": [
       "<IPython.core.display.HTML object>"
      ]
     },
     "metadata": {},
     "output_type": "display_data"
    },
    {
     "data": {
      "text/html": [
       "<b>Chunk Summary:</b>  The OneLake data hub provides a filterable list of data items, a gallery of recommended data items, and a way to find data items by workspace. This article explains how to use the data hub, including how to filter the list of data items and how to use the three tabs to narrow down the list."
      ],
      "text/plain": [
       "<IPython.core.display.HTML object>"
      ]
     },
     "metadata": {},
     "output_type": "display_data"
    },
    {
     "data": {
      "text/html": [
       "<b>Chunk Summary:</b>  This article provides an overview of the Endorsement feature in the data hub. It explains the columns of the list, such as Name, Endorsement, Owner, Workspace, Refreshed, Next Refresh, and Sensitivity. It also explains how to find items by workspace and recommended items."
      ],
      "text/plain": [
       "<IPython.core.display.HTML object>"
      ]
     },
     "metadata": {},
     "output_type": "display_data"
    },
    {
     "data": {
      "text/html": [
       "<b>Chunk Summary:</b>  The data hub allows users to view recommended data items, as well as filter by domain. Each item has an options menu with various functions, such as opening the item's settings and managing permissions. Additionally, the Explorer pane may list workspaces that the user does not have access to, but still has access to items within the workspace."
      ],
      "text/plain": [
       "<IPython.core.display.HTML object>"
      ]
     },
     "metadata": {},
     "output_type": "display_data"
    },
    {
     "data": {
      "text/html": [
       "<b>Chunk Summary:</b>  Fabric provides two ways to endorse items, promotion and certification, to increase their visibility. Promotion is done by anyone with write permissions on the item, while certification is done by authorized reviewers. This article explains how to promote and certify items, as well as how to request certification if you're not an authorized reviewer."
      ],
      "text/plain": [
       "<IPython.core.display.HTML object>"
      ]
     },
     "metadata": {},
     "output_type": "display_data"
    },
    {
     "data": {
      "text/html": [
       "<b>Chunk Summary:</b>  This article outlines how to promote and certify items in Power BI. It explains how to get write permissions on the item, review it to meet certification standards, and select the Promoted or Certified option in the endorsement section. It also explains how to request item certification if the user is not authorized to certify it."
      ],
      "text/plain": [
       "<IPython.core.display.HTML object>"
      ]
     },
     "metadata": {},
     "output_type": "display_data"
    },
    {
     "data": {
      "text/html": [
       "<b>Chunk Summary:</b>  This article explains how to apply sensitivity labels to Microsoft Fabric items to protect sensitive content from unauthorized access. It also provides instructions on how to open the settings of an item and expand the endorsement section, as well as how to get an item certified. Additionally, it provides information about dataset discoverability and instructions for Power BI admins to enable content certification. Prerequisites are also listed."
      ],
      "text/plain": [
       "<IPython.core.display.HTML object>"
      ]
     },
     "metadata": {},
     "output_type": "display_data"
    },
    {
     "data": {
      "text/html": [
       "<b>Chunk Summary:</b>  To apply sensitivity labels to Fabric items, you need a Power BI Pro or Premium Per User (PPU) license, edit permissions on the item, and the ability to use the label. You can apply a label from the flyout menu in the item header, or in the item settings. If you cannot apply a label, contact your organization's tech support."
      ],
      "text/plain": [
       "<IPython.core.display.HTML object>"
      ]
     },
     "metadata": {},
     "output_type": "display_data"
    }
   ],
   "source": [
    "# For the chaintype of MapReduce and Refine, we can also get insight into intermediate steps of the pipeline.\n",
    "# This way you can inspect the results from map_reduce chain type, each top similar chunk summary\n",
    "intermediateSteps = summary['intermediate_steps']\n",
    "for step in intermediateSteps:\n",
    "        display(HTML(\"<b>Chunk Summary:</b> \" + step))"
   ]
  },
  {
   "cell_type": "code",
   "execution_count": 16,
   "metadata": {},
   "outputs": [
    {
     "name": "stdout",
     "output_type": "stream",
     "text": [
      "\n",
      "Microsoft Fabric is a unified platform that provides a comprehensive suite of services for data movement, data engineering, data integration, and analytics. It includes features such as the Help pane, global search, and Filter by keyword to quickly find content. The Account manager allows users to view account and license information, while the workspace selector allows users to navigate to different workspaces and views of their items. The Create a workspace pane allows users to create workspaces and assign them to a domain. System storage is the place to manage dataset storage in individual or shared capacity, and admins can manage users' ability to create workspaces, manage the workspaces themselves, and audit activities. This article explains how to apply sensitivity labels to items in Microsoft Fabric, including the prerequisites and steps necessary to apply labels, as well as how to apply labels in Power BI Desktop.\n"
     ]
    }
   ],
   "source": [
    "from langchain.prompts import PromptTemplate\n",
    "# While we are using the standard prompt by langchain, you can modify the prompt to suit your needs\n",
    "promptTemplate = \"\"\"You are an AI assistant tasked with summarizing documents. \n",
    "        Your summary should accurately capture the key information in the document while avoiding the omission of any domain-specific words. \n",
    "        Please generate a concise and comprehensive summary that includes details. \n",
    "        Ensure that the summary is easy to understand and provides an accurate representation. \n",
    "        Begin the summary with a brief introduction, followed by the main points. \n",
    "        Please remember to use clear language and maintain the integrity of the original information without missing any important details:\n",
    "        {text}\n",
    "\n",
    "        \"\"\"\n",
    "customPrompt = PromptTemplate(template=promptTemplate, input_variables=[\"text\"])\n",
    "chainType = \"map_reduce\"\n",
    "summaryChain = load_summarize_chain(llm, chain_type=chainType, return_intermediate_steps=True, \n",
    "                                    map_prompt=customPrompt, combine_prompt=customPrompt)\n",
    "summary = summaryChain({\"input_documents\": docs}, return_only_outputs=True)\n",
    "outputAnswer = summary['output_text']\n",
    "print(outputAnswer)"
   ]
  },
  {
   "cell_type": "code",
   "execution_count": 17,
   "metadata": {},
   "outputs": [
    {
     "data": {
      "text/html": [
       "<b>Chunk Summary:</b>  Microsoft Fabric is a unified platform that provides a comprehensive suite of services for data movement, data engineering, data integration, and analytics. It offers an integrated and easy-to-use product that simplifies the analytics process. Fabric is built on a foundation of Software as a Service (SaaS) and provides users with end-to-end tutorials, context-sensitive help pane, and workspace access control."
      ],
      "text/plain": [
       "<IPython.core.display.HTML object>"
      ]
     },
     "metadata": {},
     "output_type": "display_data"
    },
    {
     "data": {
      "text/html": [
       "<b>Chunk Summary:</b> \n",
       "Microsoft Fabric is a prerelease product that provides an integrated environment of existing and new components from Power BI, Azure Synapse, and Azure Data Explorer. It offers a range of deeply integrated analytics, shared experiences across familiar and easy-to-learn experiences, access and reuse of assets, a unified data lake, and centralized administration and governance. IT teams can configure core enterprise capabilities and data sensitivity labels are inherited across the suite."
      ],
      "text/plain": [
       "<IPython.core.display.HTML object>"
      ]
     },
     "metadata": {},
     "output_type": "display_data"
    },
    {
     "data": {
      "text/html": [
       "<b>Chunk Summary:</b> \n",
       "Microsoft Fabric is a comprehensive set of analytics experiences designed to work together seamlessly. It offers industry-leading experiences in the categories of Data Engineering, Data Factory, and Data Science. Data Engineering provides a world-class Spark platform with great authoring experiences, enabling data engineers to perform large-scale data transformation and democratize data through the lakehouse. Data Factory combines the simplicity of Power Query with the scale and power of Azure Data Factory, allowing users to connect to data sources on-premises and in the cloud. Data Science enables users to build, deploy, and operationalize machine learning models within the Fabric experience, integrating with Azure Machine Learning to provide built-in experiment tracking."
      ],
      "text/plain": [
       "<IPython.core.display.HTML object>"
      ]
     },
     "metadata": {},
     "output_type": "display_data"
    },
    {
     "data": {
      "text/html": [
       "<b>Chunk Summary:</b> \n",
       "Microsoft Fabric is a cloud-based platform that provides data scientists with the tools to create predictive models and data warehouses with SQL performance and scale. It also provides real-time analytics for observational data, such as JSON and text, and Power BI for business intelligence. Data scientists can use Fabric to enrich organizational data with predictions and allow business analysts to integrate these predictions into their BI reports. Fabric enables users to shift from descriptive to predictive insights and make better decisions with data."
      ],
      "text/plain": [
       "<IPython.core.display.HTML object>"
      ]
     },
     "metadata": {},
     "output_type": "display_data"
    },
    {
     "data": {
      "text/html": [
       "<b>Chunk Summary:</b>  Microsoft Fabric is an implementation of data mesh architecture that unifies OneLake and lakehouse architecture across enterprises. OneLake is built on top of ADLS (Azure Data Lake Storage) Gen2 and provides a single SaaS experience and a tenant-wide store for data. It simplifies the experiences, eliminating the need for users to understand any infrastructure concepts such as resource groups, RBAC (Role-Based Access Control), Azure Resource Manager, redundancy, or regions. OneLake eliminates today's pervasive and chaotic data silos, which individual developers have to manage. It provides a unified location to store all organizational data where the experiences operate."
      ],
      "text/plain": [
       "<IPython.core.display.HTML object>"
      ]
     },
     "metadata": {},
     "output_type": "display_data"
    },
    {
     "data": {
      "text/html": [
       "<b>Chunk Summary:</b> \n",
       "OneLake is a unified storage system for developers that eliminates the need to provision and configure isolated storage accounts. It is hierarchical in nature and built into Microsoft Fabric, providing a single-pane-of-glass file-system namespace that spans users, regions, and clouds. Data is divided into manageable containers, with the tenant mapping to the root of OneLake. Within a tenant, workspaces can be created, which act as folders, and lakehouses, which are collections of files, folders, and tables that represent a database over a data lake. Compliance with policy and security settings are enforced centrally and uniformly, making data discovery and sharing easy."
      ],
      "text/plain": [
       "<IPython.core.display.HTML object>"
      ]
     },
     "metadata": {},
     "output_type": "display_data"
    },
    {
     "data": {
      "text/html": [
       "<b>Chunk Summary:</b> \n",
       "Microsoft Fabric is a cloud-based platform that provides users with a suite of data-centric services and tools. It enables users to quickly ingest, process, analyze, and collaborate on data within their own lakehouses. All of the Microsoft Fabric compute experiences are prewired to OneLake, allowing users to access data stored in Azure Data Lake Storage with no additional configuration. Shortcuts also allow users to easily share data between users and applications without duplicating information. Additionally, the shortcut capability extends to other storage systems, allowing users to compose and analyze data across clouds with transparent, intelligent caching that reduces egress costs and brings data closer to compute. Microsoft Fabric (Preview) trial provides access to the Fabric product experiences, including the ability to create a workspace, navigate to items from the Microsoft Fabric Home page, and access end-to-end tutorials."
      ],
      "text/plain": [
       "<IPython.core.display.HTML object>"
      ]
     },
     "metadata": {},
     "output_type": "display_data"
    },
    {
     "data": {
      "text/html": [
       "<b>Chunk Summary:</b> \n",
       "Microsoft Fabric is a prerelease product that requires a Power BI license to access. This document outlines the steps to start a Fabric (Preview) trial, which lasts until Fabric General Availability (GA) and is extended for 60 days after GA. To start the trial, users must navigate to the Fabric homepage and select the Account manager. They must then select Start trial, agree to the terms, and select Start trial again. Once the trial capacity is ready, users receive a confirmation message and can begin working in Fabric. The Account manager will also indicate that the trial has started."
      ],
      "text/plain": [
       "<IPython.core.display.HTML object>"
      ]
     },
     "metadata": {},
     "output_type": "display_data"
    },
    {
     "data": {
      "text/html": [
       "<b>Chunk Summary:</b> \n",
       "This summary provides an overview of the Microsoft Fabric (Preview) trial. It includes information on how to start the trial, what a trial capacity is, and what features are available with the trial. The trial includes a Power BI individual trial and OneLake storage up to 1 TB. Users can create Fabric items and collaborate with others in the same Fabric trial capacity. They can also create workspaces (folders) for projects that support Fabric capabilities."
      ],
      "text/plain": [
       "<IPython.core.display.HTML object>"
      ]
     },
     "metadata": {},
     "output_type": "display_data"
    },
    {
     "data": {
      "text/html": [
       "<b>Chunk Summary:</b> \n",
       "Fabric (Preview) is a trial platform that allows users to create and collaborate on analytics solutions. It provides access to capacity units (CUs) that allow users to consume 64x60 CU seconds every minute. Workspaces and items can be added to the trial capacity and assigned a \"Trial\" license mode. There is no limit on the number of workspaces or items that can be created, but the availability of capacity units and the rate of consumption must be taken into account."
      ],
      "text/plain": [
       "<IPython.core.display.HTML object>"
      ]
     },
     "metadata": {},
     "output_type": "display_data"
    },
    {
     "data": {
      "text/html": [
       "<b>Chunk Summary:</b> \n",
       "This document provides an overview of how to manage a Fabric (Preview) trial. It explains how to cancel a trial, how to administer user access, and how to view capacity metrics. Cancelling a trial will delete the trial capacity, its workspaces, and any Fabric items shared with other users. Power BI administrators can enable and disable trials for paid features for Power BI and Fabric. Each trial user is the capacity admin for their trial capacity and has access to a detailed report of capacity unit consumption. Microsoft currently does not support multiple capacity administrators per trial capacity."
      ],
      "text/plain": [
       "<IPython.core.display.HTML object>"
      ]
     },
     "metadata": {},
     "output_type": "display_data"
    },
    {
     "data": {
      "text/html": [
       "<b>Chunk Summary:</b> \n",
       "Power BI administrators are unable to view metrics for individual capacities. However, they can start a Fabric (Preview) trial by attempting to create a Fabric item or by using their own tenant. Existing Power BI trial users may not be able to start a trial if their tenant has exhausted its limit of trial capacities. In this case, they can purchase a Fabric capacity from Azure, request another trial capacity user to share their trial capacity with them, or reach out to their Power BI administrator to create a CSS request to increase tenant trial capacity limits. Additionally, administrators are unable to assign a workspace to the trial capacity in Workplace settings."
      ],
      "text/plain": [
       "<IPython.core.display.HTML object>"
      ]
     },
     "metadata": {},
     "output_type": "display_data"
    },
    {
     "data": {
      "text/html": [
       "<b>Chunk Summary:</b> \n",
       "This document provides information about the Power BI Fabric (Preview) trial. It explains how to add a workspace to the trial capacity, the region for the trial capacity, and the differences between the Fabric (Preview) trial and a per-user trial of Power BI paid. To add a workspace to the trial capacity, open the Admin portal from the gear icon in the top menu bar, select Trial > Capacity settings, and choose the name of the capacity. The trial capacity is located in the home region for the tenant. This region must have Fabric enabled in order to create any Fabric items in the trial capacity. When Fabric is Generally Available (GA), users can use the Account manager to start a trial and assign the Fabric capacity to a specific region. Until GA, users should not use the Account manager to start a trial if their home region does not have Fabric enabled. A per-user trial of Power BI paid allows access to the Fabric landing page."
      ],
      "text/plain": [
       "<IPython.core.display.HTML object>"
      ]
     },
     "metadata": {},
     "output_type": "display_data"
    },
    {
     "data": {
      "text/html": [
       "<b>Chunk Summary:</b> \n",
       "The Fabric (Preview) trial is a free trial for users to access non-Power BI experiences and items. It does not require customization and users can start running product experiences immediately, within the confines of available capacity units. The trial does not support autoscale and private links and private access are limited. An Azure subscription is not required to start the trial, but if one is available, a paid Fabric capacity can be purchased. Existing Synapse users should note that the Fabric (Preview) trial is different from a Proof of Concept (POC)."
      ],
      "text/plain": [
       "<IPython.core.display.HTML object>"
      ]
     },
     "metadata": {},
     "output_type": "display_data"
    },
    {
     "data": {
      "text/html": [
       "<b>Chunk Summary:</b> \n",
       "This article provides an overview of Microsoft Fabric terminology, including terms specific to Synapse Data Warehouse, Synapse Data Engineering, Synapse Data Science, Synapse Real-Time Analytics, Data Factory, and Power BI. Capacity is a dedicated set of resources available at a given time, and Fabric offers capacity through the Fabric SKU and Trials. Experiences are collections of capabilities targeted to a specific functionality, and items are sets of capabilities within an experience. Users can create, edit, and manage items within an experience."
      ],
      "text/plain": [
       "<IPython.core.display.HTML object>"
      ]
     },
     "metadata": {},
     "output_type": "display_data"
    },
    {
     "data": {
      "text/html": [
       "<b>Chunk Summary:</b> \n",
       "This document provides an overview of the capabilities of Microsoft Synapse Data Engineering. It explains the concept of tenants, workspaces, lakehouses, notebooks, and Spark job definitions. A tenant is a single instance of Fabric for an organization and is aligned with an Azure Active Directory. A workspace is a collection of items that brings together different functionality in a single environment designed for collaboration. It acts as a container that leverages capacity for the work that is executed, and provides controls for who can access the items in it. A lakehouse is a collection of files, folders, and tables that represent a database over a data lake used by the Apache Spark engine and SQL engine for big data processing. A Fabric notebook is a multi-language interactive programming tool with rich functions including authoring code and markdown, running and debugging code, and visualizing data. Finally, a Spark job definition is a script that defines the job to be executed by the Apache Spark engine. It is used to process data in a lakehouse."
      ],
      "text/plain": [
       "<IPython.core.display.HTML object>"
      ]
     },
     "metadata": {},
     "output_type": "display_data"
    },
    {
     "data": {
      "text/html": [
       "<b>Chunk Summary:</b>  Apache Spark is a powerful open-source platform that allows data engineers and data scientists to explore and process data, build machine learning experiments, and transform it into a pipeline activity for orchestration. It consists of a program written in one of Spark's API languages (Scala, Python, Spark SQL, or Java) or Microsoft-added languages (.NET with C# or F#). When an application runs, it's divided into one or more Spark jobs that run in parallel to process the data faster. Additionally, Spark job definitions are a set of parameters set by the user to indicate how an application should be run, and V-order is a write optimization to the parquet file format that enables fast reads and provides cost efficiency and better performance. Data Factory offers a rich set of connectors to connect to various data sources."
      ],
      "text/plain": [
       "<IPython.core.display.HTML object>"
      ]
     },
     "metadata": {},
     "output_type": "display_data"
    },
    {
     "data": {
      "text/html": [
       "<b>Chunk Summary:</b> \n",
       "This document provides an overview of the different data stores, pipelines, dataflows, Data Wrangler, and machine learning experiments available in Microsoft Fabric. Data stores are used to connect to various data sources and transform the data. Data pipelines are used to orchestrate data movement and transformation. Dataflow Gen2 provides a low-code interface for ingesting data from hundreds of data sources and transforming the data. Data Wrangler is a notebook-based tool that provides users with an immersive experience to conduct exploratory data analysis. Finally, machine learning experiments are the primary unit of organization and control for all related machine learning runs."
      ],
      "text/plain": [
       "<IPython.core.display.HTML object>"
      ]
     },
     "metadata": {},
     "output_type": "display_data"
    },
    {
     "data": {
      "text/html": [
       "<b>Chunk Summary:</b> \n",
       "This document provides an overview of the various machine learning models, runs, SQL endpoints, Synapse data warehousing, KQL databases, and KQL querysets available in MLflow. A machine learning model is a file trained to recognize certain types of patterns. A run corresponds to a single execution of model code, and tracking is based on experiments and runs. Each Lakehouse has a SQL Endpoint that allows a user to query delta table data with TSQL over TDS. The Synapse Data Warehouse functionality is a traditional data warehouse and supports the full transactional T-SQL capabilities. The KQL database is the representation of a database holding data in a format to execute a KQL query against it. The KQL Queryset is the item used to run queries, view results, and manipulate query results on data from the Data Explorer database."
      ],
      "text/plain": [
       "<IPython.core.display.HTML object>"
      ]
     },
     "metadata": {},
     "output_type": "display_data"
    },
    {
     "data": {
      "text/html": [
       "<b>Chunk Summary:</b> \n",
       "Microsoft Fabric is a platform that provides a centralized place to capture, transform, and route real-time events to destinations with a no-code experience. It also provides shortcuts to existing data stores and end-to-end tutorials to help users develop a foundational understanding of the Fabric UI, the various experiences supported by Fabric and their integration points, and the professional and citizen developer experiences. Currently in PREVIEW, Microsoft Fabric is a great tool for data acquisition, transformation, and consumption."
      ],
      "text/plain": [
       "<IPython.core.display.HTML object>"
      ]
     },
     "metadata": {},
     "output_type": "display_data"
    },
    {
     "data": {
      "text/html": [
       "<b>Chunk Summary:</b> \n",
       "This tutorial provides an overview of the tutorials available for the Microsoft Fabric platform. It includes tutorials for the Lakehouse, Data Science, Real-Time Analytics, and Data Warehouse experiences. These tutorials cover topics such as ingesting, transforming, and loading data into the lakehouse, exploring and cleaning a taxicab trip dataset, using the streaming and query capabilities of Real-Time Analytics, and building an end-to-end data warehouse. Additionally, a tutorial for Power BI is included to demonstrate how to build a dataflow and pipeline to bring data into a lakehouse, create a dimensional model, and generate a report."
      ],
      "text/plain": [
       "<IPython.core.display.HTML object>"
      ]
     },
     "metadata": {},
     "output_type": "display_data"
    },
    {
     "data": {
      "text/html": [
       "<b>Chunk Summary:</b> \n",
       "This article provides a reference guide to help decide between using a copy activity, dataflow, or Spark for workloads using Microsoft Fabric. Microsoft Fabric is a PREVIEW product that enables data lake and data warehouse migration, data ingestion, and lightweight transformation. The primary developer personas are data engineers and data integrators, with the primary developer skill set being ETL, SQL, and JSON. Copy activity requires no code or low code, while dataflow and Spark require code written."
      ],
      "text/plain": [
       "<IPython.core.display.HTML object>"
      ]
     },
     "metadata": {},
     "output_type": "display_data"
    },
    {
     "data": {
      "text/html": [
       "<b>Chunk Summary:</b> \n",
       "For Leo, Dataflow Gen2 is the best choice. It provides 30+ connectors for data ingestion from external systems, including databases, file systems, and APIs. It supports 150+ connectors for data transformation and wrangling, and hundreds of Spark libraries for data profiling. It also has a low-code/no-code development interface with a wizard and canvas for Power Query, and a notebook and Spark job definition for pipeline copy activities. Dataflow Gen2 can handle low to high complexity data transformation, with over 300+ transformations and support for native Spark and open-source libraries."
      ],
      "text/plain": [
       "<IPython.core.display.HTML object>"
      ]
     },
     "metadata": {},
     "output_type": "display_data"
    },
    {
     "data": {
      "text/html": [
       "<b>Chunk Summary:</b> \n",
       "Mary is tasked with cleaning and loading data from a common lakehouse into multiple destinations for analytic reporting. She needs to apply business logics to the data, and use a low-code/no-code approach to move petabytes of data from various sources. Mary reviews the options and selects pipeline copy activity as the appropriate choice for her raw binary copy. This pattern applies to both historical and incremental data refresh, and provides high scale data ingestion. Copy activity is the best choice for Mary to move petabytes of data to lakehouses and warehouses from varieties of sources, either ad-hoc or via a schedule."
      ],
      "text/plain": [
       "<IPython.core.display.HTML object>"
      ]
     },
     "metadata": {},
     "output_type": "display_data"
    },
    {
     "data": {
      "text/html": [
       "<b>Chunk Summary:</b>  Adam has chosen to use Spark to build the data pipelines for customer review analytics. He will write a Spark application using Python or Scala to read structured, semi-structured, and unstructured data from OneLake, cleanse and transform it, and write it to Delta tables in the lakehouse. This data will then be used for downstream analytics to gain insights into customer experiences and improve services."
      ],
      "text/plain": [
       "<IPython.core.display.HTML object>"
      ]
     },
     "metadata": {},
     "output_type": "display_data"
    },
    {
     "data": {
      "text/html": [
       "<b>Chunk Summary:</b> \n",
       "This article provides a guide to help users choose between a data warehouse and lakehouse for their workloads using Microsoft Fabric. Data warehouses are suitable for structured data and have unlimited data volume, while lakehouses are suitable for unstructured, semi-structured, and structured data with up to 100GB of data. Data warehouse developers use T-SQL, while lakehouse developers use Spark (Scala, PySpark, Spark SQL, R). Data warehouses support multi-table transactions, while lakehouses do not. Data warehouses use T-SQL for read and write operations, while lakehouses use Spark, T-SQL, and Power BI Dataflows. Security is available for data warehouses but not for lakehouses."
      ],
      "text/plain": [
       "<IPython.core.display.HTML object>"
      ]
     },
     "metadata": {},
     "output_type": "display_data"
    },
    {
     "data": {
      "text/html": [
       "<b>Chunk Summary:</b> \n",
       "Susan should use a data warehouse for her project as it allows her team to interact with the data using T-SQL and provides access to the data for any Spark users in the organization. The data warehouse also allows for multi-table transactions, which is important for Susan's project. It is also beneficial that Susan is already familiar with SQL syntax and functionality, making it easier to use the data warehouse."
      ],
      "text/plain": [
       "<IPython.core.display.HTML object>"
      ]
     },
     "metadata": {},
     "output_type": "display_data"
    },
    {
     "data": {
      "text/html": [
       "<b>Chunk Summary:</b> \n",
       "Rob, a data engineer, needs to store and model several terabytes of data for a team with a mix of PySpark and T-SQL skills. Most of the team running T-SQL queries are consumers and do not need to write INSERT, UPDATE, or DELETE statements. To accommodate the diverse skills of the team, Rob decides to use a lakehouse which allows for data to be consumed in a SQL syntax. Ash, a citizen developer, is a Power BI developer familiar with Excel, Power BI, and Office. They need to build a data product for a business unit and decide that a data warehouse or lakehouse is too much for their needs and data volumes. They review the details and decide to use a Premium capacity subscription with Power BI and Microsoft Office. The primary consumers of the data will be analysts familiar with no-code capabilities."
      ],
      "text/plain": [
       "<IPython.core.display.HTML object>"
      ]
     },
     "metadata": {},
     "output_type": "display_data"
    },
    {
     "data": {
      "text/html": [
       "<b>Chunk Summary:</b>  Microsoft Fabric is a cloud platform that enables users to create data warehouses and lakehouses using code and SQL analytical tools. Ash decides to use a Power BI datamart, which allows the team to quickly build the capability with a no-code experience. Queries can be executed via Power BI and T-SQL, while also allowing any Spark users in the organization to access the data. This article provides an overview of navigating to items and actions from Microsoft Fabric Home, which is currently in PREVIEW. Home displays items from all workspaces that the user has access to, and provides detailed information about Home for each product experience."
      ],
      "text/plain": [
       "<IPython.core.display.HTML object>"
      ]
     },
     "metadata": {},
     "output_type": "display_data"
    },
    {
     "data": {
      "text/html": [
       "<b>Chunk Summary:</b> \n",
       "Microsoft Fabric provides users with a central hub for accessing and managing their apps, lakehouses, warehouses, reports, and more. Home is the starting point for working in Microsoft Fabric, and it includes items from many different workspaces. The left navigation pane and workspace selector allow users to navigate to different workspaces and views of their items. Home also features a global search to quickly find content, and the layout and content on Home is different for each user and product experience. Power BI Home is a special product experience that offers additional features."
      ],
      "text/plain": [
       "<IPython.core.display.HTML object>"
      ]
     },
     "metadata": {},
     "output_type": "display_data"
    },
    {
     "data": {
      "text/html": [
       "<b>Chunk Summary:</b> \n",
       "This summary provides an overview of the features available on Microsoft Fabric's Home page. It includes the top menu bar for orienting oneself, the Account manager control for looking up account information, options for creating new items, links to recommended content, and items organized by recent, favorites, and items shared with others. Additionally, the summary explains that only the content that one can access appears on the Home page, and provides an overview of the navigation pane and searching options for locating items."
      ],
      "text/plain": [
       "<IPython.core.display.HTML object>"
      ]
     },
     "metadata": {},
     "output_type": "display_data"
    },
    {
     "data": {
      "text/html": [
       "<b>Chunk Summary:</b> \n",
       "The Data Factory nav pane provides users with quick access to their workspaces, allowing them to quickly find and open the workspace of their choice. The bottom section of the nav pane includes the workspace selector, which displays a list of the user's workspaces and allows them to select one to open. Additionally, when a workspace is opened, its name replaces the default \"My workspace\" in the nav pane. All items created in the workspace are added to it, and the Home, Browse, OneLake data hub, Create, and Workspaces icons are included in the nav pane for every Microsoft Fabric product experience. Finding and opening workspaces is easy, as users can search for the workspace name or owner, or select the Workspaces icon in the nav pane to choose which workspace to open. Once opened, the workspace appears on the user's canvas and its name is listed in the nav pane."
      ],
      "text/plain": [
       "<IPython.core.display.HTML object>"
      ]
     },
     "metadata": {},
     "output_type": "display_data"
    },
    {
     "data": {
      "text/html": [
       "<b>Chunk Summary:</b>  Microsoft Fabric is a platform that provides users with access to various product experiences. It includes items such as notebooks, pipelines, reports, and lakehouses. The experience selector in the bottom left corner allows users to open and make active the desired experience. Microsoft Fabric provides global searching by item, name, keyword, workspace, and more. Additionally, the contextual Help pane provides users with answers to questions and suggested topics to learn how to use Microsoft Fabric features and terminology."
      ],
      "text/plain": [
       "<IPython.core.display.HTML object>"
      ]
     },
     "metadata": {},
     "output_type": "display_data"
    },
    {
     "data": {
      "text/html": [
       "<b>Chunk Summary:</b> \n",
       "The Help pane in Microsoft Fabric is a great resource for finding answers to questions. It can be accessed by typing in the search field and the results will be listed below. To return to the default Help pane, select the left arrow. Additionally, users can scroll to the bottom of the Help pane for more resources, such as the community for help or to contact Microsoft Fabric Support. Account and license information can be found in the Account manager, which is accessed by selecting the tiny photo in the upper right corner of Microsoft Fabric. Notifications, settings, and feedback can also be found in the upper right corner of Home. The canvas in Home is the center area, which contains all the necessary information."
      ],
      "text/plain": [
       "<IPython.core.display.HTML object>"
      ]
     },
     "metadata": {},
     "output_type": "display_data"
    },
    {
     "data": {
      "text/html": [
       "<b>Chunk Summary:</b> \n",
       "This article explains how to use the Fabric Help pane, a feature-aware search engine that quickly finds answers to questions in the Fabric documentation and Fabric community forums. The Help pane displays articles about the actions and features available on the current Fabric screen, allowing users to quickly access self-help resources. Microsoft Fabric is currently in PREVIEW and this information relates to a prerelease product that may be substantially modified before it's released."
      ],
      "text/plain": [
       "<IPython.core.display.HTML object>"
      ]
     },
     "metadata": {},
     "output_type": "display_data"
    },
    {
     "data": {
      "text/html": [
       "<b>Chunk Summary:</b> \n",
       "The Help pane is a search engine that provides access to Microsoft documentation and community forum topics related to the features available on the current screen. It has three sections: Feature-aware documents, Forum topics, and Other resources. The Feature-aware documents section groups the documents by the features that are available on the current screen. The Forum topics section shows topics from the community forums that are related to the features on the current screen. The Other resources section has links for feedback and Support. The Help pane is perfect for learning and getting started as it updates based on what you've selected and where you are in Fabric. It is a great way to explore and learn how to use Fabric."
      ],
      "text/plain": [
       "<IPython.core.display.HTML object>"
      ]
     },
     "metadata": {},
     "output_type": "display_data"
    },
    {
     "data": {
      "text/html": [
       "<b>Chunk Summary:</b> \n",
       "The Help pane in Microsoft Fabric allows users to quickly find and learn about the data hub. It provides access to recent documents, forum posts, Microsoft documentation, and community forums. Additionally, users can ask the community for help or submit an idea for a new feature. Global search is also available to help users find and sort through content in long lists. Microsoft Fabric is currently in PREVIEW and this article provides information about the Help pane."
      ],
      "text/plain": [
       "<IPython.core.display.HTML object>"
      ]
     },
     "metadata": {},
     "output_type": "display_data"
    },
    {
     "data": {
      "text/html": [
       "<b>Chunk Summary:</b> \n",
       "Microsoft Fabric provides a convenient way to quickly find content with its global search box and Filter by keyword feature. The search box at the top of Home allows users to search for items by title, name, or keyword. Additionally, the Filter by keyword feature can be used to narrow down the content on the canvas to find what is needed. Both of these features are available from Home and most other areas of Microsoft Fabric."
      ],
      "text/plain": [
       "<IPython.core.display.HTML object>"
      ]
     },
     "metadata": {},
     "output_type": "display_data"
    },
    {
     "data": {
      "text/html": [
       "<b>Chunk Summary:</b> \n",
       "This article provides an overview of how to sort and filter content lists in Microsoft Fabric. Sorting allows users to quickly find items in long lists, while filtering helps to narrow down search results. It is important to note that not all columns can be sorted and the filters available depend on the location within Fabric. Finally, it is important to remember that Microsoft Fabric is currently in preview and this information is subject to change."
      ],
      "text/plain": [
       "<IPython.core.display.HTML object>"
      ]
     },
     "metadata": {},
     "output_type": "display_data"
    },
    {
     "data": {
      "text/html": [
       "<b>Chunk Summary:</b> \n",
       "The Fabric settings pane provides users with access to various settings they can configure. In the preferences section, users can set their user preferences, specify the language of the Fabric user interface, manage their account and notifications, and configure settings for their personal use. In the resources and extensions section, users can manage personal/group storage and access Power BI settings."
      ],
      "text/plain": [
       "<IPython.core.display.HTML object>"
      ]
     },
     "metadata": {},
     "output_type": "display_data"
    },
    {
     "data": {
      "text/html": [
       "<b>Chunk Summary:</b> \n",
       "This article provides an overview of workspaces in Power BI, which are used to collaborate with colleagues to create collections of Power BI items such as dashboards, datasets, workbooks, reports, datamarts, and dataflows. Admins can manage connections, on-premises data gateways, embed codes, and virtual networks data gateways. Additionally, admins can migrate Azure Analysis Services datasets to Power BI Premium. The governance and insights section provides links to help admins and users with their admin, governance, and compliance tasks. It provides links to the Fabric admin portal, the Microsoft Purview hub (currently available to Power BI admins only), and documentation to help get started with Microsoft Purview governance and compliance in Fabric."
      ],
      "text/plain": [
       "<IPython.core.display.HTML object>"
      ]
     },
     "metadata": {},
     "output_type": "display_data"
    },
    {
     "data": {
      "text/html": [
       "<b>Chunk Summary:</b> \n",
       "This article provides an overview of workspaces, including how to manage access and settings. Workspaces can be pinned to the top of the flyout list for quick access, and granular roles can be used for flexible permissions management. Navigating to the current workspace is easy with the icon on the left nav pane. As an admin, workspace settings can be updated and managed, including general settings, contact list, OneDrive, license, Azure connections, storage, and other experience-specific settings. Finally, the contact list can be specified to receive notifications about workspace activity."
      ],
      "text/plain": [
       "<IPython.core.display.HTML object>"
      ]
     },
     "metadata": {},
     "output_type": "display_data"
    },
    {
     "data": {
      "text/html": [
       "<b>Chunk Summary:</b> \n",
       "This workspace settings feature allows users to specify which users receive notifications about issues occurring in the workspace. By default, the creator of the workspace is in the contact list, but other users or groups can be added to the list. Additionally, the Microsoft 365 and OneDrive feature allows users to configure a Microsoft 365 Group whose SharePoint document library is available to workspace users. This can be done by creating the Group outside of Microsoft Fabric, with one available method being from OneDrive. However, note that creating Microsoft 365 Groups may be restricted in some environments, or the ability to create them from OneDrive may be disabled. Furthermore, Microsoft Fabric does not synchronize permissions between users or groups with workspace access and users or groups with Microsoft 365 Group membership, so it is recommended to give access to the workspace to the same Microsoft 365 Group whose file library is being used."
      ],
      "text/plain": [
       "<IPython.core.display.HTML object>"
      ]
     },
     "metadata": {},
     "output_type": "display_data"
    },
    {
     "data": {
      "text/html": [
       "<b>Chunk Summary:</b> \n",
       "This article provides an overview of how to configure OneDrive, license mode, and Azure connections for workspaces in Microsoft 365. OneDrive can be configured in workspace settings by typing in the name of the Microsoft 365 group. Workspaces are created in your organization's shared capacity by default, but can be assigned to any capacity in your organization. Azure Data Lake Gen 2 storage and Azure Log Analytics (LA) connection can be configured in workspace settings to bring your own storage to dataflows and collect usage and performance logs for the workspace. System storage is the place to manage dataset storage in your individual or shared capacity."
      ],
      "text/plain": [
       "<IPython.core.display.HTML object>"
      ]
     },
     "metadata": {},
     "output_type": "display_data"
    },
    {
     "data": {
      "text/html": [
       "<b>Chunk Summary:</b> \n",
       "This article provides an overview of the system storage and workspace administration and auditing capabilities in Microsoft Fabric. System storage allows users to view how much storage they have used, free up storage by deleting items, and keep publishing reports and datasets. As an admin for a workspace, users can delete the workspace, which deletes everything contained within the workspace for all group members and removes the associated app from AppSource. Microsoft Fabric admins can manage users' ability to create workspaces, manage the workspaces themselves, and audit activities such as creating and deleting folders."
      ],
      "text/plain": [
       "<IPython.core.display.HTML object>"
      ]
     },
     "metadata": {},
     "output_type": "display_data"
    },
    {
     "data": {
      "text/html": [
       "<b>Chunk Summary:</b>  This article explains how to create workspaces in Microsoft Fabric. Workspaces are collections of items such as lakehouses, warehouses, and reports. To create a workspace, select Workspaces > New workspace. The Create a workspace pane opens. Give the workspace a unique name, provide a description (optional), and assign the workspace to a domain (optional). There are some limitations to be aware of such as workspaces can contain a maximum of 1,000 datasets or 1,000 reports per dataset, and certain special characters aren't supported in workspace names. A user or a service principal can be a member of up to 1,000 workspaces. When done, either continue to the advanced settings, or select Apply."
      ],
      "text/plain": [
       "<IPython.core.display.HTML object>"
      ]
     },
     "metadata": {},
     "output_type": "display_data"
    },
    {
     "data": {
      "text/html": [
       "<b>Chunk Summary:</b> \n",
       "This document provides an overview of the advanced settings available in Power BI workspaces. The contact list allows users to add names of people as contacts for information about the workspace and receive system email notifications for workspace level changes. License mode determines the feature set available in the workspace and can be changed after creation, though some migration effort may be required. The default storage format is an in-memory cache for optimized query performance, and with Premium capacities, large datasets beyond the default limit can be enabled with the Large dataset storage format setting. Finally, when downgrading from Premium capacity to Pro (Shared capacity), any non-Power BI Fabric items must be removed first."
      ],
      "text/plain": [
       "<IPython.core.display.HTML object>"
      ]
     },
     "metadata": {},
     "output_type": "display_data"
    },
    {
     "data": {
      "text/html": [
       "<b>Chunk Summary:</b> \n",
       "This article explains the different roles available in a workspace and how to assign them to users. Workspaces are used to store and share data, reports, and dashboards in Power BI. Roles allow you to control who can access and manage the workspace. There are four roles available in a workspace: Admin, Member, Contributor, and Viewer. Each role has different levels of access to the workspace. Admins have full control over the workspace, while Members, Contributors, and Viewers have limited access. Admins can assign roles to users, while Members, Contributors, and Viewers cannot. \n",
       "\n",
       "Admins have full control over the workspace, including the ability to add and remove users, assign roles, and manage content. Members can view and interact with content in the workspace, but cannot manage it. Contributors can create, edit, and delete content in the workspace, but cannot manage users or roles. Viewers can view content in the workspace, but cannot interact with it. \n",
       "\n",
       "To assign roles to users, an Admin must open the workspace in Power BI and select the “Manage Roles” option. From here, they can add users and assign them roles. They can also remove users from the workspace and change the roles of existing users. It is important to note that only Admins can assign roles to users. \n",
       "\n",
       "In conclusion, workspace roles allow Admins to control who can access and manage the workspace. There are four roles available: Admin, Member, Contributor, and Viewer. Admins have full control over the workspace, while Members, Contributors, and Viewers have limited access. Admins can assign roles to users, while Members, Contributors, and Viewers cannot."
      ],
      "text/plain": [
       "<IPython.core.display.HTML object>"
      ]
     },
     "metadata": {},
     "output_type": "display_data"
    },
    {
     "data": {
      "text/html": [
       "<b>Chunk Summary:</b> \n",
       "Microsoft Fabric workspaces provide a secure way to divide data lakes into separate containers with independent security settings. Power BI roles are extended with new Microsoft Fabric capabilities such as data integration and data exploration. Access to workspaces is granted by assigning user groups or individuals to one of the workspace roles: Admin, Member, Contributor, or Viewer. Everyone in a user group is given the role assigned, and users in workspace roles have additional Microsoft Fabric capabilities. These capabilities include the ability to view and read content of data pipelines, notebooks, Spark job definitions, ML models and experiments, and Event streams."
      ],
      "text/plain": [
       "<IPython.core.display.HTML object>"
      ]
     },
     "metadata": {},
     "output_type": "display_data"
    },
    {
     "data": {
      "text/html": [
       "<b>Chunk Summary:</b> \n",
       "This article provides an overview of roles and permissions in Power BI workspaces. It explains how to create workspaces, give users access to workspaces, and grant users granular SQL permissions to read Lakehouse and Data warehouse data through SQL endpoints. It also covers OneLake security, OneLake shortcuts, Data warehouse security, Data engineering security, and Data science roles and permissions. With this information, users can ensure secure access to data and maintain data integrity."
      ],
      "text/plain": [
       "<IPython.core.display.HTML object>"
      ]
     },
     "metadata": {},
     "output_type": "display_data"
    },
    {
     "data": {
      "text/html": [
       "<b>Chunk Summary:</b> \n",
       "This article provides a guide to giving access to a workspace in Microsoft Fabric. Workspace creators are automatically admins and can give others access by adding them to different roles. For an explanation of the different roles, see Roles in workspaces. To enforce row-level security (RLS) on Power BI items for Microsoft Fabric Pro users who browse content in a workspace, assign them the Viewer Role. To give access to a workspace, admins or members can select Manage Access on the command bar or More options menu, enter name or email, select a role, and select Add. Access can be modified later if needed. This article also provides a link to read about the workspace experience and create workspaces."
      ],
      "text/plain": [
       "<IPython.core.display.HTML object>"
      ]
     },
     "metadata": {},
     "output_type": "display_data"
    },
    {
     "data": {
      "text/html": [
       "<b>Chunk Summary:</b> \n",
       "This article explains the OneLake data hub, a tool that makes it easy to find, explore, and use the Fabric data items in your organization. It provides a filterable list of all the data items you can access, a gallery of recommended data items, a way of finding data items by workspace, and a way to display only the data items of a selected domain. Additionally, it has an options menu of things you can do with the data item. The data hub has three tabs to narrow down the list of data items: All, My Data, and Endorsed in your organization. Certified data items are listed first, followed by promoted data items. The data hub provides a convenient way to access and manage data items."
      ],
      "text/plain": [
       "<IPython.core.display.HTML object>"
      ]
     },
     "metadata": {},
     "output_type": "display_data"
    },
    {
     "data": {
      "text/html": [
       "<b>Chunk Summary:</b> \n",
       "This data hub provides a comprehensive list of data items, including their endorsement status, owner, workspace, refresh time, and sensitivity. The Explorer pane allows users to find items by workspace, and the tiles across the top of the data hub provide recommended items. Additionally, users can select the info icon to view the sensitivity label description."
      ],
      "text/plain": [
       "<IPython.core.display.HTML object>"
      ]
     },
     "metadata": {},
     "output_type": "display_data"
    },
    {
     "data": {
      "text/html": [
       "<b>Chunk Summary:</b> \n",
       "This document provides information on how to use the data hub to view and manage data items. It explains how to view recommended data items, how to filter data items by domain, and how to open an item's options menu. It also notes that the Explorer pane may list workspaces that the user does not have access to if the workspace contains items that the user does have access to."
      ],
      "text/plain": [
       "<IPython.core.display.HTML object>"
      ]
     },
     "metadata": {},
     "output_type": "display_data"
    },
    {
     "data": {
      "text/html": [
       "<b>Chunk Summary:</b> \n",
       "Fabric provides two ways to endorse items: promotion and certification. Promotion is a way to highlight items you think are valuable and worthwhile for others to use, and encourages the collaborative use and spread of content within an organization. Certification means that the item meets the organization's quality standards and can be regarded as reliable, authoritative, and ready for use across the organization. Any item owner, as well as anyone with write permissions on the item, can promote the item. Only authorized reviewers (defined by the Power BI administrator) can certify items. Currently, it is possible to endorse all Fabric items except Power BI dashboards. To promote an item, you must have write permissions on the item."
      ],
      "text/plain": [
       "<IPython.core.display.HTML object>"
      ]
     },
     "metadata": {},
     "output_type": "display_data"
    },
    {
     "data": {
      "text/html": [
       "<b>Chunk Summary:</b>  open the settings of the item.\n",
       "\n",
       "2. Expand the endorsement section and select Request certification.\n",
       "\n",
       "3. Enter the name of the user who should certify the item.\n",
       "\n",
       "4. Select Apply.\n",
       "\n",
       "This summary provides an overview of the steps necessary to promote, certify, and request certification for items in Power BI. To promote an item, users must expand the endorsement section and select Promoted. To certify an item, users must have write permissions on the item, review the item to ensure it meets the organization's certification standards, and then expand the endorsement section and select Certified. To request certification, users must open the settings of the item, expand the endorsement section, select Request certification, and enter the name of the user who should certify the item."
      ],
      "text/plain": [
       "<IPython.core.display.HTML object>"
      ]
     },
     "metadata": {},
     "output_type": "display_data"
    },
    {
     "data": {
      "text/html": [
       "<b>Chunk Summary:</b> \n",
       "This article assumes that you have already created sensitivity labels in Microsoft Purview Information Protection.\n",
       "\n",
       "Summary: Microsoft Fabric allows users to apply sensitivity labels to their items in order to protect sensitive content from unauthorized access and leakage. This article provides instructions on how to apply sensitivity labels to Fabric items, including prerequisites and steps. It also provides a link to instructions on how to apply sensitivity labels in Power BI Desktop."
      ],
      "text/plain": [
       "<IPython.core.display.HTML object>"
      ]
     },
     "metadata": {},
     "output_type": "display_data"
    },
    {
     "data": {
      "text/html": [
       "<b>Chunk Summary:</b> \n",
       "To apply sensitivity labels to items in Microsoft Power BI, a Power BI Pro or Premium Per User (PPU) license is required, as well as edit permissions on the item. There are two ways of applying a label: from the flyout menu in the item header, or in the item settings. If a label cannot be applied, it may be due to a lack of permissions. For more information, contact the organization's tech support."
      ],
      "text/plain": [
       "<IPython.core.display.HTML object>"
      ]
     },
     "metadata": {},
     "output_type": "display_data"
    }
   ],
   "source": [
    "# For the chaintype of MapReduce and Refine, we can also get insight into intermediate steps of the pipeline.\n",
    "# This way you can inspect the results from map_reduce chain type, each top similar chunk summary\n",
    "intermediateSteps = summary['intermediate_steps']\n",
    "for step in intermediateSteps:\n",
    "        display(HTML(\"<b>Chunk Summary:</b> \" + step))"
   ]
  },
  {
   "cell_type": "code",
   "execution_count": null,
   "metadata": {},
   "outputs": [],
   "source": []
  }
 ],
 "metadata": {
  "kernelspec": {
   "display_name": "Python 3",
   "language": "python",
   "name": "python3"
  },
  "language_info": {
   "codemirror_mode": {
    "name": "ipython",
    "version": 3
   },
   "file_extension": ".py",
   "mimetype": "text/x-python",
   "name": "python",
   "nbconvert_exporter": "python",
   "pygments_lexer": "ipython3",
   "version": "3.9.13"
  },
  "orig_nbformat": 4
 },
 "nbformat": 4,
 "nbformat_minor": 2
}
