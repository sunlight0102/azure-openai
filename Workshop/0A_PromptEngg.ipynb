{
 "cells": [
  {
   "attachments": {},
   "cell_type": "markdown",
   "metadata": {},
   "source": [
    "# Sample Prompt Engineering Exercises\n",
    "In this notebook, you find a few exercises for practicing prompt engineering. For each exercise, you'll get some input text and then an expected completion. You task is to write the prompt to achieve the expected completion."
   ]
  },
  {
   "cell_type": "code",
   "execution_count": 1,
   "metadata": {},
   "outputs": [],
   "source": [
    "# Import Python libraries\n",
    "import os\n",
    "import openai\n",
    "from Utilities.envVars import *\n",
    "\n",
    "# Set OpenAI API key and endpoint\n",
    "openai.api_type = \"azure\"\n",
    "openai.api_version = OpenAiVersion\n",
    "openai_api_key = OpenAiKey\n",
    "assert openai_api_key, \"ERROR: Azure OpenAI Key is missing\"\n",
    "openai.api_key = openai_api_key\n",
    "openAiEndPoint = f\"https://{OpenAiService}.openai.azure.com\"\n",
    "assert openAiEndPoint, \"ERROR: Azure OpenAI Endpoint is missing\"\n",
    "assert \"openai.azure.com\" in openAiEndPoint.lower(), \"ERROR: Azure OpenAI Endpoint should be in the form: \\n\\n\\t<your unique endpoint identifier>.openai.azure.com\"\n",
    "openai.api_base = openAiEndPoint\n",
    "davincimodel = OpenAiDavinci"
   ]
  },
  {
   "attachments": {},
   "cell_type": "markdown",
   "metadata": {},
   "source": [
    "#### Exercise 1 - German Translation\n",
    "\n",
    "- Exercise: Write a prompt that generates the expected completion\n",
    "- Input text: I was enjoying the sun, but then a huge cloud came and covered the sky.\n",
    "- Expected completion: Ich genoss die Sonne, aber dann kam eine riesige Wolke und bedeckte den Himmel."
   ]
  },
  {
   "cell_type": "code",
   "execution_count": 2,
   "metadata": {},
   "outputs": [
    {
     "name": "stdout",
     "output_type": "stream",
     "text": [
      "Ich genoss die Sonne, aber dann kam eine riesige Wolke und bedeckte den Himmel.\n"
     ]
    }
   ],
   "source": [
    "#Summarize this for a second-grade student as a title and a one sentence abstract:\n",
    "prompt = \"\"\"Translate the following sentence into German:\n",
    "\n",
    "        Sentence: I was enjoying the sun, but then a huge cloud came and covered the sky.\n",
    "\n",
    "        German translation:\"\"\"\n",
    "\n",
    "# Create a completion for the provided prompt and parameters\n",
    "# To know more about the parameters, checkout this documentation: https://learn.microsoft.com/en-us/azure/cognitive-services/openai/reference\n",
    "completion = openai.Completion.create(\n",
    "                prompt=prompt,\n",
    "                temperature=0,\n",
    "                max_tokens=500,\n",
    "                engine=davincimodel)\n",
    "\n",
    "# print the completion\n",
    "print(completion.choices[0].text.strip(\" \\n\"))"
   ]
  },
  {
   "attachments": {},
   "cell_type": "markdown",
   "metadata": {},
   "source": [
    "#### Exercise 2 - Negation\n",
    "- Exercise: Write a prompt that generates the expected completion\n",
    "- Input text: I was enjoying the sun, but then a huge cloud came and covered the sky.\n",
    "- Expected completion: I was not enjoying the sun, and then a huge cloud did not come and cover the sky."
   ]
  },
  {
   "cell_type": "code",
   "execution_count": 3,
   "metadata": {},
   "outputs": [
    {
     "name": "stdout",
     "output_type": "stream",
     "text": [
      "I was not enjoying the sun, and no huge cloud came to cover the sky.\n"
     ]
    }
   ],
   "source": [
    "#Summarize this for a second-grade student as a title and a one sentence abstract:\n",
    "prompt = \"\"\"Negate the following sentence.\n",
    "Sentence: I was enjoying the sun, but then a huge cloud came and covered the sky.\n",
    "Negated sentence:\"\"\"\n",
    "\n",
    "# Create a completion for the provided prompt and parameters\n",
    "# To know more about the parameters, checkout this documentation: https://learn.microsoft.com/en-us/azure/cognitive-services/openai/reference\n",
    "completion = openai.Completion.create(\n",
    "                prompt=prompt,\n",
    "                temperature=0,\n",
    "                max_tokens=500,\n",
    "                engine=davincimodel)\n",
    "\n",
    "# print the completion\n",
    "print(completion.choices[0].text.strip(\" \\n\"))"
   ]
  },
  {
   "attachments": {},
   "cell_type": "markdown",
   "metadata": {},
   "source": [
    "#### Exercise 3 - Classification\n",
    "- Exercise: Write a prompt that generates the expected completion\n",
    "- Input text: Not much to write about here, but it does exactly what it's supposed to. filters out the pop sounds. now my recordings are much more crisp. it is one of the lowest prices pop filters on amazon so might as well buy it, they honestly work the same despite their pricing.\n",
    "- Expected completion (or similar):\n",
    "  - Positive: 0.75\n",
    "  - Neutral: 0.20\n",
    "  - Negative: 0.05"
   ]
  },
  {
   "cell_type": "code",
   "execution_count": 4,
   "metadata": {},
   "outputs": [
    {
     "name": "stdout",
     "output_type": "stream",
     "text": [
      "Positive: 0.9\n",
      "Neutral: 0.05\n",
      "Negative: 0.05\n"
     ]
    }
   ],
   "source": [
    "#Summarize this for a second-grade student as a title and a one sentence abstract:\n",
    "prompt = \"\"\"Not much to write about here, but it does exactly what it's supposed to. filters out the pop sounds. now my recordings are much more crisp. it is one of the lowest prices pop filters on amazon so might as well buy it, they honestly work the same despite their pricing\n",
    "\n",
    "Decide whether the product review's sentiment is positive, neutral or negative. Show the probability for positive, neutral and negative sentiment.\"\"\"\n",
    "\n",
    "# Create a completion for the provided prompt and parameters\n",
    "# To know more about the parameters, checkout this documentation: https://learn.microsoft.com/en-us/azure/cognitive-services/openai/reference\n",
    "completion = openai.Completion.create(\n",
    "                prompt=prompt,\n",
    "                temperature=0,\n",
    "                max_tokens=500,\n",
    "                engine=davincimodel)\n",
    "\n",
    "# print the completion\n",
    "print(completion.choices[0].text.strip(\" \\n\"))"
   ]
  },
  {
   "attachments": {},
   "cell_type": "markdown",
   "metadata": {},
   "source": [
    "#### Exercise 4 - E-Mail Summarization\n",
    "- Exercise: Write a prompt that generates the expected completion\n",
    "- Input text: Use your own email...\n",
    "- Expected completion (or similar):\n",
    "  - Summary: XYZ\n",
    "  - Open Questions: XYZ\n",
    "  - Action Items: XYZ "
   ]
  },
  {
   "cell_type": "code",
   "execution_count": 6,
   "metadata": {},
   "outputs": [
    {
     "name": "stdout",
     "output_type": "stream",
     "text": [
      "Summary: The email initiates a discussion to explore ways to enhance productivity and collaboration while working remotely. The sender proposes creating a shared online platform dedicated to team communication and collaboration, and suggests scheduling a team training session to introduce the platform and its features. The sender encourages the team to come prepared for the discussion by reflecting on their experiences and gathering insights from their respective teams.\n",
      "\n",
      "Open Questions: What are some innovative ideas or strategies that we can implement to foster better teamwork and collaboration while working remotely? What topics or suggestions related to improving our remote work environment do team members have?\n",
      "\n",
      "Action Items: Create a shared online platform dedicated to team communication and collaboration. Schedule a team training session to introduce the platform and its features. Prepare for the discussion by reflecting on experiences and gathering insights from respective teams.\n"
     ]
    }
   ],
   "source": [
    "#Summarize this for a second-grade student as a title and a one sentence abstract:\n",
    "prompt = \"\"\"I want you to summarize the following email thread using this format:\n",
    "[Summary:]\n",
    "[Open Questions:]\n",
    "[Action Items:]\n",
    "\n",
    "Subject: Increasing Productivity and Collaboration: Let's Discuss Strategies and Implement Action Points\n",
    "\n",
    "Dear Team,\n",
    "\n",
    "I hope this email finds you well. As we continue to adapt to our remote work environment, I believe it's essential for us to explore ways to enhance our productivity and collaboration. Today, I'd like to initiate a discussion to gather your valuable insights and suggestions on this matter. Additionally, I have an action item that I believe will contribute to our collective success.\n",
    "\n",
    "To kickstart the conversation, I'd like to hear your thoughts on the following: What are some innovative ideas or strategies that we can implement to foster better teamwork and collaboration while working remotely? Feel free to share any experiences or tools that have worked well for you in the past. Your input is vital in shaping our future approaches.\n",
    "\n",
    "In parallel to our discussion, I propose that we create a shared online platform dedicated to team communication and collaboration. This platform will serve as a central hub for exchanging ideas, sharing updates, and working on projects together, irrespective of our physical locations. To ensure a seamless transition, I suggest scheduling a team training session where we can introduce the platform and its features. This session will also provide an opportunity for everyone to get familiarized with the platform and address any questions or concerns.\n",
    "\n",
    "I encourage each of you to come prepared for our discussion by reflecting on your experiences and gathering insights from your respective teams. Let's make this a collaborative effort where we leverage the collective knowledge and creativity of our team.\n",
    "\n",
    "Please let me know your availability for a virtual meeting next week, so we can further discuss the proposed action item and plan the training session accordingly. If you have any other topics or suggestions related to improving our remote work environment, feel free to share them as well.\n",
    "\n",
    "Thank you for your dedication and commitment to our team's success. I am confident that by working together and implementing innovative strategies, we will thrive in our remote work setup.\n",
    "\n",
    "Looking forward to our discussion and the positive changes it will bring!\n",
    "\n",
    "Best regards,\n",
    "\n",
    "[Your Name]\"\"\"\n",
    "\n",
    "# Create a completion for the provided prompt and parameters\n",
    "# To know more about the parameters, checkout this documentation: https://learn.microsoft.com/en-us/azure/cognitive-services/openai/reference\n",
    "completion = openai.Completion.create(\n",
    "                prompt=prompt,\n",
    "                temperature=0,\n",
    "                max_tokens=500,\n",
    "                engine=davincimodel)\n",
    "\n",
    "# print the completion\n",
    "print(completion.choices[0].text.strip(\" \\n\"))"
   ]
  },
  {
   "attachments": {},
   "cell_type": "markdown",
   "metadata": {},
   "source": [
    "####  Exercise 5 - Rewriting\n",
    "- Exercise: Write a prompt that generates the expected completion\n",
    "- Input text: I was enjoying the sun, but then a huge cloud came and covered the sky.\n",
    "- Expected completion: She was enjoying the sun, but then a huge cloud came and covered the sky."
   ]
  },
  {
   "cell_type": "code",
   "execution_count": 7,
   "metadata": {},
   "outputs": [
    {
     "name": "stdout",
     "output_type": "stream",
     "text": [
      "She was enjoying the sun, but then a huge cloud came and covered the sky.\n"
     ]
    }
   ],
   "source": [
    "#Summarize this for a second-grade student as a title and a one sentence abstract:\n",
    "prompt = \"\"\"Convert the following sentence into third person singular, assuming the person is a female.\n",
    "Sentence: I was enjoying the sun, but then a huge cloud came and covered the sky.\n",
    "Converted sentence:\"\"\"\n",
    "\n",
    "# Create a completion for the provided prompt and parameters\n",
    "# To know more about the parameters, checkout this documentation: https://learn.microsoft.com/en-us/azure/cognitive-services/openai/reference\n",
    "completion = openai.Completion.create(\n",
    "                prompt=prompt,\n",
    "                temperature=0,\n",
    "                max_tokens=500,\n",
    "                engine=davincimodel)\n",
    "\n",
    "# print the completion\n",
    "print(completion.choices[0].text.strip(\" \\n\"))"
   ]
  },
  {
   "attachments": {},
   "cell_type": "markdown",
   "metadata": {},
   "source": [
    "#### Exercise 6 - Multiple Tasks\n",
    "- Exercise: Write a prompt that generates the expected completion\n",
    "- Input text: I was enjoying the sun, but then a huge cloud came and covered the sky.\n",
    "- Expected completion:\n",
    "{\n",
    "    \"translated\": \"Ich genoss die Sonne, aber dann kam eine riesige Wolke und bedeckte den Himmel.\",\n",
    "    \"negated\": \"I was not enjoying the sun, and no huge cloud came and covered the sky.\",\n",
    "    \"third_person\": \"She was enjoying the sun, but then a huge cloud came and covered the sky.\"\n",
    "}"
   ]
  },
  {
   "cell_type": "code",
   "execution_count": 8,
   "metadata": {},
   "outputs": [
    {
     "name": "stdout",
     "output_type": "stream",
     "text": [
      "{\n",
      "\"translated\": \"Ich genoss die Sonne, aber dann kam eine riesige Wolke und bedeckte den Himmel.\",\n",
      "\"negated\": \"I was not enjoying the sun, and no huge cloud came and covered the sky.\",\n",
      "\"third_person\": \"She was enjoying the sun, but then a huge cloud came and covered the sky.\"\n",
      "}\n"
     ]
    }
   ],
   "source": [
    "#Summarize this for a second-grade student as a title and a one sentence abstract:\n",
    "prompt = \"\"\"Take the following sentence and perform three tasks on it:\n",
    " \n",
    "1. Translate the sentence into German\n",
    "2. Negate the sentence\n",
    "3. Convert it into third person, and assume the person is a female.\n",
    "The output should be a JSON document. Use the keys \"translated\", \"negated\" and \"third_person\" in the JSON. No need to include the original text.\n",
    "Sentence: I was enjoying the sun, but then a huge cloud came and covered the sky.\n",
    " \n",
    "JSON:\"\"\"\n",
    "\n",
    "# Create a completion for the provided prompt and parameters\n",
    "# To know more about the parameters, checkout this documentation: https://learn.microsoft.com/en-us/azure/cognitive-services/openai/reference\n",
    "completion = openai.Completion.create(\n",
    "                prompt=prompt,\n",
    "                temperature=0,\n",
    "                max_tokens=500,\n",
    "                engine=davincimodel)\n",
    "\n",
    "# print the completion\n",
    "print(completion.choices[0].text.strip(\" \\n\"))"
   ]
  },
  {
   "attachments": {},
   "cell_type": "markdown",
   "metadata": {},
   "source": [
    "#### Exercise 7 - Data extraction to JSON\n",
    "- Exercise: Write a prompt that generates the expected completion\n",
    "- Input text:\n",
    "Hello, my name is Mateo Gomez. I lost my Credit card on August 17th, and I would like to request its cancellation. The last purchase I made was of a Chicken parmigiana dish at Contoso Restaurant, located near the Hollywood Museum, for $40. Below is my personal information for validation:\n",
    "Profession: Accountant\n",
    "Social Security number is 123-45-6789\n",
    "Date of birth: 9-9-1989\n",
    "Phone number: 949-555-0110\n",
    "Personal address: 1234 Hollywood Boulevard Los Angeles CA\n",
    "Linked email account: mateo@contosorestaurant.com\n",
    "Swift code: CHASUS33XXX\n",
    "- Expected completion:\n",
    "{\n",
    "    \"reason\": \"Lost card\",\n",
    "    \"classified_reason\": \"lost_card\",\n",
    "    \"name\": \"Mateo Gomez\",\n",
    "    \"ssn\": \"123-45-6789\",\n",
    "    \"dob\": \"09/09/1989\"\n",
    "}"
   ]
  },
  {
   "cell_type": "code",
   "execution_count": 9,
   "metadata": {},
   "outputs": [
    {
     "name": "stdout",
     "output_type": "stream",
     "text": [
      "{\n",
      "    \"reason\": \"Lost card\",\n",
      "    \"classified_reason\": \"lost_card\",\n",
      "    \"name\": \"Mateo Gomez\",\n",
      "    \"ssn\": \"123-45-6789\",\n",
      "    \"dob\": \"09/09/1989\"\n",
      "}\n"
     ]
    }
   ],
   "source": [
    "#Summarize this for a second-grade student as a title and a one sentence abstract:\n",
    "prompt = \"\"\"This is an email from a customer. Extract the following information:\n",
    "- Reason for contact\n",
    "- Classified reason for contact (can be one of \"lost_card\", \"account_closure\", \"address_change\")\n",
    "- Name of customer\n",
    "- SSN\n",
    "- Date of birth\n",
    "Extract it as JSON with keys reason, classified_reason, name, ssn, dob. For dob, use MM/DD/YYYY formatting.\n",
    "Email:\n",
    "Hello, my name is Mateo Gomez. I lost my Credit card on August 17th, and I would like to request its cancellation. The last purchase I made was of a Chicken parmigiana dish at Contoso Restaurant, located near the Hollywood Museum, for $40. Below is my personal information for validation:\n",
    "Profession: Accountant\n",
    "Social Security number is 123-45-6789\n",
    "Date of birth: 9-9-1989\n",
    "Phone number: 949-555-0110\n",
    "Personal address: 1234 Hollywood Boulevard Los Angeles CA\n",
    "Linked email account: mateo@contosorestaurant.com\n",
    "Swift code: CHASUS33XXX\n",
    "Result:\"\"\"\n",
    "\n",
    "# Create a completion for the provided prompt and parameters\n",
    "# To know more about the parameters, checkout this documentation: https://learn.microsoft.com/en-us/azure/cognitive-services/openai/reference\n",
    "completion = openai.Completion.create(\n",
    "                prompt=prompt,\n",
    "                temperature=0,\n",
    "                max_tokens=500,\n",
    "                engine=davincimodel)\n",
    "\n",
    "# print the completion\n",
    "print(completion.choices[0].text.strip(\" \\n\"))"
   ]
  },
  {
   "attachments": {},
   "cell_type": "markdown",
   "metadata": {},
   "source": [
    "#### Exercise 8 - Fashion product description\n",
    "- Exercise: Write a prompt that generates the expected completion\n",
    "- Input text:\n",
    "Season: Winter\n",
    "Style: Sweater\n",
    "Gender: Female\n",
    "Target group: Teenager\n",
    "Material: Cotton\n",
    "- Expected completion (or similar):\n",
    "Stay warm and stylish this winter with our cozy cotton sweaters, perfect for the fashion-forward teenager. Refresh your wardrobe with the latest winter styles from our collection.\n"
   ]
  },
  {
   "cell_type": "code",
   "execution_count": 10,
   "metadata": {},
   "outputs": [
    {
     "name": "stdout",
     "output_type": "stream",
     "text": [
      "Keep warm and stylish this winter with our cozy cotton sweaters, perfect for teenage girls!\n"
     ]
    }
   ],
   "source": [
    "#Summarize this for a second-grade student as a title and a one sentence abstract:\n",
    "prompt = \"\"\"Write a two sentence tagline for this clothing article. Make it more verbose.\n",
    "Season: Winter\n",
    "Style: Sweater\n",
    "Gender: Female\n",
    "Target group: Teenager\n",
    "Material: Cotton\n",
    "\n",
    "Tagline:\"\"\"\n",
    "\n",
    "# Create a completion for the provided prompt and parameters\n",
    "# To know more about the parameters, checkout this documentation: https://learn.microsoft.com/en-us/azure/cognitive-services/openai/reference\n",
    "completion = openai.Completion.create(\n",
    "                prompt=prompt,\n",
    "                temperature=0,\n",
    "                max_tokens=500,\n",
    "                engine=davincimodel)\n",
    "\n",
    "# print the completion\n",
    "print(completion.choices[0].text.strip(\" \\n\"))"
   ]
  },
  {
   "attachments": {},
   "cell_type": "markdown",
   "metadata": {},
   "source": [
    "#### Exercise 9 - Write a Blog Post\n",
    "- Exercise: Write a blog post about a topic of your choice\n",
    "- Input text: You choose\n",
    "- Expected completion: a blogpost with hashtages"
   ]
  },
  {
   "cell_type": "code",
   "execution_count": 11,
   "metadata": {},
   "outputs": [
    {
     "name": "stdout",
     "output_type": "stream",
     "text": [
      "Paragraph 1 for Idea 1:\n",
      "Social media is an invaluable tool for businesses to reach their target audience and build relationships with customers. Creating content that resonates with your audience is key to success. <Topic 1> is a great way to engage your followers and create content that is both informative and entertaining. In this blog post, we will explore the different ways businesses can use <Topic 1> to their advantage.\n",
      "\n",
      "Paragraph 2 for Idea 1:\n",
      "<Topic 1> can be used to create content that is both educational and entertaining. For example, businesses can create tutorials and how-to videos that demonstrate how to use their products or services. This type of content can be used to educate customers and build trust in the brand. Additionally, businesses can use <Topic 1> to create fun and engaging content such as quizzes, polls, and contests. This type of content can be used to increase engagement and build relationships with customers.\n",
      "\n",
      "Paragraph 3 for Idea 1:\n",
      "Finally, businesses can use <Topic 1> to create content that is both informative and entertaining. For example, businesses can create blog posts that provide useful information about their products or services. Additionally, businesses can create videos that showcase their products or services in a fun and engaging way. By creating content that is both informative and entertaining, businesses can build relationships with their customers and increase engagement.\n",
      "\n",
      "Paragraph 1 for Idea 2:\n",
      "Social media is a great way for businesses to reach their target audience and build relationships with customers. Creating content that resonates with your audience is key to success. <Topic 1> is a great way to engage your followers and create content that is both informative and entertaining. In this blog post, we will explore the different ways businesses can use <Topic 1> to their advantage.\n",
      "\n",
      "Paragraph 2 for Idea 2:\n",
      "<Topic 1> can be used to create content that is both educational and entertaining. For example, businesses can create tutorials and how-to videos that demonstrate how to use their products or services. This type of content can be used to educate customers and build trust in the brand. Additionally, businesses can use <Topic 1> to create fun and engaging content such as quizzes, polls, and contests. This type of content can be used to increase engagement and build relationships with customers.\n",
      "\n",
      "Paragraph 3 for Idea 2:\n",
      "Finally, businesses can use <Topic 1> to create content that is both informative and\n"
     ]
    }
   ],
   "source": [
    "#Summarize this for a second-grade student as a title and a one sentence abstract:\n",
    "prompt = \"\"\"Step 1: I want you to act as a social media manager. You will be helping me to brainstorm blog post outline ideas for the topic <Topic 1>:\n",
    "Step 2: Write 3 engaging and informative paragraphs about <Idea 1 description>\n",
    "Step 3: Write 3 engaging and informative paragraphs about <Idea 2 description>\n",
    "Step 4: Tags <List of relevant #hashtags>\"\"\"\n",
    "\n",
    "# Create a completion for the provided prompt and parameters\n",
    "# To know more about the parameters, checkout this documentation: https://learn.microsoft.com/en-us/azure/cognitive-services/openai/reference\n",
    "completion = openai.Completion.create(\n",
    "                prompt=prompt,\n",
    "                temperature=0,\n",
    "                max_tokens=500,\n",
    "                engine=davincimodel)\n",
    "\n",
    "# print the completion\n",
    "print(completion.choices[0].text.strip(\" \\n\"))"
   ]
  },
  {
   "attachments": {},
   "cell_type": "markdown",
   "metadata": {},
   "source": [
    "#### Exercise 10 - Call Center\n",
    "- Exercise: Analyze a call center conversation\n",
    "- Input text:\n",
    "Employee: \"Hello, this is Julia Schreider from Contoso Company. How can I help you today?\"\n",
    "Customer: \"Hi, I am Carsten Mueller. I ordered a package 10 days ago, on February 10th, and it was supposed to arrive in maximum 5 business days. I have called three times already and nobody could provide any more information. I want to know where the package is and I want the problem to be solved immediately. This is the worst service I had for a long time!\"\n",
    "Employee: \"I apologize for the inconvenience, Mr. Mueller. I understand your frustration and I'm here to help. Can you please provide me with your order number so I can look into this for you?\"\n",
    "Customer: \"Yes, it's ACZ456789.\"\n",
    "Employee: \"Thank you. I'm looking into it now. Can you please hold for a few minutes while I check the status of your package?\"\n",
    "Customer: \"Okay.\"\n",
    "Employee: \"Thank you for your patience. I am sorry to inform you that I am unable to find the status of your package. It appears to have left the sending address, but no up-to-date status on the current location. I will further investigate your case and get back to you as soon as possible via phone call. Could you please provide me your contact information?\"\n",
    "Customer: \"Ah not again. Anyway, my phone number is +4911112223344.\"\n",
    "Employee: \"I apologize again for the inconvenience. Is there anything else I can help you with today?\"\n",
    "Customer: \"No.\"\n",
    "Employee: \"Thank you. Have a great day!\"\n",
    "- Expected completion:\n",
    "{\n",
    "    \"classified_reason\": \"lost_package\",\n",
    "    \"resolve_status\": \"unresolved\",\n",
    "    \"call_summary\": \"Customer ordered package 10 days ago and has not received it yet.\",\n",
    "    \"customer_name\": \"Carsten Mueller\",\n",
    "    \"employee_name\": \"Julia Schreider\",\n",
    "    \"order_number\": \"ACZ456789\",\n",
    "    \"customer_contact_nr\": \"+4911112223344\",\n",
    "    \"new_address\": \"N/A\",\n",
    "    \"sentiment_initial\": [\"angry\", \"frustrated\"],\n",
    "    \"sentiment_final\": [\"calm\"],\n",
    "    \"satisfaction_score_initial\": 0,\n",
    "    \"satisfaction_score_final\": 5,\n",
    "    \"eta\": \"N/A\",\n",
    "    \"action_item\": [\"track_package\", \"inquire_package_status\", \"contact_customer\"]\n",
    "}"
   ]
  },
  {
   "cell_type": "code",
   "execution_count": 12,
   "metadata": {},
   "outputs": [
    {
     "name": "stdout",
     "output_type": "stream",
     "text": [
      "{\n",
      "    \"classified_reason\": \"lost_package\",\n",
      "    \"resolve_status\": \"unresolved\",\n",
      "    \"call_summary\": \"Customer ordered package 10 days ago, but no up-to-date status on current location.\",\n",
      "    \"customer_name\": \"Carsten Mueller\",\n",
      "    \"employee_name\": \"Julia Schreider\",\n",
      "    \"order_number\": \"ACZ456789\",\n",
      "    \"customer_contact_nr\": \"+4911112223344\",\n",
      "    \"new_address\": \"N/A\",\n",
      "    \"sentiment_initial\": [\"angry\", \"frustrated\", \"unhappy\"],\n",
      "    \"sentiment_final\": [\"calm\"],\n",
      "    \"satisfaction_score_initial\": 0,\n",
      "    \"satisfaction_score_final\": 5,\n",
      "    \"eta\": \"N/A\",\n",
      "    \"action_item\": [\"track_package\", \"inquire_package_status\", \"contact_customer\"]\n",
      "}\n"
     ]
    }
   ],
   "source": [
    "#Summarize this for a second-grade student as a title and a one sentence abstract:\n",
    "prompt = \"\"\"Below is a customer call transcription between customer call employee at Contoso Company and a customer. Extract the following information:\n",
    "\n",
    "- Classified reason for contact (can be one of \"lost_package\", \"late_package\", \"address_change\", \"new_package_request\")\n",
    "- Is the problem resolved? (can be one of \"resolved\", \"unresolved\")\n",
    "- Call summary (in max 100 characters)\n",
    "- Name of customer\n",
    "- Name of call center employee\n",
    "- Customer order number\n",
    "- Customer contact information (if not mentioned, then \"N/A\")\n",
    "- New customer address (if the call reason is to change address, else \"N/A\")\n",
    "- Customer's sentiment in the beginning of the call (can be one or more of \"calm\", \"complaining\", \"angry\", \"frustrated\", \"unhappy\", \"neutral\", \"happy\")\n",
    "- Customer's sentiment in the beginning of the call (can be one or more of \"calm\", \"complaining\", \"angry\", \"frustrated\", \"unhappy\", \"neutral\", \"happy\")\n",
    "- How satisfied is the customer in the beginning of the call, 0 being very unsatisfied and 10 being very satisfied\n",
    "- How satisfied is the customer in the end of the call, 0 being very unsatisfied and 10 being very satisfied\n",
    "- Estimated time of arrival of package\n",
    "- Action item (can be one or more of \"no_action\", \"track_package\", \"inquire_package_status\", \"make_address_change\", \"cancel_order\", \"contact_customer)\n",
    "\n",
    "If customer is satisfied in the end, there is no follow up needed. Else, follow up with the relevant internal department to check the status.\n",
    "\n",
    "Extract it as JSON with keys classified_reason, resolve_status, call_summary, customer_name, employee_name, order_number, customer_contact_nr, new_address, sentiment_initial, sentiment_final, satisfaction_score_initial, satisfaction_score_final, eta, action_item.\n",
    "\n",
    "Employee: \"Hello, this is Julia Schreider from Contoso Company. How can I help you today?\"\n",
    "Customer: \"Hi, I am Carsten Mueller. I ordered a package 10 days ago, on February 10th, and it was supposed to arrive in maximum 5 business days. I have called three times already and nobody could provide any more information. I want to know where the package is and I want the problem to be solved immediately. This is the worst service I had for a long time!\"\n",
    "Employee: \"I apologize for the inconvenience, Mr. Mueller. I understand your frustration and I'm here to help. Can you please provide me with your order number so I can look into this for you?\"\n",
    "Customer: \"Yes, it's ACZ456789.\"\n",
    "Employee: \"Thank you. I'm looking into it now. Can you please hold for a few minutes while I check the status of your package?\"\n",
    "Customer: \"Okay.\"\n",
    "Employee: \"Thank you for your patience. I am sorry to inform you that I am unable to find the status of your package. It appears to have left the sending address, but no up-to-date status on the current location. I will further investigate your case and get back to you as soon as possible via phone call. Could you please provide me your contact information?\"\n",
    "Customer: \"Ah not again. Anyway, my phone number is +4911112223344.\"\n",
    "Employee: \"I apologize again for the inconvenience. Is there anything else I can help you with today?\"\n",
    "Customer: \"No.\"\n",
    "Employee: \"Thank you. Have a great day!\"\n",
    "\n",
    "JSON:\"\"\"\n",
    "\n",
    "# Create a completion for the provided prompt and parameters\n",
    "# To know more about the parameters, checkout this documentation: https://learn.microsoft.com/en-us/azure/cognitive-services/openai/reference\n",
    "completion = openai.Completion.create(\n",
    "                prompt=prompt,\n",
    "                temperature=0,\n",
    "                max_tokens=500,\n",
    "                engine=davincimodel)\n",
    "\n",
    "# print the completion\n",
    "print(completion.choices[0].text.strip(\" \\n\"))"
   ]
  },
  {
   "attachments": {},
   "cell_type": "markdown",
   "metadata": {},
   "source": [
    "#### Exercise 11 - Few-shot learning\n",
    "- Exercise: Write a few-shot learned prompt that classifies a movie summary.\n",
    "- Data samples:\n",
    "Paul Atreides, a brilliant and gifted young man born into a great destiny beyond his understanding, must travel to the most dangerous planet in the universe to ensure the future of his family and his people. As malevolent forces explode into conflict over the planet's exclusive supply of the most precious resource in existence-a commodity capable of unlocking humanity's greatest potential-only those who can conquer their fear will survive.\n",
    "['Action', 'Adventure', 'Science Fiction’]\n",
    "\n",
    "A botched store robbery places Wonder Woman in a global battle against a powerful and mysterious ancient force that puts her powers in jeopardy.\n",
    "['Action', 'Adventure', 'Fantasy']\n",
    "\n",
    "After the devastating events of Avengers: Infinity War, the universe is in ruins due to the efforts of the Mad Titan, Thanos. With the help of remaining allies, the Avengers must assemble once more in order to undo Thanos' actions and restore order to the universe once and for all, no matter what consequences may be in store.\n",
    "['Adventure', 'Science Fiction', 'Action']\n",
    "\n",
    "A widowed new dad copes with doubts, fears, heartache and dirty diapers as he sets out to raise his daughter on his own. Inspired by a true story.\n",
    "['Drama', 'Family', 'Comedy’]\n",
    "\n",
    "New data:\n",
    "Harry, Ron and Hermione walk away from their last year at Hogwarts to find and destroy the remaining Horcruxes, putting an end to Voldemort's bid for immortality. But with Harry's beloved Dumbledore dead and Voldemort's unscrupulous Death Eaters on the loose, the world is more dangerous than ever.\n",
    "- Expected completion: Classification of the new data point"
   ]
  },
  {
   "cell_type": "code",
   "execution_count": 13,
   "metadata": {},
   "outputs": [
    {
     "name": "stdout",
     "output_type": "stream",
     "text": [
      "['Adventure', 'Fantasy', 'Action']\n"
     ]
    }
   ],
   "source": [
    "#Summarize this for a second-grade student as a title and a one sentence abstract:\n",
    "prompt = \"\"\"You are adding tag categories to movies, based on their descriptions.\n",
    "\n",
    "###\n",
    "Movie description: Paul Atreides, a brilliant and gifted young man born into a great destiny beyond his understanding, must travel to the most dangerous planet in the universe to ensure the future of his family and his people. As malevolent forces explode into conflict over the planet's exclusive supply of the most precious resource in existence-a commodity capable of unlocking humanity's greatest potential-only those who can conquer their fear will survive.\n",
    "Tags: ['Action', 'Adventure', 'Science Fiction’]\n",
    "###\n",
    "Movie description: A botched store robbery places Wonder Woman in a global battle against a powerful and mysterious ancient force that puts her powers in jeopardy.\n",
    "Tags: ['Action', 'Adventure', 'Fantasy']\n",
    "###\n",
    "Movie description: After the devastating events of Avengers: Infinity War, the universe is in ruins due to the efforts of the Mad Titan, Thanos. With the help of remaining allies, the Avengers must assemble once more in order to undo Thanos' actions and restore order to the universe once and for all, no matter what consequences may be in store.\n",
    "Tags: ['Adventure', 'Science Fiction', 'Action']\n",
    "###\n",
    "Movie description: A widowed new dad copes with doubts, fears, heartache and dirty diapers as he sets out to raise his daughter on his own. Inspired by a true story.\n",
    "Tags: ['Drama', 'Family', 'Comedy’]\n",
    "###\n",
    "Movie description: Harry, Ron and Hermione walk away from their last year at Hogwarts to find and destroy the remaining Horcruxes, putting an end to Voldemort's bid for immortality. But with Harry's beloved Dumbledore dead and Voldemort's unscrupulous Death Eaters on the loose, the world is more dangerous than ever.\n",
    "Tags:\"\"\"\n",
    "\n",
    "# Create a completion for the provided prompt and parameters\n",
    "# To know more about the parameters, checkout this documentation: https://learn.microsoft.com/en-us/azure/cognitive-services/openai/reference\n",
    "completion = openai.Completion.create(\n",
    "                prompt=prompt,\n",
    "                temperature=0,\n",
    "                max_tokens=500,\n",
    "                engine=davincimodel)\n",
    "\n",
    "# print the completion\n",
    "print(completion.choices[0].text.strip(\" \\n\"))"
   ]
  },
  {
   "attachments": {},
   "cell_type": "markdown",
   "metadata": {},
   "source": [
    "#### Exercise 12 - NL to SQL with Codex\n",
    "- Exercise: Write a prompt that generates the expected SQL statement\n",
    "- Table information:\n",
    "  - Table: customer // Columns: firstname, name, customer_id, address\n",
    "  - Table: orders // Columns: order_id, customer_id, product_id, product_amount\n",
    "  - Table: products // Columns: product_id, price, name, description\n",
    "- Expected completion: a query that returns the top 10 orders and show the customer name"
   ]
  },
  {
   "cell_type": "code",
   "execution_count": 14,
   "metadata": {},
   "outputs": [
    {
     "name": "stdout",
     "output_type": "stream",
     "text": [
      "SELECT o.order_id, c.firstname, c.name, o.product_id, o.product_amount \n",
      "FROM orders o \n",
      "INNER JOIN customer c ON o.customer_id = c.customer_id \n",
      "ORDER BY o.product_amount DESC \n",
      "LIMIT 10;\n"
     ]
    }
   ],
   "source": [
    "#Summarize this for a second-grade student as a title and a one sentence abstract:\n",
    "prompt = \"\"\"\n",
    "table customer, columns=firstname, name, customer_id, address\n",
    "table orders, columns=order_id, customer_id, product_id, product_amount\n",
    "table products, columns=product_id, price, name, description\n",
    "Write a query that returns the top 10 orders and show the customer name\n",
    "\n",
    "query = \"\"\"\n",
    "\n",
    "# Create a completion for the provided prompt and parameters\n",
    "# To know more about the parameters, checkout this documentation: https://learn.microsoft.com/en-us/azure/cognitive-services/openai/reference\n",
    "completion = openai.Completion.create(\n",
    "                prompt=prompt,\n",
    "                temperature=0,\n",
    "                max_tokens=500,\n",
    "                engine=davincimodel)\n",
    "\n",
    "# print the completion\n",
    "print(completion.choices[0].text.strip(\" \\n\"))"
   ]
  },
  {
   "cell_type": "code",
   "execution_count": null,
   "metadata": {},
   "outputs": [],
   "source": []
  }
 ],
 "metadata": {
  "kernelspec": {
   "display_name": "Python 3",
   "language": "python",
   "name": "python3"
  },
  "language_info": {
   "codemirror_mode": {
    "name": "ipython",
    "version": 3
   },
   "file_extension": ".py",
   "mimetype": "text/x-python",
   "name": "python",
   "nbconvert_exporter": "python",
   "pygments_lexer": "ipython3",
   "version": "3.9.13"
  },
  "orig_nbformat": 4
 },
 "nbformat": 4,
 "nbformat_minor": 2
}
