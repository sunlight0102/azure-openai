{
 "cells": [
  {
   "attachments": {},
   "cell_type": "markdown",
   "metadata": {},
   "source": [
    "### Summarization & Generating Sample QA\n",
    "A common use case is wanting to summarize long documents. This naturally runs into the context window limitations. Unlike in question-answering, you can't just do some semantic search hacks to only select the chunks of text most relevant to the question (because, in this case, there is no particular question - you want to summarize everything). So what do you do then?\n",
    "\n",
    "The most common way around this is to split the documents into chunks and then do summarization in a recursive manner. By this we mean you first summarize each chunk by itself, then you group the summaries into chunks and summarize each chunk of summaries, and continue doing that until only one is left."
   ]
  },
  {
   "attachments": {},
   "cell_type": "markdown",
   "metadata": {},
   "source": [
    "#### Set Environment variables"
   ]
  },
  {
   "cell_type": "code",
   "execution_count": 1,
   "metadata": {},
   "outputs": [],
   "source": [
    "import os  \n",
    "import json  \n",
    "import openai\n",
    "from Utilities.envVars import *\n",
    "\n",
    "# Set Search Service endpoint, index name, and API key from environment variables\n",
    "indexName = SearchIndex\n",
    "\n",
    "# Set OpenAI API key and endpoint\n",
    "openai.api_type = \"azure\"\n",
    "openai.api_version = OpenAiVersion\n",
    "openai_api_key = OpenAiKey\n",
    "assert openai_api_key, \"ERROR: Azure OpenAI Key is missing\"\n",
    "openai.api_key = openai_api_key\n",
    "openAiEndPoint = f\"https://{OpenAiService}.openai.azure.com\"\n",
    "assert openAiEndPoint, \"ERROR: Azure OpenAI Endpoint is missing\"\n",
    "assert \"openai.azure.com\" in openAiEndPoint.lower(), \"ERROR: Azure OpenAI Endpoint should be in the form: \\n\\n\\t<your unique endpoint identifier>.openai.azure.com\"\n",
    "openai.api_base = openAiEndPoint\n",
    "davincimodel = OpenAiDavinci\n"
   ]
  },
  {
   "attachments": {},
   "cell_type": "markdown",
   "metadata": {},
   "source": [
    "#### Summarize the document/PDF (instead of getting that data from Vector store or document reposit)"
   ]
  },
  {
   "cell_type": "code",
   "execution_count": 2,
   "metadata": {},
   "outputs": [],
   "source": [
    "# Import required libraries\n",
    "# Import required libraries\n",
    "from langchain.llms.openai import AzureOpenAI, OpenAI\n",
    "from langchain.embeddings.openai import OpenAIEmbeddings\n",
    "from langchain.text_splitter import RecursiveCharacterTextSplitter\n",
    "from langchain.document_loaders import (\n",
    "    PDFMinerLoader,\n",
    "    UnstructuredFileLoader,\n",
    ")"
   ]
  },
  {
   "cell_type": "code",
   "execution_count": 3,
   "metadata": {},
   "outputs": [],
   "source": [
    "# Flexibility to change the call to OpenAI or Azure OpenAI\n",
    "embeddingModelType = \"azureopenai\"\n",
    "\n",
    "# Set the file name and the namespace for the index\n",
    "fileName = \"Fabric Get Started.pdf\"\n",
    "fabricGetStartedPath = \"Data/PDF/\" + fileName\n",
    "# Load the PDF with Document Loader available from Langchain\n",
    "loader = PDFMinerLoader(fabricGetStartedPath)\n",
    "rawDocs = loader.load()\n",
    "# Set the source \n",
    "for doc in rawDocs:\n",
    "    doc.metadata['source'] = fabricGetStartedPath\n",
    "\n",
    "textSplitter = RecursiveCharacterTextSplitter(chunk_size=1500, chunk_overlap=0)\n",
    "docs = textSplitter.split_documents(rawDocs)"
   ]
  },
  {
   "cell_type": "code",
   "execution_count": 4,
   "metadata": {},
   "outputs": [
    {
     "name": "stdout",
     "output_type": "stream",
     "text": [
      "Number of documents chunks generated from PDF :  58\n"
     ]
    }
   ],
   "source": [
    "print(\"Number of documents chunks generated from PDF : \", len(docs))"
   ]
  },
  {
   "cell_type": "code",
   "execution_count": 5,
   "metadata": {},
   "outputs": [],
   "source": [
    "from langchain.chains.qa_with_sources import load_qa_with_sources_chain\n",
    "from langchain.llms.openai import AzureOpenAI, OpenAI\n",
    "from langchain.embeddings.openai import OpenAIEmbeddings\n",
    "from langchain.docstore.document import Document\n",
    "from langchain.prompts import PromptTemplate\n",
    "from IPython.display import display, HTML\n",
    "from langchain.chains.summarize import load_summarize_chain\n",
    "\n",
    "embeddingModelType = \"azureopenai\"\n",
    "temperature = 0.3\n",
    "tokenLength = 1000\n",
    "\n",
    "if (embeddingModelType == 'azureopenai'):\n",
    "    openai.api_type = \"azure\"\n",
    "    openai.api_key = OpenAiKey\n",
    "    openai.api_version = OpenAiVersion\n",
    "    openai.api_base = f\"https://{OpenAiService}.openai.azure.com\"\n",
    "\n",
    "    llm = AzureOpenAI(deployment_name=OpenAiDavinci,\n",
    "            temperature=temperature,\n",
    "            openai_api_key=OpenAiKey,\n",
    "            max_tokens=tokenLength,\n",
    "            batch_size=10, \n",
    "            max_retries=12)\n",
    "\n",
    "    logging.info(\"LLM Setup done\")\n",
    "    embeddings = OpenAIEmbeddings(model=OpenAiEmbedding, chunk_size=1, openai_api_key=OpenAiKey)\n",
    "elif embeddingModelType == \"openai\":\n",
    "    openai.api_type = \"open_ai\"\n",
    "    openai.api_base = \"https://api.openai.com/v1\"\n",
    "    openai.api_version = '2020-11-07' \n",
    "    openai.api_key = OpenAiApiKey\n",
    "    llm = OpenAI(temperature=temperature,\n",
    "            openai_api_key=OpenAiApiKey,\n",
    "            max_tokens=tokenLength)\n",
    "    embeddings = OpenAIEmbeddings(openai_api_key=OpenAiApiKey)\n"
   ]
  },
  {
   "cell_type": "code",
   "execution_count": 6,
   "metadata": {},
   "outputs": [
    {
     "name": "stdout",
     "output_type": "stream",
     "text": [
      " Microsoft Fabric is a platform that provides data science, data warehousing, real-time analytics, and Power BI solutions to help businesses gain predictive insights and make better decisions with data. It includes tutorials and resources to help users choose between a data warehouse or lakehouse for workloads, manage workspaces, and apply sensitivity labels to Fabric items. It is currently in Preview and requires a Power BI license to access the trial.\n"
     ]
    }
   ],
   "source": [
    "# Let's use the chaintype of mapreduce to summarize the document\n",
    "chainType = \"map_reduce\"\n",
    "summaryChain = load_summarize_chain(llm, chain_type=chainType, return_intermediate_steps=True)\n",
    "summary = summaryChain({\"input_documents\": docs}, return_only_outputs=True)\n",
    "outputAnswer = summary['output_text']\n",
    "print(outputAnswer)"
   ]
  },
  {
   "cell_type": "code",
   "execution_count": 7,
   "metadata": {},
   "outputs": [
    {
     "data": {
      "text/html": [
       "<b>Chunk Summary:</b>  Microsoft Fabric is an all-in-one analytics solution for enterprises that covers everything from data movement to data science, Real-Time Analytics, and business intelligence. It offers a comprehensive suite of services, including data lake, data engineering, and data integration, all in one place. The platform is built on a foundation of Software as a Service (SaaS), which takes simplicity and integration to a whole new level. The Microsoft Fabric get started documentation provides an overview of the platform, instructions on how to get started, and how-to guides for various features."
      ],
      "text/plain": [
       "<IPython.core.display.HTML object>"
      ]
     },
     "metadata": {},
     "output_type": "display_data"
    },
    {
     "data": {
      "text/html": [
       "<b>Chunk Summary:</b>  Microsoft Fabric is a pre-release product that brings together components from Power BI, Azure Synapse, and Azure Data Explorer into a single integrated environment. It provides a shared SaaS foundation with an extensive range of deeply integrated analytics, shared experiences, easy access to assets, a unified data lake, and centralized administration and governance. IT teams can centrally configure core enterprise capabilities and data sensitivity labels are inherited automatically across the items in the suite."
      ],
      "text/plain": [
       "<IPython.core.display.HTML object>"
      ]
     },
     "metadata": {},
     "output_type": "display_data"
    },
    {
     "data": {
      "text/html": [
       "<b>Chunk Summary:</b>  Microsoft Fabric is a comprehensive set of analytics experiences tailored to specific personas and tasks. It includes Data Engineering, Data Factory, and Data Science experiences, which enable users to perform large-scale data transformation, connect to data sources, and build, deploy, and operationalize machine learning models."
      ],
      "text/plain": [
       "<IPython.core.display.HTML object>"
      ]
     },
     "metadata": {},
     "output_type": "display_data"
    },
    {
     "data": {
      "text/html": [
       "<b>Chunk Summary:</b>  Microsoft Fabric is a platform that provides data science, data warehousing, real-time analytics, and Power BI solutions to help businesses gain predictive insights and make better decisions with data. It offers industry-leading SQL performance and scale, natively stores data in the open Delta Lake format, and is the world's leading Business Intelligence platform."
      ],
      "text/plain": [
       "<IPython.core.display.HTML object>"
      ]
     },
     "metadata": {},
     "output_type": "display_data"
    },
    {
     "data": {
      "text/html": [
       "<b>Chunk Summary:</b>  Microsoft Fabric is an implementation of data mesh architecture that enables organizations and individuals to turn large and complex data repositories into actionable workloads and analytics. It unifies the OneLake and lakehouse architecture across enterprises, built on top of ADLS (Azure Data Lake Storage) Gen2, and provides a single SaaS experience and a tenant-wide store for data. OneLake eliminates data silos, simplifying the experience and eliminating the need for users to understand any infrastructure concepts."
      ],
      "text/plain": [
       "<IPython.core.display.HTML object>"
      ]
     },
     "metadata": {},
     "output_type": "display_data"
    },
    {
     "data": {
      "text/html": [
       "<b>Chunk Summary:</b>  OneLake is a unified storage system that simplifies data management and sharing. It is hierarchical in nature and is built into Microsoft Fabric, with no up-front provisioning required. It is divided into tenants, workspaces, and lakehouses, which are collections of files, folders, and tables that represent a database over a data lake. Every developer and business unit in the tenant can instantly create their own storage accounts."
      ],
      "text/plain": [
       "<IPython.core.display.HTML object>"
      ]
     },
     "metadata": {},
     "output_type": "display_data"
    },
    {
     "data": {
      "text/html": [
       "<b>Chunk Summary:</b>  Microsoft Fabric (Preview) trial provides access to the Fabric product experiences, including OneLake workspaces which allow users to ingest data into their own lakehouses and use the Microsoft Fabric compute experiences such as Data Engineering, Data Warehouse, Data Factory, Power BI, and Real-Time Analytics. Additionally, shortcuts allow users to easily share data between users and applications, and access data stored in Azure Data Lake Storage. The trial includes access to the Fabric product experiences."
      ],
      "text/plain": [
       "<IPython.core.display.HTML object>"
      ]
     },
     "metadata": {},
     "output_type": "display_data"
    },
    {
     "data": {
      "text/html": [
       "<b>Chunk Summary:</b>  Microsoft Fabric is currently in preview and requires a Power BI license to access the trial. Existing Power BI users can skip to starting the Fabric (Preview) trial. New users should navigate to https://app.fabric.microsoft.com to sign up for a free Power BI license before starting the trial. The trial lasts until Fabric General Availability (GA) and is extended for 60 days after GA. Follow the steps outlined in the document to start the trial."
      ],
      "text/plain": [
       "<IPython.core.display.HTML object>"
      ]
     },
     "metadata": {},
     "output_type": "display_data"
    },
    {
     "data": {
      "text/html": [
       "<b>Chunk Summary:</b>  Microsoft Fabric (Preview) trial allows users to access all Fabric experiences and features, as well as OneLake storage up to 1 TB. The trial capacity is a distinct pool of resources allocated to Microsoft Fabric, and the size of the capacity determines the amount of computation power reserved for users. With a Fabric (Preview) trial, users can create workspaces (folders) for projects that support Fabric capabilities."
      ],
      "text/plain": [
       "<IPython.core.display.HTML object>"
      ]
     },
     "metadata": {},
     "output_type": "display_data"
    },
    {
     "data": {
      "text/html": [
       "<b>Chunk Summary:</b>  Fabric (Preview) is a platform that allows users to share datasets, warehouses, and notebooks with other Fabric users and collaborate on them. It also allows users to create analytics solutions using these items. When starting a Fabric trial, Microsoft provisions one 64 capacity unit (CU) trial capacity, which allows users to consume 64x60 CU seconds every minute. There is no limit on the number of workspaces or items that can be created, but the rate of consumption of capacity units must be taken into consideration."
      ],
      "text/plain": [
       "<IPython.core.display.HTML object>"
      ]
     },
     "metadata": {},
     "output_type": "display_data"
    },
    {
     "data": {
      "text/html": [
       "<b>Chunk Summary:</b>  This article provides information on how to administer a Fabric (Preview) trial, including how to cancel the trial, enable/disable trials for paid features, and how to administer user access. Additionally, each trial user is the capacity admin for their trial capacity and Microsoft currently doesn't support multiple capacity administrators per trial capacity."
      ],
      "text/plain": [
       "<IPython.core.display.HTML object>"
      ]
     },
     "metadata": {},
     "output_type": "display_data"
    },
    {
     "data": {
      "text/html": [
       "<b>Chunk Summary:</b>  Power BI administrators may have disabled the ability to start a Fabric (Preview) trial, and if the tenant has exhausted its limit of trial capacities, users have the option to purchase a Fabric capacity from Azure, request another trial capacity user to share their trial capacity with them, or reach out to their Power BI administrator to create a CSS request to increase tenant trial capacity limits. Additionally, administrators cannot view metrics for individual capacities, but there are plans to support this capability in an upcoming admin monitoring feature."
      ],
      "text/plain": [
       "<IPython.core.display.HTML object>"
      ]
     },
     "metadata": {},
     "output_type": "display_data"
    },
    {
     "data": {
      "text/html": [
       "<b>Chunk Summary:</b>  This known bug occurs when the Power BI administrator turns off trials after they have been started. To add the workspace to the trial capacity, open the Admin portal and select Trial > Capacity settings. The region of the Fabric (Preview) trial capacity is the home region for the tenant. The Fabric (Preview) trial is different from an individual trial of Power BI paid, as it allows access to the Fabric landing page."
      ],
      "text/plain": [
       "<IPython.core.display.HTML object>"
      ]
     },
     "metadata": {},
     "output_type": "display_data"
    },
    {
     "data": {
      "text/html": [
       "<b>Chunk Summary:</b>  The Fabric (Preview) trial is a free trial for users to access non-Power BI experiences and items. Private links and public access are not available during the trial, and autoscale is not supported. Existing Synapse and Power BI users can sign up for the trial without an Azure subscription, but an Azure subscription is required to purchase a (paid) Fabric capacity."
      ],
      "text/plain": [
       "<IPython.core.display.HTML object>"
      ]
     },
     "metadata": {},
     "output_type": "display_data"
    },
    {
     "data": {
      "text/html": [
       "<b>Chunk Summary:</b>  This article explains the terms used in Microsoft Fabric, including capacity, experience, and item. It also provides instructions on how to migrate existing workspaces into a trial capacity using workspace settings and choosing \"Trial\" as the license mode. Microsoft Fabric is currently in PREVIEW."
      ],
      "text/plain": [
       "<IPython.core.display.HTML object>"
      ]
     },
     "metadata": {},
     "output_type": "display_data"
    },
    {
     "data": {
      "text/html": [
       "<b>Chunk Summary:</b>  \n",
       "Fabric for an organization is aligned with an Azure Active Directory. It includes a workspace, lakehouse, and notebook items which provide different capabilities for collaboration, big data processing, and interactive programming. The lakehouse item is hosted within a unique workspace folder in Microsoft OneLake, and the notebook item provides rich functions for authoring code and markdown."
      ],
      "text/plain": [
       "<IPython.core.display.HTML object>"
      ]
     },
     "metadata": {},
     "output_type": "display_data"
    },
    {
     "data": {
      "text/html": [
       "<b>Chunk Summary:</b>  Apache Spark is a program used by data engineers and data scientists to explore, process, and build machine learning experiments with code and low-code experience. It is divided into one or more Spark jobs that run in parallel to process data faster. It also offers a write optimization to the parquet file format, V-order, and a rich set of connectors for Data Factory. Monitoring, viewing, and visualizing results, as well as collaborating with the team, are all possible with Apache Spark."
      ],
      "text/plain": [
       "<IPython.core.display.HTML object>"
      ]
     },
     "metadata": {},
     "output_type": "display_data"
    },
    {
     "data": {
      "text/html": [
       "<b>Chunk Summary:</b>  Data Factory is used for orchestrating data movement and transformation, and Dataflows provide a low-code interface for ingesting data from hundreds of sources and transforming it. Data Wrangler is a notebook-based tool for exploratory data analysis, and Experiments are the primary unit of organization and control for all related machine learning runs. Connectors are available for different types of data stores."
      ],
      "text/plain": [
       "<IPython.core.display.HTML object>"
      ]
     },
     "metadata": {},
     "output_type": "display_data"
    },
    {
     "data": {
      "text/html": [
       "<b>Chunk Summary:</b> \n",
       "\n",
       "Machine Learning models are trained on data sets using algorithms to recognize patterns. MLflow tracking is based on experiments and runs. Synapse Data Warehouse is a traditional data warehouse with full transactional T-SQL capabilities. KQL database and KQL Queryset are used to query data and manipulate query results."
      ],
      "text/plain": [
       "<IPython.core.display.HTML object>"
      ]
     },
     "metadata": {},
     "output_type": "display_data"
    },
    {
     "data": {
      "text/html": [
       "<b>Chunk Summary:</b>  Microsoft Fabric is a platform that provides a centralized place to capture, transform, and route real-time events. It also features shortcuts that point to other file store locations, and provides end-to-end tutorials to help users develop a foundational understanding of the Fabric UI and its various experiences. Microsoft Fabric is currently in PREVIEW."
      ],
      "text/plain": [
       "<IPython.core.display.HTML object>"
      ]
     },
     "metadata": {},
     "output_type": "display_data"
    },
    {
     "data": {
      "text/html": [
       "<b>Chunk Summary:</b>  This article provides tutorials for multiple Fabric experiences, such as Lakehouse, Data Science, Real-Time Analytics, and Data Warehouse. Each tutorial provides a scenario and instructions on how to build a dataflow, pipeline, dimensional model, and report. Microsoft provides no warranties for the information provided."
      ],
      "text/plain": [
       "<IPython.core.display.HTML object>"
      ]
     },
     "metadata": {},
     "output_type": "display_data"
    },
    {
     "data": {
      "text/html": [
       "<b>Chunk Summary:</b>  This article provides a reference guide and example scenarios to help decide whether to use a copy activity, dataflow, or Spark for workloads using Microsoft Fabric. It provides information on the properties of each, the primary developer persona and skill set, and the code written. It is important to note that Microsoft Fabric is currently in PREVIEW."
      ],
      "text/plain": [
       "<IPython.core.display.HTML object>"
      ]
     },
     "metadata": {},
     "output_type": "display_data"
    },
    {
     "data": {
      "text/html": [
       "<b>Chunk Summary:</b> \n",
       "Dataflow Gen2 is a low-code/no-code platform for data ingestion, transformation, wrangling, and profiling. It supports ETL, M, and SQL, and is powered by Spark. It offers 30+ connectors for sources and 18+ connectors for destinations, as well as hundreds of Spark libraries and 300+ transformations. It is suitable for data engineers, data scientists, and data developers, and can handle low to high complexity data volumes. It features a wizard and canvas for development, Power Query, notebooks, and Spark job definition."
      ],
      "text/plain": [
       "<IPython.core.display.HTML object>"
      ]
     },
     "metadata": {},
     "output_type": "display_data"
    },
    {
     "data": {
      "text/html": [
       "<b>Chunk Summary:</b>  Leo, a data engineer with no experience in Spark, is tasked with migrating data from multiple sources into a single lakehouse. He chooses pipeline copy activity as the best low-code and no-code choice to move petabytes of data. Mary, a data engineer with a deep knowledge of the multiple LOB analytic reporting requirements, is tasked with cleaning the data, applying business logics, and loading it into multiple destinations in preparation for their respective reporting teams."
      ],
      "text/plain": [
       "<IPython.core.display.HTML object>"
      ]
     },
     "metadata": {},
     "output_type": "display_data"
    },
    {
     "data": {
      "text/html": [
       "<b>Chunk Summary:</b>  Mary is an experienced Power Query user and is using Dataflow Gen 2 as her preferred transformation option for low to medium data volume. Adam is a data engineer for a large retail company and is using Spark to build extract and transformation logic for customer review analytics. He is writing a Spark application using Python or Scala to read data from OneLake, cleanse, transform, and write data to Delta tables in the lakehouse."
      ],
      "text/plain": [
       "<IPython.core.display.HTML object>"
      ]
     },
     "metadata": {},
     "output_type": "display_data"
    },
    {
     "data": {
      "text/html": [
       "<b>Chunk Summary:</b>  This article provides a guide to help choose between a data warehouse or lakehouse for workloads using Microsoft Fabric. It outlines the differences between the two, including data volume, type of data, primary developer persona, primary developer skill set, citizen developer, read and write operations, multi-table transactions, primary development interface, and security. It also provides an overview of Power BI Datamart, which is limited to 100 GB of structured data."
      ],
      "text/plain": [
       "<IPython.core.display.HTML object>"
      ]
     },
     "metadata": {},
     "output_type": "display_data"
    },
    {
     "data": {
      "text/html": [
       "<b>Chunk Summary:</b> \n",
       "\n",
       "Susan, a professional developer, is new to Microsoft Fabric and needs to decide whether to build a data warehouse or a lakehouse. After reviewing the details, the primary decision points are the available skill set and the need for multi-table transactions. Susan has experience with SQL and SQL analytical tools, and the primary consumers of the data are also skilled with SQL, so she decides to use a data warehouse. This allows the team to interact primarily with T-SQL, while also allowing Spark users to access the data."
      ],
      "text/plain": [
       "<IPython.core.display.HTML object>"
      ]
     },
     "metadata": {},
     "output_type": "display_data"
    },
    {
     "data": {
      "text/html": [
       "<b>Chunk Summary:</b>  Rob, a data engineer, needs to store and model several terabytes of data in Fabric. He decides to use a lakehouse, which allows the team to use their diverse skills against the data. Ash, a citizen developer, is a Power BI developer and needs to build a data product for a business unit. They decide to use a Premium capacity subscription as it fits their needs and data volumes."
      ],
      "text/plain": [
       "<IPython.core.display.HTML object>"
      ]
     },
     "metadata": {},
     "output_type": "display_data"
    },
    {
     "data": {
      "text/html": [
       "<b>Chunk Summary:</b> \n",
       "\n",
       "This article provides an overview of navigating to items and actions from Microsoft Fabric Home. It explains the similarities between the different product experiences, and how items from all workspaces can be accessed. It also provides an introduction to Power BI datamarts and explains the steps to create a warehouse and lakehouse in Microsoft Fabric."
      ],
      "text/plain": [
       "<IPython.core.display.HTML object>"
      ]
     },
     "metadata": {},
     "output_type": "display_data"
    },
    {
     "data": {
      "text/html": [
       "<b>Chunk Summary:</b>  Microsoft Fabric is a platform that allows users to create and share items such as apps, lakehouses, warehouses, reports, and more. Home is the best place to start working in Microsoft Fabric, but users can also navigate directly to a workspace using the nav pane and workspace selector. Home contains the user's most important content and the left navigation pane links them to different views of their items and to creator resources. Power BI Home is different from the other product experiences."
      ],
      "text/plain": [
       "<IPython.core.display.HTML object>"
      ]
     },
     "metadata": {},
     "output_type": "display_data"
    },
    {
     "data": {
      "text/html": [
       "<b>Chunk Summary:</b>  Microsoft Fabric provides users with a top menu bar for orienting themselves, finding items, help, and sending feedback. It also offers options for creating new items, links to recommended content, and items organized by recent, favorites, and items shared with you by colleagues. The navigation pane along the left side is also available for users to locate and view content."
      ],
      "text/plain": [
       "<IPython.core.display.HTML object>"
      ]
     },
     "metadata": {},
     "output_type": "display_data"
    },
    {
     "data": {
      "text/html": [
       "<b>Chunk Summary:</b>  The nav pane in the Data Factory helps users quickly access their items. The workspace selector allows users to view and open workspaces, and when a workspace is opened, its name replaces the default \"My workspace\" in the nav pane. Workspaces are places to collaborate with colleagues and create collections of items. Users can search for workspaces by name or owner, or they can select the Workspaces icon in the nav pane to open a workspace."
      ],
      "text/plain": [
       "<IPython.core.display.HTML object>"
      ]
     },
     "metadata": {},
     "output_type": "display_data"
    },
    {
     "data": {
      "text/html": [
       "<b>Chunk Summary:</b>  Microsoft Fabric provides a nav pane with items such as notebooks, pipelines, reports, and lakehouses. The experience selector in the bottom left corner allows users to open and make active other product experiences. Searching and sorting is available by item, name, keyword, workspace, and more. The Help pane provides context sensitive help and suggested topics to learn how to use Microsoft Fabric features and terminology."
      ],
      "text/plain": [
       "<IPython.core.display.HTML object>"
      ]
     },
     "metadata": {},
     "output_type": "display_data"
    },
    {
     "data": {
      "text/html": [
       "<b>Chunk Summary:</b>  The Help pane is a great place to search for answers to your questions. If the self-help answers don't resolve your issue, there are more resources available. Account and license information can be found in the Account manager. Notifications, settings, and feedback can be found in the upper right corner of Home. The canvas in the center of Home provides additional content."
      ],
      "text/plain": [
       "<IPython.core.display.HTML object>"
      ]
     },
     "metadata": {},
     "output_type": "display_data"
    },
    {
     "data": {
      "text/html": [
       "<b>Chunk Summary:</b>  Power BI Home is a feature that allows users to create new items, view recommended items, recents, favorites, and content that has been shared with them. The Help pane is a feature-aware search engine that provides answers to questions in the Fabric documentation and Fabric community forums. Microsoft Fabric is currently in PREVIEW."
      ],
      "text/plain": [
       "<IPython.core.display.HTML object>"
      ]
     },
     "metadata": {},
     "output_type": "display_data"
    },
    {
     "data": {
      "text/html": [
       "<b>Chunk Summary:</b>  The Help pane in Fabric is a search engine and feature-aware state that provides recommended topics, resources relevant to the current context and location, and links to other resources. It is a great way to learn how to use Fabric by making selections and reading feature-aware documents."
      ],
      "text/plain": [
       "<IPython.core.display.HTML object>"
      ]
     },
     "metadata": {},
     "output_type": "display_data"
    },
    {
     "data": {
      "text/html": [
       "<b>Chunk Summary:</b>  Microsoft Fabric is a data hub that provides users with helpful articles and resources to learn about the platform. The Help pane can be opened from the upper-right corner of Fabric and allows users to browse recent documents, search the Microsoft documentation and community forums, and submit questions or ideas. Additionally, users can use the global search feature to filter and sort content. Microsoft Fabric is currently in PREVIEW."
      ],
      "text/plain": [
       "<IPython.core.display.HTML object>"
      ]
     },
     "metadata": {},
     "output_type": "display_data"
    },
    {
     "data": {
      "text/html": [
       "<b>Chunk Summary:</b>  Microsoft Fabric provides a search feature that allows users to find items by title, name, or keyword. Search is available from Home and other areas of Microsoft Fabric. In addition, a Filter by keyword field is available to narrow down the content on the canvas."
      ],
      "text/plain": [
       "<IPython.core.display.HTML object>"
      ]
     },
     "metadata": {},
     "output_type": "display_data"
    },
    {
     "data": {
      "text/html": [
       "<b>Chunk Summary:</b>  Microsoft Fabric offers sorting and filtering features to help users quickly locate content. Sorting criteria can be set by selecting a column header, while filters can be accessed by selecting the Filter option in the upper right corner. However, not all columns can be sorted and the filters available depend on the location in Microsoft Fabric. This article provides information about the pre-release product."
      ],
      "text/plain": [
       "<IPython.core.display.HTML object>"
      ]
     },
     "metadata": {},
     "output_type": "display_data"
    },
    {
     "data": {
      "text/html": [
       "<b>Chunk Summary:</b>  This article explains how to open the Fabric settings pane and describes the types of settings that can be accessed from there. Preferences, such as language and notifications, can be configured, as well as item settings and developer settings. Additionally, the resources and extensions section provides links to pages where users can manage personal/group storage and Power BI settings."
      ],
      "text/plain": [
       "<IPython.core.display.HTML object>"
      ]
     },
     "metadata": {},
     "output_type": "display_data"
    },
    {
     "data": {
      "text/html": [
       "<b>Chunk Summary:</b> \n",
       "\n",
       "Workspaces are places to collaborate with colleagues to create collections of Power BI items such as dashboards, datasets, workbooks, reports, datamarts, and dataflows. The Manage page allows users to manage connections, on-premises data gateways, embed codes, and virtual networks data gateways. The Azure Analysis Services page allows users to migrate datasets to Power BI Premium. The Governance and Insights settings provide links to help admins and users with their admin, governance, and compliance tasks. The Admin portal, Microsoft Purview hub, and What is Microsoft Fabric admin? links provide further resources and information."
      ],
      "text/plain": [
       "<IPython.core.display.HTML object>"
      ]
     },
     "metadata": {},
     "output_type": "display_data"
    },
    {
     "data": {
      "text/html": [
       "<b>Chunk Summary:</b>  This article provides tips on how to manage workspaces, including how to pin workspaces, use granular workspace roles, navigate to current workspace, and update workspace settings. It also explains how to use the contact list and other settings to manage the workspace."
      ],
      "text/plain": [
       "<IPython.core.display.HTML object>"
      ]
     },
     "metadata": {},
     "output_type": "display_data"
    },
    {
     "data": {
      "text/html": [
       "<b>Chunk Summary:</b>  The Workspace Contact List feature allows users to specify who receives notifications about issues in the workspace. The Workspace OneDrive feature allows users to configure a Microsoft 365 Group whose SharePoint document library is available to workspace users. It is important to note that permissions are not synchronized between users/groups with workspace access and users/groups with Microsoft 365 Group membership."
      ],
      "text/plain": [
       "<IPython.core.display.HTML object>"
      ]
     },
     "metadata": {},
     "output_type": "display_data"
    },
    {
     "data": {
      "text/html": [
       "<b>Chunk Summary:</b>  You can configure OneDrive and license mode for workspaces in Microsoft 365, as well as Azure Data Lake Gen 2 storage and Azure Log Analytics (LA) connections. System storage is also available for managing dataset storage. All of these settings can be managed by managing the membership of the Microsoft 365 Group."
      ],
      "text/plain": [
       "<IPython.core.display.HTML object>"
      ]
     },
     "metadata": {},
     "output_type": "display_data"
    },
    {
     "data": {
      "text/html": [
       "<b>Chunk Summary:</b>  This article explains how to manage and audit workspaces in Microsoft Fabric. It provides information on how to view system storage, delete items, remove a workspace, and manage users' ability to create workspaces. It also outlines the activities that Microsoft Fabric audits for workspaces."
      ],
      "text/plain": [
       "<IPython.core.display.HTML object>"
      ]
     },
     "metadata": {},
     "output_type": "display_data"
    },
    {
     "data": {
      "text/html": [
       "<b>Chunk Summary:</b>  This article explains how to create workspaces in Microsoft Fabric. It outlines the steps to create a workspace, including giving it a unique name, providing a description, and assigning it to a domain. It also provides considerations and limitations to be aware of, such as the maximum number of datasets and reports, and the types of characters that can be used in workspace names. Lastly, it provides instructions on how to give users access to workspaces."
      ],
      "text/plain": [
       "<IPython.core.display.HTML object>"
      ]
     },
     "metadata": {},
     "output_type": "display_data"
    },
    {
     "data": {
      "text/html": [
       "<b>Chunk Summary:</b> \n",
       "\n",
       "Advanced settings in Power BI allow users to add contacts to the contact list, change the license mode, and set the default storage format for datasets. For downgrading the workspace license type from Premium capacity to Pro (Shared capacity), any non-Power BI Fabric items must be removed first. Large datasets can be enabled with the Large dataset storage format setting."
      ],
      "text/plain": [
       "<IPython.core.display.HTML object>"
      ]
     },
     "metadata": {},
     "output_type": "display_data"
    },
    {
     "data": {
      "text/html": [
       "<b>Chunk Summary:</b>  Power BI template apps are developed for sharing outside an organization and data used with Power BI is stored in internal storage provided by Power BI by default. With the integration of dataflows and Azure Data Lake Storage Gen 2 (ADLS Gen2), users can store their dataflows in their organization's Azure Data Lake Storage Gen2 account. Workspace roles allow users to manage who can do what in a Microsoft Fabric workspace, and workspaces can be pinned to the top of the workspace flyout list for quick access."
      ],
      "text/plain": [
       "<IPython.core.display.HTML object>"
      ]
     },
     "metadata": {},
     "output_type": "display_data"
    },
    {
     "data": {
      "text/html": [
       "<b>Chunk Summary:</b>  Microsoft Fabric workspaces sit on top of OneLake and divide the data lake into separate containers that can be secured independently. Workspace roles in Microsoft Fabric extend the Power BI workspace roles by associating new Microsoft Fabric capabilities such as data integration and data exploration with existing workspace roles. Users in workspace roles have the ability to view and read content of data pipelines, notebooks, Spark job definitions, ML models and experiments, and Event streams. To grant access to a workspace, assign user groups or individuals to one of the workspace roles: Admin, Member, Contributor, or Viewer."
      ],
      "text/plain": [
       "<IPython.core.display.HTML object>"
      ]
     },
     "metadata": {},
     "output_type": "display_data"
    },
    {
     "data": {
      "text/html": [
       "<b>Chunk Summary:</b>  This article provides information on roles and permissions for users in workspaces in Power BI. It explains how to view and read content of KQL databases, KQL query-sets, and real-time dashboards, as well as how to connect to SQL endpoints of Lakehouse and Data warehouse. It also explains how to read Lakehouse and Data warehouse data and shortcuts through OneLake APIs and Spark, and how to grant viewers granular SQL permissions to read Lakehouse and Data warehouse data through SQL endpoints. Finally, it provides information on OneLake security, OneLake shortcuts, Data warehouse security, Data engineering security, and Data science roles and permissions."
      ],
      "text/plain": [
       "<IPython.core.display.HTML object>"
      ]
     },
     "metadata": {},
     "output_type": "display_data"
    },
    {
     "data": {
      "text/html": [
       "<b>Chunk Summary:</b>  Microsoft Fabric allows users to give access to their workspace by adding people or groups to different roles. Workspace creators are automatically admins and for users to have row-level security, they must be assigned the Viewer Role. To give access, use the Manage Access option on the workspace page, add the name or email, select a role, and add. Access can be modified later if needed."
      ],
      "text/plain": [
       "<IPython.core.display.HTML object>"
      ]
     },
     "metadata": {},
     "output_type": "display_data"
    },
    {
     "data": {
      "text/html": [
       "<b>Chunk Summary:</b>  This article explains how to use the OneLake data hub to find, explore, and use the Fabric data items in your organization. It provides a filterable list of all the data items you can access, a gallery of recommended data items, and a way of finding data items by workspace. It also explains how to use the three tabs in the data items list to narrow down the list of data items."
      ],
      "text/plain": [
       "<IPython.core.display.HTML object>"
      ]
     },
     "metadata": {},
     "output_type": "display_data"
    },
    {
     "data": {
      "text/html": [
       "<b>Chunk Summary:</b>  This article provides an overview of the Endorsement feature in the data hub, which allows users to view data items by name, endorsement status, owner, workspace, refresh time, sensitivity, and recommended items. It also explains how to find items by workspace and recommended items."
      ],
      "text/plain": [
       "<IPython.core.display.HTML object>"
      ]
     },
     "metadata": {},
     "output_type": "display_data"
    },
    {
     "data": {
      "text/html": [
       "<b>Chunk Summary:</b>  This article explains how to use the data hub to view recommended data items, filter by domain, and open an item's options menu. It also notes that the Explorer pane may list workspaces that the user does not have access to, but they will still be able to view the items within those workspaces that they do have access to."
      ],
      "text/plain": [
       "<IPython.core.display.HTML object>"
      ]
     },
     "metadata": {},
     "output_type": "display_data"
    },
    {
     "data": {
      "text/html": [
       "<b>Chunk Summary:</b>  Fabric provides two ways to endorse items to increase their visibility: promotion and certification. Promotion can be done by anyone with write permissions on the item, while certification requires an authorized reviewer. This article explains how to promote and certify items, as well as how to request certification if you're not authorized."
      ],
      "text/plain": [
       "<IPython.core.display.HTML object>"
      ]
     },
     "metadata": {},
     "output_type": "display_data"
    },
    {
     "data": {
      "text/html": [
       "<b>Chunk Summary:</b>  This article explains how to promote or certify a Power BI dataset. It outlines the steps for both promotion and certification, which include expanding the endorsement section and selecting either Promoted or Certified. Additionally, it explains how to request item certification if the user is not authorized to do so."
      ],
      "text/plain": [
       "<IPython.core.display.HTML object>"
      ]
     },
     "metadata": {},
     "output_type": "display_data"
    },
    {
     "data": {
      "text/html": [
       "<b>Chunk Summary:</b>  This article explains how to apply sensitivity labels to Microsoft Fabric items. It outlines the prerequisites and steps to open the settings of the item, expand the endorsement section, and select the link about how to get the item certified. It also notes that if the link redirects back to the note, the Power BI admin has not made any information available and the user should contact them directly. Finally, it provides links to read more about endorsement, enable content certification, read more about dataset discoverability, and apply sensitivity labels to Fabric items."
      ],
      "text/plain": [
       "<IPython.core.display.HTML object>"
      ]
     },
     "metadata": {},
     "output_type": "display_data"
    },
    {
     "data": {
      "text/html": [
       "<b>Chunk Summary:</b>  To apply sensitivity labels to Fabric items, you need a Power BI Pro or Premium Per User (PPU) license, edit permissions on the item, and the ability to use the label. There are two common ways to apply the label: from the flyout menu in the header or in the item settings. After applying the label, you can learn more about sensitivity labels in the overview."
      ],
      "text/plain": [
       "<IPython.core.display.HTML object>"
      ]
     },
     "metadata": {},
     "output_type": "display_data"
    }
   ],
   "source": [
    "# For the chaintype of MapReduce and Refine, we can also get insight into intermediate steps of the pipeline.\n",
    "# This way you can inspect the results from map_reduce chain type, each top similar chunk summary\n",
    "intermediateSteps = summary['intermediate_steps']\n",
    "for step in intermediateSteps:\n",
    "        display(HTML(\"<b>Chunk Summary:</b> \" + step))"
   ]
  },
  {
   "cell_type": "code",
   "execution_count": 9,
   "metadata": {},
   "outputs": [
    {
     "name": "stdout",
     "output_type": "stream",
     "text": [
      "\n",
      "Question: How do I create a new workspace in Microsoft Fabric?\n",
      "\n",
      "Sample Questions:\n",
      "1. What are the steps to create a new workspace in Microsoft Fabric?\n",
      "2. How do I access the workspace creation page in Microsoft Fabric?\n",
      "3. What are the requirements for creating a new workspace in Microsoft Fabric?\n",
      "4. How do I name and describe my new workspace in Microsoft Fabric?\n",
      "5. What are the available settings for my new workspace in Microsoft Fabric?\n"
     ]
    }
   ],
   "source": [
    "# Now that we have the summary, let's create the prompt to generates sample questions from the document\n",
    "from langchain.chains import LLMChain\n",
    "\n",
    "qaTemplate = \"\"\"Use the following portion of a long document.\n",
    "        {context}\n",
    "        \"\"\"\n",
    "\n",
    "qaPrompt = PromptTemplate(template=qaTemplate, input_variables=[\"context\"])\n",
    "\n",
    "combinePromptTemplate = \"\"\" \n",
    "        Given the following extracted parts of a long document and a question, recommend between 1-5 sample questions.\n",
    "        Don't repeat the same question or rewrite the question.\n",
    "        =========\n",
    "        {summaries}\n",
    "        =========\n",
    "        \"\"\"\n",
    "combinePrompt = PromptTemplate(\n",
    "    template=combinePromptTemplate, input_variables=[\"summaries\"]\n",
    ")\n",
    "qaChain = load_qa_with_sources_chain(llm,\n",
    "        chain_type=\"map_reduce\", question_prompt=qaPrompt, combine_prompt=combinePrompt)\n",
    "answer = qaChain({\"input_documents\": docs}, return_only_outputs=True)\n",
    "qa = answer['output_text']\n",
    "print(qa)\n"
   ]
  },
  {
   "cell_type": "code",
   "execution_count": null,
   "metadata": {},
   "outputs": [],
   "source": []
  }
 ],
 "metadata": {
  "kernelspec": {
   "display_name": "Python 3",
   "language": "python",
   "name": "python3"
  },
  "language_info": {
   "codemirror_mode": {
    "name": "ipython",
    "version": 3
   },
   "file_extension": ".py",
   "mimetype": "text/x-python",
   "name": "python",
   "nbconvert_exporter": "python",
   "pygments_lexer": "ipython3",
   "version": "3.9.13"
  },
  "orig_nbformat": 4
 },
 "nbformat": 4,
 "nbformat_minor": 2
}
