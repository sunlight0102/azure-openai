{
 "cells": [
  {
   "attachments": {},
   "cell_type": "markdown",
   "metadata": {},
   "source": [
    "### Summarization & Generating Sample QA\n",
    "A common use case is wanting to summarize long documents. This naturally runs into the context window limitations. Unlike in question-answering, you can't just do some semantic search hacks to only select the chunks of text most relevant to the question (because, in this case, there is no particular question - you want to summarize everything). So what do you do then?\n",
    "\n",
    "The most common way around this is to split the documents into chunks and then do summarization in a recursive manner. By this we mean you first summarize each chunk by itself, then you group the summaries into chunks and summarize each chunk of summaries, and continue doing that until only one is left."
   ]
  },
  {
   "attachments": {},
   "cell_type": "markdown",
   "metadata": {},
   "source": [
    "#### Set Environment variables"
   ]
  },
  {
   "cell_type": "code",
   "execution_count": 1,
   "metadata": {},
   "outputs": [],
   "source": [
    "import os  \n",
    "import json  \n",
    "import openai\n",
    "from Utilities.envVars import *\n",
    "\n",
    "# Set Search Service endpoint, index name, and API key from environment variables\n",
    "indexName = SearchIndex\n",
    "\n",
    "# Set OpenAI API key and endpoint\n",
    "openai.api_type = \"azure\"\n",
    "openai.api_version = OpenAiVersion\n",
    "openai_api_key = OpenAiKey\n",
    "assert openai_api_key, \"ERROR: Azure OpenAI Key is missing\"\n",
    "openai.api_key = openai_api_key\n",
    "openAiEndPoint = f\"{OpenAiEndPoint}\"\n",
    "assert openAiEndPoint, \"ERROR: Azure OpenAI Endpoint is missing\"\n",
    "assert \"openai.azure.com\" in openAiEndPoint.lower(), \"ERROR: Azure OpenAI Endpoint should be in the form: \\n\\n\\t<your unique endpoint identifier>.openai.azure.com\"\n",
    "openai.api_base = openAiEndPoint"
   ]
  },
  {
   "attachments": {},
   "cell_type": "markdown",
   "metadata": {},
   "source": [
    "#### Summarize the document/PDF (instead of getting that data from Vector store or document reposit)"
   ]
  },
  {
   "cell_type": "code",
   "execution_count": 2,
   "metadata": {},
   "outputs": [],
   "source": [
    "# Import required libraries\n",
    "# Import required libraries\n",
    "from langchain.llms.openai import AzureOpenAI, OpenAI\n",
    "from langchain.embeddings.openai import OpenAIEmbeddings\n",
    "from langchain.text_splitter import RecursiveCharacterTextSplitter\n",
    "from langchain.document_loaders import (\n",
    "    PDFMinerLoader,\n",
    "    UnstructuredFileLoader,\n",
    ")"
   ]
  },
  {
   "cell_type": "code",
   "execution_count": 3,
   "metadata": {},
   "outputs": [],
   "source": [
    "# Flexibility to change the call to OpenAI or Azure OpenAI\n",
    "embeddingModelType = \"azureopenai\"\n",
    "\n",
    "# Set the file name and the namespace for the index\n",
    "fileName = \"Fabric Get Started.pdf\"\n",
    "fabricGetStartedPath = \"Data/PDF/\" + fileName\n",
    "# Load the PDF with Document Loader available from Langchain\n",
    "loader = PDFMinerLoader(fabricGetStartedPath)\n",
    "rawDocs = loader.load()\n",
    "# Set the source \n",
    "for doc in rawDocs:\n",
    "    doc.metadata['source'] = fabricGetStartedPath\n",
    "\n",
    "textSplitter = RecursiveCharacterTextSplitter(chunk_size=1500, chunk_overlap=0)\n",
    "docs = textSplitter.split_documents(rawDocs)"
   ]
  },
  {
   "cell_type": "code",
   "execution_count": 4,
   "metadata": {},
   "outputs": [
    {
     "name": "stdout",
     "output_type": "stream",
     "text": [
      "Number of documents chunks generated from PDF :  58\n"
     ]
    }
   ],
   "source": [
    "print(\"Number of documents chunks generated from PDF : \", len(docs))"
   ]
  },
  {
   "cell_type": "code",
   "execution_count": 5,
   "metadata": {},
   "outputs": [],
   "source": [
    "from langchain.chains.qa_with_sources import load_qa_with_sources_chain\n",
    "from langchain.chat_models import AzureChatOpenAI, ChatOpenAI\n",
    "from langchain.embeddings.openai import OpenAIEmbeddings\n",
    "from langchain.docstore.document import Document\n",
    "from langchain.prompts import PromptTemplate\n",
    "from IPython.display import display, HTML\n",
    "from langchain.chains.summarize import load_summarize_chain\n",
    "\n",
    "embeddingModelType = \"azureopenai\"\n",
    "temperature = 0.3\n",
    "tokenLength = 1000\n",
    "\n",
    "if (embeddingModelType == 'azureopenai'):\n",
    "        openai.api_type = \"azure\"\n",
    "        openai.api_key = OpenAiKey\n",
    "        openai.api_version = OpenAiVersion\n",
    "        openai.api_base = f\"{OpenAiEndPoint}\"\n",
    "\n",
    "        llm = AzureChatOpenAI(\n",
    "                openai_api_base=openai.api_base,\n",
    "                openai_api_version=OpenAiVersion,\n",
    "                deployment_name=OpenAiChat,\n",
    "                temperature=temperature,\n",
    "                openai_api_key=OpenAiKey,\n",
    "                openai_api_type=\"azure\",\n",
    "                max_tokens=tokenLength)\n",
    "        embeddings = OpenAIEmbeddings(deployment=OpenAiEmbedding, chunk_size=1, openai_api_key=OpenAiKey)\n",
    "        logging.info(\"LLM Setup done\")\n",
    "elif embeddingModelType == \"openai\":\n",
    "        openai.api_type = \"open_ai\"\n",
    "        openai.api_base = \"https://api.openai.com/v1\"\n",
    "        openai.api_version = '2020-11-07' \n",
    "        openai.api_key = OpenAiApiKey\n",
    "        llm = ChatOpenAI(temperature=temperature,\n",
    "        openai_api_key=OpenAiApiKey,\n",
    "        model_name=\"gpt-3.5-turbo\",\n",
    "        max_tokens=tokenLength)\n",
    "        embeddings = OpenAIEmbeddings(openai_api_key=OpenAiApiKey)\n"
   ]
  },
  {
   "cell_type": "code",
   "execution_count": 6,
   "metadata": {},
   "outputs": [
    {
     "name": "stdout",
     "output_type": "stream",
     "text": [
      "Microsoft Fabric is a unified platform that simplifies data analytics by integrating various components into a single environment. It offers a range of analytics experiences, easy access to assets, centralized administration, and seamless integration of data and services. Users can ingest, process, analyze, and collaborate on data, with tutorials and resources provided. The document specifically focuses on the features and functionalities of Microsoft Fabric's Data Factory, including organizing actions, accessing items, managing workspace settings, and promoting and certifying items.\n"
     ]
    }
   ],
   "source": [
    "# Let's use the chaintype of mapreduce to summarize the document\n",
    "chainType = \"map_reduce\"\n",
    "summaryChain = load_summarize_chain(llm, chain_type=chainType, return_intermediate_steps=True)\n",
    "summary = summaryChain({\"input_documents\": docs}, return_only_outputs=True)\n",
    "outputAnswer = summary['output_text']\n",
    "print(outputAnswer)"
   ]
  },
  {
   "cell_type": "code",
   "execution_count": 7,
   "metadata": {},
   "outputs": [
    {
     "data": {
      "text/html": [
       "<b>Chunk Summary:</b> Microsoft Fabric is a unified platform that offers a comprehensive suite of services for data and analytics needs. It covers everything from data movement to data science, Real-Time Analytics, and business intelligence. Fabric simplifies analytics by providing an integrated, end-to-end, and easy-to-use product. It eliminates the need to piece together different services from multiple vendors and is built on a foundation of Software as a Service (SaaS)."
      ],
      "text/plain": [
       "<IPython.core.display.HTML object>"
      ]
     },
     "metadata": {},
     "output_type": "display_data"
    },
    {
     "data": {
      "text/html": [
       "<b>Chunk Summary:</b> Microsoft Fabric is a SaaS foundation that integrates various components from Power BI, Azure Synapse, and Azure Data Explorer into a single environment. It offers a range of analytics, shared experiences, easy access to assets, a unified data lake, centralized administration, and seamless integration of data and services. IT teams can configure core enterprise capabilities and permissions are automatically applied. Data sensitivity labels are also inherited across the suite."
      ],
      "text/plain": [
       "<IPython.core.display.HTML object>"
      ]
     },
     "metadata": {},
     "output_type": "display_data"
    },
    {
     "data": {
      "text/html": [
       "<b>Chunk Summary:</b> Microsoft Fabric is a platform that offers a comprehensive set of analytics experiences, tailored to specific tasks and personas. It includes data engineering, data factory, and data science components, allowing creators to focus on their work without needing to understand or manage the underlying infrastructure. The platform provides a Spark platform for data transformation, a Power Query-based data factory for connecting to various data sources, and a data science experience for building and deploying machine learning models."
      ],
      "text/plain": [
       "<IPython.core.display.HTML object>"
      ]
     },
     "metadata": {},
     "output_type": "display_data"
    },
    {
     "data": {
      "text/html": [
       "<b>Chunk Summary:</b> This summary provides an overview of the features and capabilities of Microsoft Fabric. It mentions the ability for data scientists to enrich organizational data with predictions and integrate them into BI reports, shifting from descriptive to predictive insights. It also highlights the industry-leading SQL performance and scale of the Data Warehouse component, which separates compute from storage. The Real-Time Analytics feature is described as the best-in-class engine for analyzing observational data collected from various sources. Lastly, Power BI is mentioned as the leading Business Intelligence platform that allows business owners to access data in Fabric quickly and make better decisions."
      ],
      "text/plain": [
       "<IPython.core.display.HTML object>"
      ]
     },
     "metadata": {},
     "output_type": "display_data"
    },
    {
     "data": {
      "text/html": [
       "<b>Chunk Summary:</b> Microsoft Fabric is a comprehensive big data analytics platform that brings together various experiences and implements data mesh architecture. It unifies the OneLake and lakehouse architectures, providing a unified location to store organizational data. OneLake simplifies the user experience by eliminating the need for infrastructure knowledge and eliminates data silos."
      ],
      "text/plain": [
       "<IPython.core.display.HTML object>"
      ]
     },
     "metadata": {},
     "output_type": "display_data"
    },
    {
     "data": {
      "text/html": [
       "<b>Chunk Summary:</b> OneLake is a unified storage system that allows developers to easily share and manage data while ensuring compliance with policies and security settings. It is hierarchical in structure and eliminates the need for upfront provisioning. OneLake provides a single-pane-of-glass file-system namespace that spans across users, regions, and clouds. Developers can create workspaces within a tenant, which act as folders, and within each workspace, they can create lakehouses that represent databases over a data lake. This allows every developer and business unit in the tenant to quickly create their own storage accounts."
      ],
      "text/plain": [
       "<IPython.core.display.HTML object>"
      ]
     },
     "metadata": {},
     "output_type": "display_data"
    },
    {
     "data": {
      "text/html": [
       "<b>Chunk Summary:</b> OneLake is a workspace in Microsoft Fabric that allows users to ingest, process, analyze, and collaborate on data. It is prewired to various Microsoft Fabric compute experiences and serves as the native store for Data Engineering, Data Warehouse, Data Factory, Power BI, and Real-Time Analytics. OneLake allows for instant mounting of existing PaaS storage accounts and enables easy sharing of data through shortcuts. It also supports data composition and analysis across multiple clouds with intelligent caching. The Microsoft Fabric (Preview) trial provides access to the Fabric product experiences."
      ],
      "text/plain": [
       "<IPython.core.display.HTML object>"
      ]
     },
     "metadata": {},
     "output_type": "display_data"
    },
    {
     "data": {
      "text/html": [
       "<b>Chunk Summary:</b> This document provides information on how to start a Fabric (Preview) trial, which is currently in the pre-release stage. Existing Power BI users can skip to starting the trial, while new users need to sign up for a Power BI free license before starting the Fabric (Preview) trial. The trial lasts until the general availability (GA) version is released, and then it is extended for an additional 60 days. The steps to start the trial are provided in the document."
      ],
      "text/plain": [
       "<IPython.core.display.HTML object>"
      ]
     },
     "metadata": {},
     "output_type": "display_data"
    },
    {
     "data": {
      "text/html": [
       "<b>Chunk Summary:</b> The summary states that the user's Account manager keeps track of the remaining days in their trial period for Fabric (Preview). The user can also see the countdown in their Fabric menu bar. The user is congratulated on having a Fabric (Preview) trial that includes a Power BI individual trial and a Fabric (Preview) trial capacity. If the Power BI administrator has enabled the preview of Microsoft Fabric for the tenant, the user has the option to start a Fabric (Preview) trial when trying to create a Fabric item in a workspace that doesn't support Fabric items. A trial capacity is a pool of resources allocated to Microsoft Fabric, and the size of the capacity determines the computation power available. With a Fabric (Preview) trial, the user has full access to all Fabric experiences and features, as well as OneLake storage up to 1 TB. They can create workspaces and collaborate with others in the same trial capacity."
      ],
      "text/plain": [
       "<IPython.core.display.HTML object>"
      ]
     },
     "metadata": {},
     "output_type": "display_data"
    },
    {
     "data": {
      "text/html": [
       "<b>Chunk Summary:</b> Fabric allows users to share and collaborate on datasets, warehouses, and notebooks. Users can create analytics solutions using these items. When starting a Fabric trial, users are given a certain number of capacity units (CUs) which determine the amount of usage allowed. Different functions consume different amounts of CUs. There is no limit on the number of workspaces or items that can be created, but usage is constrained by the availability of capacity units."
      ],
      "text/plain": [
       "<IPython.core.display.HTML object>"
      ]
     },
     "metadata": {},
     "output_type": "display_data"
    },
    {
     "data": {
      "text/html": [
       "<b>Chunk Summary:</b> The summary is about administering and ending a Fabric trial capacity. It explains that as the capacity owner and administrator, you have access to a detailed report on how capacity units are consumed. It also states that if you cancel the trial, the capacity and its workspaces will be deleted, and certain features and capabilities will no longer be available. Additionally, it mentions that Power BI administrators can enable or disable trials for paid features for both Power BI and Fabric, but there can only be one capacity administrator per trial capacity."
      ],
      "text/plain": [
       "<IPython.core.display.HTML object>"
      ]
     },
     "metadata": {},
     "output_type": "display_data"
    },
    {
     "data": {
      "text/html": [
       "<b>Chunk Summary:</b> Administrators currently cannot view metrics for individual capacities in Power BI, but there are plans to introduce this feature in the future. If the \"Start trial\" button is not visible in the Account manager, it may be because the Power BI administrator has disabled access or the tenant has exhausted its trial capacity limit. In such cases, users can contact the administrator to request access, start a trial using their own tenant, purchase a Fabric capacity from Azure, request another trial capacity user to share their capacity, or create a CSS request to increase the tenant trial capacity limits. Additionally, assigning a workspace to the trial capacity is not possible in Workplace settings."
      ],
      "text/plain": [
       "<IPython.core.display.HTML object>"
      ]
     },
     "metadata": {},
     "output_type": "display_data"
    },
    {
     "data": {
      "text/html": [
       "<b>Chunk Summary:</b> This bug occurs when the Power BI administrator turns off trials after a user has started one. To add a workspace to the trial capacity, the user needs to open the Admin portal and select Trial > Capacity settings. The region of the Fabric (Preview) trial capacity depends on the home region of the tenant. If the home region does not have Fabric enabled, the user will not be able to create Fabric items in the trial capacity. The Fabric (Preview) trial is different from an individual trial of Power BI paid as it allows access to the Fabric landing page."
      ],
      "text/plain": [
       "<IPython.core.display.HTML object>"
      ]
     },
     "metadata": {},
     "output_type": "display_data"
    },
    {
     "data": {
      "text/html": [
       "<b>Chunk Summary:</b> The Fabric (Preview) trial allows users to store Fabric workspaces and items, run Fabric experiences, and access non-Power BI experiences. Private links and autoscale are not available in the trial, and a separate Fabric capacity can be purchased for more compute capacity. The trial is different from a Proof of Concept (POC) and does not require customization or financial investment. An Azure subscription is not necessary for the trial, but a paid Fabric capacity can be purchased for existing Azure subscribers."
      ],
      "text/plain": [
       "<IPython.core.display.HTML object>"
      ]
     },
     "metadata": {},
     "output_type": "display_data"
    },
    {
     "data": {
      "text/html": [
       "<b>Chunk Summary:</b> This article provides information on how to migrate existing workspaces into a trial capacity using workspace settings. It also explains the terminology used in Microsoft Fabric, including terms specific to various Synapse services, Data Factory, and Power BI. The article emphasizes that Microsoft Fabric is currently in preview and may undergo substantial modifications before its release."
      ],
      "text/plain": [
       "<IPython.core.display.HTML object>"
      ]
     },
     "metadata": {},
     "output_type": "display_data"
    },
    {
     "data": {
      "text/html": [
       "<b>Chunk Summary:</b> This passage provides an overview of different items and concepts related to data engineering in the context of Fabric. It explains the concept of a tenant, which is a single instance of Fabric for an organization, and a workspace, which is a collection of items designed for collaboration. It also introduces the lakehouse, which is a collection of files, folders, and tables used for big data processing, and the notebook, which is a multi-language interactive programming tool."
      ],
      "text/plain": [
       "<IPython.core.display.HTML object>"
      ]
     },
     "metadata": {},
     "output_type": "display_data"
    },
    {
     "data": {
      "text/html": [
       "<b>Chunk Summary:</b> This passage discusses monitoring and visualizing Spark jobs, collaborating with a team, and using Data Factory connectors. It explains what a Spark application, Spark job, and Spark job definition are. It also mentions v-order, a write optimization for the parquet file format. Additionally, it mentions that Data Factory offers a variety of connectors for connecting to different data sources."
      ],
      "text/plain": [
       "<IPython.core.display.HTML object>"
      ]
     },
     "metadata": {},
     "output_type": "display_data"
    },
    {
     "data": {
      "text/html": [
       "<b>Chunk Summary:</b> This passage provides an overview of various data-related tools and features. It mentions connectors for connecting to different data stores, data pipelines for orchestrating data movement and transformation, Dataflow Gen2 for ingesting and transforming data, Data Wrangler as a notebook-based tool for exploratory data analysis, and machine learning experiments for organizing and controlling machine learning runs."
      ],
      "text/plain": [
       "<IPython.core.display.HTML object>"
      ]
     },
     "metadata": {},
     "output_type": "display_data"
    },
    {
     "data": {
      "text/html": [
       "<b>Chunk Summary:</b> This summary provides an overview of different terms related to machine learning and data analysis. It mentions the concept of a machine learning model, which is a trained file used to recognize patterns. It also explains the concept of a run, which refers to the execution of model code. The summary then discusses Synapse data warehousing, which includes a SQL Endpoint for querying delta table data and a Synapse Data Warehouse for traditional data warehousing. Lastly, it mentions Synapse Real-Time Analytics, which involves a KQL database for executing KQL queries and a KQL Queryset for managing and manipulating query results."
      ],
      "text/plain": [
       "<IPython.core.display.HTML object>"
      ]
     },
     "metadata": {},
     "output_type": "display_data"
    },
    {
     "data": {
      "text/html": [
       "<b>Chunk Summary:</b> The Microsoft Fabric platform offers event streams for capturing, transforming, and routing real-time events. OneLake shortcuts allow users to connect to existing data without copying it. Microsoft Fabric provides end-to-end tutorials to guide users through the data acquisition and consumption process. Microsoft Fabric is currently in preview."
      ],
      "text/plain": [
       "<IPython.core.display.HTML object>"
      ]
     },
     "metadata": {},
     "output_type": "display_data"
    },
    {
     "data": {
      "text/html": [
       "<b>Chunk Summary:</b> This document provides a list of tutorials for various experiences within Microsoft's Fabric platform. The tutorials cover topics such as data ingestion, transformation, analysis, and building reports. The tutorials are subject to modification before release, and Microsoft does not provide any warranties for the information provided."
      ],
      "text/plain": [
       "<IPython.core.display.HTML object>"
      ]
     },
     "metadata": {},
     "output_type": "display_data"
    },
    {
     "data": {
      "text/html": [
       "<b>Chunk Summary:</b> This summary provides an overview of the tutorials and resources available for data integration, data science, and price prediction using Microsoft's Data Factory and Fabric. It explains how to ingest and transform data, create AI models, and make predictions. It also mentions the availability of a decision guide for choosing between copy activity, dataflow, or Spark for different workloads."
      ],
      "text/plain": [
       "<IPython.core.display.HTML object>"
      ]
     },
     "metadata": {},
     "output_type": "display_data"
    },
    {
     "data": {
      "text/html": [
       "<b>Chunk Summary:</b> The summary states that the document discusses various aspects of data management, including data ingestion, transformation, wrangling, and profiling. It also mentions different roles involved in data management, such as data engineers, integrators, and business analysts. The document highlights the use of ETL, M, SQL, and Spark for data processing, and mentions the availability of low code or no code options. It also mentions the use of different development interfaces and connectors for data integration and transformation. The summary concludes by mentioning three scenarios for working with data in Fabric, involving data engineers and the need for ingesting large volumes of data from various sources."
      ],
      "text/plain": [
       "<IPython.core.display.HTML object>"
      ]
     },
     "metadata": {},
     "output_type": "display_data"
    },
    {
     "data": {
      "text/html": [
       "<b>Chunk Summary:</b> Leo, who has no experience with Spark, wants to process data on a schedule and prefers a drag and drop UI with minimal coding. He needs to get raw data from various sources into a consolidated lakehouse. He selects pipeline copy activity for raw data copying and loading. Mary, a data engineer, is tasked with cleaning and applying business logic to data and loading it into multiple destinations for reporting teams."
      ],
      "text/plain": [
       "<IPython.core.display.HTML object>"
      ]
     },
     "metadata": {},
     "output_type": "display_data"
    },
    {
     "data": {
      "text/html": [
       "<b>Chunk Summary:</b> Mary, an experienced Power Query user, decides to use Dataflow Gen 2 for data transformation. Adam, a data engineer, chooses to use Spark to build extract and transformation logic for customer review analytics in a large retail company's lakehouse."
      ],
      "text/plain": [
       "<IPython.core.display.HTML object>"
      ]
     },
     "metadata": {},
     "output_type": "display_data"
    },
    {
     "data": {
      "text/html": [
       "<b>Chunk Summary:</b> This article provides a decision guide for choosing between a data warehouse and a lakehouse for workloads using Microsoft Fabric. It outlines the properties of both options, such as data volume and type, developer personas and skills, data organization, and operations. The article also mentions that Microsoft Fabric is currently in preview and may be subject to modifications before its release."
      ],
      "text/plain": [
       "<IPython.core.display.HTML object>"
      ]
     },
     "metadata": {},
     "output_type": "display_data"
    },
    {
     "data": {
      "text/html": [
       "<b>Chunk Summary:</b> The summary states that Susan, a professional developer, is deciding between building a data warehouse or a lakehouse in Microsoft Fabric. After considering the available skill set and the need for multi-table transactions, Susan decides to use a data warehouse. This decision is based on her familiarity with SQL and the fact that the primary consumers of the data are also skilled with SQL and SQL analytical tools. The data warehouse allows the team to primarily interact with T-SQL and also allows Spark users in the organization to access the data."
      ],
      "text/plain": [
       "<IPython.core.display.HTML object>"
      ]
     },
     "metadata": {},
     "output_type": "display_data"
    },
    {
     "data": {
      "text/html": [
       "<b>Chunk Summary:</b> In Scenario 2, a data engineer named Rob needs to store and model large amounts of data. He decides to use a lakehouse, which allows the team to utilize their diverse skills and allows highly skilled team members to consume the data.\n",
       "\n",
       "In Scenario 3, a Power BI developer named Ash needs to build a data product for a business unit. They decide that a data warehouse or lakehouse is too complex for their needs and data volumes. They opt for a self-service, no-code solution with data volume under 100 GB, utilizing Power BI and Microsoft Office."
      ],
      "text/plain": [
       "<IPython.core.display.HTML object>"
      ]
     },
     "metadata": {},
     "output_type": "display_data"
    },
    {
     "data": {
      "text/html": [
       "<b>Chunk Summary:</b> This article provides an overview of navigating to items and actions from Microsoft Fabric Home. It explains that each product experience has its own Home and describes the similarities between them. The article also mentions that Microsoft Fabric is currently in preview and that the information provided may be subject to change. On Home, users can see items they have created and have permission to use from all the workspaces they access."
      ],
      "text/plain": [
       "<IPython.core.display.HTML object>"
      ]
     },
     "metadata": {},
     "output_type": "display_data"
    },
    {
     "data": {
      "text/html": [
       "<b>Chunk Summary:</b> The summary states that Microsoft Fabric allows users to create and share various items such as apps, reports, and more. The Home section is not specific to a workspace and may include items from different workspaces. Users can navigate to a specific workspace using the nav pane and workspace selector. The Home section provides access to items and can be searched using global search. The layout and content of the Home section vary for each user and product experience. The left navigation pane provides links to different views of items and creator resources, and there is a selector for switching between product experiences."
      ],
      "text/plain": [
       "<IPython.core.display.HTML object>"
      ]
     },
     "metadata": {},
     "output_type": "display_data"
    },
    {
     "data": {
      "text/html": [
       "<b>Chunk Summary:</b> This summary discusses the top menu bar in Microsoft Fabric, which includes options for finding items, help, and sending feedback. It also mentions the Account manager control for managing your Fabric trial. The summary highlights the options for creating new items and links to recommended content. It explains how your items are organized by recent, favorites, and items shared with you. The summary emphasizes that only the content you have access to will appear on your Home page. It mentions different ways to locate and view your content, such as searching or using the navigation pane."
      ],
      "text/plain": [
       "<IPython.core.display.HTML object>"
      ]
     },
     "metadata": {},
     "output_type": "display_data"
    },
    {
     "data": {
      "text/html": [
       "<b>Chunk Summary:</b> The nav pane in Microsoft Fabric's Data Factory is used to organize actions and quickly access items. The bottom section of the nav pane displays workspaces, which can be opened using the workspace selector. The nav pane remains visible throughout the Microsoft Fabric experience and includes options such as Home, Browse, OneLake data hub, Create, and Workspaces. Workspaces are collaborative spaces for creating collections of items. They can be found and opened by searching or selecting the Workspaces icon in the nav pane. The opened workspace is displayed on the canvas."
      ],
      "text/plain": [
       "<IPython.core.display.HTML object>"
      ]
     },
     "metadata": {},
     "output_type": "display_data"
    },
    {
     "data": {
      "text/html": [
       "<b>Chunk Summary:</b> The nav pane allows users to view the content of a workspace, including notebooks, pipelines, reports, and lakehouses. The experience selector in the bottom left corner allows users to open and make active different Microsoft Fabric product experiences. Users can search, sort, and filter their content using various methods. The Help pane provides context-sensitive help and allows users to search for answers to their questions. It displays articles related to the current view and may also show community posts. Users can leave the Help pane open for assistance or close it to save screen space."
      ],
      "text/plain": [
       "<IPython.core.display.HTML object>"
      ]
     },
     "metadata": {},
     "output_type": "display_data"
    },
    {
     "data": {
      "text/html": [
       "<b>Chunk Summary:</b> The Help pane is a useful tool for finding answers to questions. It allows users to search for information and provides self-help resources. If the self-help answers are not sufficient, there are additional resources available at the bottom of the Help pane. The Account manager provides information about the user's account and license. The Home page also includes icons for notifications, settings, and feedback. The center area of the Home page is called the canvas and contains the user's content."
      ],
      "text/plain": [
       "<IPython.core.display.HTML object>"
      ]
     },
     "metadata": {},
     "output_type": "display_data"
    },
    {
     "data": {
      "text/html": [
       "<b>Chunk Summary:</b> The article discusses the updates and features of the canvas in Power BI Home. It explains that the canvas displays options for creating new items, recommended items, recents, favorites, and shared content. It also mentions that the Help pane in Fabric is a feature-aware search engine for finding answers to questions in the Fabric documentation and community forums. The article notes that Microsoft Fabric is currently in preview and may be subject to substantial modifications before its release."
      ],
      "text/plain": [
       "<IPython.core.display.HTML object>"
      ]
     },
     "metadata": {},
     "output_type": "display_data"
    },
    {
     "data": {
      "text/html": [
       "<b>Chunk Summary:</b> The Help pane in Fabric is the default view when opened without entering any search terms. It provides recommended topics and resources relevant to the user's current context and location. It has three sections: feature-aware documents, forum topics, and other resources. The Help pane also functions as a search engine, allowing users to enter keywords to find relevant information and resources. It is a useful tool for learning and getting started with Fabric, as the feature-aware documents update based on the user's selections and location in Fabric."
      ],
      "text/plain": [
       "<IPython.core.display.HTML object>"
      ]
     },
     "metadata": {},
     "output_type": "display_data"
    },
    {
     "data": {
      "text/html": [
       "<b>Chunk Summary:</b> The Help pane in Microsoft Fabric provides articles to help users learn about the data hub. Users can access the Help pane by selecting the ? icon in the upper-right corner of Fabric. They can then browse recent features, open documents, search for keywords, and access community forums for assistance. If further help is needed, users can ask the community, submit a question, or access the Support site. Additionally, the Global search feature allows users to search, filter, and sort through their content in Microsoft Fabric."
      ],
      "text/plain": [
       "<IPython.core.display.HTML object>"
      ]
     },
     "metadata": {},
     "output_type": "display_data"
    },
    {
     "data": {
      "text/html": [
       "<b>Chunk Summary:</b> This document explains how to use the search function in Microsoft Fabric to find items by title, name, or keyword. It also mentions the option to filter content by keyword to narrow down search results."
      ],
      "text/plain": [
       "<IPython.core.display.HTML object>"
      ]
     },
     "metadata": {},
     "output_type": "display_data"
    },
    {
     "data": {
      "text/html": [
       "<b>Chunk Summary:</b> This article explains how to sort and filter content lists in Microsoft Fabric, a preview product. Sorting helps users find items in long lists, and can be done by selecting the arrow next to the name. Filtering is another way to quickly locate content, and can be accessed by selecting \"Filter\" in the upper right corner. The available filters depend on the location in Microsoft Fabric. The article also mentions that not all columns can be sorted."
      ],
      "text/plain": [
       "<IPython.core.display.HTML object>"
      ]
     },
     "metadata": {},
     "output_type": "display_data"
    },
    {
     "data": {
      "text/html": [
       "<b>Chunk Summary:</b> This article explains how to open the Fabric settings pane and outlines the different types of settings that can be accessed from there. The settings include preferences, general settings, notifications, item settings, developer settings, and resources and extensions. The Fabric settings pane allows users to configure various aspects of their account and personalize their experience within the system."
      ],
      "text/plain": [
       "<IPython.core.display.HTML object>"
      ]
     },
     "metadata": {},
     "output_type": "display_data"
    },
    {
     "data": {
      "text/html": [
       "<b>Chunk Summary:</b> This summary provides an overview of the different features and functionalities available in Power BI. It mentions the ability to manage various Power BI items such as dashboards, datasets, workbooks, reports, datamarts, and dataflows within a workspace. It also highlights the options to manage connections, on-premises data gateways, embed codes, and virtual networks data gateways. The summary further mentions the capability to migrate Azure Analysis Services datasets to Power BI Premium. Additionally, it discusses the governance and insights settings for admin, governance, and compliance tasks. It briefly mentions the availability of the Microsoft Purview hub for Power BI admins to view insights about sensitive data and access governance and compliance capabilities. The summary concludes by mentioning that workspaces are collaborative spaces for creating collections of items in Power BI."
      ],
      "text/plain": [
       "<IPython.core.display.HTML object>"
      ]
     },
     "metadata": {},
     "output_type": "display_data"
    },
    {
     "data": {
      "text/html": [
       "<b>Chunk Summary:</b> This article provides information on how to work with workspaces, including tips on managing access, pinning favorite workspaces, and using different roles for permissions. It also explains how to navigate to the current workspace and manage workspace settings. Workspace admins have the ability to update and manage various configurations, such as contact lists, OneDrive, licenses, and storage."
      ],
      "text/plain": [
       "<IPython.core.display.HTML object>"
      ]
     },
     "metadata": {},
     "output_type": "display_data"
    },
    {
     "data": {
      "text/html": [
       "<b>Chunk Summary:</b> The summary states that the workspace settings can be accessed by selecting the workspace in the navigation pane and then choosing \"Workspace settings\" from the options menu. The contact list feature allows users to specify who receives notifications about issues in the workspace. The Workspace OneDrive feature allows users to configure a Microsoft 365 Group whose SharePoint document library is accessible to workspace users. It is recommended to give access to the workspace to the same Microsoft 365 Group whose files are being used."
      ],
      "text/plain": [
       "<IPython.core.display.HTML object>"
      ]
     },
     "metadata": {},
     "output_type": "display_data"
    },
    {
     "data": {
      "text/html": [
       "<b>Chunk Summary:</b> This passage discusses how to configure storage and manage workspace access in Microsoft 365 Groups. It also mentions the option to assign workspaces to different capacities within an organization. Additionally, it explains how to configure Azure connections for dataflow storage and log analytics in workspace settings. The passage also mentions the availability of system storage for managing dataset storage."
      ],
      "text/plain": [
       "<IPython.core.display.HTML object>"
      ]
     },
     "metadata": {},
     "output_type": "display_data"
    },
    {
     "data": {
      "text/html": [
       "<b>Chunk Summary:</b> This document explains the features and administration of workspace accounts. Users can publish reports and datasets, view their storage usage, and delete items to free up space. Deleting a dataset may affect reports and dashboards. Admins have the ability to delete workspaces, manage users' workspace creation abilities, and audit workspace activities."
      ],
      "text/plain": [
       "<IPython.core.display.HTML object>"
      ]
     },
     "metadata": {},
     "output_type": "display_data"
    },
    {
     "data": {
      "text/html": [
       "<b>Chunk Summary:</b> This article provides instructions on how to create workspaces in Microsoft Fabric. Workspaces are collections of items such as lakehouses, warehouses, and reports. The article explains the steps to create a workspace, including providing a unique name and optional description, assigning the workspace to a domain, and accessing advanced settings. The article also mentions limitations, such as the maximum number of datasets and reports per dataset in a workspace, and certain special characters not supported in workspace names."
      ],
      "text/plain": [
       "<IPython.core.display.HTML object>"
      ]
     },
     "metadata": {},
     "output_type": "display_data"
    },
    {
     "data": {
      "text/html": [
       "<b>Chunk Summary:</b> The advanced settings in a workspace allow users to manage the contact list, change the license mode, and set the default storage format for Power BI datasets. The contact list is used to notify people about changes in the workspace, the license mode determines the features available in the workspace, and the default storage format affects the size of datasets that can be stored. Downgrading the license type may require removing certain items from the workspace."
      ],
      "text/plain": [
       "<IPython.core.display.HTML object>"
      ]
     },
     "metadata": {},
     "output_type": "display_data"
    },
    {
     "data": {
      "text/html": [
       "<b>Chunk Summary:</b> This document provides information on various features and options in Power BI. It discusses the creation of template apps and the storage of dataflows in Azure Data Lake Storage Gen2. It also explains how to give users access to workspaces and pin favorite workspaces for quick access. The document suggests reading more about workspaces and roles in workspaces for further information."
      ],
      "text/plain": [
       "<IPython.core.display.HTML object>"
      ]
     },
     "metadata": {},
     "output_type": "display_data"
    },
    {
     "data": {
      "text/html": [
       "<b>Chunk Summary:</b> Microsoft Fabric workspaces are a feature that allows for the division of data lakes into separate containers that can be secured independently. These workspaces extend the capabilities of Power BI workspaces by adding data integration and data exploration features. Roles can be assigned to individuals or user groups, and access to workspaces can be granted by assigning users to different roles. Users in these roles have additional capabilities related to Microsoft Fabric."
      ],
      "text/plain": [
       "<IPython.core.display.HTML object>"
      ]
     },
     "metadata": {},
     "output_type": "display_data"
    },
    {
     "data": {
      "text/html": [
       "<b>Chunk Summary:</b> The summary states that users can view and read content from KQL databases, query-sets, and real-time dashboards. They can also connect to SQL endpoints of Lakehouse and Data warehouse to read data and shortcuts. Different capabilities and permissions are assigned to different roles such as Admin, Member, Contributor, and Viewer. Additional permissions may be required to read data from shortcut destinations. The summary also mentions the availability of OneLake APIs and Spark for reading data. It provides links for more information on shortcut security, granting SQL permissions, creating workspaces, and giving users access to workspaces."
      ],
      "text/plain": [
       "<IPython.core.display.HTML object>"
      ]
     },
     "metadata": {},
     "output_type": "display_data"
    },
    {
     "data": {
      "text/html": [
       "<b>Chunk Summary:</b> This passage explains how to give others access to a workspace in Microsoft Fabric. It states that workspace creators are automatically admins and can assign different roles to users. It also mentions that for row-level security, users should be assigned the Viewer Role. The passage provides step-by-step instructions on how to add people or groups to a workspace and modify their access. The summary advises readers to read about the workspace experience and create workspaces as next steps."
      ],
      "text/plain": [
       "<IPython.core.display.HTML object>"
      ]
     },
     "metadata": {},
     "output_type": "display_data"
    },
    {
     "data": {
      "text/html": [
       "<b>Chunk Summary:</b> The OneLake data hub allows users to easily find, explore, and use data items in their organization. It provides a list of accessible data items, a gallery of recommended items, and options for filtering and organizing the items. Users can open the data hub by selecting the icon in the navigation pane and can find items by filtering or searching. The data hub also includes tabs for narrowing down the list of data items."
      ],
      "text/plain": [
       "<IPython.core.display.HTML object>"
      ]
     },
     "metadata": {},
     "output_type": "display_data"
    },
    {
     "data": {
      "text/html": [
       "<b>Chunk Summary:</b> This document provides an overview of the columns in a list of data items, including the name, endorsement status, owner, workspace, last refresh time, next scheduled refresh time, sensitivity, and how to find items by workspace or explore recommended data."
      ],
      "text/plain": [
       "<IPython.core.display.HTML object>"
      ]
     },
     "metadata": {},
     "output_type": "display_data"
    },
    {
     "data": {
      "text/html": [
       "<b>Chunk Summary:</b> The data hub displays recommended data items that have been certified or recently accessed. Users can select a domain to only view data items belonging to that domain. Each data item has an options menu for various actions, such as managing permissions. The Explorer pane may list workspaces that users don't have access to, but they can still view the items they have permission for."
      ],
      "text/plain": [
       "<IPython.core.display.HTML object>"
      ]
     },
     "metadata": {},
     "output_type": "display_data"
    },
    {
     "data": {
      "text/html": [
       "<b>Chunk Summary:</b> This article explains how to promote and certify items in Microsoft Fabric to increase their visibility. Promotion allows users to highlight valuable items for others to use, while certification ensures that items meet quality standards and can be trusted across the organization. Only authorized reviewers can certify items, and item owners can request certification if they are not authorized. Power BI dashboards cannot be endorsed. Users must have write permissions on an item to promote it."
      ],
      "text/plain": [
       "<IPython.core.display.HTML object>"
      ]
     },
     "metadata": {},
     "output_type": "display_data"
    },
    {
     "data": {
      "text/html": [
       "<b>Chunk Summary:</b> This document provides instructions on how to promote and certify content in Power BI. It explains how to promote a dataset or item by selecting the \"Promoted\" option in the endorsement section of the settings. It also outlines the process of certifying an item, which involves obtaining write permissions, reviewing the item against certification standards, and selecting the \"Certified\" option in the endorsement section. Additionally, the document includes steps for requesting item certification if the user is not authorized to certify it themselves."
      ],
      "text/plain": [
       "<IPython.core.display.HTML object>"
      ]
     },
     "metadata": {},
     "output_type": "display_data"
    },
    {
     "data": {
      "text/html": [
       "<b>Chunk Summary:</b> This document provides instructions on how to apply sensitivity labels to Microsoft Fabric items. It also mentions that if the Certified button is greyed out, the user is not authorized to certify content and should contact the Power BI admin for more information. It notes that Microsoft Fabric is currently in preview and provides a link for applying sensitivity labels in Power BI Desktop."
      ],
      "text/plain": [
       "<IPython.core.display.HTML object>"
      ]
     },
     "metadata": {},
     "output_type": "display_data"
    },
    {
     "data": {
      "text/html": [
       "<b>Chunk Summary:</b> To apply sensitivity labels to Fabric items, you need a Power BI Pro or Premium Per User license and edit permissions on the item. If you are unable to apply a sensitivity label or if it is greyed out, you may not have the necessary permissions and should contact tech support. There are two ways to apply a sensitivity label: through the flyout menu in the item header or in the item settings. The next step is to review the sensitivity label overview."
      ],
      "text/plain": [
       "<IPython.core.display.HTML object>"
      ]
     },
     "metadata": {},
     "output_type": "display_data"
    }
   ],
   "source": [
    "# For the chaintype of MapReduce and Refine, we can also get insight into intermediate steps of the pipeline.\n",
    "# This way you can inspect the results from map_reduce chain type, each top similar chunk summary\n",
    "intermediateSteps = summary['intermediate_steps']\n",
    "for step in intermediateSteps:\n",
    "        display(HTML(\"<b>Chunk Summary:</b> \" + step))"
   ]
  },
  {
   "cell_type": "code",
   "execution_count": 8,
   "metadata": {},
   "outputs": [
    {
     "name": "stderr",
     "output_type": "stream",
     "text": [
      "WARNING:langchain.chat_models.openai:Retrying langchain.chat_models.openai.ChatOpenAI.completion_with_retry.<locals>._completion_with_retry in 1.0 seconds as it raised ServiceUnavailableError: The server is overloaded or not ready yet..\n"
     ]
    },
    {
     "name": "stdout",
     "output_type": "stream",
     "text": [
      "Sample questions:\n",
      "1. What are the advantages of using Microsoft Fabric for data analytics?\n",
      "2. How does Microsoft Fabric integrate various components from Power BI, Azure Synapse, and Azure Data Explorer?\n",
      "3. What are the key features of Microsoft Fabric's Data Visualization experience?\n",
      "4. How does Microsoft Fabric support data governance and effective data asset management?\n",
      "5. What are the benefits of using the lakehouse architecture in Microsoft Fabric for data processing and analytics?\n",
      "6. What are the different components in Azure Data Factory?\n",
      "7. What is the purpose of a pipeline in Data Factory?\n",
      "8. How does a trigger work in Data Factory?\n",
      "9. What is the role of an integration runtime in Data Factory?\n",
      "10. What is a linked service in Data Factory and how is it used?\n",
      "11. How do you open the nav pane in Microsoft Fabric?\n",
      "12. How can you search for a specific workspace in Microsoft Fabric?\n",
      "13. How do you customize the Home canvas in Microsoft Fabric?\n",
      "14. What is the purpose of the Help pane in Microsoft Fabric?\n",
      "15. How do you use the search feature in Microsoft Fabric to find specific content?\n",
      "16. What is the default storage format for dataflows?\n",
      "17. How long does data in dataflows retain by default?\n",
      "18. How often are dataflows refreshed by default?\n",
      "19. What is the default parallelism level for dataflows?\n",
      "20. What is the default privacy setting for dataflows?\n"
     ]
    }
   ],
   "source": [
    "# Now that we have the summary, let's create the prompt to generates sample questions from the document\n",
    "from langchain.chains import LLMChain\n",
    "\n",
    "qaTemplate = \"\"\"Use the following portion of a long document.\n",
    "        {context}\n",
    "        \"\"\"\n",
    "\n",
    "qaPrompt = PromptTemplate(template=qaTemplate, input_variables=[\"context\"])\n",
    "\n",
    "combinePromptTemplate = \"\"\" \n",
    "        Given the following extracted parts of a long document and a question, recommend between 1-5 sample questions.\n",
    "        Don't repeat the same question or rewrite the question.\n",
    "        =========\n",
    "        {summaries}\n",
    "        =========\n",
    "        \"\"\"\n",
    "combinePrompt = PromptTemplate(\n",
    "    template=combinePromptTemplate, input_variables=[\"summaries\"]\n",
    ")\n",
    "qaChain = load_qa_with_sources_chain(llm,\n",
    "        chain_type=\"map_reduce\", question_prompt=qaPrompt, combine_prompt=combinePrompt)\n",
    "answer = qaChain({\"input_documents\": docs}, return_only_outputs=True)\n",
    "qa = answer['output_text']\n",
    "print(qa)\n"
   ]
  },
  {
   "cell_type": "code",
   "execution_count": null,
   "metadata": {},
   "outputs": [],
   "source": []
  }
 ],
 "metadata": {
  "kernelspec": {
   "display_name": "Python 3",
   "language": "python",
   "name": "python3"
  },
  "language_info": {
   "codemirror_mode": {
    "name": "ipython",
    "version": 3
   },
   "file_extension": ".py",
   "mimetype": "text/x-python",
   "name": "python",
   "nbconvert_exporter": "python",
   "pygments_lexer": "ipython3",
   "version": "3.9.13"
  },
  "orig_nbformat": 4
 },
 "nbformat": 4,
 "nbformat_minor": 2
}
