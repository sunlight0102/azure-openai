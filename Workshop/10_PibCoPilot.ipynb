{
 "cells": [
  {
   "attachments": {},
   "cell_type": "markdown",
   "metadata": {},
   "source": [
    "### PIB CoPilot\n",
    "PIBs are also used to create a pitchbook by assessing a company's strategy, competitive positioning, review of financial statements, industry dynamics, and trends within the industry. \n",
    "\n",
    "- News releases: News articles that may affect a company's stock price or growth prospect would be something that analysts look into, particularly within a 6-12 month time horizon.\n",
    "- SEC filings: These regulatory documents require a company to file Form 10-K and Form 10-Q with the SEC on an ongoing basis. Form 10-K is a financial overview and commentary for the last year, usually found on the company's website. Form 10-Q is similar to form 10-K, but it is a report for the last quarter instead of the previous year.\n",
    "- Equity research reports: Look into key forecasts for metrics like Revenue, EBITDA, and EPS for the company or competing firms to form a consensus estimate. \n",
    "- Investor Presentations: Companies provide historical information as an important foundation from which forecasts are made to guide key forecasting drivers. \n",
    "- Press Release: Can be found in the investor relations section of most companies' websites and contains the financial statements which are used in forms 10-K and 10-Q. \n",
    "- Conference calls: The same day a company issues its quarterly press release, it will also hold a conference call. On the call, analysts often learn details about management guidance. These conference calls are transcribed by several service providers and can be accessed by subscribers of large financial data providers."
   ]
  },
  {
   "cell_type": "code",
   "execution_count": 1,
   "metadata": {},
   "outputs": [],
   "source": [
    "import os  \n",
    "import json  \n",
    "import openai\n",
    "from Utilities.envVars import *\n",
    "\n",
    "# Set Search Service endpoint, index name, and API key from environment variables\n",
    "indexName = SearchIndex\n",
    "\n",
    "# Set OpenAI API key and endpoint\n",
    "openai.api_type = \"azure\"\n",
    "openai.api_version = OpenAiVersion\n",
    "openai_api_key = OpenAiKey\n",
    "assert openai_api_key, \"ERROR: Azure OpenAI Key is missing\"\n",
    "openai.api_key = openai_api_key\n",
    "openAiEndPoint = f\"https://{OpenAiService}.openai.azure.com\"\n",
    "assert openAiEndPoint, \"ERROR: Azure OpenAI Endpoint is missing\"\n",
    "assert \"openai.azure.com\" in openAiEndPoint.lower(), \"ERROR: Azure OpenAI Endpoint should be in the form: \\n\\n\\t<your unique endpoint identifier>.openai.azure.com\"\n",
    "openai.api_base = openAiEndPoint\n",
    "davincimodel = OpenAiDavinci\n"
   ]
  },
  {
   "cell_type": "code",
   "execution_count": 2,
   "metadata": {},
   "outputs": [],
   "source": [
    "from langchain.chains.qa_with_sources import load_qa_with_sources_chain\n",
    "from langchain.llms.openai import AzureOpenAI, OpenAI\n",
    "from langchain.embeddings.openai import OpenAIEmbeddings\n",
    "from langchain.docstore.document import Document\n",
    "from langchain.prompts import PromptTemplate\n",
    "from IPython.display import display, HTML\n",
    "from langchain.chains.summarize import load_summarize_chain\n",
    "from langchain.utilities import BingSearchAPIWrapper\n",
    "from langchain.chains.summarize import load_summarize_chain\n",
    "from langchain.docstore.document import Document\n",
    "from langchain.text_splitter import RecursiveCharacterTextSplitter\n",
    "import pandas as pd\n",
    "from langchain.prompts import PromptTemplate\n",
    "from datetime import datetime\n",
    "from pytz import timezone\n",
    "from dateutil.relativedelta import relativedelta\n",
    "from datetime import timedelta\n",
    "from Utilities.pibCopilot import indexDocs, createPressReleaseIndex, createStockNewsIndex, mergeDocs\n",
    "from Utilities.pibCopilot import indexEarningCallSections, createEarningCallVectorIndex, createEarningCallIndex, performCogSearch, createSecFilingIndex, findSecFiling\n",
    "import typing\n",
    "from Utilities.fmp import *\n",
    "from langchain.chat_models import AzureChatOpenAI, ChatOpenAI\n",
    "\n",
    "# Flexibility to change the call to OpenAI or Azure OpenAI\n",
    "embeddingModelType = \"azureopenai\"\n",
    "temperature = 0\n",
    "tokenLength = 1000\n",
    "\n",
    "if (embeddingModelType == 'azureopenai'):\n",
    "    openai.api_type = \"azure\"\n",
    "    openai.api_key = OpenAiKey\n",
    "    openai.api_version = OpenAiVersion\n",
    "    openai.api_base = OpenAiBase\n",
    "\n",
    "    llm = AzureOpenAI(deployment_name=OpenAiDavinci,\n",
    "            temperature=temperature,\n",
    "            openai_api_key=OpenAiKey,\n",
    "            max_tokens=tokenLength,\n",
    "            batch_size=10, \n",
    "            max_retries=12)\n",
    "    \n",
    "    llmChat = AzureChatOpenAI(\n",
    "                openai_api_base=openai.api_base,\n",
    "                openai_api_version=OpenAiVersion,\n",
    "                deployment_name=OpenAiChat,\n",
    "                temperature=temperature,\n",
    "                openai_api_key=OpenAiKey,\n",
    "                openai_api_type=\"azure\",\n",
    "                max_tokens=tokenLength)\n",
    "    \n",
    "    logging.info(\"LLM Setup done\")\n",
    "    embeddings = OpenAIEmbeddings(deployment=OpenAiEmbedding, chunk_size=1, openai_api_key=OpenAiKey)\n",
    "elif embeddingModelType == \"openai\":\n",
    "    openai.api_type = \"open_ai\"\n",
    "    openai.api_base = \"https://api.openai.com/v1\"\n",
    "    openai.api_version = '2020-11-07' \n",
    "    openai.api_key = OpenAiApiKey\n",
    "    llm = OpenAI(temperature=temperature,\n",
    "            openai_api_key=OpenAiApiKey,\n",
    "            max_tokens=tokenLength)\n",
    "    embeddings = OpenAIEmbeddings(openai_api_key=OpenAiApiKey)\n",
    "\n",
    "    llmChat = ChatOpenAI(temperature=temperature,\n",
    "        openai_api_key=OpenAiApiKey,\n",
    "        model_name=\"gpt-3.5-turbo\",\n",
    "        max_tokens=tokenLength)\n",
    "    \n",
    "    embeddings = OpenAIEmbeddings(openai_api_key=OpenAiApiKey)"
   ]
  },
  {
   "cell_type": "code",
   "execution_count": 3,
   "metadata": {},
   "outputs": [],
   "source": [
    "apikey = FmpKey\n",
    "symbol: str = \"AAPL\"\n",
    "cik = \"320193\"\n",
    "#symbols: typing.List[str] = [\"AAPL\", \"CSCO\", \"QQQQ\"]\n",
    "#exchange: str = \"NYSE\"\n",
    "#exchanges: typing.List[str] = [\"NYSE\", \"NASDAQ\"]\n",
    "#query: str = \"AA\"\n",
    "#limit: int = 3\n",
    "#period: str = \"quarter\"\n",
    "#download: bool = True"
   ]
  },
  {
   "cell_type": "code",
   "execution_count": 4,
   "metadata": {},
   "outputs": [],
   "source": [
    "central = timezone('US/Central')\n",
    "today = datetime.now(central)\n",
    "currentYear = today.year\n",
    "historicalDate = today - relativedelta(years=3)\n",
    "historicalYear = historicalDate.year\n",
    "historicalDate = historicalDate.strftime(\"%Y-%m-%d\")\n",
    "totalYears = currentYear - historicalYear"
   ]
  },
  {
   "attachments": {},
   "cell_type": "markdown",
   "metadata": {},
   "source": [
    "#### Paid Data - Company Profile and Key Executives"
   ]
  },
  {
   "cell_type": "code",
   "execution_count": 50,
   "metadata": {},
   "outputs": [
    {
     "name": "stdout",
     "output_type": "stream",
     "text": [
      "  symbol         mktCap companyName currency         cik          isin  \\\n",
      "0   AAPL  2966590185462  Apple Inc.      USD  0000320193  US0378331005   \n",
      "\n",
      "               exchange              industry      sector             address  \\\n",
      "0  NASDAQ Global Select  Consumer Electronics  Technology  One Apple Park Way   \n",
      "\n",
      "        city state    zip                website  \\\n",
      "0  Cupertino    CA  95014  https://www.apple.com   \n",
      "\n",
      "                                         description  \n",
      "0  Apple Inc. designs, manufactures, and markets ...  \n"
     ]
    }
   ],
   "source": [
    "profile = companyProfile(apikey=apikey, symbol=symbol)\n",
    "df = pd.DataFrame.from_dict(pd.json_normalize(profile))\n",
    "print(df[['symbol', 'mktCap', 'companyName', 'currency', 'cik', 'isin', 'exchange', 'industry', 'sector', 'address', 'city', 'state', 'zip', 'website', 'description']])"
   ]
  },
  {
   "cell_type": "code",
   "execution_count": 51,
   "metadata": {},
   "outputs": [
    {
     "name": "stdout",
     "output_type": "stream",
     "text": [
      "                                               title                     name\n",
      "0           Senior Vice President of People & Retail     Ms. Deirdre  O'Brien\n",
      "1                 Chief Executive Officer & Director      Mr. Timothy D. Cook\n",
      "2                          Chief Information Officer          Ms. Mary  Demby\n",
      "3          Senior Director of Corporation Accounting         Mr. Chris  Kondo\n",
      "4                           Chief Technology Officer        Mr. James  Wilson\n",
      "5                            Chief Operating Officer  Mr. Jeffrey E. Williams\n",
      "6    Chief Financial Officer & Senior Vice President        Mr. Luca  Maestri\n",
      "7                    Senior Vice President of Retail     Ms. Deirdre  O'Brien\n",
      "8         Senior Vice President, Gen. Counsel & Sec.   Ms. Katherine L. Adams\n",
      "9       Senior Vice President of Worldwide Marketing        Mr. Greg  Joswiak\n",
      "10  Senior Director of Investor Relations & Treasury        Ms. Nancy  Paxton\n"
     ]
    }
   ],
   "source": [
    "executives = keyExecutives(apikey=apikey, symbol=symbol)\n",
    "df = pd.DataFrame.from_dict(pd.json_normalize(executives),orient='columns')\n",
    "print(df[['title', 'name']])"
   ]
  },
  {
   "attachments": {},
   "cell_type": "markdown",
   "metadata": {},
   "source": [
    "#### With the company profile and key executives, we can ask Bing Search to get the biography of the all Key executives and ask OpenAI to summarize it - Public Data"
   ]
  },
  {
   "cell_type": "code",
   "execution_count": 52,
   "metadata": {},
   "outputs": [
    {
     "name": "stdout",
     "output_type": "stream",
     "text": [
      "Summary for  Ms. Deirdre  O'Brien is :   Deirdre O'Brien (born c. 1966) is an American businesswoman and Senior Vice President of Retail and People at Apple Inc. She is responsible for talent development, recruiting, employee relations, business partnerships, benefits, compensation, and inclusion and diversity initiatives.\n",
      "Summary for  Mr. Timothy D. Cook is :   Tim Cook is the CEO of Apple Inc. since 2011 and was born on November 1, 1960 in Robertsdale, Alabama.\n",
      "Summary for  Ms. Mary  Demby is :   Two senior executives at Apple, Anna Wojcicki and Matt Fischer, have announced their departure from the company, according to Bloomberg.\n",
      "Summary for  Mr. Chris  Kondo is :   Chris Kondo is a Senior Director of Corporate Accounting at Apple in Santa Clara, California, with 483 followers on LinkedIn.\n",
      "Summary for  Mr. James  Wilson is :   Apple Inc. is a leading American technology company that specializes in consumer electronics, computer software, and online services. It is one of the Big Five companies in the U.S. information technology industry.\n",
      "Summary for  Mr. Jeffrey E. Williams is :   Jeffrey E. Williams is the Chief Operating Officer of Apple, Inc. He has an undergraduate degree from North Carolina State University and an MBA from Duke University, and previously worked as a Principal at International Business Machines Corp.\n",
      "Summary for  Mr. Luca  Maestri is :   Luca Maestri is an Italian businessman and the Chief Financial Officer of Apple Inc. He holds a Bachelor of Economics from LUISS University in Rome and a Master of Science in Management from Boston University, and has held various positions in the finance and accounting industry prior to joining Apple.\n",
      "Summary for  Ms. Deirdre  O'Brien is :   Deirdre O'Brien (born c. 1966) is an American businesswoman and Senior Vice President of Retail and People at Apple Inc. She is responsible for talent development, recruiting, employee relations, business partnerships, benefits, compensation, and inclusion and diversity initiatives.\n",
      "Summary for  Ms. Katherine L. Adams is :   In 2003, she moved to Honeywell where she worked for 14 years, becoming the senior vice president and general counsel. She was responsible for the global legal strategy of the company, overseeing legal affairs for its 128,000 employees in over 100 countries.\n",
      "Summary for  Mr. Greg  Joswiak is :   Greg \"Joz\" Joswiak is Apple's Senior Vice President of Worldwide Marketing, having been with the company since 1986. He has been a key figure in the development and launch of iconic products such as the iPod and iPhone, and reports directly to CEO Tim Cook.\n",
      "Summary for  Ms. Nancy  Paxton is :   Nancy Paxton is a highly experienced former Senior Director of Investor Relations at Apple Inc., with her compensation, education, and memberships available for review.\n"
     ]
    }
   ],
   "source": [
    "os.environ['BING_SUBSCRIPTION_KEY'] = BingKey\n",
    "os.environ['BING_SEARCH_URL'] = BingUrl\n",
    "tools = []\n",
    "topK = 1\n",
    "\n",
    "for executive in executives:\n",
    "    name = executive['name']\n",
    "    title = executive['title']\n",
    "    query = f\"Give me brief biography of {name} who is {title} at {symbol} as it relates to {symbol}\"\n",
    "    bingSearch = BingSearchAPIWrapper(k=topK)\n",
    "    results = bingSearch.run(query=query)\n",
    "    chain = load_summarize_chain(llm, chain_type=\"map_reduce\")\n",
    "    docs = [Document(page_content=results)]\n",
    "    summary = chain.run(docs)\n",
    "    print(\"Summary for \", name, \"is : \", summary)"
   ]
  },
  {
   "attachments": {},
   "cell_type": "markdown",
   "metadata": {},
   "source": [
    "#### Paid Data -  Get the Earnings Call Transcript for each quarter for last 3 years"
   ]
  },
  {
   "cell_type": "code",
   "execution_count": 5,
   "metadata": {},
   "outputs": [
    {
     "name": "stdout",
     "output_type": "stream",
     "text": [
      "Search index earningcalls already exists\n",
      "Processing ticker : AMZN\n",
      "Processing year and Quarter : 2020-Q1\n",
      "Processing year and Quarter : 2020-Q2\n",
      "Processing year and Quarter : 2020-Q3\n",
      "Processing year and Quarter : 2020-Q4\n",
      "Processing ticker : AMZN\n",
      "Processing year and Quarter : 2021-Q1\n",
      "Processing year and Quarter : 2021-Q2\n",
      "Processing year and Quarter : 2021-Q3\n",
      "Processing year and Quarter : 2021-Q4\n",
      "Processing ticker : AMZN\n",
      "Processing year and Quarter : 2022-Q1\n",
      "Processing year and Quarter : 2022-Q2\n",
      "Processing year and Quarter : 2022-Q3\n",
      "Processing year and Quarter : 2022-Q4\n",
      "Processing ticker : AMZN\n",
      "Processing year and Quarter : 2023-Q1\n",
      "Processing year and Quarter : 2023-Q2\n",
      "Processing year and Quarter : 2023-Q3\n",
      "Processing year and Quarter : 2023-Q4\n",
      "Total docs: 13\n",
      "\tIndexed 13 sections, 13 succeeded\n"
     ]
    }
   ],
   "source": [
    "# Call the paid data (FMP) API\n",
    "# Get the earning call transcripts for the last 3 years and merge documents into the index.\n",
    "i = 0\n",
    "earningsData = []\n",
    "earningIndexName = 'earningcalls'\n",
    "symbol = 'AMZN'\n",
    "# Create the index if it does not exist\n",
    "createEarningCallIndex(SearchService, SearchKey, earningIndexName)\n",
    "for i in range(totalYears + 1):\n",
    "    print(f\"Processing ticker : {symbol}\")\n",
    "    processYear = historicalYear + i\n",
    "    Quarters = ['Q1', 'Q2', 'Q3', 'Q4']\n",
    "    for quarter in Quarters:\n",
    "        print(f\"Processing year and Quarter : {processYear}-{quarter}\")\n",
    "        earningTranscript = earningCallTranscript(apikey=apikey, symbol=symbol, year=str(processYear), quarter=quarter)\n",
    "        for transcript in earningTranscript:\n",
    "            symbol = transcript['symbol']\n",
    "            quarter = transcript['quarter']\n",
    "            year = transcript['year']\n",
    "            callDate = transcript['date']\n",
    "            content = transcript['content']\n",
    "            todayYmd = today.strftime(\"%Y-%m-%d\")\n",
    "            id = f\"{symbol}-{year}-{quarter}\"\n",
    "            earningsData.append({\n",
    "                \"id\": id,\n",
    "                \"symbol\": symbol,\n",
    "                \"quarter\": str(quarter),\n",
    "                \"year\": str(year),\n",
    "                \"callDate\": callDate,\n",
    "                \"content\": content,\n",
    "                #\"inserteddate\": datetime.now(central).strftime(\"%Y-%m-%d\"),\n",
    "            })\n",
    "# Index the documents in the earning calls index\n",
    "mergeDocs(SearchService, SearchKey, earningIndexName, earningsData)"
   ]
  },
  {
   "attachments": {},
   "cell_type": "markdown",
   "metadata": {},
   "source": [
    "#### Split the transcripts as per Split Method, Chunk Size and Overlap"
   ]
  },
  {
   "cell_type": "code",
   "execution_count": 6,
   "metadata": {},
   "outputs": [
    {
     "name": "stdout",
     "output_type": "stream",
     "text": [
      "Last earning call transcripts was on : 2023-04-27 19:55:02\n",
      "Number of documents chunks generated from Call transcript :  38\n"
     ]
    }
   ],
   "source": [
    "# Let's just use the latest earnings call transcript to create the documents that we want to use it for generative AI tasks\n",
    "splitter = RecursiveCharacterTextSplitter(chunk_size=1500, chunk_overlap=50)\n",
    "\n",
    "print(\"Last earning call transcripts was on :\", earningsData[-1]['callDate'])\n",
    "rawDocs = splitter.create_documents([earningsData[-1]['content']])\n",
    "docs = splitter.split_documents(rawDocs)\n",
    "print(\"Number of documents chunks generated from Call transcript : \", len(docs))\n"
   ]
  },
  {
   "attachments": {},
   "cell_type": "markdown",
   "metadata": {},
   "source": [
    "#### Create the vector store embedding data for chunked sections"
   ]
  },
  {
   "cell_type": "code",
   "execution_count": 7,
   "metadata": {},
   "outputs": [
    {
     "name": "stdout",
     "output_type": "stream",
     "text": [
      "Search index latestearningcalls already exists\n",
      "Total docs: 38\n",
      "Found 38 sections for AMZN 2023 Q1\n",
      "Already indexed 38 sections for AMZN 2023 Q1\n"
     ]
    }
   ],
   "source": [
    "# Store the last index of the earning call transcript in vector Index\n",
    "earningVectorIndexName = 'latestearningcalls'\n",
    "createEarningCallVectorIndex(SearchService, SearchKey, earningVectorIndexName)\n",
    "\n",
    "indexEarningCallSections(OpenAiService, OpenAiKey, OpenAiVersion, OpenAiApiKey, SearchService, SearchKey,\n",
    "                         embeddingModelType, OpenAiEmbedding, earningVectorIndexName, docs,\n",
    "                         earningsData[-1]['callDate'], earningsData[-1]['symbol'], earningsData[-1]['year'],\n",
    "                         earningsData[-1]['quarter'])"
   ]
  },
  {
   "cell_type": "code",
   "execution_count": 36,
   "metadata": {},
   "outputs": [],
   "source": [
    "# Helper function to find the answer to a question\n",
    "def findAnswer(chainType, topK, question, indexName):\n",
    "    # Since we already index our document, we can perform the search on the query to retrieve \"TopK\" documents\n",
    "    r = performCogSearch(OpenAiService, OpenAiKey, OpenAiVersion, OpenAiApiKey, SearchService, SearchKey, embeddingModelType, OpenAiEmbedding, question, \n",
    "                         indexName, topK, returnFields=['id', 'symbol', 'quarter', 'year', 'callDate', 'content'])\n",
    "\n",
    "    if r == None:\n",
    "        docs = [Document(page_content=\"No results found\")]\n",
    "    else :\n",
    "        docs = [\n",
    "            Document(page_content=doc['content'], metadata={\"id\": doc['id'], \"source\": ''})\n",
    "            for doc in r\n",
    "            ]\n",
    "\n",
    "    if chainType == \"map_reduce\":\n",
    "        # Prompt for MapReduce\n",
    "        qaTemplate = \"\"\"Use the following portion of a long document to see if any of the text is relevant to answer the question.\n",
    "                Return any relevant text.\n",
    "                {context}\n",
    "                Question: {question}\n",
    "                Relevant text, if any :\"\"\"\n",
    "\n",
    "        qaPrompt = PromptTemplate(\n",
    "            template=qaTemplate, input_variables=[\"context\", \"question\"]\n",
    "        )\n",
    "\n",
    "        combinePromptTemplate = \"\"\"Given the following extracted parts of a long document and a question, create a final answer.\n",
    "        If you don't know the answer, just say that you don't know. Don't try to make up an answer.\n",
    "        If the answer is not contained within the text below, say \\\"I don't know\\\".\n",
    "\n",
    "        QUESTION: {question}\n",
    "        =========\n",
    "        {summaries}\n",
    "        =========\n",
    "        \"\"\"\n",
    "        combinePrompt = PromptTemplate(\n",
    "            template=combinePromptTemplate, input_variables=[\"summaries\", \"question\"]\n",
    "        )\n",
    "\n",
    "        qaChain = load_qa_with_sources_chain(llm, chain_type=chainType, question_prompt=qaPrompt, \n",
    "                                            combine_prompt=combinePrompt, \n",
    "                                            return_intermediate_steps=True)\n",
    "        answer = qaChain({\"input_documents\": docs, \"question\": question})\n",
    "        outputAnswer = answer['output_text']\n",
    "\n",
    "    elif chainType == \"stuff\":\n",
    "    # Prompt for ChainType = Stuff\n",
    "        template = \"\"\"\n",
    "                Given the following extracted parts of a long document and a question, create a final answer. \n",
    "                If you don't know the answer, just say that you don't know. Don't try to make up an answer. \n",
    "                If the answer is not contained within the text below, say \\\"I don't know\\\".\n",
    "\n",
    "                QUESTION: {question}\n",
    "                =========\n",
    "                {summaries}\n",
    "                =========\n",
    "                \"\"\"\n",
    "        qaPrompt = PromptTemplate(template=template, input_variables=[\"summaries\", \"question\"])\n",
    "        qaChain = load_qa_with_sources_chain(llm, chain_type=chainType, prompt=qaPrompt)\n",
    "        answer = qaChain({\"input_documents\": docs, \"question\": question}, return_only_outputs=True)\n",
    "        outputAnswer = answer['output_text']\n",
    "    elif chainType == \"default\":\n",
    "        # Default Prompt\n",
    "        qaChain = load_qa_with_sources_chain(llm, chain_type=\"stuff\")\n",
    "        answer = qaChain({\"input_documents\": docs, \"question\": question}, return_only_outputs=True)\n",
    "        outputAnswer = answer['output_text']\n",
    "\n",
    "    return outputAnswer"
   ]
  },
  {
   "attachments": {},
   "cell_type": "markdown",
   "metadata": {},
   "source": [
    "#### 10 best questions to ask during earning call - Let's see if we can find the answers to these questions in the transcripts\n",
    "- What are some of the current and looming threats to the business?\n",
    "- What is the debt level or debt ratio of the company right now?\n",
    "- How do you feel about the upcoming product launches or new products?\n",
    "- How are you managing or investing in your human capital?\n",
    "- How do you track the trends in your industry?\n",
    "- Are there major slowdowns in the production of goods?\n",
    "- How will you maintain or surpass this performance in the next few quarters?\n",
    "- What will your market look like in five years as a result of using your product or service?\n",
    "- How are you going to address the risks that will affect the long-term growth of the company?\n",
    "- How is the performance this quarter going to affect the long-term goals of the company?"
   ]
  },
  {
   "cell_type": "code",
   "execution_count": 33,
   "metadata": {},
   "outputs": [
    {
     "name": "stdout",
     "output_type": "stream",
     "text": [
      "Answer 1 :  \n",
      "Some of the current and looming threats to the business include changes in global economic and geopolitical conditions, recessionary fears, inflation, interest rates, regional labor market constraints, world events, the rate of growth of the internet, online commerce and cloud services, and the potential for difficult decisions such as eliminating corporate roles.\n",
      "Answer 2 :  \n",
      "I don't know.\n",
      "Answer 3 :  \n",
      "I don't know.\n",
      "Answer 4 :  \n",
      "I don't know.\n",
      "Answer 5 :  \n",
      "I don't know.\n",
      "Answer 6 :  \n",
      "I don't know.\n",
      "Answer 7 :  \n",
      "I don't know.\n",
      "Answer 8 :  \n",
      "I don't know.\n",
      "Answer 9 :  \n",
      "I don't know.\n",
      "Answer 10 :  \n",
      "I don't know.\n"
     ]
    }
   ],
   "source": [
    "answer1 = findAnswer('map_reduce', 3, \"What are some of the current and looming threats to the business?\", earningVectorIndexName)\n",
    "answer2 = findAnswer('map_reduce', 3, \"What is the debt level or debt ratio of the company right now?\", earningVectorIndexName)\n",
    "answer3 = findAnswer('map_reduce', 3, \"How do you feel about the upcoming product launches or new products?\", earningVectorIndexName)\n",
    "answer4 = findAnswer('map_reduce', 3, \"How are you managing or investing in your human capital?\", earningVectorIndexName)\n",
    "answer5 = findAnswer('map_reduce', 3, \"How do you track the trends in your industry?\", earningVectorIndexName)\n",
    "answer6 = findAnswer('map_reduce', 3, \"Are there major slowdowns in the production of goods?\", earningVectorIndexName)\n",
    "answer7 = findAnswer('map_reduce', 3, \"How will you maintain or surpass this performance in the next few quarters?\", earningVectorIndexName)\n",
    "answer8 = findAnswer('map_reduce', 3, \"What will your market look like in five years as a result of using your product or service?\", earningVectorIndexName)\n",
    "answer9 = findAnswer('map_reduce', 3, \"How are you going to address the risks that will affect the long-term growth of the company?\", earningVectorIndexName)\n",
    "answer10 = findAnswer('map_reduce', 3, \"How is the performance this quarter going to affect the long-term goals of the company?\", earningVectorIndexName)\n",
    "print(\"Answer 1 : \", answer1)\n",
    "print(\"Answer 2 : \", answer2)\n",
    "print(\"Answer 3 : \", answer3)\n",
    "print(\"Answer 4 : \", answer4)\n",
    "print(\"Answer 5 : \", answer5)\n",
    "print(\"Answer 6 : \", answer6)\n",
    "print(\"Answer 7 : \", answer7)\n",
    "print(\"Answer 8 : \", answer8)\n",
    "print(\"Answer 9 : \", answer9)\n",
    "print(\"Answer 10 : \", answer10)"
   ]
  },
  {
   "attachments": {},
   "cell_type": "markdown",
   "metadata": {},
   "source": [
    "#### Another specific question to ask\n",
    "- Revenue: Provide key information about revenue for the quarter\n",
    "- Profitability: Provide key information about profits and losses (P&L) for the quarter\n",
    "- Industry Trends: Provide key information about industry trends for the quarter\n",
    "- Trend: Provide key information about business trends discussed on the call\n",
    "- Risk: Provide key information about risk discussed on the call\n",
    "- AI: Provide key information about AI discussed on the call\n",
    "- M&A: Provide any information about mergers and acquisitions (M&A) discussed on the call.\n",
    "- Guidance: Provide key information about guidance discussed on the call"
   ]
  },
  {
   "cell_type": "code",
   "execution_count": 38,
   "metadata": {},
   "outputs": [
    {
     "name": "stdout",
     "output_type": "stream",
     "text": [
      "Answer 1 :  \n",
      "The answer to the question is: For the first quarter, our worldwide net sales were $127.4 billion, up 9% year-over-year, or 11% excluding approximately 210 basis points of unfavorable impact from changes in foreign exchange rates. We reported $4.8 billion in operating income, above the top end of our guidance range.\n",
      "Answer 2 :  \n",
      "The key information about profits and losses (P&L) for the quarter is that the company reported $4.8 billion in operating income, which was negatively impacted by an estimated employee severance charge of approximately $470 million.\n",
      "Answer 3 :  \n",
      "The key information about industry trends for the quarter is that sellers comprised 59% of overall unit sales in Q1, up from 55% one year ago. Revenue for advertising services was up 23% year-over-year, excluding the impact from changes in foreign exchange rates. In AWS, net sales were $21.4 billion in the first quarter, up 16% year-over-year and representing an annualized sales run rate of more than $85 billion.\n",
      "Answer 4 :  \n",
      "The key business trends discussed on the call include changes in global economic and geopolitical conditions, customer demand and spending, the impact of recessionary fears, inflation, interest rates, regional labor market constraints, world events, the rate of growth of the internet, online commerce and cloud services.\n",
      "Answer 5 :  \n",
      "I don't know.\n",
      "Answer 6 :  \n",
      "I don't know.\n",
      "Answer 7 :  \n",
      "I don't know.\n",
      "Answer 8 :  \n",
      "The key information about guidance discussed on the call is that it assumes no additional business acquisitions, restructurings or legal settlements, and incorporates order trends that have been seen to date and what is believed to be appropriate assumptions.\n"
     ]
    }
   ],
   "source": [
    "answer1 = findAnswer('map_reduce', 3, \"Provide key information about revenue for the quarter\", earningVectorIndexName)\n",
    "answer2 = findAnswer('map_reduce', 3, \"Provide key information about profits and losses (P&L) for the quarter\", earningVectorIndexName)\n",
    "answer3 = findAnswer('map_reduce', 3, \"Provide key information about industry trends for the quarter\", earningVectorIndexName)\n",
    "answer4 = findAnswer('map_reduce', 3, \"Provide key information about business trends discussed on the call\", earningVectorIndexName)\n",
    "answer5 = findAnswer('map_reduce', 3, \"Provide key information about risk discussed on the call\", earningVectorIndexName)\n",
    "answer6 = findAnswer('map_reduce', 3, \"Provide key information about AI discussed on the call\", earningVectorIndexName)\n",
    "answer7 = findAnswer('map_reduce', 3, \"Provide any information about mergers and acquisitions (M&A) discussed on the call.\", earningVectorIndexName)\n",
    "answer8 = findAnswer('map_reduce', 3, \"Provide key information about guidance discussed on the call\", earningVectorIndexName)\n",
    "print(\"Answer 1 : \", answer1)\n",
    "print(\"Answer 2 : \", answer2)\n",
    "print(\"Answer 3 : \", answer3)\n",
    "print(\"Answer 4 : \", answer4)\n",
    "print(\"Answer 5 : \", answer5)\n",
    "print(\"Answer 6 : \", answer6)\n",
    "print(\"Answer 7 : \", answer7)\n",
    "print(\"Answer 8 : \", answer8)\n"
   ]
  },
  {
   "attachments": {},
   "cell_type": "markdown",
   "metadata": {},
   "source": [
    "#### Since we have the lastest transcripts in the document format, let's summarize the information with following specific summary"
   ]
  },
  {
   "cell_type": "code",
   "execution_count": 8,
   "metadata": {},
   "outputs": [
    {
     "name": "stdout",
     "output_type": "stream",
     "text": [
      " Financial Results Summary: Amazon reported a net sales increase of 37% to $108.5 billion in the fourth quarter of 2020, compared to $80.0 billion in fourth quarter of 2019. Operating income increased to $4.4 billion in the fourth quarter of 2020, compared to $3.9 billion in fourth quarter of 2019.\n",
      "\n",
      "Business Highlights: Amazon is investing in brand protection efforts, including industry-leading technology, to provide a great selling experience free from bad actors. They are also transitioning their U.S. fulfillment network to a regionalized model, which they believe will improve both delivery speed and their cost to serve customers over time.\n",
      "\n",
      "Future Outlook: Amazon is focused on helping customers optimize their AWS spend, reducing linehaul shipping rates, and continuing to build customer relationships and a business that will outlast all of us.\n",
      "\n",
      "Business Risks: Amazon is aware of the risks associated with their business, including the potential for increased competition, the potential for regulatory changes, and the potential for economic downturns.\n",
      "\n",
      "Management Positive Sentiment: Management is confident in their ability to continue to invest in their business, innovate, and provide customers with great experiences.\n",
      "\n",
      "Management Negative Sentiment: Management is concerned about the potential for increased competition, regulatory changes, and economic downturns.\n",
      "\n",
      "Future Growth Strategies: Amazon plans to continue investing in brand protection efforts, transitioning their U.S. fulfillment network to a regionalized model, helping customers optimize their AWS spend, reducing linehaul shipping rates, and building customer relationships.\n"
     ]
    }
   ],
   "source": [
    "# With the data indexed, let's summarize the information\n",
    "# While we are using the standard prompt by langchain, you can modify the prompt to suit your needs\n",
    "        # 8. Risk Increase: Please provide a summary of the risks that have increased.\n",
    "        # 9. Risk Decrease: Please provide a summary of the risks that have decreased.\n",
    "        # 10. Opportunity Increase: Please provide a summary of the opportunities that have increased.\n",
    "        # 11. Opportunity Decrease: Please provide a summary of the opportunities that have decreased.\n",
    "promptTemplate = \"\"\"You are an AI assistant tasked with summarizing earning call transcript. \n",
    "        Your summary should accurately capture the key information in the document while avoiding the omission of any domain-specific words. \n",
    "        Please generate a concise and comprehensive summary that includes following bulleted numbered format. \n",
    "        1. Financial Results Summary: Please provide a summary of the financial results.\n",
    "        2. Business Highlights: Please provide a summary of the business highlights.\n",
    "        3. Future Outlook: Please provide a summary of the future outlook.\n",
    "        4. Business Risks: Please provide a summary of the business risks.\n",
    "        5. Management Positive Sentiment: Please provide a summary of the what management is confident about.\n",
    "        6. Management Negative Sentiment: Please provide a summary of the what management is concerned about.\n",
    "        7. Future Growth Strategies : Please generate a concise and comprehensive strategies summary that includes the information in  bulleted format. \n",
    "        Please remember to use clear language and maintain the integrity of the original information without missing any important details:\n",
    "        {text}\n",
    "        \"\"\"\n",
    "customPrompt = PromptTemplate(template=promptTemplate, input_variables=[\"text\"])\n",
    "chainType = \"map_reduce\"\n",
    "summaryChain = load_summarize_chain(llm, chain_type=chainType, return_intermediate_steps=True, \n",
    "                                    map_prompt=customPrompt, combine_prompt=customPrompt)\n",
    "summary = summaryChain({\"input_documents\": docs}, return_only_outputs=True)\n",
    "outputAnswer = summary['output_text']\n",
    "print(outputAnswer)"
   ]
  },
  {
   "attachments": {},
   "cell_type": "markdown",
   "metadata": {},
   "source": [
    "#### In case if we wanted to see summary of summary, run code below"
   ]
  },
  {
   "cell_type": "code",
   "execution_count": 5,
   "metadata": {},
   "outputs": [],
   "source": [
    "# # For the chaintype of MapReduce and Refine, we can also get insight into intermediate steps of the pipeline.\n",
    "# # This way you can inspect the results from map_reduce chain type, each top similar chunk summary\n",
    "# intermediateSteps = summary['intermediate_steps']\n",
    "# for step in intermediateSteps:\n",
    "#         display(HTML(\"<b>Chunk Summary:</b> \" + step))"
   ]
  },
  {
   "cell_type": "code",
   "execution_count": 5,
   "metadata": {},
   "outputs": [
    {
     "name": "stdout",
     "output_type": "stream",
     "text": [
      "Search index pressreleases already exists\n",
      "Processing ticker : AAPL\n",
      "Total docs: 164\n",
      "\tIndexed 164 sections, 164 succeeded\n"
     ]
    }
   ],
   "source": [
    "# For now we are calling API to get data, but otherwise we need to ensure the data is not persisted in our \n",
    "# index repository before calling again, if it is persisted then we need to delete it first\n",
    "counter = 0\n",
    "pressReleasesList = []\n",
    "pressReleaseIndexName = 'pressreleases'\n",
    "# Create the index if it does not exist\n",
    "createPressReleaseIndex(SearchService, SearchKey, pressReleaseIndexName)\n",
    "print(f\"Processing ticker : {symbol}\")\n",
    "pr = pressReleases(apikey=apikey, symbol=symbol, limit=200)\n",
    "for pressRelease in pr:\n",
    "    symbol = pressRelease['symbol']\n",
    "    releaseDate = pressRelease['date']\n",
    "    title = pressRelease['title']\n",
    "    content = pressRelease['text']\n",
    "    todayYmd = today.strftime(\"%Y-%m-%d\")\n",
    "    id = f\"{symbol}-{counter}\"\n",
    "    pressReleasesList.append({\n",
    "        \"id\": id,\n",
    "        \"symbol\": symbol,\n",
    "        \"releaseDate\": releaseDate,\n",
    "        \"title\": title,\n",
    "        \"content\": content,\n",
    "    })\n",
    "    counter = counter + 1\n",
    "\n",
    "mergeDocs(SearchService, SearchKey, pressReleaseIndexName, pressReleasesList)"
   ]
  },
  {
   "cell_type": "code",
   "execution_count": 6,
   "metadata": {},
   "outputs": [
    {
     "name": "stdout",
     "output_type": "stream",
     "text": [
      "Number of documents chunks generated from Press releases :  25\n"
     ]
    }
   ],
   "source": [
    "splitter = RecursiveCharacterTextSplitter(chunk_size=1500, chunk_overlap=50)\n",
    "rawPressReleasesDoc = [Document(page_content=t['content']) for t in pressReleasesList[:25]]\n",
    "pressReleasesDocs = splitter.split_documents(rawPressReleasesDoc)\n",
    "print(\"Number of documents chunks generated from Press releases : \", len(pressReleasesDocs))"
   ]
  },
  {
   "cell_type": "code",
   "execution_count": 39,
   "metadata": {},
   "outputs": [
    {
     "name": "stdout",
     "output_type": "stream",
     "text": [
      "\n"
     ]
    }
   ],
   "source": [
    "# With the data indexed, let's summarize the information\n",
    "promptTemplate = \"\"\"You are an AI assistant tasked with summarizing press releases and performing sentiments on those. \n",
    "        Your summary should accurately capture the key information in the document while avoiding the omission of any domain-specific words. \n",
    "        Please generate a concise and comprehensive summary and sentiment with score with range of 0 to 10. Your response should be in JSON format with following keys..\n",
    "        summary: \n",
    "        sentiment:\n",
    "        sentiment score: \n",
    "        Please remember to use clear language and maintain the integrity of the original information without missing any important details\n",
    "        {text}\n",
    "        \"\"\"\n",
    "customPrompt = PromptTemplate(template=promptTemplate, input_variables=[\"text\"])\n",
    "chainType = \"map_reduce\"\n",
    "summaryChain = load_summarize_chain(llm, chain_type=chainType, return_intermediate_steps=True, \n",
    "                                    map_prompt=customPrompt, combine_prompt=customPrompt)\n",
    "summary = summaryChain({\"input_documents\": pressReleasesDocs}, return_only_outputs=True)\n",
    "outputAnswer = summary['output_text']\n",
    "print(outputAnswer)"
   ]
  },
  {
   "cell_type": "code",
   "execution_count": 40,
   "metadata": {},
   "outputs": [
    {
     "data": {
      "text/html": [
       "<b>Chunk Summary:</b> \n",
       "        {\n",
       "            \"summary\": \"AlertEnterprise, Inc., a leading cyber-physical security convergence software company, has announced a new partnership with HID, the worldwide leader in trusted identity solutions, to offer employee badge in Apple Wallet. AlertEnterprise becomes one of the first organizations to join the HID® Origo™ Technology Partner Program, a landmark initiative by HID to unite top-tier solution providers in the mission to create the future of mobile credentialing.\",\n",
       "            \"sentiment\": \"positive\",\n",
       "            \"sentiment score\": 10\n",
       "        }"
      ],
      "text/plain": [
       "<IPython.core.display.HTML object>"
      ]
     },
     "metadata": {},
     "output_type": "display_data"
    },
    {
     "data": {
      "text/html": [
       "<b>Chunk Summary:</b> \n",
       "{\n",
       "    \"summary\": \"Captions, a mobile app, has raised $25 million in Series B funding and has been well-received on the Apple App Store.\",\n",
       "    \"sentiment\": \"positive\",\n",
       "    \"sentiment score\": 10\n",
       "}"
      ],
      "text/plain": [
       "<IPython.core.display.HTML object>"
      ]
     },
     "metadata": {},
     "output_type": "display_data"
    },
    {
     "data": {
      "text/html": [
       "<b>Chunk Summary:</b> \n",
       "{\n",
       "    \"summary\": \"Kraft Singles and Little Pie Company are partnering to create the Kraft Singles Apple Pie, combining two iconic American foods: the melt of Kraft Singles and the sweet classic flavors of a traditional apple pie.\",\n",
       "    \"sentiment\": \"positive\",\n",
       "    \"sentiment score\": 10\n",
       "}"
      ],
      "text/plain": [
       "<IPython.core.display.HTML object>"
      ]
     },
     "metadata": {},
     "output_type": "display_data"
    },
    {
     "data": {
      "text/html": [
       "<b>Chunk Summary:</b> \n",
       "        {\n",
       "            \"summary\": \"Apple today announced the availability of new software tools and technologies that enable developers to create groundbreaking app experiences for Apple Vision Pro, Apple's first spatial computer. Featuring VisionOS, the world's first spatial operating system, Vision Pro lets users interact with digital content in their physical space using the most natural and intuitive inputs possible - their eyes, hands, and voice.\",\n",
       "            \"sentiment\": \"positive\",\n",
       "            \"sentiment score\": 10\n",
       "        }"
      ],
      "text/plain": [
       "<IPython.core.display.HTML object>"
      ]
     },
     "metadata": {},
     "output_type": "display_data"
    },
    {
     "data": {
      "text/html": [
       "<b>Chunk Summary:</b> \n",
       "        {\n",
       "            \"summary\": \"Mosyle unveiled Mosyle AIScript, the industry's first generative AI-powered MacOS scripting tool that lets IT admins use natural language to generate ready-to-use scripts for Macs. Mosyle is the first MDM provider to bring the power of generative AI to simplify Apple device management and security at work and school.\",\n",
       "            \"sentiment\": \"positive\",\n",
       "            \"sentiment score\": 10\n",
       "        }"
      ],
      "text/plain": [
       "<IPython.core.display.HTML object>"
      ]
     },
     "metadata": {},
     "output_type": "display_data"
    },
    {
     "data": {
      "text/html": [
       "<b>Chunk Summary:</b> \n",
       "        {\n",
       "            \"summary\": \"SkyQuest's Apple Cider Vinegar Market Report provides actionable insights for individuals interested in valuable data, trends, and opportunities in a rapidly growing industry. The report is produced and published concisely, making it accessible to various audiences, from industry experts to market readers. Additionally, one can gain an in-depth understanding of the primary and secondary market drivers, providing them with a comprehensive outlook of the current market situation and future projections.\",\n",
       "            \"sentiment\": \"positive\",\n",
       "            \"sentiment score\": 10\n",
       "        }"
      ],
      "text/plain": [
       "<IPython.core.display.HTML object>"
      ]
     },
     "metadata": {},
     "output_type": "display_data"
    },
    {
     "data": {
      "text/html": [
       "<b>Chunk Summary:</b> \n",
       "        {\n",
       "            \"summary\": \"Apple has retained its crown as the world's most valuable brand for the second year in a row, according to the Kantar Brandz Most Valuable Global Brands Report 2023. The total brand value of the world's top 100 brands now stands at $6.9 trillion for 2023, despite a 20% drop in the overall index vs 2022. Apple's brand valuation is $.\",\n",
       "            \"sentiment\": \"positive\",\n",
       "            \"sentiment score\": 8\n",
       "        }"
      ],
      "text/plain": [
       "<IPython.core.display.HTML object>"
      ]
     },
     "metadata": {},
     "output_type": "display_data"
    },
    {
     "data": {
      "text/html": [
       "<b>Chunk Summary:</b> \n",
       "{\n",
       "    \"summary\": \"Cososys announced today that it will provide same-day support for the upcoming macOS Sonoma release.\",\n",
       "    \"sentiment\": \"positive\",\n",
       "    \"sentiment score\": 10\n",
       "}"
      ],
      "text/plain": [
       "<IPython.core.display.HTML object>"
      ]
     },
     "metadata": {},
     "output_type": "display_data"
    },
    {
     "data": {
      "text/html": [
       "<b>Chunk Summary:</b> \n",
       "        {\n",
       "            \"summary\": \"Apple today unveiled Apple Vision Pro, a revolutionary spatial computer that seamlessly blends digital content with the physical world, allowing users to stay present and connected to others. Vision Pro creates an infinite canvas for apps that scales beyond the boundaries of a traditional display and introduces a fully three-dimensional user interface controlled by the most natural and intuitive inputs possible.\",\n",
       "            \"sentiment\": \"positive\",\n",
       "            \"sentiment score\": 10\n",
       "        }"
      ],
      "text/plain": [
       "<IPython.core.display.HTML object>"
      ]
     },
     "metadata": {},
     "output_type": "display_data"
    },
    {
     "data": {
      "text/html": [
       "<b>Chunk Summary:</b> \n",
       "        {\n",
       "            \"summary\": \"Apple today announced new health features in iOS 17, iPadOS 17, and watchOS 10, expanding into two impactful areas and providing innovative tools and experiences across platforms. New mental health features allow users to log their momentary emotions and daily moods, see valuable insights, and easily access assessments and resources. iPhone, iPad, and Apple Watch offer new vision health features that encourage healthy behaviors that help reduce the risk.\",\n",
       "            \"sentiment\": \"positive\",\n",
       "            \"sentiment score\": 10\n",
       "        }"
      ],
      "text/plain": [
       "<IPython.core.display.HTML object>"
      ]
     },
     "metadata": {},
     "output_type": "display_data"
    },
    {
     "data": {
      "text/html": [
       "<b>Chunk Summary:</b> \n",
       "        {\n",
       "            \"summary\": \"Apple today announced M2 Ultra, a new system on a chip (SOC) that delivers huge performance increases to the Mac and completes the M2 family. M2 Ultra is the largest and most capable chip Apple has ever created, and it makes the new Mac Studio and Mac Pro the most powerful Mac desktops ever made. M2 Ultra is built using a second-generation 5-nanometer process and uses Apple's groundbreaking Ultrafusion technology to connect the die of two M2 Max chips.\",\n",
       "            \"sentiment\": \"positive\",\n",
       "            \"sentiment score\": 10\n",
       "        }"
      ],
      "text/plain": [
       "<IPython.core.display.HTML object>"
      ]
     },
     "metadata": {},
     "output_type": "display_data"
    },
    {
     "data": {
      "text/html": [
       "<b>Chunk Summary:</b> \n",
       "{\n",
       "    \"summary\": \"Alipay today announced the launch of a new feature for iPhone customers with the latest version of Alipay app to quickly add Alipay to their Apple ID and complete payment authorization one-stop within the app. Updating to iOS 16.4 and later, iPhone customers can search for “Apple” in the Alipay app to enter the “Apple Zone”.\",\n",
       "    \"sentiment\": \"positive\",\n",
       "    \"sentiment score\": 10\n",
       "}"
      ],
      "text/plain": [
       "<IPython.core.display.HTML object>"
      ]
     },
     "metadata": {},
     "output_type": "display_data"
    },
    {
     "data": {
      "text/html": [
       "<b>Chunk Summary:</b> \n",
       "        {\n",
       "            \"summary\": \"Apple announced the expansion of the Apple Store Online into Vietnam. Customers throughout the country can now shop directly with Apple and receive exceptional service delivered by talented team members who are ready to share their expertise in Vietnamese.\",\n",
       "            \"sentiment\": \"positive\",\n",
       "            \"sentiment score\": 10\n",
       "        }"
      ],
      "text/plain": [
       "<IPython.core.display.HTML object>"
      ]
     },
     "metadata": {},
     "output_type": "display_data"
    },
    {
     "data": {
      "text/html": [
       "<b>Chunk Summary:</b> \n",
       "        {\n",
       "            \"summary\": \"Apple today unveiled Final Cut Pro and Logic Pro for iPad, allowing video and music creators to unleash their creativity in new ways that are only possible on iPad. Final Cut Pro and Logic Pro for iPad bring all-new touch interfaces that allow users to enhance their workflows with the immediacy and intuitiveness of multi-touch. Final Cut Pro for iPad introduces a powerful set of tools for video creators to record, edit, finish, and share, all from one portable device.\",\n",
       "            \"sentiment\": \"positive\",\n",
       "            \"sentiment score\": 10\n",
       "        }"
      ],
      "text/plain": [
       "<IPython.core.display.HTML object>"
      ]
     },
     "metadata": {},
     "output_type": "display_data"
    },
    {
     "data": {
      "text/html": [
       "<b>Chunk Summary:</b> \n",
       "        {\n",
       "            \"summary\": \"Apple today announced financial results for its fiscal 2023 second quarter ended April 1, 2023. The company posted quarterly revenue of $94.8 billion, down 3 percent year over year, and quarterly earnings per diluted share of $1.52, unchanged year over year. The company also reported an all-time record in services and a March quarter record for iPhone despite the challenging macroeconomic environment, and to have its installed base of active devices reach an all-time high.\",\n",
       "            \"sentiment\": \"positive\",\n",
       "            \"sentiment score\": 8\n",
       "        }"
      ],
      "text/plain": [
       "<IPython.core.display.HTML object>"
      ]
     },
     "metadata": {},
     "output_type": "display_data"
    },
    {
     "data": {
      "text/html": [
       "<b>Chunk Summary:</b> \n",
       "        {\n",
       "            \"summary\": \"Apple today previewed Apple Mixc Shenzhen, the second store in this vibrant city. The new store will serve as an accessible and inclusive space for Apple team members to bring the best of Apple together for the local community. Deirdre O'Brien, Apple's Senior Vice President of Retail, expressed excitement for the new store.\",\n",
       "            \"sentiment\": \"positive\",\n",
       "            \"sentiment score\": 10\n",
       "        }"
      ],
      "text/plain": [
       "<IPython.core.display.HTML object>"
      ]
     },
     "metadata": {},
     "output_type": "display_data"
    },
    {
     "data": {
      "text/html": [
       "<b>Chunk Summary:</b> \n",
       "        {\n",
       "            \"summary\": \"Royalties Inc. (CSE: RI) has completed a non-brokered private placement offering of 11,000,000 shares at a price of 5 cents per share for proceeds of $550,000 from a director and music royalties inc. The funds were previously advanced as part of the CSE listing application for working capital and for an acquisition in January 2023 of a cash flowing royalty in the amount of C$184,704 (US$137,900) which generated C$28,560 (US$21,323) in the prior year, paid monthly. The acquisition is for 415 tracks, for a term of 'author life of rights (70+ years).\",\n",
       "            \"sentiment\": \"positive\",\n",
       "            \"sentiment score\": 8\n",
       "        }"
      ],
      "text/plain": [
       "<IPython.core.display.HTML object>"
      ]
     },
     "metadata": {},
     "output_type": "display_data"
    },
    {
     "data": {
      "text/html": [
       "<b>Chunk Summary:</b> \n",
       "{\n",
       "    \"summary\": \"Apple announced that its annual Worldwide Developers Conference (WWDC) will be held online from June 5-9, 2023, with an opportunity for developers and students to attend a special experience at Apple Park on opening day. WWDC23 will showcase the latest iOS, iPadOS, macOS, watchOS, and tvOS advancements.\",\n",
       "    \"sentiment\": \"positive\",\n",
       "    \"sentiment score\": 10\n",
       "}"
      ],
      "text/plain": [
       "<IPython.core.display.HTML object>"
      ]
     },
     "metadata": {},
     "output_type": "display_data"
    },
    {
     "data": {
      "text/html": [
       "<b>Chunk Summary:</b> \n",
       "        {\n",
       "            \"summary\": \"Apple today previewed Apple Gangnam, located in Seoul's bustling, world-famous Gangnam district. Apple Gangnam will offer customers an exciting space to discover Apple's lineup of products and services, receive exceptional support from knowledgeable team members, and participate in free Today at Apple sessions to learn how to get the most out of their products.\",\n",
       "            \"sentiment\": \"positive\",\n",
       "            \"sentiment score\": 10\n",
       "        }"
      ],
      "text/plain": [
       "<IPython.core.display.HTML object>"
      ]
     },
     "metadata": {},
     "output_type": "display_data"
    },
    {
     "data": {
      "text/html": [
       "<b>Chunk Summary:</b> \n",
       "        {\n",
       "            \"summary\": \"Apple today introduced Apple Pay Later in the US, allowing users to split purchases into four payments spread over six weeks with no interest and no fees. Users can easily track, manage, and repay their Apple Pay Later loans in one convenient location in Apple Wallet.\",\n",
       "            \"sentiment\": \"positive\",\n",
       "            \"sentiment score\": 10\n",
       "        }"
      ],
      "text/plain": [
       "<IPython.core.display.HTML object>"
      ]
     },
     "metadata": {},
     "output_type": "display_data"
    },
    {
     "data": {
      "text/html": [
       "<b>Chunk Summary:</b> \n",
       "{\n",
       "    \"summary\": \"Apple today launched Apple Music Classical, a brand-new standalone music streaming app designed to deliver the listening experience classical music lovers deserve.\",\n",
       "    \"sentiment\": \"positive\",\n",
       "    \"sentiment score\": 10\n",
       "}"
      ],
      "text/plain": [
       "<IPython.core.display.HTML object>"
      ]
     },
     "metadata": {},
     "output_type": "display_data"
    },
    {
     "data": {
      "text/html": [
       "<b>Chunk Summary:</b> \n",
       "        {\n",
       "            \"summary\": \"Apple today launched Shop with a Specialist over Video, a new live shopping experience on Apple.com for customers in the US. This experience connects customers looking to purchase iPhone with a retail team member via a safe and secure, one-way video shopping session.\",\n",
       "            \"sentiment\": \"positive\",\n",
       "            \"sentiment score\": 10\n",
       "        }"
      ],
      "text/plain": [
       "<IPython.core.display.HTML object>"
      ]
     },
     "metadata": {},
     "output_type": "display_data"
    },
    {
     "data": {
      "text/html": [
       "<b>Chunk Summary:</b> \n",
       "        {\n",
       "            \"summary\": \"Apple today announced financial results for its fiscal 2023 first quarter ended December 31, 2022. The company posted quarterly revenue of $117.2 billion, down 5 percent year over year, and quarterly earnings per diluted share of $1.88.\",\n",
       "            \"sentiment\": \"positive\",\n",
       "            \"sentiment score\": 8\n",
       "        }"
      ],
      "text/plain": [
       "<IPython.core.display.HTML object>"
      ]
     },
     "metadata": {},
     "output_type": "display_data"
    },
    {
     "data": {
      "text/html": [
       "<b>Chunk Summary:</b> \n",
       "        {\n",
       "            \"summary\": \"In celebration of Data Privacy Day, Apple unveiled a new set of educational resources designed to help users take control of their data.\",\n",
       "            \"sentiment\": \"positive\",\n",
       "            \"sentiment score\": 10\n",
       "        }"
      ],
      "text/plain": [
       "<IPython.core.display.HTML object>"
      ]
     },
     "metadata": {},
     "output_type": "display_data"
    },
    {
     "data": {
      "text/html": [
       "<b>Chunk Summary:</b> \n",
       "{\n",
       "    \"summary\": \"A new Juniper Research study has found that the value of the global eSIM market will increase from $4.7 billion in 2023 to $16.3 billion by 2027. The report offers the most comprehensive analysis of the eSIMs (embedded SIMs) market available today.\",\n",
       "    \"sentiment\": \"positive\",\n",
       "    \"sentiment score\": 10\n",
       "}"
      ],
      "text/plain": [
       "<IPython.core.display.HTML object>"
      ]
     },
     "metadata": {},
     "output_type": "display_data"
    }
   ],
   "source": [
    "# For the chaintype of MapReduce and Refine, we can also get insight into intermediate steps of the pipeline.\n",
    "# This way you can inspect the results from map_reduce chain type, each top similar chunk summary\n",
    "intermediateSteps = summary['intermediate_steps']\n",
    "for step in intermediateSteps:\n",
    "        display(HTML(\"<b>Chunk Summary:</b> \" + step))"
   ]
  },
  {
   "cell_type": "markdown",
   "metadata": {},
   "source": [
    "### Get Stock News - Limit it to 5000 and most likely that will cover for current year"
   ]
  },
  {
   "cell_type": "code",
   "execution_count": 14,
   "metadata": {},
   "outputs": [
    {
     "name": "stdout",
     "output_type": "stream",
     "text": [
      "Search index stocknews already exists\n",
      "Processing ticker : AAPL\n",
      "Total docs: 5000\n",
      "\tIndexed 1000 sections, 1000 succeeded\n",
      "\tIndexed 1000 sections, 1000 succeeded\n",
      "\tIndexed 1000 sections, 1000 succeeded\n",
      "\tIndexed 1000 sections, 1000 succeeded\n",
      "\tIndexed 1000 sections, 1000 succeeded\n"
     ]
    }
   ],
   "source": [
    "# For now we are calling API to get data, but otherwise we need to ensure the data is not persisted in our \n",
    "# index repository before calling again, if it is persisted then we need to delete it first\n",
    "counter = 0\n",
    "stockNewsList = []\n",
    "stockNewsIndexName = 'stocknews'\n",
    "# Create the index if it does not exist\n",
    "createStockNewsIndex(SearchService, SearchKey, stockNewsIndexName)\n",
    "print(f\"Processing ticker : {symbol}\")\n",
    "sn = stockNews(apikey=apikey, tickers=symbol, limit=5000)\n",
    "for news in sn:\n",
    "    symbol = news['symbol']\n",
    "    publishedDate = news['publishedDate']\n",
    "    title = news['title']\n",
    "    image = news['image']\n",
    "    site = news['site']\n",
    "    content = news['text']\n",
    "    url = news['url']\n",
    "    todayYmd = today.strftime(\"%Y-%m-%d\")\n",
    "    id = f\"{symbol}-{todayYmd}-{counter}\"\n",
    "    stockNewsList.append({\n",
    "        \"id\": id,\n",
    "        \"symbol\": symbol,\n",
    "        \"publishedDate\": publishedDate,\n",
    "        \"title\": title,\n",
    "        \"image\": image,\n",
    "        \"site\": site,\n",
    "        \"content\": content,\n",
    "        \"url\": url,\n",
    "    })\n",
    "    counter = counter + 1\n",
    "mergeDocs(SearchService, SearchKey, stockNewsIndexName, stockNewsList)"
   ]
  },
  {
   "cell_type": "code",
   "execution_count": 37,
   "metadata": {},
   "outputs": [
    {
     "name": "stdout",
     "output_type": "stream",
     "text": [
      "\n"
     ]
    }
   ],
   "source": [
    "stocksDf = pd.DataFrame.from_dict(pd.json_normalize(stockNewsList))\n",
    "stocksDf['publishedDate'] = pd.to_datetime(stocksDf['publishedDate']).dt.date\n",
    "stocksNewsDailyDf = stocksDf.sort_values('publishedDate').groupby('publishedDate')['content'].apply('\\n'.join).reset_index()\n",
    "splitter = RecursiveCharacterTextSplitter(chunk_size=1500, chunk_overlap=50)\n",
    "rawNewsDocs = [Document(page_content=row['content']) for index, row in stocksNewsDailyDf.tail(10).iterrows()]\n",
    "newsDocs = splitter.split_documents(rawNewsDocs)\n",
    "print(\"Number of documents chunks generated from Press releases : \", len(newsDocs))\n",
    "\n",
    "# With the data indexed, let's summarize the information\n",
    "promptTemplate = \"\"\"You are an AI assistant tasked with summarizing news related to company and performing sentiments on those. \n",
    "        Your summary should accurately capture the key information in the document while avoiding the omission of any domain-specific words. \n",
    "        Please generate a concise and comprehensive summary and sentiment with score with range of 0 to 10. Your response should be in JSON format with following keys.\n",
    "        summary: \n",
    "        sentiment:\n",
    "        sentiment score:\n",
    "        Please remember to use clear language and maintain the integrity of the original information without missing any important details.\n",
    "        {text}\n",
    "        \"\"\"\n",
    "customPrompt = PromptTemplate(template=promptTemplate, input_variables=[\"text\"])\n",
    "chainType = \"map_reduce\"\n",
    "summaryChain = load_summarize_chain(llm, chain_type=chainType, return_intermediate_steps=True, \n",
    "                                    map_prompt=customPrompt, combine_prompt=customPrompt)\n",
    "summary = summaryChain({\"input_documents\": newsDocs}, return_only_outputs=True)\n",
    "outputAnswer = summary['output_text']\n",
    "print(outputAnswer)"
   ]
  },
  {
   "cell_type": "code",
   "execution_count": 38,
   "metadata": {},
   "outputs": [
    {
     "data": {
      "text/html": [
       "<b>Chunk Summary:</b> \n",
       "{\n",
       "    \"summary\": \"Nokia has signed a new long-term patent license agreement with Apple to replace the current deal between the two companies that is set to expire at the end of 2023. The investment-banking giant is weighing whether to end its partnership with Apple, the Wall Street Journal reports. iPhones are seeing barely any sales growth, despite taking market share. Apple became the first publicly traded company to close a trading day with a $3 trillion market value, marking another milestone for a technology juggernaut that has reshaped society with a line-up of products that churn out eye-popping profits. Apple's advancing AI capabilities promise to revolutionize how users engage with devices, driving immense Product and Services revenue growth.\",\n",
       "    \"sentiment\": \"positive\",\n",
       "    \"sentiment score\": 8\n",
       "}"
      ],
      "text/plain": [
       "<IPython.core.display.HTML object>"
      ]
     },
     "metadata": {},
     "output_type": "display_data"
    },
    {
     "data": {
      "text/html": [
       "<b>Chunk Summary:</b> \n",
       "Summary: Apple became the first public company to close a trading day with a market cap over $3 trillion Friday, even as Goldman Sachs reportedly looks to shed its credit card partnership. Nearly half of Buffett's portfolio is in the tech giant. Stocks like Nvidia have soared, but are trading at pricey valuations. Most companies don't yet have profitable applications for AI, despite the hype. Apple continues to post resilient fundamentals, yet the stock appears richly valued when assessed against consensus estimates for forward growth rates. The U.S. Supreme Court has dismantled Biden's student loan forgiveness, leaving winners and losers.\n",
       "\n",
       "Sentiment: Neutral\n",
       "\n",
       "Sentiment Score: 5"
      ],
      "text/plain": [
       "<IPython.core.display.HTML object>"
      ]
     },
     "metadata": {},
     "output_type": "display_data"
    },
    {
     "data": {
      "text/html": [
       "<b>Chunk Summary:</b> \n",
       "{\n",
       "    \"summary\": \"Apple Inc. has surpassed a market value of $3 trillion and is reportedly looking to take its battle with Epic Games to the Supreme Court. Apple is also exploring the game-changing potential of the Vision Pro, its mixed reality headset, and has lowered its production targets for the device until early next year.\",\n",
       "    \"sentiment\": \"positive\",\n",
       "    \"sentiment score\": 8\n",
       "}"
      ],
      "text/plain": [
       "<IPython.core.display.HTML object>"
      ]
     },
     "metadata": {},
     "output_type": "display_data"
    },
    {
     "data": {
      "text/html": [
       "<b>Chunk Summary:</b> \n",
       "Summary: Apple Inc. is reportedly slashing production targets for its Vision Pro headset due to its complex design. Apple's market valuation recently soared to $3 trillion, and tech stocks are forecasted to embark on a resurgence in the second half of the year.\n",
       "Sentiment: Positive\n",
       "Sentiment Score: 8"
      ],
      "text/plain": [
       "<IPython.core.display.HTML object>"
      ]
     },
     "metadata": {},
     "output_type": "display_data"
    },
    {
     "data": {
      "text/html": [
       "<b>Chunk Summary:</b> \n",
       "Summary: Apple Inc. NASDAQ: AAPL, Microsoft Corp. NASDAQ: MSFT, Nvidia Corp. NASDAQ: NVDA, Broadcom Inc. NASDAQ: AVGO and Adobe Inc. NASDAQ: ADBE posted double-digit price increases in the second quarter due to the AI boom. AT&T stock is being sold at a discounted price due to slumping profits. Apple is scaling back the manufacturing of its Vision Pro goggles for 2024, and Oracle of Omaha has doubled up the average annual total return of the S&P 500 since becoming CEO nearly 60 years ago. Apple Component Supplier Stocks have gained 13% year-to-date, and Apple is reportedly slashing production goals for its Vision Pro headset due to manufacturers struggling with its complex design.\n",
       "\n",
       "Sentiment: Neutral\n",
       "\n",
       "Sentiment Score: 5"
      ],
      "text/plain": [
       "<IPython.core.display.HTML object>"
      ]
     },
     "metadata": {},
     "output_type": "display_data"
    },
    {
     "data": {
      "text/html": [
       "<b>Chunk Summary:</b> \n",
       "{\n",
       "    \"summary\": \"Apple (AAPL) made Wall Street history as the first company to reach a market capitalization of $3 trillion at the close on Jun 30. However, the company has cut its target for production of its Vision Pro augmented-reality headset just four weeks after the launch of the US$5,000 apiece goggles to huge fanfare due to the complexity of the tech involved.\",\n",
       "    \"sentiment\": \"positive\",\n",
       "    \"sentiment score\": 8\n",
       "}"
      ],
      "text/plain": [
       "<IPython.core.display.HTML object>"
      ]
     },
     "metadata": {},
     "output_type": "display_data"
    },
    {
     "data": {
      "text/html": [
       "<b>Chunk Summary:</b> \n",
       "{\n",
       "    \"summary\": \"Apple has been ruled to have infringed two telecommunications patents used in devices including iPhones and iPads, while Invesco QQQ (NASDAQ: QQQ), the Nasdaq-100 ETF heavy with tech stocks, is up 40% year-to-date. Despite Apple stock reaching an all-time high, new investors are advised to wait for a potential pullback due to negative global economic sentiment. Alphabet's Google, Amazon, Apple, Meta Platforms and Microsoft have notified the European Commission that they qualify as gatekeepers under new EU tech rules, while augmented reality glasses startup Xreal, backed by Alibaba, claims shipments will soon reach 200,000 units.\",\n",
       "    \"sentiment\": \"Neutral\",\n",
       "    \"sentiment score\": 5\n",
       "}"
      ],
      "text/plain": [
       "<IPython.core.display.HTML object>"
      ]
     },
     "metadata": {},
     "output_type": "display_data"
    },
    {
     "data": {
      "text/html": [
       "<b>Chunk Summary:</b> \n",
       "{\n",
       "    \"summary\": \"Seven tech giants, including Amazon and Apple, have informed the European Union that they meet the threshold to come under new rules to curb their market dominance, according to Brussels.\",\n",
       "    \"sentiment\": \"positive\",\n",
       "    \"sentiment score\": 8\n",
       "}"
      ],
      "text/plain": [
       "<IPython.core.display.HTML object>"
      ]
     },
     "metadata": {},
     "output_type": "display_data"
    },
    {
     "data": {
      "text/html": [
       "<b>Chunk Summary:</b> \n",
       "Summary: Intuitive Surgical's robotic systems are improving patient outcomes, ExxonMobil is quickly becoming a leader in low-carbon energy solutions, and the giant of contract electronics manufacturing saw revenue drop almost 20% year over year in June. The Goldman Sachs Group is reportedly in talks with American Express Co. regarding its Apple Inc. credit card and other consumer-focused products connected with Apple. We have narrowed our search to five U.S. corporate behemoths that have taken solid ESG initiatives. Wedbush analyst Dan Ives believes that ChatGPT will be the \"next leg of growth\" for Microsoft. Apple lost its long legal fight over patent terms, with the U.K. court ruling in favor of Optis' claim of infringement of two of patents related to 4G tech used in iPhones. Barclays downgraded shares of laser maker Lumentum to Underweight from Equal Weight. As Americans celebrated all that makes their country great yesterday, Apple was included on the list.\n",
       "\n",
       "Sentiment: Positive\n",
       "Sentiment Score: 8"
      ],
      "text/plain": [
       "<IPython.core.display.HTML object>"
      ]
     },
     "metadata": {},
     "output_type": "display_data"
    },
    {
     "data": {
      "text/html": [
       "<b>Chunk Summary:</b> \n",
       "{\n",
       "    \"summary\": \"The Dow Jones Industrial Average fell 1.1%, or 366 points, Thursday after private sector payroll data showed that the labor market remains strong, raising fears that the Federal Reserve could hike rates faster or higher than planned. Apple stock is still recommended by most analysts, but the average 12-month price target for the stock doesn't reflect much enthusiasm. Artificial intelligence continues to make headlines, with some of the world's most famous billionaire investors weighing in. Kopin Co. NASDAQ: KOPN stock is still trading down over 80% from its $13.62 post-COVID highs in 2021. Apple declined below the $3 trillion market cap level on Thursday amid a broad market selloff.\",\n",
       "    \"sentiment\": \"Negative\",\n",
       "    \"sentiment score\": 4\n",
       "}"
      ],
      "text/plain": [
       "<IPython.core.display.HTML object>"
      ]
     },
     "metadata": {},
     "output_type": "display_data"
    },
    {
     "data": {
      "text/html": [
       "<b>Chunk Summary:</b> \n",
       "{\n",
       "    \"summary\": \"Apple is planning a retail launch of its Vision Pro headset with appointments and in-store promotion in select US markets early next year. Growth stocks power an investors' portfolio and Apple's plan to move more iPhone manufacturing from China to India is plagued with serious challenges. On Friday, the U.S. stock market remained significantly overvalued while several markets around the globe are undervalued. Momentum stocks offer investors the opportunity to capitalize on strong and continued upward price changes, but it is an inherently and undeniably risky trading method.\",\n",
       "    \"sentiment\": \"neutral\",\n",
       "    \"sentiment score\": 5\n",
       "}"
      ],
      "text/plain": [
       "<IPython.core.display.HTML object>"
      ]
     },
     "metadata": {},
     "output_type": "display_data"
    },
    {
     "data": {
      "text/html": [
       "<b>Chunk Summary:</b> \n",
       "{\n",
       "    \"summary\": \"An institutional investor is a legal entity that pools money from multiple investors to invest in various assets and securities.\",\n",
       "    \"sentiment\": \"positive\",\n",
       "    \"sentiment score\": 10\n",
       "}"
      ],
      "text/plain": [
       "<IPython.core.display.HTML object>"
      ]
     },
     "metadata": {},
     "output_type": "display_data"
    },
    {
     "data": {
      "text/html": [
       "<b>Chunk Summary:</b> \n",
       "{\n",
       "    \"summary\": \"Apple has seen weak sales from the iPhone in recent quarters, but the future is looking bright as the company's installed base continues to grow. Netflix has rebounded strongly from last year's subscriber declines, and new efforts to monetize users look very promising. As U.S. stock investors ponder what lies ahead in the rest of 2023, bulls have history on their side—but interest rates, possible recession remain key hurdles. Apple and Costco's stocks have soared over 150% since 2018. Apple has won over investors with its leading market shares across multiple product categories.\",\n",
       "    \"sentiment\": \"positive\",\n",
       "    \"sentiment score\": 8\n",
       "}"
      ],
      "text/plain": [
       "<IPython.core.display.HTML object>"
      ]
     },
     "metadata": {},
     "output_type": "display_data"
    },
    {
     "data": {
      "text/html": [
       "<b>Chunk Summary:</b> \n",
       "{\n",
       "    \"summary\": \"In the short holiday trading week, 3 out of 4 picks gained over 9% with peak gains in ONCY +23.9% and RIG +20.6%. The S&P 500 declined -1.16%. Two new sample Breakout Stocks for Week 28 with better than 10% short-term upside and two Dow 30 Picks were released with average cumulative returns for 2023 up to +113.3% YTD. The streak of weekly picks gaining over 10% in less than a week has reached 253 out of 319 trading weeks (79.3%) not considering multiple gainers or negative MG signals.\",\n",
       "    \"sentiment\": \"positive\",\n",
       "    \"sentiment score\": 10\n",
       "}"
      ],
      "text/plain": [
       "<IPython.core.display.HTML object>"
      ]
     },
     "metadata": {},
     "output_type": "display_data"
    },
    {
     "data": {
      "text/html": [
       "<b>Chunk Summary:</b> \n",
       "Summary: Apple reported a downbeat set of earnings for the first half of its fiscal 2023, but scored a few records for iPhone and services revenue. Foxconn Technology Co Ltd (TPE: 2354) is pulling out of a joint venture with Vedanta and Nasdaq plans to rebalance the Nasdaq 100 stock index. Apple shares have skyrocketed almost 50% since Jan. 1 and Dow Jones gained 175 points though Microsoft, Apple plunged.\n",
       "\n",
       "Sentiment: Positive\n",
       "\n",
       "Sentiment Score: 8"
      ],
      "text/plain": [
       "<IPython.core.display.HTML object>"
      ]
     },
     "metadata": {},
     "output_type": "display_data"
    }
   ],
   "source": [
    "# For the chaintype of MapReduce and Refine, we can also get insight into intermediate steps of the pipeline.\n",
    "# This way you can inspect the results from map_reduce chain type, each top similar chunk summary\n",
    "intermediateSteps = summary['intermediate_steps']\n",
    "for step in intermediateSteps:\n",
    "        display(HTML(\"<b>Chunk Summary:</b> \" + step))"
   ]
  },
  {
   "cell_type": "code",
   "execution_count": 6,
   "metadata": {},
   "outputs": [],
   "source": [
    "filingType = \"10-K\"\n",
    "secFilingsList = secFilings(apikey=apikey, symbol=symbol, filing_type=filingType)"
   ]
  },
  {
   "cell_type": "code",
   "execution_count": 18,
   "metadata": {},
   "outputs": [],
   "source": [
    "latestFilingDateTime = datetime.strptime(secFilingsList[0]['fillingDate'], '%Y-%m-%d %H:%M:%S')\n",
    "latestFilingDate = latestFilingDateTime.strftime(\"%Y-%m-%d\")\n",
    "secFilingIndexName = 'secdata'\n",
    "secFilingList = []\n",
    "emptyBody = {\n",
    "        \"values\": [\n",
    "            {\n",
    "                \"recordId\": 0,\n",
    "                \"data\": {\n",
    "                    \"text\": \"\"\n",
    "                }\n",
    "            }\n",
    "        ]\n",
    "}\n",
    "\n",
    "secExtractBody = {\n",
    "    \"values\": [\n",
    "        {\n",
    "            \"recordId\": 0,\n",
    "            \"data\": {\n",
    "                \"text\": {\n",
    "                    \"edgar_crawler\": {\n",
    "                        \"start_year\": int(historicalYear),\n",
    "                        \"end_year\": int(currentYear),\n",
    "                        \"quarters\": [1,2,3,4],\n",
    "                        \"filing_types\": [\n",
    "                            \"10-K\"\n",
    "                        ],\n",
    "                        \"cik_tickers\": [cik],\n",
    "                        \"user_agent\": \"Your name (your email)\",\n",
    "                        \"raw_filings_folder\": \"RAW_FILINGS\",\n",
    "                        \"indices_folder\": \"INDICES\",\n",
    "                        \"filings_metadata_file\": \"FILINGS_METADATA.csv\",\n",
    "                        \"skip_present_indices\": True\n",
    "                    },\n",
    "                    \"extract_items\": {\n",
    "                        \"raw_filings_folder\": \"RAW_FILINGS\",\n",
    "                        \"extracted_filings_folder\": \"EXTRACTED_FILINGS\",\n",
    "                        \"filings_metadata_file\": \"FILINGS_METADATA.csv\",\n",
    "                        \"items_to_extract\": [\"1\",\"1A\",\"1B\",\"2\",\"3\",\"4\",\"5\",\"6\",\"7\",\"7A\",\"8\",\"9\",\"9A\",\"9B\",\"10\",\"11\",\"12\",\"13\",\"14\",\"15\"],\n",
    "                        \"remove_tables\": True,\n",
    "                        \"skip_extracted_filings\": True\n",
    "                    }\n",
    "                }\n",
    "            }\n",
    "        }\n",
    "    ]\n",
    "}\n",
    "\n",
    "# Check if we have already processed the latest filing, if yes then skip\n",
    "createSecFilingIndex(SearchService, SearchKey, secFilingIndexName)\n",
    "r = findSecFiling(SearchService, SearchKey, secFilingIndexName, cik, filingType, latestFilingDate, returnFields=['id', 'cik', 'company', 'filingType', 'filingDate',\n",
    "                                                                                                                 'periodOfReport', 'sic', 'stateOfInc', 'fiscalYearEnd',\n",
    "                                                                                                                 'filingHtmlIndex', 'htmFilingLink', 'completeTextFilingLink',\n",
    "                                                                                                                 'item1', 'item1A', 'item1B', 'item2', 'item3', 'item4', 'item5',\n",
    "                                                                                                                 'item6', 'item7', 'item7A', 'item8', 'item9', 'item9A', 'item9B',\n",
    "                                                                                                                 'item10', 'item11', 'item12', 'item13', 'item14', 'item15',\n",
    "                                                                                                                 'sourcefile'])\n",
    "if r.get_count() == 0:\n",
    "    # Call Azure Function to perform Web-scraping and store the JSON in our blob\n",
    "    secExtract = requests.post(SecExtractionUrl, json = secExtractBody)\n",
    "    # Once the JSON is created, call the function to process the JSON and store the data in our index\n",
    "    docPersistUrl = SecDocPersistUrl + \"&indexType=cogsearchvs&indexName=\" + secFilingIndexName + \"&embeddingModelType=\" + embeddingModelType\n",
    "    secPersist = requests.post(docPersistUrl, json = emptyBody)\n",
    "    r = findSecFiling(SearchService, SearchKey, secFilingIndexName, cik, filingType, latestFilingDate, returnFields=['id', 'cik', 'company', 'filingType', 'filingDate',\n",
    "                                                                                                                 'periodOfReport', 'sic', 'stateOfInc', 'fiscalYearEnd',\n",
    "                                                                                                                 'filingHtmlIndex', 'htmFilingLink', 'completeTextFilingLink',\n",
    "                                                                                                                 'item1', 'item1A', 'item1B', 'item2', 'item3', 'item4', 'item5',\n",
    "                                                                                                                 'item6', 'item7', 'item7A', 'item8', 'item9', 'item9A', 'item9B',\n",
    "                                                                                                                 'item10', 'item11', 'item12', 'item13', 'item14', 'item15',\n",
    "                                                                                                                 'sourcefile'])\n",
    "\n",
    "# Retrieve the latest filing from our index\n",
    "for filing in r:\n",
    "    secFilingList.append({\n",
    "        \"id\": filing['id'],\n",
    "        \"cik\": filing['cik'],\n",
    "        \"company\": filing['company'],\n",
    "        \"filingType\": filing['filingType'],\n",
    "        \"filingDate\": filing['filingDate'],\n",
    "        \"periodOfReport\": filing['periodOfReport'],\n",
    "        \"sic\": filing['sic'],\n",
    "        \"stateOfInc\": filing['stateOfInc'],\n",
    "        \"fiscalYearEnd\": filing['fiscalYearEnd'],\n",
    "        \"filingHtmlIndex\": filing['filingHtmlIndex'],\n",
    "        \"completeTextFilingLink\": filing['completeTextFilingLink'],\n",
    "        \"item1\": filing['item1'],\n",
    "        \"item1A\": filing['item1A'],\n",
    "        \"item1B\": filing['item1B'],\n",
    "        \"item2\": filing['item2'],\n",
    "        \"item3\": filing['item3'],\n",
    "        \"item4\": filing['item4'],\n",
    "        \"item5\": filing['item5'],\n",
    "        \"item6\": filing['item6'],\n",
    "        \"item7\": filing['item7'],\n",
    "        \"item7A\": filing['item7A'],\n",
    "        \"item8\": filing['item8'],\n",
    "        \"item9\": filing['item9'],\n",
    "        \"item9A\": filing['item9A'],\n",
    "        \"item9B\": filing['item9B'],\n",
    "        \"item10\": filing['item10'],\n",
    "        \"item11\": filing['item11'],\n",
    "        \"item12\": filing['item12'],\n",
    "        \"item13\": filing['item13'],\n",
    "        \"item14\": filing['item14'],\n",
    "        \"item15\": filing['item15'],\n",
    "        \"sourcefile\": filing['sourcefile']\n",
    "    })"
   ]
  },
  {
   "cell_type": "code",
   "execution_count": 29,
   "metadata": {},
   "outputs": [],
   "source": [
    "def generateSummaries(docs):\n",
    "    # With the data indexed, let's summarize the information\n",
    "    promptTemplate = \"\"\"You are an AI assistant tasked with summarizing financial report related to company. \n",
    "            Your summary should accurately capture the key information in the document while avoiding the omission of any domain-specific words. \n",
    "            Please generate a concise and comprehensive summary of the following document.\n",
    "            Please remember to use clear language and maintain the integrity of the original information without missing any important details.\n",
    "            Summarize it at an average of 10 lines.\n",
    "            {text}\n",
    "            \"\"\"\n",
    "    customPrompt = PromptTemplate(template=promptTemplate, input_variables=[\"text\"])\n",
    "    chainType = \"map_reduce\"\n",
    "    summaryChain = load_summarize_chain(llm, chain_type=chainType, return_intermediate_steps=True, \n",
    "                                        map_prompt=customPrompt, combine_prompt=customPrompt)\n",
    "    summary = summaryChain({\"input_documents\": docs}, return_only_outputs=True)\n",
    "    return summary"
   ]
  },
  {
   "cell_type": "code",
   "execution_count": 31,
   "metadata": {},
   "outputs": [
    {
     "name": "stdout",
     "output_type": "stream",
     "text": [
      "Number of documents chunks generated from Item1 :  12\n",
      "Business Description : \n",
      "Apple Inc. is a technology company that designs, manufactures, and markets smartphones, personal computers, tablets, wearables, and accessories. It offers a range of services, including advertising, AppleCare®, cloud services, digital content, and payment services. The Company sells its products and resells third-party products in most of its major markets directly to consumers, small and mid-sized businesses, and education, enterprise and government customers through its retail and online stores and its direct sales force. It also employs a variety of indirect distribution channels. The main competitive factors for Apple include price, product and service features, relative price and performance, product and service quality and reliability, design innovation, a strong third-party software and accessories ecosystem, marketing and distribution capability, service and support, and corporate reputation. The Company relies on components essential to its business, which are generally available from multiple sources, and manufactures substantially all of its hardware products through outsourcing partners located primarily in Asia. It invests heavily in research and development (“R&D”) to develop new technologies, enhance existing products and services, and expand its offerings. Additionally, the Company holds a broad collection of intellectual property rights relating to its hardware devices, accessories, software and services, including patents, designs, copyrights, trademarks and other forms of intellectual property rights in the U.S. and various foreign countries. It also provides competitive compensation and benefits to its employees, including health and welfare benefits, retirement benefits, and other benefits. The Company regularly files patent, design, copyright and trademark applications to protect its innovations arising from research, development, design and marketing. It also has a comprehensive health and safety program that includes safety training, hazard identification and control, and emergency preparedness. The Company files its Annual Reports on Form 10-K, Quarterly Reports on Form 10-Q, Current Reports on Form 8-K, and amendments to reports filed with the U.S. Securities and Exchange Commission (SEC). Additionally, the Company provides certain information for investors on its corporate website and investor relations website.\n",
      "Number of documents chunks generated from Item1A :  65\n",
      "Risk Factors : \n",
      "Apple Inc. is exposed to a variety of macroeconomic and industry risks that could have a material adverse effect on its business, reputation, results of operations, financial condition and stock price. These risks include global and regional economic conditions, changes in industry trends, and the impact of competitive pressures. The Company is also subject to increasing regulation, government investigations, legal actions and penalties due to the intense media, political and regulatory scrutiny of the technology industry. Additionally, the Company is exposed to potential liabilities, increased costs, reputational harm, and other adverse effects on its business due to expectations relating to environmental, social and governance considerations. The Company is also subject to various laws, rules, policies and other obligations regarding data protection, payment card data, and privacy and data protection. The Company is exposed to risks related to its supply chain, including potential supply shortages and price increases, as well as disruptions in its supply chain. The Company is also vulnerable to design and manufacturing defects, which could lead to safety risks, environmental or property damage, and personal injury. Additionally, the Company is at risk of incurring costs due to litigation and regulatory fines, and write-downs on the value of its inventory and other assets. The Company is also subject to taxes in the U.S. and numerous foreign jurisdictions, including Ireland, and its stock has experienced significant price volatility in the past and may continue to do so in the future. Finally, the Company is exposed to credit risk and fluctuations in the value of its investment portfolio.\n",
      "Number of documents chunks generated from Item6 :  1\n",
      "Financial Data : \n",
      "Number of documents chunks generated from Item7 :  12\n",
      "Management Discussion : \n",
      "Apple Inc. reported an 8% increase in total net sales for fiscal year 2022, totaling $28.5 billion. This was driven by higher net sales of iPhone, Services and Mac, as well as several new product, service and software offerings, including updated MacBook Pro 14” and 16”, powered by the Apple M1 Pro or M1 Max chip, third generation of AirPods, updated iPhone SE with 5G technology, and all-new Mac Studio, powered by the Apple M1 Max or M1 Ultra chip. Weakness in foreign currencies relative to the U.S. dollar had an unfavorable year-over-year impact on all Products and Services net sales during 2022. The Company reported strong financial results for the 2022 fiscal year, with the introduction of several new products and services. Products gross margin increased during 2022 compared to 2021 due to a different product mix and higher product volume, partially offset by the weakness in foreign currencies relative to the U.S. dollar. Operating expenses for 2022, 2021 and 2020 were driven primarily by increases in headcount-related expenses, engineering program costs, advertising and professional services. Other income/(expense), net was reported as $1.2 billion in 2022, $1.3 billion in 2021 and $1.2 billion in 2020. The Company’s effective tax rate for 2022 was lower than the statutory federal income tax rate due to a lower effective tax rate on foreign earnings, tax benefits from share-based compensation and the impact of the U.S. federal R&D credit, partially offset by state income taxes. The Company has manufacturing purchase obligations for components and other materials used in the production of its products, with $7.2 billion payable within 12 months. The Company has sufficient liquidity to meet its cash requirements over the next 12 months and beyond. The Company has a capital return program authorized by the Board of Directors which does not obligate the Company to acquire a minimum amount of shares. Apple Inc. reported an increase in net sales for 2022 compared to 2021 across all of its segments, driven by higher net sales of iPhone, Services and Mac. Products gross margin increased during 2022 compared to 2021 due to a different product mix and higher product volume, partially offset by the weakness in foreign currencies relative to the U.S. dollar. Operating expenses for 2022, 2021 and 2020 were driven primarily by increases in headcount-related expenses, engineering program costs, advertising and professional services. Other income/(expense), net was reported as $1.2 billion in 2022, $1.3 billion in 2021 and $1.2 billion in 2020. The Company’s effective tax rate for 2022 was lower than the statutory federal income tax rate due to a lower effective tax rate on foreign earnings, tax benefits from share-based compensation and the impact of the U.S. federal R&D credit, partially offset by state income taxes. The Company has manufacturing purchase obligations for components and other materials used in the production of its products, with $7.2 billion payable within 12 months. The Company has sufficient liquidity to meet its cash requirements over the next 12 months and beyond. The Company has a capital return program authorized by the Board of Directors which does not obligate the Company to acquire a minimum amount of shares.\n",
      "Number of documents chunks generated from Item7A :  6\n",
      "Risk Disclosures : \n",
      "Apple Inc. is exposed to changes in interest rates and foreign currency exchange rates. To manage these risks, the Company has implemented an investment policy and strategy focused on preserving capital and supporting liquidity requirements. The Company has also entered into foreign currency forward and option contracts and interest rate swaps to convert fixed-rate payments into floating-rate payments or floating-rate payments into fixed-rate payments. A sensitivity analysis was conducted to assess the potential impact of fluctuations in exchange rates on certain of its foreign currency derivative positions. As of September 24, 2022, the Company estimates with 95% confidence, a maximum one-day loss in fair value of $1.0 billion. A 100 basis point increase in market interest rates would cause interest expense to increase by $201 million on an annualized basis. The Company must remain aware of the potential for significant changes in the future due to the unpredictable nature of changes in interest rates, foreign currency exchange rates and the Company’s actual exposures and positions.\n",
      "Number of documents chunks generated from Item9 :  303\n",
      "Disclosures, Controls and Procedures : \n"
     ]
    }
   ],
   "source": [
    "# For different section of extracted data, process summarization and generate common answers to questions\n",
    "splitter = RecursiveCharacterTextSplitter(chunk_size=1500, chunk_overlap=50)\n",
    "\n",
    "# Item 1 - Describes the business of the company\n",
    "rawItemDocs = [Document(page_content=secFilingList[0]['item1'])]\n",
    "itemDocs = splitter.split_documents(rawItemDocs)\n",
    "print(\"Number of documents chunks generated from Item1 : \", len(itemDocs))\n",
    "summary = generateSummaries(itemDocs)\n",
    "outputAnswer = summary['output_text']\n",
    "print(\"Business Description : \" + outputAnswer)\n",
    "\n",
    "# Item 1A - Risk Factors\n",
    "rawItemDocs = [Document(page_content=secFilingList[0]['item1A'])]\n",
    "itemDocs = splitter.split_documents(rawItemDocs)\n",
    "print(\"Number of documents chunks generated from Item1A : \", len(itemDocs))\n",
    "summary = generateSummaries(itemDocs)\n",
    "outputAnswer = summary['output_text']\n",
    "print(\"Risk Factors : \" + outputAnswer)\n",
    "\n",
    "# Item 6 - Consolidated Financial Data\n",
    "rawItemDocs = [Document(page_content=secFilingList[0]['item6'])]\n",
    "itemDocs = splitter.split_documents(rawItemDocs)\n",
    "print(\"Number of documents chunks generated from Item6 : \", len(itemDocs))\n",
    "summary = generateSummaries(itemDocs)\n",
    "outputAnswer = summary['output_text']\n",
    "print(\"Financial Data : \" + outputAnswer)\n",
    "\n",
    "# Item 7 - Management's Discussion and Analysis of Financial Condition and Results of Operations\n",
    "rawItemDocs = [Document(page_content=secFilingList[0]['item7'])]\n",
    "itemDocs = splitter.split_documents(rawItemDocs)\n",
    "print(\"Number of documents chunks generated from Item7 : \", len(itemDocs))\n",
    "summary = generateSummaries(itemDocs)\n",
    "outputAnswer = summary['output_text']\n",
    "print(\"Management Discussion : \" + outputAnswer)\n",
    "\n",
    "# Item 7a - Market risk disclosures\n",
    "rawItemDocs = [Document(page_content=secFilingList[0]['item7A'])]\n",
    "itemDocs = splitter.split_documents(rawItemDocs)\n",
    "print(\"Number of documents chunks generated from Item7A : \", len(itemDocs))\n",
    "summary = generateSummaries(itemDocs)\n",
    "outputAnswer = summary['output_text']\n",
    "print(\"Risk Disclosures : \" + outputAnswer)\n",
    "\n",
    "# Item 9 - Disagreements with accountants and changes in accounting\n",
    "rawItemDocs = [Document(page_content=secFilingList[0]['item9'])]\n",
    "itemDocs = splitter.split_documents(rawItemDocs)\n",
    "print(\"Number of documents chunks generated from Item9 : \", len(itemDocs))\n",
    "summary = generateSummaries(itemDocs)\n",
    "outputAnswer = summary['output_text']\n",
    "print(\"Accounting Disclosures : \" + outputAnswer)"
   ]
  },
  {
   "cell_type": "code",
   "execution_count": null,
   "metadata": {},
   "outputs": [],
   "source": [
    "## Do we need Financial Reports (Balance Sheet, Income Statement and Cash Flow) for last 3 years?"
   ]
  }
 ],
 "metadata": {
  "kernelspec": {
   "display_name": "Python 3",
   "language": "python",
   "name": "python3"
  },
  "language_info": {
   "codemirror_mode": {
    "name": "ipython",
    "version": 3
   },
   "file_extension": ".py",
   "mimetype": "text/x-python",
   "name": "python",
   "nbconvert_exporter": "python",
   "pygments_lexer": "ipython3",
   "version": "3.9.13"
  },
  "orig_nbformat": 4
 },
 "nbformat": 4,
 "nbformat_minor": 2
}
