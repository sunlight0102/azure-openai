{
 "cells": [
  {
   "attachments": {},
   "cell_type": "markdown",
   "metadata": {},
   "source": [
    "### PIB CoPilot\n",
    "PIBs are also used to create a pitchbook by assessing a company's strategy, competitive positioning, review of financial statements, industry dynamics, and trends within the industry. \n",
    "1. Company Overview and Executive Bio - A brief description of the company and its key executives with biographies.\n",
    "2. Conference calls: The same day a company issues its quarterly press release, it will also hold a conference call. On the call, analysts often learn details about management guidance. These conference calls are transcribed by several service providers and can be accessed by subscribers of large financial data providers.\n",
    "3. Press Release: Can be found in the investor relations section of most companies' websites and contains the financial statements which are used in forms 10-K and 10-Q. \n",
    "4. News: News articles that may affect a company's stock price or growth prospect would be something that analysts look into, particularly within a 6-12 month time horizon.\n",
    "5. SEC filings: These regulatory documents require a company to file Form 10-K and Form 10-Q with the SEC on an ongoing basis. Form 10-K is a financial overview and commentary for the last year, usually found on the company's website. Form 10-Q is similar to form 10-K, but it is a report for the last quarter instead of the previous year.\n",
    "6. Equity research reports: Look into key forecasts for metrics like Revenue, EBITDA, and EPS for the company or competing firms to form a consensus estimate. \n",
    "7. Investor Presentations: Companies provide historical information as an important foundation from which forecasts are made to guide key forecasting drivers. "
   ]
  },
  {
   "cell_type": "markdown",
   "metadata": {},
   "source": [
    "#### 0 -  Pre-requsite and imports"
   ]
  },
  {
   "cell_type": "code",
   "execution_count": 1,
   "metadata": {},
   "outputs": [],
   "source": [
    "import os  \n",
    "import json  \n",
    "import openai\n",
    "from Utilities.envVars import *\n",
    "import uuid\n",
    "# Set Search Service endpoint, index name, and API key from environment variables\n",
    "indexName = SearchIndex\n",
    "\n",
    "# Set OpenAI API key and endpoint\n",
    "openai.api_type = \"azure\"\n",
    "openai.api_version = OpenAiVersion\n",
    "openai_api_key = OpenAiKey\n",
    "assert openai_api_key, \"ERROR: Azure OpenAI Key is missing\"\n",
    "openai.api_key = openai_api_key\n",
    "openAiEndPoint = f\"https://{OpenAiService}.openai.azure.com\"\n",
    "assert openAiEndPoint, \"ERROR: Azure OpenAI Endpoint is missing\"\n",
    "assert \"openai.azure.com\" in openAiEndPoint.lower(), \"ERROR: Azure OpenAI Endpoint should be in the form: \\n\\n\\t<your unique endpoint identifier>.openai.azure.com\"\n",
    "openai.api_base = openAiEndPoint\n",
    "davincimodel = OpenAiDavinci\n"
   ]
  },
  {
   "cell_type": "code",
   "execution_count": 2,
   "metadata": {},
   "outputs": [],
   "source": [
    "# Parameters\n",
    "embeddingModelType = \"azureopenai\"\n",
    "temperature = 0\n",
    "tokenLength = 1000\n",
    "symbol = 'AAPL'\n",
    "apikey = FmpKey\n",
    "os.environ['BING_SUBSCRIPTION_KEY'] = BingKey\n",
    "os.environ['BING_SEARCH_URL'] = BingUrl\n",
    "pibIndexName = 'pibdata'"
   ]
  },
  {
   "cell_type": "code",
   "execution_count": 8,
   "metadata": {},
   "outputs": [],
   "source": [
    "from langchain.chains.qa_with_sources import load_qa_with_sources_chain\n",
    "from langchain.llms.openai import AzureOpenAI, OpenAI\n",
    "from langchain.embeddings.openai import OpenAIEmbeddings\n",
    "from langchain.docstore.document import Document\n",
    "from langchain.prompts import PromptTemplate\n",
    "from IPython.display import display, HTML\n",
    "from langchain.utilities import BingSearchAPIWrapper\n",
    "from langchain.chains.summarize import load_summarize_chain\n",
    "from langchain.docstore.document import Document\n",
    "from langchain.text_splitter import RecursiveCharacterTextSplitter\n",
    "import pandas as pd\n",
    "from langchain.prompts import PromptTemplate\n",
    "from datetime import datetime\n",
    "from pytz import timezone\n",
    "from dateutil.relativedelta import relativedelta\n",
    "from datetime import timedelta\n",
    "from Utilities.pibCopilot import indexDocs, createPressReleaseIndex, createStockNewsIndex, mergeDocs, createPibIndex, findPibData, findEarningCalls, deletePibData\n",
    "from Utilities.pibCopilot import indexEarningCallSections, createEarningCallVectorIndex, createEarningCallIndex, performCogSearch, createSecFilingIndex, findSecFiling\n",
    "import typing\n",
    "from Utilities.fmp import *\n",
    "from langchain.chat_models import AzureChatOpenAI, ChatOpenAI\n",
    "\n",
    "# Flexibility to change the call to OpenAI or Azure OpenAI\n",
    "\n",
    "if (embeddingModelType == 'azureopenai'):\n",
    "    openai.api_type = \"azure\"\n",
    "    openai.api_key = OpenAiKey\n",
    "    openai.api_version = OpenAiVersion\n",
    "    openai.api_base = OpenAiBase\n",
    "\n",
    "    llm = AzureOpenAI(deployment_name=OpenAiDavinci,\n",
    "            temperature=temperature,\n",
    "            openai_api_key=OpenAiKey,\n",
    "            max_tokens=tokenLength,\n",
    "            batch_size=10, \n",
    "            max_retries=12)\n",
    "    \n",
    "    llmChat = AzureChatOpenAI(\n",
    "                openai_api_base=openai.api_base,\n",
    "                openai_api_version=OpenAiVersion,\n",
    "                deployment_name=OpenAiChat,\n",
    "                temperature=temperature,\n",
    "                openai_api_key=OpenAiKey,\n",
    "                openai_api_type=\"azure\",\n",
    "                max_tokens=tokenLength)\n",
    "    \n",
    "    logging.info(\"LLM Setup done\")\n",
    "    embeddings = OpenAIEmbeddings(deployment=OpenAiEmbedding, chunk_size=1, openai_api_key=OpenAiKey)\n",
    "elif embeddingModelType == \"openai\":\n",
    "    openai.api_type = \"open_ai\"\n",
    "    openai.api_base = \"https://api.openai.com/v1\"\n",
    "    openai.api_version = '2020-11-07' \n",
    "    openai.api_key = OpenAiApiKey\n",
    "    llm = OpenAI(temperature=temperature,\n",
    "            openai_api_key=OpenAiApiKey,\n",
    "            max_tokens=tokenLength)\n",
    "    embeddings = OpenAIEmbeddings(openai_api_key=OpenAiApiKey)\n",
    "\n",
    "    llmChat = ChatOpenAI(temperature=temperature,\n",
    "        openai_api_key=OpenAiApiKey,\n",
    "        model_name=\"gpt-3.5-turbo\",\n",
    "        max_tokens=tokenLength)\n",
    "    \n",
    "    embeddings = OpenAIEmbeddings(openai_api_key=OpenAiApiKey)"
   ]
  },
  {
   "cell_type": "code",
   "execution_count": 4,
   "metadata": {},
   "outputs": [],
   "source": [
    "central = timezone('US/Central')\n",
    "today = datetime.now(central)\n",
    "currentYear = today.year\n",
    "historicalDate = today - relativedelta(years=3)\n",
    "historicalYear = historicalDate.year\n",
    "historicalDate = historicalDate.strftime(\"%Y-%m-%d\")\n",
    "totalYears = currentYear - historicalYear"
   ]
  },
  {
   "cell_type": "code",
   "execution_count": 5,
   "metadata": {},
   "outputs": [],
   "source": [
    "#find CIK based on Symbol\n",
    "cik = str(int(searchCik(apikey=apikey, ticker=symbol)[0][\"companyCik\"]))"
   ]
  },
  {
   "cell_type": "code",
   "execution_count": 6,
   "metadata": {},
   "outputs": [],
   "source": [
    "#symbol: str = \"AAPL\"\n",
    "#cik = \"320193\"\n",
    "#symbols: typing.List[str] = [\"AAPL\", \"CSCO\", \"QQQQ\"]\n",
    "#exchange: str = \"NYSE\"\n",
    "#exchanges: typing.List[str] = [\"NYSE\", \"NASDAQ\"]\n",
    "#query: str = \"AA\"\n",
    "#limit: int = 3\n",
    "#period: str = \"quarter\"\n",
    "#download: bool = True"
   ]
  },
  {
   "attachments": {},
   "cell_type": "markdown",
   "metadata": {},
   "source": [
    "#### 1. Paid Data - Company Profile and Key Executives"
   ]
  },
  {
   "cell_type": "code",
   "execution_count": 7,
   "metadata": {},
   "outputs": [
    {
     "name": "stdout",
     "output_type": "stream",
     "text": [
      "Search index pibdata already exists\n",
      "[{'id': 'b7cb44e7-4ec7-4cf3-b715-390e36b29330', 'symbol': 'AAPL', 'cik': '320193', 'step': '1', 'description': 'Biography of Key Executives', 'insertedDate': '2023-07-15', 'pibData': '[{\\'name\\': \"Ms. Deirdre  O\\'Brien\", \\'title\\': \\'Senior Vice President of People & Retail\\', \\'biography\\': \" Deirdre O\\'Brien is Apple\\'s Senior Vice President of Retail and People, reporting to CEO Tim Cook. She has been with Apple for 30 years and holds a Bachelor\\'s Degree in Operations Management from Michigan State University and a Master of Business Administration from San Jose State University. She oversees Apple\\'s retail and online teams, and Apple\\'s People team, with a focus on creating exceptional experiences for Apple customers and is estimated to have a net worth of $76.99M.\"}, {\\'name\\': \\'Mr. Timothy D. Cook\\', \\'title\\': \\'Chief Executive Officer & Director\\', \\'biography\\': \" Tim Cook is the CEO of Apple Inc. since 2011 and was previously the COO under Steve Jobs. He has a bachelor\\'s degree in industrial engineering from Auburn University and an MBA from Duke University. He is the first openly gay CEO of a Fortune 500 company and is also a director at Oak Street Health Inc., where he recently sold 52,000 shares of stock.\"}, {\\'name\\': \\'Ms. Mary  Demby\\', \\'title\\': \\'Chief Information Officer\\', \\'biography\\': \" Apple Inc. is losing two top executives, Anna Matthiasson and Mary Demby. Mary Demby is retiring after 30 years at the company, while Anna Matthiasson is leaving to pursue other interests. Mary Demby has been the Chief Information Officer at Apple Inc. and has led the company\\'s information systems and technology department.\"}, {\\'name\\': \\'Mr. Chris  Kondo\\', \\'title\\': \\'Senior Director of Corporation Accounting\\', \\'biography\\': \\' Chris Kondo is the Senior Director of Corporate Accounting at Apple Inc. He has made 40 transactions over 8 years and recently sold 20,200 shares of $AAPL for $3.0M. His estimated net worth is at least $6.25 million and he owns 33,946 shares of Apple stock worth more than $6,251,495. He is also a Global Social Investment Strategist and a Corporate Social Responsibility professional.\\'}, {\\'name\\': \\'Mr. James  Wilson\\', \\'title\\': \\'Chief Technology Officer\\', \\'biography\\': \\' James Wilson is a former Senior Apple Engineer and Chief Technology Officer at Rokt, BISOK, and Circle Up Indy. He is a materials scientist and engineer with a passion for transitioning early stage technologies to commercialization. He is also a global keynote speaker on the impact of technology on jobs and has co-authored 8 books on AI and Information Technology. He was also a Scottish-born American Founding Father, legal scholar, jurist, and statesman who served as an associate justice of the United States Supreme Court from 1789 to 1798.\\'}, {\\'name\\': \\'Mr. Jeffrey E. Williams\\', \\'title\\': \\'Chief Operating Officer\\', \\'biography\\': \" Jeff Williams has been appointed as the new Chief Operating Officer of Apple Inc. He has been with the company since 1998 and holds a B.S. in Mechanical Engineering from North Carolina State University and an MBA from Duke University. He is responsible for overseeing Apple\\'s worldwide operations, customer service and support, and the development of Apple Watch. His total compensation is $4,594,137.\"}, {\\'name\\': \\'Mr. Luca  Maestri\\', \\'title\\': \\'Chief Financial Officer & Senior Vice President\\', \\'biography\\': \\' Luca Maestri is the Chief Financial Officer and Senior Vice President of Apple Inc. He has a Bachelor of Economics from LUISS University in Rome and a Master of Science in Management from Boston University, and has over 25 years of experience in finance and operating roles. Since joining Apple in 2013, he has sold over $16.9 million worth of Apple stock in two transactions.\\'}, {\\'name\\': \"Ms. Deirdre  O\\'Brien\", \\'title\\': \\'Senior Vice President of Retail\\', \\'biography\\': \" Deirdre O\\'Brien is Apple\\'s Senior Vice President of Retail + People, reporting to CEO Tim Cook. She has a Bachelor in Operations Management and a Master of Business Administration, and has been with Apple for 30 years. She is responsible for overseeing talent development, recruiting, employee relations, business partnership, benefits, compensation, and inclusion and diversity, and is focused on creating exceptional experiences for Apple customers.\"}, {\\'name\\': \\'Ms. Katherine L. Adams\\', \\'title\\': \\'Senior Vice President, Gen. Counsel & Sec.\\', \\'biography\\': \" Katherine L. Adams is an American attorney and corporate lawyer who serves as the general counsel and senior vice president of legal and global security at Apple Inc. She holds a Bachelor\\'s degree from Brown University and a graduate degree from The University of Chicago Law School, and was previously the general counsel of Honeywell International Inc. and a partner at the law firm of Sidley Austin LLP. She is responsible for managing all of Apple\\'s legal affairs and is a member of the executive team.\"}, {\\'name\\': \\'Mr. Greg  Joswiak\\', \\'title\\': \\'Senior Vice President of Worldwide Marketing\\', \\'biography\\': \\' Greg \"Joz\" Joswiak is the Senior Vice President of Worldwide Marketing at Apple Inc., having been with the company since 1986. He has been involved in the development and launch of products such as the iPod and iPhone, and currently oversees marketing for iPads, iPhones, MacBooks, and services such as Apple TV+. He has studied at the University of Michigan and has been awarded the CoE Alumni Society Merit Award. Insiders at Apple Inc. have traded over $1.16 billion worth of stock in the last 20 years.\\'}, {\\'name\\': \\'Ms. Nancy  Paxton\\', \\'title\\': \\'Senior Director of Investor Relations & Treasury\\', \\'biography\\': \" Nancy Paxton recently retired from Apple Inc. after 33 years of service, where she served as Senior Director of Investor Relations and Treasury. During her two decades at the company, she managed 93 earnings calls and introduced and managed Apple\\'s relationship with the professional investor community, as well as being a member of the National Organization for Women and the American Association of University Women.\"}]'}, {'id': '37e51b82-1609-47de-a280-935d5e0fcb70', 'symbol': 'AAPL', 'cik': '320193', 'step': '1', 'description': 'Company Profile', 'insertedDate': '2023-07-15', 'pibData': \"[{'symbol': 'AAPL', 'mktCap': 2999305895866, 'companyName': 'Apple Inc.', 'currency': 'USD', 'cik': '0000320193', 'isin': 'US0378331005', 'exchange': 'NASDAQ Global Select', 'industry': 'Consumer Electronics', 'sector': 'Technology', 'address': 'One Apple Park Way', 'city': 'Cupertino', 'state': 'CA', 'zip': '95014', 'website': 'https://www.apple.com', 'description': 'Apple Inc. designs, manufactures, and markets smartphones, personal computers, tablets, wearables, and accessories worldwide. It also sells various related services. In addition, the company offers iPhone, a line of smartphones; Mac, a line of personal computers; iPad, a line of multi-purpose tablets; AirPods Max, an over-ear wireless headphone; and wearables, home, and accessories comprising AirPods, Apple TV, Apple Watch, Beats products, HomePod, and iPod touch. Further, it provides AppleCare support services; cloud services store services; and operates various platforms, including the App Store that allow customers to discover and download applications and digital content, such as books, music, video, games, and podcasts. Additionally, the company offers various services, such as Apple Arcade, a game subscription service; Apple Music, which offers users a curated listening experience with on-demand radio stations; Apple News+, a subscription news and magazine service; Apple TV+, which offers exclusive original content; Apple Card, a co-branded credit card; and Apple Pay, a cashless payment service, as well as licenses its intellectual property. The company serves consumers, and small and mid-sized businesses; and the education, enterprise, and government markets. It distributes third-party applications for its products through the App Store. The company also sells its products through its retail and online stores, and direct sales force; and third-party cellular network carriers, wholesalers, retailers, and resellers. Apple Inc. was incorporated in 1977 and is headquartered in Cupertino, California.'}]\"}]\n"
     ]
    }
   ],
   "source": [
    "# Get the information about the company and list of all executives.\n",
    "# Check if we have already created record for Profile\n",
    "createPibIndex(SearchService, SearchKey, pibIndexName)\n",
    "step = \"1\"\n",
    "s1Data = []\n",
    "r = findPibData(SearchService, SearchKey, pibIndexName, cik, step, returnFields=['id', 'symbol', 'cik', 'step', 'description', 'insertedDate',\n",
    "                                                                   'pibData'])\n",
    "if r.get_count() == 0:\n",
    "    step1Profile = []\n",
    "    profile = companyProfile(apikey=apikey, symbol=symbol)\n",
    "    df = pd.DataFrame.from_dict(pd.json_normalize(profile))\n",
    "    sData = {\n",
    "            'id' : str(uuid.uuid4()),\n",
    "            'symbol': symbol,\n",
    "            'cik': cik,\n",
    "            'step': step,\n",
    "            'description': 'Company Profile',\n",
    "            'insertedDate': today.strftime(\"%Y-%m-%d\"),\n",
    "            'pibData' : str(df[['symbol', 'mktCap', 'companyName', 'currency', 'cik', 'isin', 'exchange', 'industry', 'sector', 'address', 'city', 'state', 'zip', 'website', 'description']].to_dict('records'))\n",
    "    }\n",
    "    step1Profile.append(sData)\n",
    "    s1Data.append(sData)\n",
    "    # Insert data into pibIndex\n",
    "    mergeDocs(SearchService, SearchKey, pibIndexName, step1Profile)\n",
    "\n",
    "    # Get the list of all executives and generate biography for each of them\n",
    "    executives = keyExecutives(apikey=apikey, symbol=symbol)\n",
    "    df = pd.DataFrame.from_dict(pd.json_normalize(executives),orient='columns')\n",
    "    df = df.drop_duplicates(subset='name', keep=\"first\")\n",
    "\n",
    "    step1Biography = []\n",
    "    tools = []\n",
    "    topK = 1\n",
    "    step1Executives = []\n",
    "    #### With the company profile and key executives, we can ask Bing Search to get the biography of the all Key executives and \n",
    "    # ask OpenAI to summarize it - Public Data\n",
    "    for executive in executives:\n",
    "        name = executive['name']\n",
    "        title = executive['title']\n",
    "        query = f\"Give me brief biography of {name} who is {title} at {symbol}. Biography should be restricted to {symbol} and summarize it as 2 paragraphs.\"\n",
    "        qaPromptTemplate = \"\"\"\n",
    "            Rephrase the following question asked by user to perform intelligent internet search\n",
    "            {query}\n",
    "            \"\"\"\n",
    "        optimizedPrompt = qaPromptTemplate.format(query=query)\n",
    "        completion = openai.Completion.create(\n",
    "                    engine=OpenAiDavinci,\n",
    "                    prompt=optimizedPrompt,\n",
    "                    temperature=temperature,\n",
    "                    max_tokens=100,\n",
    "                    n=1)\n",
    "        q = completion.choices[0].text\n",
    "        bingSearch = BingSearchAPIWrapper(k=25)\n",
    "        results = bingSearch.run(query=q)\n",
    "        chain = load_summarize_chain(llm, chain_type=\"map_reduce\")\n",
    "        docs = [Document(page_content=results)]\n",
    "        summary = chain.run(docs)\n",
    "        step1Executives.append({\n",
    "            \"name\": name,\n",
    "            \"title\": title,\n",
    "            \"biography\": summary\n",
    "        })\n",
    "\n",
    "    sData = {\n",
    "            'id' : str(uuid.uuid4()),\n",
    "            'symbol': symbol,\n",
    "            'cik': cik,\n",
    "            'step': step,\n",
    "            'description': 'Biography of Key Executives',\n",
    "            'insertedDate': today.strftime(\"%Y-%m-%d\"),\n",
    "            'pibData' : str(step1Executives)\n",
    "    }\n",
    "    step1Biography.append(sData)\n",
    "    s1Data.append(sData)\n",
    "    mergeDocs(SearchService, SearchKey, pibIndexName, step1Biography)\n",
    "else:\n",
    "    for s in r:\n",
    "        s1Data.append(\n",
    "            {\n",
    "                'id' : s['id'],\n",
    "                'symbol': s['symbol'],\n",
    "                'cik': s['cik'],\n",
    "                'step': s['step'],\n",
    "                'description': s['description'],\n",
    "                'insertedDate': s['insertedDate'],\n",
    "                'pibData' : s['pibData']\n",
    "            })\n",
    "\n",
    "print(s1Data)"
   ]
  },
  {
   "attachments": {},
   "cell_type": "markdown",
   "metadata": {},
   "source": [
    "#### 2. Paid Data -  Get the Earnings Call Transcript for each quarter for last 3 years"
   ]
  },
  {
   "cell_type": "code",
   "execution_count": 45,
   "metadata": {},
   "outputs": [
    {
     "name": "stdout",
     "output_type": "stream",
     "text": [
      "Search index earningcalls already exists\n",
      "Processing ticker : AAPL\n",
      "Processing year and Quarter : 2020-Q1\n",
      "Found 1 records for AAPL for Q1 2023\n",
      "Processing year and Quarter : 2020-Q2\n",
      "Found 1 records for AAPL for Q2 2023\n",
      "Processing year and Quarter : 2020-Q3\n",
      "Found 1 records for AAPL for Q3 2023\n",
      "Processing year and Quarter : 2020-Q4\n",
      "Found 1 records for AAPL for Q4 2023\n",
      "Processing ticker : AAPL\n",
      "Processing year and Quarter : 2021-Q1\n",
      "Found 1 records for AAPL for Q1 2023\n",
      "Processing year and Quarter : 2021-Q2\n",
      "Found 1 records for AAPL for Q2 2023\n",
      "Processing year and Quarter : 2021-Q3\n",
      "Found 1 records for AAPL for Q3 2023\n",
      "Processing year and Quarter : 2021-Q4\n",
      "Found 1 records for AAPL for Q4 2023\n",
      "Processing ticker : AAPL\n",
      "Processing year and Quarter : 2022-Q1\n",
      "Found 1 records for AAPL for Q1 2023\n",
      "Processing year and Quarter : 2022-Q2\n",
      "Found 1 records for AAPL for Q2 2023\n",
      "Processing year and Quarter : 2022-Q3\n",
      "Found 1 records for AAPL for Q3 2023\n",
      "Processing year and Quarter : 2022-Q4\n",
      "Found 1 records for AAPL for Q4 2023\n",
      "Processing ticker : AAPL\n",
      "Processing year and Quarter : 2023-Q1\n",
      "Found 1 records for AAPL for Q1 2023\n",
      "Processing year and Quarter : 2023-Q2\n",
      "Found 1 records for AAPL for Q2 2023\n",
      "Processing year and Quarter : 2023-Q3\n",
      "[]\n",
      "Processing year and Quarter : 2023-Q4\n",
      "[]\n"
     ]
    }
   ],
   "source": [
    "# Call the paid data (FMP) API\n",
    "# Get the earning call transcripts for the last 3 years and merge documents into the index.\n",
    "i = 0\n",
    "earningsData = []\n",
    "step = \"2\"\n",
    "earningIndexName = 'earningcalls'\n",
    "# Create the index if it does not exist\n",
    "createEarningCallIndex(SearchService, SearchKey, earningIndexName)\n",
    "for i in range(totalYears + 1):\n",
    "    print(f\"Processing ticker : {symbol}\")\n",
    "    processYear = historicalYear + i\n",
    "    Quarters = ['Q1', 'Q2', 'Q3', 'Q4']\n",
    "    for quarter in Quarters:\n",
    "        print(f\"Processing year and Quarter : {processYear}-{quarter}\")\n",
    "        r = findEarningCalls(SearchService, SearchKey, earningIndexName, symbol, quarter.replace('Q', ''), str(processYear), returnFields=['id', 'symbol', \n",
    "                    'quarter', 'year', 'callDate', 'content'])\n",
    "        if r.get_count() == 0:\n",
    "            insertEarningCall = []\n",
    "            earningTranscript = earningCallTranscript(apikey=apikey, symbol=symbol, year=str(processYear), quarter=quarter)\n",
    "            print(earningTranscript)\n",
    "            for transcript in earningTranscript:\n",
    "                symbol = transcript['symbol']\n",
    "                quarter = transcript['quarter']\n",
    "                year = transcript['year']\n",
    "                callDate = transcript['date']\n",
    "                content = transcript['content']\n",
    "                todayYmd = today.strftime(\"%Y-%m-%d\")\n",
    "                id = f\"{symbol}-{year}-{quarter}\"\n",
    "                earningRecord = {\n",
    "                    \"id\": id,\n",
    "                    \"symbol\": symbol,\n",
    "                    \"quarter\": str(quarter),\n",
    "                    \"year\": str(year),\n",
    "                    \"callDate\": callDate,\n",
    "                    \"content\": content,\n",
    "                    #\"inserteddate\": datetime.now(central).strftime(\"%Y-%m-%d\"),\n",
    "                }\n",
    "                earningsData.append(earningRecord)\n",
    "                insertEarningCall.append(earningRecord)\n",
    "                mergeDocs(SearchService, SearchKey, earningIndexName, insertEarningCall)\n",
    "        else:\n",
    "            print(f\"Found {r.get_count()} records for {symbol} for {quarter} {year}\")\n",
    "            for s in r:\n",
    "                earningsData.append(\n",
    "                    {\n",
    "                        'id' : s['id'],\n",
    "                        'symbol': s['symbol'],\n",
    "                        'quarter': s['quarter'],\n",
    "                        'year': s['year'],\n",
    "                        'callDate': s['callDate'],\n",
    "                        'content': s['content']\n",
    "                    })"
   ]
  },
  {
   "attachments": {},
   "cell_type": "markdown",
   "metadata": {},
   "source": [
    "#### Split the transcripts as per Split Method, Chunk Size and Overlap"
   ]
  },
  {
   "cell_type": "code",
   "execution_count": 47,
   "metadata": {},
   "outputs": [
    {
     "data": {
      "text/plain": [
       "\"Operator: Good day, and welcome to the Apple’s Q2 Fiscal Year 2023 Earnings Conference Call. Today's call is being recorded. At this time, for opening remarks and introductions, I would like to turn the call over to Suhasini Chandramouli, Director of Investor Relations. Please go ahead.\\nSuhasini Chandramouli : Thank you. Good afternoon and thank you for joining us. Speaking first today is Apple's CEO, Tim Cook; and he'll be followed by CFO, Luca Maestri. After that, we'll open the call to questions from analysts. Please note that some of the information you'll hear during our discussion today will consist of forward-looking statements, including, without limitation, those regarding revenue, gross margin, operating expense, other income and expense, taxes, capital allocation, and future business outlook, including the potential impact of macroeconomic conditions on the company's business and results of operations. These statements involve risks and uncertainties that may cause actual results or trends to differ materially from our forecast. For more information, please refer to the risk factors discussed in Apple's most recently filed annual report on Form 10-K and the Form 8-K filed with the SEC today, along with the associated press release. Apple assumes no obligation to update any forward-looking statements or information, which speak as of their respective dates. I'd now like to turn the call over to Tim for introductory remarks.\\nTim Cook: Thank you, Suhasini. Good afternoon, everyone, and thanks for joining us. Today, we're reporting revenue of $94.8 billion for the March quarter, which was better than our expectations. We set an all-time record for Services and a March quarter record for iPhone. We were particularly pleased with the performance we saw in emerging markets and achieved all-time records in Mexico, Indonesia, the Philippines, Saudi Arabia, Turkey and the UAE, as well as a number of March quarter records, including in Brazil, Malaysia and India. This result is a testament, first and foremost to our teams around the world who are engaged every day in the work of bringing new innovations to life. It speaks to the incredible power of Apple products and services to enrich people's lives in indispensable ways. And whether it's in the design lab in Cupertino, or in one of the brand new retail stores in India, I am constantly inspired by the way our people come together to make a real difference in the world. During the March quarter, we continued to face foreign exchange headwinds, which had an impact of more than 500 basis points, as well as ongoing challenges related to the macroeconomic environment. Revenue was down 3% year-over-year as a result, while on a constant currency basis, we grew in total and in the vast majority of the markets we tried. Despite these challenges, we continue to manage for the long term and to push the limits of what's possible, always on behalf of the customers who depend on our products whether it's students exploring new frontiers, developers dreaming up their next big idea, or artists taking their creativity to a whole new level. Let me share how these results showed up across our lineup of products and services. Let's start with iPhone, which set a new March quarter record with revenue of $51.3 billion. The iPhone 14 and 14 plus continue to delight users with their long lasting battery and advanced camera. And our pro users continue to rave about the most powerful camera system ever in an iPhone. This March, we were excited to expand emergency SOS via satellite to six new countries, bringing this important safety feature to even more users. We now offer this vital service in 12 countries, and I'm grateful for every note I've received from around the world about the life saving impact of our safety features. Now let's turn to Mac, which recorded $7.2 billion in revenue for the March quarter in line with our expectations. As we noted during our last call, Mac faced a very difficult compare because of the incredibly successful rollout of our M1 chip throughout the Mac lineup last year. And like our other product lines, Mac is facing some macroeconomic and foreign exchange headwinds as well. That said, the advancements we've made in power efficient performance continue to amaze our users. Our M2 Mac Mini customers are raving about the pro level powerhouse packed into an ultra-compact design, and users are marveling at the power and speed at the heart of every M2 powered MacBook Air and MacBook Pro, which allowed them to sustain even the most demanding workloads. iPad revenue was $6.7 billion, which was also in line with our expectations. Similar to Mac, iPad revenue performance was impacted by macroeconomic challenges, foreign exchange headwinds, and a difficult compare with last year when we launched the M1 powered iPad Air. iPad's versatility continues to be its greatest strength as we're helping students learn on the same family of devices artists use to create their next masterpiece. Across wearables, home and accessories, revenue was $8.8 billion. With its exceptional range of game changing health and safety features, Apple Watch becomes more and more indispensable every day. Apple Watch Ultra is attracting adventures, athletes and everyday users with its breakthrough features built for endurance and exploration. And with summer travel season soon heating up, there's no better companion in the air or on the road than AirPods, the best and most popular headphones in the world. Meanwhile, Services set an all-time record with $20.9 billion in revenue for the March quarter. We achieved all time revenue records across App Store, Apple Music, iCloud and payment services. And now, with more than 975 million paid subscriptions, we're reaching even more people with our lineup of services. Apple TV Plus continues to draw praise from customers and reviewers alike. During the past quarter, fans tuned in to incredible new series like Shrinking and The Big Door Prize and got to welcome Ted Lasso back into their homes for a third season. Movies like Tetris are captivating viewers with many more to come, including Martin Scorsese’s Killers of the Flower Moon later this year. Three years since its launch, Apple TV Plus programming has been celebrated across the globe, with over 1,450 nominations and more than 350 wins. Recently, we were thrilled to cheer on The Boy, the Mole, the Fox and the Horse, which won an Academy Award for best Animated Short Film. The first season of our historic tenure partnership with Major League Soccer is well underway with MLS season pass, we've created the ultimate destination for soccer fans, offering subscribers the ability to watch every match with no blackouts. And with baseball season in full swing, Apple TV Plus subscribers can watch their favorite teams with the return of Friday night baseball. This quarter, we launched Apple Music Classical, a standalone app that gives something special to classical music lovers. Apple Music Classical packs the largest library of classical music on Earth into a thoughtful and intuitive design that strikes all the right notes. Whether you're listening with AirPods or HomePod, the premium sound experience of Apple Music Classical will leave you with a feeling of being front row at the symphony just behind the conductor. In March, we also launched Apple Pay Later designed with users privacy and financial health in mind. Apple Pay Later allows users to split purchases into multiple payments with no interest or fees. And last month, we introduced Apple Card Savings Accounts to give users even more value out of their daily cash Apple Card Benefit. At Apple, our customers are at the center of everything we do. Nowhere is that more evident than retail, where our teams are dedicated to sharing the best of Apple with our customers. And we're constantly innovating to deliver exceptional experiences and meet our customers where they are. In the US, we launch Shop with a specialist over video, a new way for customers to learn about iPhone and find the one that's just right for them. And as I noted earlier, in a milestone for Apple, we just opened our first two Apple stores in India, in Mumbai and Delhi. I was there to see it for myself, and I couldn't have been more delighted by the excitement and enthusiasm of the customers, developers, creators and team members I got to spend time with. I've had the chance to connect with customers and teams all around the world in recent months, so many people shared with me that they were fans of Apple, not just because of the innovations we create, but because of the values that guide us, and that means a great deal to us. We're constantly striving to make a positive difference in people's lives and be a force for progress. We're investing in education to give students the skills they need to shape the future. We're helping to create pathways of opportunity for communities of color through our Racial Equity and justice initiative. And every day we're building an even more inclusive and diverse Apple rooted in our culture of belonging. To better understand how our work intersects with our values, look no further than what we're doing for the environment. We just celebrated Earth Day in April, and during that month, Apple announced that its global manufacturing partners now support over 13 gigawatts of renewable energy, a nearly 30% increase in just the last year. This translates to 17.4 million metric tons of avoided carbon emissions, the equivalent of removing nearly 3.8 million cars from the road. We're all investing up to an additional $200 million in our Restore Fund, which is designed to support innovative, scalable, nature based carbon removal projects, with the goal of removing 1 million metric tons of carbon every year. These are just the latest steps on our journey toward our 2030 goal to be carbon neutral across our supply chain and lifecycle of our devices. At the same time, we're advancing renewable energy across our supply chain, we're also sourcing more recycled materials in our products. Last month, we announced our plans to have all Apple design batteries include 100% certified recycled cobalt by 2025, and we remain committed to one day using only recycled and renewable materials in our products. We have a deep sense of mission here at Apple. We believe in the power of innovation to build a better world. We are determined to do our best work on behalf of our customers and to give them the tools that can enrich lives. So we will manage for the long term, just as we always have, with our eyes to the horizon, with limitless creativity, and with a deep belief that we can achieve anything we put our minds to. With that, I'll turn it over to Luca.\\nLuca Maestri: Thank you, Tim, and good afternoon, everyone. Revenue for the March quarter was $94.8 billion, down 3% from last year and better than our expectations. Foreign exchange had a negative impact of over five percentage points on our results, in line with what we had expected. On a constant currency basis, our revenue grew year-over-year in total and in the majority of the markets we track. In addition to the records in emerging markets that Tim mentioned, we also set March quarter records in Australia, Canada, Spain and Switzerland, among others. Products revenue was $73.9 billion, down 5% from last year, due to challenging compares on Mac and iPad. iPhone, however, reached a March quarter revenue record thanks to very strong performance in emerging markets from South Asia and India to Latin America and the Middle East. During the quarter, our installed base of active devices continued to grow at a nice pace thanks to extremely high levels of customer satisfaction and loyalty, and reached an all-time high for all major product categories and geographic segments. Our Services set an all-time revenue record of $20.9 billion, up 5% year-over-year, on top of growing 17% in the March quarter a year ago. We reached an all-time services revenue record in Greater China and March quarter records in Americas, Europe and Rest of Asia Pacific. Company gross margin was 44.3%, up 130 basis points from last quarter, driven by cost savings and favorable mix shift towards services partially offset by leverage. Products gross margin was 36.7%, decreasing 30 basis points sequentially due to seasonal loss of leverage and mix, partially offset by favorable costs. Services gross margin was 71%, up 20 basis points sequentially. Operating expenses of $13.7 billion were at the low end of the guidance range we provided at the beginning of the quarter and continued to decelerate from the December quarter. We are closely managing our spend, but remain focused on long term growth with continued investment in innovation and product development. Net income was $24.2 billion. Diluted earnings per share were a $1.52, unchanged versus last year, and we generated very strong operating cash flow of $28.6 billion. Let me now provide more detail for each of our revenue categories. iPhone revenue set a March quarter record of $51.3 billion, up 2% year-over-year despite significant foreign exchange headwinds and a challenging macroeconomic environment. We set March quarter records in several developed and emerging markets with India, Indonesia, Turkey and the UAE doubling on a year-over-year basis. Our active installed base of iPhone grew to a new all-time high and was up in all our geographic segments. We are very pleased by the results of the latest survey of US Consumers from 451 Research, which measured customer satisfaction at 99% for the iPhone 14 family. Mac revenue was $7.2 billion, down 31% year-over-year and in line with our expectations. These results were driven by the challenging macroeconomic environment coupled with a difficult compare against last year's launch of the completely reimagined M1 MacBook Pros. Despite this, the installed base of active Macs reached an all-time high across all geographic segments and we continue to see strong upgraded activity to Apple silicon. Also, the latest survey of US Consumers from 451 Research reported customer satisfaction at 96% for Mac. iPad generated $6.7 billion in revenue, down 13% year-over-year and in line with our expectations. This performance was due to two key factors, a tough compare against the launch of iPad Air powered by the M1 chip in the year ago quarter and headwinds from the macroeconomic environment. The iPad installed base reached a new all-time high in all geographic segments thanks to exceptional customer loyalty and a high number of new customers. In fact, over half of the customers who purchased iPads during the quarter were new to the product. Wearables, home and accessories revenue was $8.8 billion, down 1% year-over-year as the category experienced the impact from the macroeconomic environment. However, we did set March quarter records both in the US and in Greater China. We continue to see strength in our Watch installed base, which set a new all-time record, thanks to very high customer loyalty and new two rates, nearly two thirds of customers purchasing an Apple Watch during the quarter were new to the product. Moving to Services, we reached a new all-time revenue record of $20.9 billion. And in addition to the all-time records Tim mentioned earlier, we set March quarter records for advertising Apple Care and Video. Despite these records, as we saw in recent quarters, certain services offerings such as digital advertising and mobile gaming continue to be affected by the current macroeconomic environment. Stepping back, however, the continued growth in Services is the reflection of our ecosystem strength and the positive momentum we are seeing across several key metrics. First, our growing installed base of over 2 billion active devices represents a great foundation for future expansion of our ecosystem. We continue to grow across every major product category and geographic segment, thanks to very high levels of customer loyalty and satisfaction. Second, we saw increased customer engagement with our services during the quarter. Both our transacting accounts and paid accounts grew double digits year-over-year, each setting a new all-time record. Third, paid subscriptions showed strong growth. We now have more than $975 million paid subscriptions across the Services on our platform, up 150 million during the last 12 months and nearly double the number of paid subscriptions we had only three years ago. And finally, we continue to improve the breadth and the quality of our current services offerings from new content on Apple TV Plus to great new features available in Apple Pay and Apple Music, which we believe our customers will love. Turning to the enterprise market, we see business customers continuing to invest in the Apple platform to drive higher employee productivity and satisfaction. In Brazil, Boticario Group, the world's largest cosmetics franchiser, originally starting with iPhone, 12 employees manage operations across a network of retail stores, franchisees and resellers. As it continues to digitize its business, Boticario has chosen to move all software development in house and adopted Mac as the standard device for all of their developer teams across the world. In small business, we see an increasing number of customers relying on Apple hardware, software and services to power their businesses forward, from accepting payments on iPhone, to tracking inventory on Mac or iPad, to managing employee devices with Apple Business Essentials. As we celebrate National Small Business week here in the US, we are proud to continue supporting the small business community. Let me now turn to our cash position and capital return program. We ended the quarter with over $166 billion in cash and marketable securities. We repaid $2.3 billion in maturing debt and increased commercial paper by about $300 million, leaving us with total debt of $110 billion. As a result, net cash was $57 billion at the end of the quarter. During the March quarter, we returned over $23 billion to shareholders, including $3.7 billion in dividends and equivalents and $19.1 billion through open market repurchases of $129 million Apple shares. Given the continued confidence we have in our business now and into the future, today our Board has authorized an additional $90 billion for share repurchases as we maintain our goal of getting to net cash neutral over time. We're also raising our dividend by 4% to $0.24 a share, and we continue to plan for annual increases in the dividend going forward. As we move ahead into the June quarter, I'd like to review our outlook, which includes the types of forward looking information that Suhasini referred to at the beginning of the call. We expect our June quarter year-over-year revenue performance to be similar to the March quarter, assuming that the macroeconomic outlook does not worsen from what we are projecting today for the current quarter. Foreign exchange will continue to be a headwind and we expect a negative year-over-year impact of nearly four percentage points. For Services, we expect our June quarter year-over-year revenue growth to be similar to the March quarter, while continuing to face macroeconomic headwinds in areas such as digital advertising and mobile gaming. We expect gross margin to be between 44% and 44.5%. We expect OpEx to be between $13.6 billion and $13.8 billion. We expect OINE to be around negative $250 million excluding any potential impact from the mark-to-market of minority investments and our tax rate to be around 16%. Finally reflecting the dividend increase I mentioned earlier, today, our Board of Directors has declared a cash dividend of $0.24 per share of common stock payable on May 18, 2023, to shareholders of record as on May 15, 2023. With that, let's open the call to questions.\\nOperator: [Operator Instructions] We will go ahead and take our first question from Erik Woodring of Morgan Stanley.\\nErik Woodring: Hey, good afternoon, guys. Thank you so much for taking the questions. Tim, maybe if we start with you. If we go back to the December quarter and the shutdowns, the production shutdowns around the time I think the question a lot of us were asking was how should we think about the deferral of demand versus destruction of demand? March quarter was quite strong 2% year-over-year iPhone growth. And so as we sit here in May, how have you seen that customers that weren't able to purchase during the December quarter behave? Meaning, are you seeing that they deferred purchases to March and June? Could they be deferring purchases to later and hopes of buying a new iPhone? Just how should maybe we think about the cadence of that and then I have a follow up. Thanks.\\nTim Cook: Yes. Hi, Erik. It's hard to quantify this, but we do believe we did recapture some amount of sales in the March quarter as we did see the iPhone performance accelerate relative to the December quarter. The production levels for the whole quarter were where we wanted them to be. So supply was not an issue during Q2.\\nErik Woodring: Okay, perfect. Thank you for that color. And then, Tim, maybe to follow up, it's been three or four quarters now that you've mentioned emerging markets like India and others. And I imagine, having just opened two new stores in the country, clearly an important market for you. So maybe can you just talk about why you see India as such an important market and others, how you think about monetization trends in the country and specifically what you have to do within the country to really ensure that India becomes maybe a more material mix of your business? And that's it for me. Thanks so much.\\nTim Cook: Yes, sure. Looking at the business in India, we did set a quarterly record, grew very strong, double digits year-over-year. So it was quite a good quarter for us, taking a step back, India is an incredibly exciting market. It's a major focus for us. I was just there, and the Dynamism in the market, the vibrancy is unbelievable. Over time, we've been expanding our operations there to serve more customers, and three years ago, we launched the Apple Store online, and then, as you just mentioned, we launched two stores just a few weeks ago, and they're off to a great start, one in Mumbai and one in Delhi. We've got a number of channel partners in the country as well that we're partnering with, and we're very happy with how that's going overall. Overall, I couldn't be more delighted and excited by the enthusiasm I'm seeing for the brand there. There are a lot of people coming into the middle class, and I really feel that India is at a tipping point, and it's great to be there. On other emerging markets, we had a stellar quarter in emerging markets overall, as I had mentioned, with records set in a number of different places, including Indonesia and Mexico, the Philippines, Saudi Arabia, Turkey, UAE, and then quarterly records in Brazil, India and Malaysia. And so it was a great quarter for emerging markets in general, despite the headwinds of the currency that Luca mentioned. And so we're putting efforts in a number of these markets and really see, particularly given our low share and the dynamics of the demographics, et cetera, a great opportunity for us in those markets.\\nOperator: Our next question is from Mike Ng of Goldman Sachs.\\nMike Ng: Hey, good afternoon. Thank you very much for the question. It was encouraging to hear about the record installed base across iPhone and across all devices. It's been, I think, double digit growth over the last few years across the active devices. I was just wondering, is that a good way to think about the installed base growth going forward? And then for the iPhone installed base specifically, I was just wondering if you could provide a little bit of texture around how you think about the growth there, whether regionally or by first, smartphones versus switchers. And then I have a quick follow up.\\nTim Cook: Yes. If you look at the installed base of active devices now, overall it's more than $2 billion. As you know, we announced in January that we surpassed that. And this quarter, our Q2 rather we set new records across each of the geographic segments and each of the major product categories. And that's despite declines in current quarter sales, in particular in Mac and iPad. This is a huge asset for us, and it's a testament to the overall customer satisfaction and engagement and loyalty of our customers. And so we view this as a major asset for us. The iPhone base is well over a $1 billion active devices. We see this as upgrade rates, and these sorts of things may change quarter-to-quarter depending upon macroeconomic. But if you back up and look at the installed base, we feel great about the size of it and the rate that it's growing.\\nMike Ng: Great. Excellent. And then it was also encouraging to see the number of devices per iPhone user continue to grow. I was just wondering if you could talk about the opportunity to continue to increase that number of Apple devices per iPhone user and if you have any color around how the monetization per user may differ from those, for lack of better words, super users versus those that may not be as deep into the ecosystem. Thanks.\\nTim Cook: We try really hard to design our products in such a way that they work seamlessly together, and so whether that's the watch or the Mac, so that you can start working on one device and finish it on the other. And so there are a good deal of people out there that have multiple Apple devices, and I think this is a testament to the customer satisfaction and loyalty that we've been able to get from the incredible design that our engineering teams do on our products.\\nOperator: Our next question is from Shannon Cross of Credit Suisse.\\nShannon Cross: Thank you very much. Thank you for taking my question. Tim, can you talk a bit about AI? It's obviously more than the topic of the day. It seems like the topic of the year. Just how you think about it through your products and services. I know you use it in different ways, but also if you can just give us any thoughts you have on generative AI and I don't know where you see it going, not sure what you want to say on it, but I'm really curious for your take. Thank you.\\nTim Cook: Yes, thanks for the question, Shannon. As you know, we don't comment on product roadmaps. I do think it's very important to be deliberate and thoughtful in how you approach these things. And there's a number of issues that need to be sorted, as is being talked about in a number of different places. But the potential is certainly very interesting. And we've obviously made enormous progress integrating AI and machine learning throughout our ecosystem and we weaved it into products and features for many years as you probably know. You can see that in things like fall detection and crash detection and ECG, these things are not only great features, they're saving people's lives out there. And so it's absolutely remarkable. And so we are, we view AI as huge and we'll continue weaving it in our products on a very thoughtful basis.\\nShannon Cross: Okay. Thank you. And then can you talk a bit about your shift of manufacturing and diversification of manufacturing footprint? I'm curious. Obviously, you have a very tight network in China. So how is it going to move to some of these other regions? Are you seeing any impact from a margin perspective or just any thoughts you have on what you've seen as you started to shift more and more outside of China? Whether it's growth or it's actual production? Thank you.\\nTim Cook: Our supply chain is truly global and we're investing all over the world. We're investing in the US. We're investing in a number of other countries as well. So we make products everywhere. We'll continue to invest everywhere, and we'll continue to look for ways to optimize the supply chain based on what we learn each and every day and week and so forth, to ensure that we can deliver the best products and services for our customers. If you sort of step back and look at how we've performed over the last three years on the supply chain, despite this parade of horribles, if you will, between the pandemic and the chip shortages and macroeconomic kind of factors, the supply chain has been incredibly resilient, and we feel good about what we are and what our plans are.\\nOperator: Our next question is from Wamsi Mohan of Bank of America.\\nWamsi Mohan: Yes. Thank you. Tim, you had called out on December quarter earnings that Pro models were significantly constrained. Do you see a catch up on the Pro model specifically in the March quarter? And was the mix better than typical? And do you see that mix renormalizing here in the June quarter? And maybe you can comment on the channel inventory levels as well for iPhones, and I have a follow up.\\nTim Cook: Sure. It's hard to quantify Wamsi, but we do believe we did recapture some amount of sales in the March quarter, and obviously we had to set the channel at the right levels. And we're very comfortable with the channel inventory that we have on a forward basis. So we do think there were some, but it's difficult to quantify it.\\nWamsi Mohan: Okay. Thanks, Tim. And Tim, as a follow up, you launched so many services around Apple Pay most recently, you mentioned Buy Now Pay Later high yield savings account. Where do you see the expansion and the payments ecosystem over time? And do you look at the payments ecosystem as a standalone revenue opportunity? Or is it more about making the devices even more inseparable from us? Thank you.\\nTim Cook: What we're trying to do with our payments work is that sort of like we've done on the watch, where we're focused on helping people live a healthier day on our financial products. We're helping people have a better financial health and so things like the Apple Card and the fact that it has no fees, like the savings account, which has, as you mentioned, it's very attractive yield. So we're trying to help our users, but these things have to stand on their own, obviously. But we're very user focused, and so we're listening to them at what things provide them pinch points and orchestrate our roadmaps around that. Buy Now Pay Later is another one that we've just gotten out of the shoot. But on the savings account specifically, we are very pleased with the initial response on it. It's been incredible.\\nOperator: Our next question is from David Vogt of UBS.\\nDavid Vogt: Great. Thanks for taking my question. Tim, I just wanted to go back to maybe kind of dig into the restocking of inventory in the channel versus what we're hearing from a demand perspective that appears to be a little bit softer in the March quarter from some of your larger carriers. That exhibited relatively weak upgrade rates. So I just want to kind of get a sense for where you're seeing demand signals today vis-à-vis how you were thinking about it maybe a month ago or even three months ago. And is there sort of an acceleration in demand or any sort of signals that you might want to share with us at this point? And then I have a follow up.\\nTim Cook: I don't want to go into what we're seeing in Q3 other than the guidance that Luca has given. But for Q2, I think you're probably referencing primarily US carriers. And if you look at our geographic distribution of our performance, it was lower in the Americas, which is primarily predominantly the United States. And a part of that is, I believe it's macroeconomic. A part is that there was more promotional activity in the year ago quarter. And so I think that's what you're seeing there, where our results were really stellar during this quarter, was really in the emerging markets, and we couldn't be prouder of the results that we had there.\\nDavid Vogt: Great. That's helpful. And then just quickly on Services, are you seeing anything in terms of consumers behavior other than sort of the macro that you mentioned and tough comps on digital advertising and mobile gaming? Are you seeing users of all the disparate services change and what they're using and how they're using it and time spent with an Apple Service? Now that we're technically, hopefully fully past COVID, with China almost fully reopened, I'm just trying to get a sense for how user or consumer behavior has changed over the last three to six months. Thanks.\\nLuca Maestri: David, it’s Luca. As you said, of course we got the issue around the macroeconomic environment, particularly in advertising and in mobile gaming, but outside of those areas the behavior of customers continues to be pretty consistent. We are doing particularly well, obviously in some of the services that we've launched more recently, like payments where our growth rates are very strong as the adoption of Apple Pay and Apple Card and now the new services that Tim mentioned, the adoption continues to increase. Cloud is an area that continues to grow very consistently. Users want to store more photos and videos and more content on their devices and so they adopt our cloud services and in general the model in the App Store around paid subscriptions continues to grow very strongly. I mentioned we now have more than 975 million paid subscriptions on the platform and that's almost twice as much what we had only three years ago. So obviously, the growth in subscriptions is very strong.\\nOperator: Our next question is from Samik Chatterjee of JPMorgan.\\nSamik Chatterjee: Hi, thanks for taking my questions. I guess maybe I can follow up on David's question here on services. And in the past, pre-pandemic the growth rate there was more about sort of mid-teens. The growth rates today, where you stand, even if I back out FX impact is more about low double digit. So one of the questions that we get often from investors and want to get your thoughts on is even as the installed base growth seems to have accelerated, are these more cyclical drivers that are depressing growth at this point from returning to that level or do you see more of a rollout on the monetization that you have need to do to get back to those growth levels. and I have a follow up, please.\\nLuca Maestri: Samik, that the areas where we are seeing the impact on the macroenvironment, as I mentioned, is digital advertising. As you know, obviously the macroenvironment is not helping on that front. And mobile gaming, where we've seen a bit of a slowdown, partly due to the macroenvironment, partly due to the fact that we had very elevated usage during the COVID years. But outside of those areas, we continue to see very healthy growth rates.\\nSamik Chatterjee: Okay. And maybe if I can just follow up and this is more of a macro question. I don't know if Luca, you or Tim want to take this, but obviously the macro is not sort of helpful at this point. But what you're sort of implying in terms of your guide is momentum for your products remains pretty stable. You're actually guiding to a modest uptick FX for the overall business. I mean, what are you seeing in terms of customer sort of spending trends? And overall, does the consumer sort of continue to deteriorate in terms of spending patterns? And is your sort of momentum here just a function of share gains? How should we think about sort of where the consumer is versus what your products are doing independent of that?\\nLuca Maestri: Part of Samik is what Tim was talking about. We're having great momentum in emerging markets, and those are markets where our share is low, gives us a great opportunity to grow over time. It also helps us with the growth of the installed base, because you can imagine that in places where our market share is low, we tend to add a lot of switchers people that are new to the Apple ecosystem. That increases the install base. And over the longer term, it obviously improves our ability to monetize on services as well.\\nOperator: Our next question is from Amit Daryanani of Evercore.\\nAmit Daryanani: I have to as well. I guess, first off on gross margins for the June quarter. They seem to be holding up fairly well, especially given the fact that sales are going down on a sequential basis. So, Luca, I'm wondering if you can just touch on what's driving the strength in gross margin sequentially. It's offsetting the lack of leverage, if you may. And then I also noticed that the range of your gross margin guide is 50 basis points, it's typically 100. What does that entail? What does that mean?\\nLuca Maestri: So you're right. I mean we are guiding to a fairly stable level of gross margins at a very high level. We're very happy with the gross margins that we're having this cycle. For the first time in several quarters, foreign exchange, we expect foreign exchange to be flat on a sequential basis at the gross margin level. Unfortunately, it's still a headwind at the revenue level, but at gross margin level, sequentially, we expect foreign exchange not to be a factor. And so the seasonal loss of leverage that you're referring to, we expect to be offset by cost savings. And so that should give us that level of margins. As you know, you were asking about the 50 basis points. We have guided to 50 basis points of a range before as well, this year in particular, because of the 14th week during the December quarter, we're a bit late in the calendar year, right. And so we have a bit more visibility around margins for the June quarter.\\nAmit Daryanani: Got it. That's helpful. And then I guess, Tim, if I just go back to the India discussion a bit, perhaps you could just contrast what you're seeing in India at today versus what you saw in China maybe a decade or so ago. Is that a reasonable ramp to think India would have, or could it be different from the lessons you've seen in China?\\nTim Cook: I think each country is different and has their own journey, so I hesitate to compare too much. But what I do see in India is a lot of people entering the middle class, and I'm hopeful that we can convince some number of them to buy an iPhone and we'll see how that works out. But right now, it's working out well.\\nOperator: Our next question is from Krish Sankar of TD Cowen.\\nKrish Sankar: Hi, thanks for taking my question. The first question I had is for Tim. Tim, you're primarily been a consumer centric company, but it seems like the line is blurring with the iPhone, iPad, the hardware products being used for corporate applications. So is there a way to segment how much of your revenues today are coming from enterprise versus consumer? And does the slower corporate IT spend impact your outlook for iPhone, iPad, Mac, et cetera, and then I have a follow up.\\nTim Cook: Internally, we have our estimates for how much is enterprise versus consumer. And the enterprise business is growing. We have been focusing a lot on BYOD programs and there's more and more companies that are leaning into those and given employees the ability to select which is plays to our benefit, I believe, because I think a lot of people want to use a Mac at work or an iPad at work. And so but we're certainly primarily a consumer company in terms of our revenues, obviously.\\nKrish Sankar: Got it, Tim. Thanks for that. And then just as a follow up, obviously a lot of questions on the India retail opening. I'm just kind of curious. You also mentioned that you hope to convert a lot of folks into iPhone there. Where do you think the biggest opportunity? Is it like primarily a hardware business like the iPhone, iPad wearables, et cetera? Or do you think there is a service opportunity in India longer term too? Thank you very much.\\nTim Cook: I think there's an opportunity across the board, including in services. Obviously, the ARPUs are lower in India for whether you're talking about TV and movie streaming or music, the ARPUs are much lower than other regions. But if you look at it over a long arc of time, I think there's a good opportunity across the board.\\nOperator: Our next question is from Aaron Rakers of Wells Fargo.\\nAaron Rakers: Yes, thanks for taking the questions. I guess my first question is that I want to go back to kind of the geographical dynamics. I'm curious, as we all think about the reopening attributes of China, just how you would characterize the shaping of demand you saw through the course of this last quarter and kind of how you're thinking about the impact of that reopening playing out over the next couple of quarters.\\nTim Cook: If you look at China, our revenue came in at negative three for the quarter year-over-year, but we actually grew on a constant currency basis, and we also accelerate rated as compared to the December quarter, which, as you know, had 14 weeks in it and was a negative seven on a reported basis. And so we were pleased with how we did and with the acceleration that we saw with the reopening, and we'll see how we do this quarter. But if you look at the top selling smartphones in urban China, based on a survey from Kantar, we have four out of the top five. And I think in all of the third party data I've seen on the market itself, in the smartphone space, we believe we gained share during Q2. So we feel good about it. Also, China has a lot of very good metrics in terms of new buyers. For example, on the Mac, about six out of ten customers are buying the Mac for the first time. Same thing on iPad. If you look over at the watch, it's more than three out of four customers are buying the watch for the first time. And so the buyer metrics, if you will, are very, very good. And our services business hit an all-time record in China during the quarter.\\nAaron Rakers: Very helpful, Tim. As a quick follow up, I want to go back to Amit’s question on gross margin. You talked about FX, the lessening impact there. I'm just curious when you look at your gross margin, obviously got mixed attributes, kind of potentially continuing to drive that higher. But I'm curious on the current environment, how you would characterize the component pricing dynamics and what you're thinking about in this current quarter's Guidance.\\nLuca Maestri: The environment on the component side is favorable. We've seen component prices decline during the March quarter, and we expect the same during the June quarter.\\nOperator: Our next is from Sydney Ho of Deutsche Bank.\\nSydney Ho: Great. Thanks for taking my question. I was hoping you can talk about the linearity of the March quarter and perhaps the first four and a half weeks of the current quarter. It looks like things are slowing down quite a bit elsewhere, but if my math is right, your fiscal third quarter guidance implied product revenue will be a little bit lower than seasonal average on a sequential basis, any color would be helpful. Thanks.\\nLuca Maestri: We said that we expect our performance during the June quarter at the revenue level to be similar to the one that we just reported for the March quarter. Keep in mind, we always have differences in the launch timing across our products, and also that especially over the last few years, we've seen a certain amount of supply disruptions. Sometimes it was COVID related, sometimes it was related to specific component shortages. Just to remind you, in the June quarter a year ago, at the full quarter impact of the launch for both of the iPhone SE and the iPad Air, which leads to a more difficult compare. So I think it's important to keep those things in mind.\\nSydney Ho: Okay, that's helpful. Maybe a quick follow up. You talk about Apple Pay Later. How has the feedback been so far? And how do you expect the adoption of that service over the next few quarters? Thank you.\\nTim Cook: The feedback for both Apple Pay Later and the savings products have both been really good. And we think both of them help customers live a better or healthier financial life. And so we're very excited about the first days of both of them.\\nOperator: Our next question is from Harsh Kumar of Piper Sandler.\\nHarsh Kumar: Yes. Hey, guys. Thanks for squeezing me in. Tim, you're one of the largest chip companies. You're not a component maker. You actually use your own products. But we almost never hear in any context of you guys being a beneficiary, Apple being a beneficiary for either the Chip Act money or the R&D tax credit that's being proposed. I was just curious if you are eligible for any of those. And then I've got a follow up.\\nTim Cook: I don't see Apple participating in the Chips Act directly, but we would be a beneficiary indirectly because some of our partners would hopefully be recipients of it and therefore put in additional capacity. And so on that sort of indirect basis, we would have a benefit.\\nHarsh Kumar: Understood. And thanks for clarification. Luca, I wanted to clarify your comments about June. When you're saying June performance will be similar to March, I assume on a year-on-year basis, which would be June should be down about two something odd percent. Is that a fair way? And then my question that I wanted to ask, maybe another one for Tim was where do you think is the largest opportunity in your services offering? You're doing a great job, you just set a record. But surely there must be areas where you think you can do better.\\nLuca Maestri: Yes. So to your question around the June performance yes, on a year-over-year basis, so comparable to the March quarter on year-over-year basis.\\nTim Cook: Harsh, I think we can do better on everything. And so I wouldn't just point to one of them. If you look at the number of active devices and the growth of active devices, I think, our services are underpenetrated in a number of different ways. And so the way that I look at it is there's opportunity in many of them.\\nSuhasini Chandramouli : All right. Thank you, Harsh. A replay of today's call will be available for two weeks on Apple podcasts, as a webcast on apple.com/investor and via telephone. The number for the telephone replay is 866-\\u2060583-\\u20601035. Please enter confirmation code 493-\\u20604362, followed by the pound sign. These replays will be available by approximately 05:00 P.M. Pacific time today. Members of the press with additional questions can contact Josh Rosenstock at 488-\\u206062-\\u20601142 and financial analysts can contact me with additional questions at 408-\\u2060862-\\u20605119. Thanks again for joining us.\\nOperator: Once again, this does conclude today's conference. We do appreciate your participation.\""
      ]
     },
     "execution_count": 47,
     "metadata": {},
     "output_type": "execute_result"
    }
   ],
   "source": [
    "earningsData[-1]['content']"
   ]
  },
  {
   "cell_type": "code",
   "execution_count": 46,
   "metadata": {},
   "outputs": [
    {
     "name": "stdout",
     "output_type": "stream",
     "text": [
      "Last earning call transcripts was on : 2023-05-04 21:35:32\n",
      "Number of documents chunks generated from Call transcript :  40\n"
     ]
    }
   ],
   "source": [
    "# Let's just use the latest earnings call transcript to create the documents that we want to use it for generative AI tasks\n",
    "splitter = RecursiveCharacterTextSplitter(chunk_size=1500, chunk_overlap=50)\n",
    "\n",
    "print(\"Last earning call transcripts was on :\", earningsData[-1]['callDate'])\n",
    "rawDocs = splitter.create_documents([earningsData[-1]['content']])\n",
    "docs = splitter.split_documents(rawDocs)\n",
    "print(\"Number of documents chunks generated from Call transcript : \", len(docs))\n"
   ]
  },
  {
   "attachments": {},
   "cell_type": "markdown",
   "metadata": {},
   "source": [
    "#### Create the vector store embedding data for chunked sections"
   ]
  },
  {
   "cell_type": "code",
   "execution_count": 20,
   "metadata": {},
   "outputs": [
    {
     "name": "stdout",
     "output_type": "stream",
     "text": [
      "Search index latestearningcalls already exists\n",
      "Total docs: 40\n",
      "Found 40 sections for AAPL 2023 Q2\n",
      "Already indexed 40 sections for AAPL 2023 Q2\n"
     ]
    }
   ],
   "source": [
    "# Store the last index of the earning call transcript in vector Index\n",
    "earningVectorIndexName = 'latestearningcalls'\n",
    "createEarningCallVectorIndex(SearchService, SearchKey, earningVectorIndexName)\n",
    "\n",
    "indexEarningCallSections(OpenAiService, OpenAiKey, OpenAiVersion, OpenAiApiKey, SearchService, SearchKey,\n",
    "                         embeddingModelType, OpenAiEmbedding, earningVectorIndexName, docs,\n",
    "                         earningsData[-1]['callDate'], earningsData[-1]['symbol'], earningsData[-1]['year'],\n",
    "                         earningsData[-1]['quarter'])"
   ]
  },
  {
   "cell_type": "code",
   "execution_count": 21,
   "metadata": {},
   "outputs": [],
   "source": [
    "# Helper function to find the answer to a question\n",
    "def findAnswer(chainType, topK, question, indexName):\n",
    "    # Since we already index our document, we can perform the search on the query to retrieve \"TopK\" documents\n",
    "    r = performCogSearch(OpenAiService, OpenAiKey, OpenAiVersion, OpenAiApiKey, SearchService, SearchKey, embeddingModelType, OpenAiEmbedding, question, \n",
    "                         indexName, topK, returnFields=['id', 'symbol', 'quarter', 'year', 'callDate', 'content'])\n",
    "\n",
    "    if r == None:\n",
    "        docs = [Document(page_content=\"No results found\")]\n",
    "    else :\n",
    "        docs = [\n",
    "            Document(page_content=doc['content'], metadata={\"id\": doc['id'], \"source\": ''})\n",
    "            for doc in r\n",
    "            ]\n",
    "\n",
    "    if chainType == \"map_reduce\":\n",
    "        # Prompt for MapReduce\n",
    "        qaTemplate = \"\"\"Use the following portion of a long document to see if any of the text is relevant to answer the question.\n",
    "                Return any relevant text.\n",
    "                {context}\n",
    "                Question: {question}\n",
    "                Relevant text, if any :\"\"\"\n",
    "\n",
    "        qaPrompt = PromptTemplate(\n",
    "            template=qaTemplate, input_variables=[\"context\", \"question\"]\n",
    "        )\n",
    "\n",
    "        combinePromptTemplate = \"\"\"Given the following extracted parts of a long document and a question, create a final answer.\n",
    "        If you don't know the answer, just say that you don't know. Don't try to make up an answer.\n",
    "        If the answer is not contained within the text below, say \\\"I don't know\\\".\n",
    "\n",
    "        QUESTION: {question}\n",
    "        =========\n",
    "        {summaries}\n",
    "        =========\n",
    "        \"\"\"\n",
    "        combinePrompt = PromptTemplate(\n",
    "            template=combinePromptTemplate, input_variables=[\"summaries\", \"question\"]\n",
    "        )\n",
    "\n",
    "        qaChain = load_qa_with_sources_chain(llm, chain_type=chainType, question_prompt=qaPrompt, \n",
    "                                            combine_prompt=combinePrompt, \n",
    "                                            return_intermediate_steps=True)\n",
    "        answer = qaChain({\"input_documents\": docs, \"question\": question})\n",
    "        outputAnswer = answer['output_text']\n",
    "\n",
    "    elif chainType == \"stuff\":\n",
    "    # Prompt for ChainType = Stuff\n",
    "        template = \"\"\"\n",
    "                Given the following extracted parts of a long document and a question, create a final answer. \n",
    "                If you don't know the answer, just say that you don't know. Don't try to make up an answer. \n",
    "                If the answer is not contained within the text below, say \\\"I don't know\\\".\n",
    "\n",
    "                QUESTION: {question}\n",
    "                =========\n",
    "                {summaries}\n",
    "                =========\n",
    "                \"\"\"\n",
    "        qaPrompt = PromptTemplate(template=template, input_variables=[\"summaries\", \"question\"])\n",
    "        qaChain = load_qa_with_sources_chain(llm, chain_type=chainType, prompt=qaPrompt)\n",
    "        answer = qaChain({\"input_documents\": docs, \"question\": question}, return_only_outputs=True)\n",
    "        outputAnswer = answer['output_text']\n",
    "    elif chainType == \"default\":\n",
    "        # Default Prompt\n",
    "        qaChain = load_qa_with_sources_chain(llm, chain_type=\"stuff\")\n",
    "        answer = qaChain({\"input_documents\": docs, \"question\": question}, return_only_outputs=True)\n",
    "        outputAnswer = answer['output_text']\n",
    "\n",
    "    return outputAnswer"
   ]
  },
  {
   "attachments": {},
   "cell_type": "markdown",
   "metadata": {},
   "source": [
    "#### Top questions to ask during earning call - Let's see if we can find the answers to these questions in the transcripts\n",
    "- What are some of the current and looming threats to the business?\n",
    "- What is the debt level or debt ratio of the company right now?\n",
    "- How do you feel about the upcoming product launches or new products?\n",
    "- How are you managing or investing in your human capital?\n",
    "- How do you track the trends in your industry?\n",
    "- Are there major slowdowns in the production of goods?\n",
    "- How will you maintain or surpass this performance in the next few quarters?\n",
    "- What will your market look like in five years as a result of using your product or service?\n",
    "- How are you going to address the risks that will affect the long-term growth of the company?\n",
    "- How is the performance this quarter going to affect the long-term goals of the company?"
   ]
  },
  {
   "cell_type": "markdown",
   "metadata": {},
   "source": [
    "#### Another specific question to ask\n",
    "- Revenue: Provide key information about revenue for the quarter\n",
    "- Profitability: Provide key information about profits and losses (P&L) for the quarter\n",
    "- Industry Trends: Provide key information about industry trends for the quarter\n",
    "- Trend: Provide key information about business trends discussed on the call\n",
    "- Risk: Provide key information about risk discussed on the call\n",
    "- AI: Provide key information about AI discussed on the call\n",
    "- M&A: Provide any information about mergers and acquisitions (M&A) discussed on the call.\n",
    "- Guidance: Provide key information about guidance discussed on the call"
   ]
  },
  {
   "cell_type": "markdown",
   "metadata": {},
   "source": [
    "#### Since we have the lastest transcripts in the document format, let's summarize the information with following specific summary"
   ]
  },
  {
   "cell_type": "code",
   "execution_count": 43,
   "metadata": {},
   "outputs": [
    {
     "name": "stdout",
     "output_type": "stream",
     "text": [
      "Found existing data\n",
      "[{'id': '85405b23-64e3-4067-b505-62cbbc3eab16', 'symbol': 'AAPL', 'cik': '320193', 'step': '2', 'description': 'Earning Call Q&A', 'insertedDate': '2023-07-16', 'pibData': '[{\\'question\\': \\'What are some of the current and looming threats to the business?\\', \\'answer\\': \\'\\\\nThe current and looming threats to the business include changes in global economic and geopolitical conditions, recessionary fears, inflation, interest rates, regional labor market constraints, world events, the rate of growth of the internet, online commerce and cloud services, a slowdown in digital advertising and mobile gaming, and elevated usage during the COVID years.\\'}, {\\'question\\': \\'Provide key information about revenue for the quarter\\', \\'answer\\': \\'\\\\nThe total revenue for the March quarter was $94.8 billion, down 3% from last year. iPhone revenue was $51.3 billion, up 2% year-over-year, and Mac revenue was $7.2 billion, down 31% year-over-year. Services revenue was $20.9 billion, up 5% year-over-year. Foreign exchange had a negative impact of over five percentage points on the results.\\'}, {\\'question\\': \\'Provide key information about industry trends for the quarter\\', \\'answer\\': \\'\\\\nThe key information about industry trends for the quarter is that US carriers saw lower performance due to macroeconomic conditions and promotional activity in the year ago quarter, while emerging markets saw stellar performance. In China, Apple saw negative three revenue growth year-over-year, but grew on a constant currency basis and accelerated compared to the December quarter. Apple also gained market share in the smartphone space and had strong buyer metrics for Mac, iPad, and Watch.\\'}, {\\'question\\': \\'Provide key information about business trends discussed on the call\\', \\'answer\\': \"\\\\nThe key business trends discussed on the call include changes in global economic and geopolitical conditions, customer demand and spending, the impact of recessionary fears, inflation, interest rates, regional labor market constraints, world events, the rate of growth of the internet, online commerce and cloud services, Apple\\'s potential impact of macroeconomic conditions on the company\\'s business and results of operations, and the number of active devices and the growth of active devices.\"}, {\\'question\\': \\'Provide key information about guidance discussed on the call\\', \\'answer\\': \\'\\\\nThe key information discussed on the call was that there are opportunities for growth in the number of active devices and services, a replay of the call will be available for two weeks on Apple podcasts, webcast on apple.com/investor and via telephone, and there will be a question-and-answer session after the presentation.\\'}, {\\'question\\': \\'Financial Results\\', \\'answer\\': \\'\\\\nThe company reported record revenue of $94.8 billion for the March quarter, with iPhone revenue setting a record of $51.3 billion, Mac revenue at $7.2 billion, iPad revenue at $6.7 billion, wearables, home and accessories revenue at $8.8 billion, and Services revenue setting an all-time record at $20.9 billion. Despite foreign exchange headwinds and macroeconomic challenges, Apple managed to grow in total and in the majority of markets. Apple reported record revenue of $94.8 billion for the March quarter, with iPhone revenue setting a record of $51.3 billion, Mac revenue at $7.2 billion, iPad revenue at $6.7 billion, wearables, home and accessories revenue at $8.8 billion, and Services revenue setting an all-time record at $20.9 billion. The company also opened two stores in India, launched Apple Music Classical, and saw double-digit growth in transacting accounts and paid accounts. Apple returned over $23 billion to shareholders, including $3.7 billion in dividends and equivalents and $19.1 billion through open market repurchases of 129 million Apple shares. The Board has authorized an additional $90 billion for share repurchases and the dividend has been raised by 4% to $0.24 a share.\\\\n\\\\n Apple reported record revenue of $94.8 billion for the March quarter, with iPhone revenue setting a record of $51.3 billion, Mac revenue at $7.2 billion, iPad revenue at $6.7 billion, wearables, home and accessories revenue at $8.8 billion, and Services revenue setting an all-time record at $20.9 billion. Despite foreign exchange headwinds and macroeconomic challenges, Apple managed to grow in total and in the majority of markets. The company opened two stores in India, launched Apple Music Classical, and saw double-digit growth in transacting accounts and paid accounts. Apple returned over $23 billion to shareholders, including $3.7 billion in dividends and equivalents and $19.1 billion through open market repurchases of 129 million Apple shares. The Board has authorized an additional $90 billion for share repurchases and the dividend has been raised by 4% to $0.24 a share.\\'}, {\\'question\\': \\'Business Highlights\\', \\'answer\\': \\'\\\\n Apple reported record revenue of $20.9 billion in Services during the quarter, driven by strong customer loyalty and engagement. The company saw double-digit growth in both transacting accounts and paid accounts, setting new all-time records. Apple also launched Apple Pay Later, Apple Card Savings Accounts, and Shop with a Specialist over video. Despite certain services offerings being affected by the current macroeconomic environment, Apple is continuing to invest in emerging markets and expanding its payments ecosystem. Gross margins for the June quarter are holding up well despite a sequential decline in sales. Demand in China was shaped by the reopening of the country and Apple had four out of the top five selling smartphones in urban China. Apple expects their performance during the June quarter to be similar to the March quarter, and Tim Cook believes the largest opportunity in their services offering is to continue to do better.\\'}, {\\'question\\': \\'Future Outlook\\', \\'answer\\': \\'\\\\n Apple reported record revenue of $94.8 billion for the March quarter, down 3% year-over-year due to macroeconomic challenges and foreign exchange headwinds. iPhone revenue was $51.3 billion, up 2% year-over-year, while Mac revenue was $7.2 billion, down 31% year-over-year. Services revenue was $20.9 billion, up 5% year-over-year, with all-time records in Greater China and March quarter records in Americas, Europe and Rest of Asia Pacific. The company reported an active installed base of over 2 billion devices, with double-digit growth in transacting accounts and paid accounts. Apple is investing in new services such as Apple TV Plus, Apple Pay, and Apple Music, and has launched Apple Pay Later and Apple Card Savings Accounts. The Board of Directors has authorized an additional $90 billion for share repurchases and the dividend has been raised by 4% to $0.24 a share. For the June quarter, the company expects revenue performance to be similar to the March quarter, with a negative year-over-year impact of nearly four percentage points due to foreign exchange. Apple is optimistic about the future, with strong growth in emerging markets and low market share providing an opportunity to grow and add switchers to the Apple ecosystem.\\'}, {\\'question\\': \\'Business Risks\\', \\'answer\\': \\'\\\\nApple is investing in new products and services, such as Apple Pay Later, Apple Card Savings Accounts, and Shop with a Specialist over Video in the US, to provide customers with more value and convenience. They are also investing in the enterprise market, small businesses, and education, racial equity and justice initiatives, and environmental sustainability. Despite the positive outlook, there are still risks associated with the reopening, launch timing, and supply disruptions. Apple has received positive feedback for their products and services, and Tim Cook believes the largest opportunity is to continue to do better.\\'}, {\\'question\\': \\'Management Positive Sentiment\\', \\'answer\\': \"\\\\nIn summary, Apple\\'s management expressed positive sentiment about the company\\'s Q2 Fiscal Year 2023 earnings, citing strong revenue growth, gross margin expansion, and operating expense control. They highlighted the success of the iPhone 14 and 14 Plus, as well as the record revenue of $20.9 billion for services. Apple is investing up to an additional $200 million in its Restore Fund to support innovative, scalable, nature-based carbon removal projects. Management also discussed the potential of AI and machine learning, the resilience of the global supply chain, and the success of Apple Pay services. They noted the impressive installed base of active devices, which is now over $2 billion, and expressed optimism about the growth of the middle class in India and the potential for Apple to capture some of that market.\"}]'}]\n"
     ]
    }
   ],
   "source": [
    "r = findPibData(SearchService, SearchKey, pibIndexName, cik, step, returnFields=['id', 'symbol', 'cik', 'step', 'description', 'insertedDate',\n",
    "                                                                   'pibData'])\n",
    "s2Data = []\n",
    "if r.get_count() == 0:\n",
    "\n",
    "    earningCallQa = []\n",
    "    commonQuestions = [\n",
    "        \"What are some of the current and looming threats to the business?\",\n",
    "        \"What is the debt level or debt ratio of the company right now?\",\n",
    "        \"How do you feel about the upcoming product launches or new products?\",\n",
    "        \"How are you managing or investing in your human capital?\",\n",
    "        \"How do you track the trends in your industry?\",\n",
    "        \"Are there major slowdowns in the production of goods?\",\n",
    "        \"How will you maintain or surpass this performance in the next few quarters?\",\n",
    "        \"What will your market look like in five years as a result of using your product or service?\",\n",
    "        \"How are you going to address the risks that will affect the long-term growth of the company?\",\n",
    "        \"How is the performance this quarter going to affect the long-term goals of the company?\"\n",
    "    ]\n",
    "\n",
    "    for question in commonQuestions:\n",
    "        answer = findAnswer('map_reduce', 3, question, earningVectorIndexName)\n",
    "        if \"I don't know\" not in answer:\n",
    "            earningCallQa.append({\"question\": question, \"answer\": answer})\n",
    "\n",
    "    commonQuestions = [\n",
    "        \"Provide key information about revenue for the quarter\",\n",
    "        \"Provide key information about profits and losses (P&L) for the quarter\",\n",
    "        \"Provide key information about industry trends for the quarter\",\n",
    "        \"Provide key information about business trends discussed on the call\",\n",
    "        \"Provide key information about risk discussed on the call\",\n",
    "        \"Provide key information about AI discussed on the call\",\n",
    "        \"Provide any information about mergers and acquisitions (M&A) discussed on the call.\",\n",
    "        \"Provide key information about guidance discussed on the call\"\n",
    "    ]\n",
    "\n",
    "    for question in commonQuestions:\n",
    "        answer = findAnswer('map_reduce', 3, question, earningVectorIndexName)\n",
    "        if \"I don't know\" not in answer:\n",
    "            earningCallQa.append({\"question\": question, \"answer\": answer})\n",
    "\n",
    "    # With the data indexed, let's summarize the information\n",
    "    # While we are using the standard prompt by langchain, you can modify the prompt to suit your needs\n",
    "    # 1. Financial Results Summary: Please provide a summary of the financial results.\n",
    "    # 2. Business Highlights: Please provide a summary of the business highlights.\n",
    "    # 3. Future Outlook: Please provide a summary of the future outlook.\n",
    "    # 4. Business Risks: Please provide a summary of the business risks.\n",
    "    # 5. Management Positive Sentiment: Please provide a summary of the what management is confident about.\n",
    "    # 6. Management Negative Sentiment: Please provide a summary of the what management is concerned about.\n",
    "    # 7. Future Growth Strategies : Please generate a concise and comprehensive strategies summary that includes the information in  bulleted format.\n",
    "    # 8. Risk Increase: Please provide a summary of the risks that have increased.\n",
    "    # 9. Risk Decrease: Please provide a summary of the risks that have decreased.\n",
    "    # 10. Opportunity Increase: Please provide a summary of the opportunities that have increased.\n",
    "    # 11. Opportunity Decrease: Please provide a summary of the opportunities that have decreased.\n",
    "    commonSummary = [\n",
    "        \"Financial Results\",\n",
    "        \"Business Highlights\",\n",
    "        \"Future Outlook\",\n",
    "        \"Business Risks\",\n",
    "        \"Management Positive Sentiment\",\n",
    "        \"Management Negative Sentiment\",\n",
    "        \"Future Growth Strategies\"\n",
    "    ]\n",
    "\n",
    "    promptTemplate = \"\"\"You are an AI assistant tasked with summarizing financial information from earning call transcript. \n",
    "            Your summary should accurately capture the key information in the document while avoiding the omission of any domain-specific words. \n",
    "            Please generate a concise and comprehensive summary on the following topics. \n",
    "            {summarize}\n",
    "            Please remember to use clear language and maintain the integrity of the original information without missing any important details:\n",
    "            {text}\n",
    "            \"\"\"\n",
    "    for summary in commonSummary:\n",
    "        customPrompt = PromptTemplate(template=promptTemplate.replace('{summarize}', summary), input_variables=[\"text\"])\n",
    "        chainType = \"map_reduce\"\n",
    "        summaryChain = load_summarize_chain(llm, chain_type=chainType, return_intermediate_steps=False, \n",
    "                                    map_prompt=customPrompt, combine_prompt=customPrompt)\n",
    "        summaryOutput = summaryChain({\"input_documents\": docs}, return_only_outputs=True)\n",
    "        outputAnswer = summaryOutput['output_text'].replace('Summary:', '')\n",
    "        if \"I don't know\" not in answer and len(outputAnswer) > 0:\n",
    "            earningCallQa.append({\"question\": summary, \"answer\": outputAnswer})\n",
    "\n",
    "    s2Data.append({\n",
    "                'id' : str(uuid.uuid4()),\n",
    "                'symbol': symbol,\n",
    "                'cik': cik,\n",
    "                'step': step,\n",
    "                'description': 'Earning Call Q&A',\n",
    "                'insertedDate': today.strftime(\"%Y-%m-%d\"),\n",
    "                'pibData' : str(earningCallQa)\n",
    "        })\n",
    "    mergeDocs(SearchService, SearchKey, pibIndexName, s2Data)\n",
    "else:\n",
    "    print('Found existing data')\n",
    "    for s in r:\n",
    "        s2Data.append(\n",
    "            {\n",
    "                'id' : s['id'],\n",
    "                'symbol': s['symbol'],\n",
    "                'cik': s['cik'],\n",
    "                'step': s['step'],\n",
    "                'description': s['description'],\n",
    "                'insertedDate': s['insertedDate'],\n",
    "                'pibData' : s['pibData']\n",
    "            })\n",
    "        \n",
    "print(s2Data)"
   ]
  },
  {
   "attachments": {},
   "cell_type": "markdown",
   "metadata": {},
   "source": [
    "#### In case if we wanted to see summary of summary, run code below"
   ]
  },
  {
   "cell_type": "code",
   "execution_count": 27,
   "metadata": {},
   "outputs": [],
   "source": [
    "# # For the chaintype of MapReduce and Refine, we can also get insight into intermediate steps of the pipeline.\n",
    "# # This way you can inspect the results from map_reduce chain type, each top similar chunk summary\n",
    "# intermediateSteps = summary['intermediate_steps']\n",
    "# for step in intermediateSteps:\n",
    "#         display(HTML(\"<b>Chunk Summary:</b> \" + step))"
   ]
  },
  {
   "cell_type": "markdown",
   "metadata": {},
   "source": [
    "#### 3. Paid Data - Press Releases - Get the Press Releases for last year"
   ]
  },
  {
   "cell_type": "code",
   "execution_count": 48,
   "metadata": {},
   "outputs": [
    {
     "name": "stdout",
     "output_type": "stream",
     "text": [
      "Search index pressreleases already exists\n",
      "Processing ticker : AAPL\n",
      "Total docs: 164\n",
      "\tIndexed 164 sections, 164 succeeded\n"
     ]
    }
   ],
   "source": [
    "# For now we are calling API to get data, but otherwise we need to ensure the data is not persisted in our \n",
    "# index repository before calling again, if it is persisted then we need to delete it first\n",
    "counter = 0\n",
    "pressReleasesList = []\n",
    "pressReleaseIndexName = 'pressreleases'\n",
    "# Create the index if it does not exist\n",
    "createPressReleaseIndex(SearchService, SearchKey, pressReleaseIndexName)\n",
    "print(f\"Processing ticker : {symbol}\")\n",
    "pr = pressReleases(apikey=apikey, symbol=symbol, limit=200)\n",
    "for pressRelease in pr:\n",
    "    symbol = pressRelease['symbol']\n",
    "    releaseDate = pressRelease['date']\n",
    "    title = pressRelease['title']\n",
    "    content = pressRelease['text']\n",
    "    todayYmd = today.strftime(\"%Y-%m-%d\")\n",
    "    id = f\"{symbol}-{counter}\"\n",
    "    pressReleasesList.append({\n",
    "        \"id\": id,\n",
    "        \"symbol\": symbol,\n",
    "        \"releaseDate\": releaseDate,\n",
    "        \"title\": title,\n",
    "        \"content\": content,\n",
    "    })\n",
    "    counter = counter + 1\n",
    "\n",
    "mergeDocs(SearchService, SearchKey, pressReleaseIndexName, pressReleasesList)"
   ]
  },
  {
   "cell_type": "code",
   "execution_count": 49,
   "metadata": {},
   "outputs": [
    {
     "name": "stdout",
     "output_type": "stream",
     "text": [
      "Number of documents chunks generated from Press releases :  25\n"
     ]
    }
   ],
   "source": [
    "splitter = RecursiveCharacterTextSplitter(chunk_size=1500, chunk_overlap=50)\n",
    "rawPressReleasesDoc = [Document(page_content=t['content']) for t in pressReleasesList[:25]]\n",
    "pressReleasesDocs = splitter.split_documents(rawPressReleasesDoc)\n",
    "print(\"Number of documents chunks generated from Press releases : \", len(pressReleasesDocs))"
   ]
  },
  {
   "cell_type": "code",
   "execution_count": 50,
   "metadata": {},
   "outputs": [
    {
     "name": "stdout",
     "output_type": "stream",
     "text": [
      "\n",
      "\n"
     ]
    }
   ],
   "source": [
    "# With the data indexed, let's summarize the information\n",
    "promptTemplate = \"\"\"You are an AI assistant tasked with summarizing company's press releases and performing sentiments on those. \n",
    "        Your summary should accurately capture the key information in the press-releases while avoiding the omission of any domain-specific words. \n",
    "        Please generate a concise and comprehensive summary and sentiment with score with range of 0 to 10. \n",
    "        Your response should be in JSON object with following keys.  All JSON properties are required.\n",
    "        summary: \n",
    "        sentiment:\n",
    "        sentiment score: \n",
    "        {text}\n",
    "        \"\"\"\n",
    "customPrompt = PromptTemplate(template=promptTemplate, input_variables=[\"text\"])\n",
    "chainType = \"map_reduce\"\n",
    "summaryChain = load_summarize_chain(llm, chain_type=chainType, return_intermediate_steps=True, \n",
    "                                    map_prompt=customPrompt, combine_prompt=customPrompt)\n",
    "summary = summaryChain({\"input_documents\": pressReleasesDocs}, return_only_outputs=True)\n",
    "outputAnswer = summary['output_text']\n",
    "print(outputAnswer)"
   ]
  },
  {
   "cell_type": "code",
   "execution_count": 62,
   "metadata": {},
   "outputs": [],
   "source": [
    "# For the chaintype of MapReduce and Refine, we can also get insight into intermediate steps of the pipeline.\n",
    "# This way you can inspect the results from map_reduce chain type, each top similar chunk summary\n",
    "pressReleasesPib = []\n",
    "last25PressReleases = pressReleasesList[:25]\n",
    "intermediateSteps = summary['intermediate_steps']\n",
    "i = 0\n",
    "for step in intermediateSteps:\n",
    "        jsonStep = json.loads(step)\n",
    "        pressReleasesPib.append({\n",
    "                \"releaseDate\": last25PressReleases[i]['releaseDate'],\n",
    "                \"title\": last25PressReleases[i]['title'],\n",
    "                \"summary\": jsonStep['summary'],\n",
    "                \"sentiment\": jsonStep['sentiment'],\n",
    "                \"sentimentScore\": jsonStep['sentiment score']\n",
    "        })\n",
    "        i = i + 1\n",
    "        #display(HTML(\"<b>Chunk Summary:</b> \" + step))"
   ]
  },
  {
   "cell_type": "code",
   "execution_count": null,
   "metadata": {},
   "outputs": [],
   "source": [
    "step = \"3\"\n",
    "s3Data = []\n",
    "# We are deleting the data as the Press-releases could be dynamic and we want the latest data\n",
    "deletePibData(SearchService, SearchKey, pibIndexName, cik, step, returnFields=['id', 'symbol', 'cik', 'step', 'description', 'insertedDate',\n",
    "                                                                   'pibData'])\n",
    "s3Data.append({\n",
    "                'id' : str(uuid.uuid4()),\n",
    "                'symbol': symbol,\n",
    "                'cik': cik,\n",
    "                'step': step,\n",
    "                'description': 'Press Releases',\n",
    "                'insertedDate': today.strftime(\"%Y-%m-%d\"),\n",
    "                'pibData' : str(pressReleasesPib)\n",
    "        })\n",
    "mergeDocs(SearchService, SearchKey, pibIndexName, s3Data)"
   ]
  },
  {
   "cell_type": "markdown",
   "metadata": {},
   "source": [
    "### 4. Paid Data - Get Stock News - Limit it to cover for current year"
   ]
  },
  {
   "cell_type": "code",
   "execution_count": 32,
   "metadata": {},
   "outputs": [
    {
     "name": "stdout",
     "output_type": "stream",
     "text": [
      "Search index stocknews already exists\n",
      "Processing ticker : AAPL\n",
      "Total docs: 5000\n",
      "\tIndexed 1000 sections, 1000 succeeded\n",
      "\tIndexed 1000 sections, 1000 succeeded\n",
      "\tIndexed 1000 sections, 1000 succeeded\n",
      "\tIndexed 1000 sections, 1000 succeeded\n",
      "\tIndexed 1000 sections, 1000 succeeded\n"
     ]
    }
   ],
   "source": [
    "# For now we are calling API to get data, but otherwise we need to ensure the data is not persisted in our \n",
    "# index repository before calling again, if it is persisted then we need to delete it first\n",
    "counter = 0\n",
    "stockNewsList = []\n",
    "stockNewsIndexName = 'stocknews'\n",
    "# Create the index if it does not exist\n",
    "createStockNewsIndex(SearchService, SearchKey, stockNewsIndexName)\n",
    "print(f\"Processing ticker : {symbol}\")\n",
    "sn = stockNews(apikey=apikey, tickers=symbol, limit=5000)\n",
    "for news in sn:\n",
    "    symbol = news['symbol']\n",
    "    publishedDate = news['publishedDate']\n",
    "    title = news['title']\n",
    "    image = news['image']\n",
    "    site = news['site']\n",
    "    content = news['text']\n",
    "    url = news['url']\n",
    "    todayYmd = today.strftime(\"%Y-%m-%d\")\n",
    "    id = f\"{symbol}-{todayYmd}-{counter}\"\n",
    "    stockNewsList.append({\n",
    "        \"id\": id,\n",
    "        \"symbol\": symbol,\n",
    "        \"publishedDate\": publishedDate,\n",
    "        \"title\": title,\n",
    "        \"image\": image,\n",
    "        \"site\": site,\n",
    "        \"content\": content,\n",
    "        \"url\": url,\n",
    "    })\n",
    "    counter = counter + 1\n",
    "mergeDocs(SearchService, SearchKey, stockNewsIndexName, stockNewsList)"
   ]
  },
  {
   "cell_type": "code",
   "execution_count": 33,
   "metadata": {},
   "outputs": [
    {
     "name": "stdout",
     "output_type": "stream",
     "text": [
      "Number of documents chunks generated from Press releases :  16\n",
      "\n"
     ]
    }
   ],
   "source": [
    "# Group our news by Date and summarize the content and sentimet per day\n",
    "stocksDf = pd.DataFrame.from_dict(pd.json_normalize(stockNewsList))\n",
    "stocksDf['publishedDate'] = pd.to_datetime(stocksDf['publishedDate']).dt.date\n",
    "stocksNewsDailyDf = stocksDf.sort_values('publishedDate').groupby('publishedDate')['content'].apply('\\n'.join).reset_index()\n",
    "splitter = RecursiveCharacterTextSplitter(chunk_size=1500, chunk_overlap=50)\n",
    "rawNewsDocs = [Document(page_content=row['content']) for index, row in stocksNewsDailyDf.tail(10).iterrows()]\n",
    "newsDocs = splitter.split_documents(rawNewsDocs)\n",
    "print(\"Number of documents chunks generated from Press releases : \", len(newsDocs))\n",
    "\n",
    "# With the data indexed, let's summarize the information\n",
    "promptTemplate = \"\"\"You are an AI assistant tasked with summarizing news related to company and performing sentiments on those. \n",
    "        Your summary should accurately capture the key information in the document while avoiding the omission of any domain-specific words. \n",
    "        Please generate a concise and comprehensive summary and sentiment with score with range of 0 to 10. Your response should be in JSON format with following keys.\n",
    "        summary: \n",
    "        sentiment:\n",
    "        sentiment score:\n",
    "        Please remember to use clear language and maintain the integrity of the original information without missing any important details.\n",
    "        {text}\n",
    "        \"\"\"\n",
    "customPrompt = PromptTemplate(template=promptTemplate, input_variables=[\"text\"])\n",
    "chainType = \"map_reduce\"\n",
    "summaryChain = load_summarize_chain(llm, chain_type=chainType, return_intermediate_steps=True, \n",
    "                                    map_prompt=customPrompt, combine_prompt=customPrompt)\n",
    "summary = summaryChain({\"input_documents\": newsDocs}, return_only_outputs=True)\n",
    "outputAnswer = summary['output_text']\n",
    "print(outputAnswer)"
   ]
  },
  {
   "cell_type": "code",
   "execution_count": 34,
   "metadata": {},
   "outputs": [
    {
     "data": {
      "text/html": [
       "<b>Chunk Summary:</b> \n",
       "Summary: Goldman Sachs is reportedly in discussions with American Express to take over its credit card and other collaborations with Apple, which recently became the first public company to close a trading day with a market cap over $3 trillion. Apple has achieved success in consumer tech and AI is a growing part of its business. Warren Buffett has nearly half of his portfolio in the tech giant, while stocks like Nvidia have soared but are trading at pricey valuations. The U.S. Supreme Court recently dismantled Biden's student loan forgiveness, leaving winners and losers.\n",
       "\n",
       "Sentiment: Neutral\n",
       "\n",
       "Sentiment Score: 5"
      ],
      "text/plain": [
       "<IPython.core.display.HTML object>"
      ]
     },
     "metadata": {},
     "output_type": "display_data"
    },
    {
     "data": {
      "text/html": [
       "<b>Chunk Summary:</b> \n",
       "{\n",
       "    \"summary\": \"Apple Inc. has surpassed a market value of $3 trillion and is reportedly looking to take its battle with Epic Games to the Supreme Court. Apple is also exploring the game-changing potential of the Vision Pro, its mixed reality headset, and has lowered its production targets for the device. The tech behemoth does not expect to start selling the device until early next year, and stellar gains in the first half point to more strength ahead.\",\n",
       "    \"sentiment\": \"positive\",\n",
       "    \"sentiment score\": 8\n",
       "}"
      ],
      "text/plain": [
       "<IPython.core.display.HTML object>"
      ]
     },
     "metadata": {},
     "output_type": "display_data"
    },
    {
     "data": {
      "text/html": [
       "<b>Chunk Summary:</b> \n",
       "Summary: Apple Inc. is reducing production targets for its Vision Pro headset due to manufacturers struggling with its complex design. Apple's market valuation recently soared to $3 trillion, and tech stocks are forecasted to embark on a resurgence in the second half of the year.\n",
       "Sentiment: Positive\n",
       "Sentiment Score: 8"
      ],
      "text/plain": [
       "<IPython.core.display.HTML object>"
      ]
     },
     "metadata": {},
     "output_type": "display_data"
    },
    {
     "data": {
      "text/html": [
       "<b>Chunk Summary:</b> \n",
       "Summary: Apple Inc. NASDAQ: AAPL, Microsoft Corp. NASDAQ: MSFT, Nvidia Corp. NASDAQ: NVDA, Broadcom Inc. NASDAQ: AVGO and Adobe Inc. NASDAQ: ADBE posted double-digit price increases in the second quarter due to the AI boom. AT&T stock is being sold at a discounted price due to slumping profits. Apple is scaling back the manufacturing of its Vision Pro goggles for 2024, and Oracle of Omaha has doubled up the average annual total return of the S&P 500 since becoming CEO nearly 60 years ago. Apple Component Supplier Stocks have gained 13% year-to-date, and Apple is reportedly slashing production goals for its Vision Pro headset due to manufacturers struggling with its complex design.\n",
       "\n",
       "Sentiment: Neutral\n",
       "Sentiment Score: 5"
      ],
      "text/plain": [
       "<IPython.core.display.HTML object>"
      ]
     },
     "metadata": {},
     "output_type": "display_data"
    },
    {
     "data": {
      "text/html": [
       "<b>Chunk Summary:</b> \n",
       "{\n",
       "    \"summary\": \"Apple (AAPL) made Wall Street history as the first company to reach a market capitalization of $3 trillion at the close on Jun 30. However, the company has cut its target for production of its Vision Pro augmented-reality headset just four weeks after the launch of the US$5,000 apiece goggles to huge fanfare due to the complexity of the tech involved.\",\n",
       "    \"sentiment\": \"positive\",\n",
       "    \"sentiment score\": 8\n",
       "}"
      ],
      "text/plain": [
       "<IPython.core.display.HTML object>"
      ]
     },
     "metadata": {},
     "output_type": "display_data"
    },
    {
     "data": {
      "text/html": [
       "<b>Chunk Summary:</b> \n",
       "Summary: Apple lost an appeal in a long-running patent dispute, Invesco QQQ is up 40% year-to-date, Xreal has shipped 200,000 augmented reality glasses, and new investors should wait for a potential pullback in Apple stock due to negative global economic sentiment. Alphabet's Google, Amazon, Apple, Meta Platforms and Microsoft have notified the European Commission that they qualify as gatekeepers under new EU tech rules.\n",
       "\n",
       "Sentiment: Neutral\n",
       "\n",
       "Sentiment Score: 5"
      ],
      "text/plain": [
       "<IPython.core.display.HTML object>"
      ]
     },
     "metadata": {},
     "output_type": "display_data"
    },
    {
     "data": {
      "text/html": [
       "<b>Chunk Summary:</b> \n",
       "{\n",
       "    \"summary\": \"Seven tech giants, including Amazon and Apple, have informed the European Union that they meet the threshold to come under new rules to curb their market dominance, according to Brussels.\",\n",
       "    \"sentiment\": \"positive\",\n",
       "    \"sentiment score\": 8\n",
       "}"
      ],
      "text/plain": [
       "<IPython.core.display.HTML object>"
      ]
     },
     "metadata": {},
     "output_type": "display_data"
    },
    {
     "data": {
      "text/html": [
       "<b>Chunk Summary:</b> \n",
       "Summary: Barclays downgraded shares of laser maker Lumentum to Underweight from Equal Weight, Wedbush analyst Dan Ives believes that ChatGPT will be the \"next leg of growth\" for Microsoft, Apple (AAPL) lost its long legal fight over patent terms, The Goldman Sachs Group is reportedly in talks with American Express Co. regarding its Apple Inc. credit card and other consumer-focused products connected with Apple, Intuitive Surgical's robotic systems are improving patient outcomes, ExxonMobil is quickly becoming a leader in low-carbon energy solutions, and five U.S. corporate behemoths have taken solid ESG initiatives. Giant of contract electronics manufacturing sees revenue drop almost 20% year over year in June.\n",
       "\n",
       "Sentiment: Neutral\n",
       "Sentiment Score: 5"
      ],
      "text/plain": [
       "<IPython.core.display.HTML object>"
      ]
     },
     "metadata": {},
     "output_type": "display_data"
    },
    {
     "data": {
      "text/html": [
       "<b>Chunk Summary:</b> \n",
       "Summary: Analysts recommend buying Apple stock, but the average 12-month price target for the stock doesn't reflect much enthusiasm. The Dow Jones Industrial Average fell 1.1%, or 366 points, Thursday due to strong labor market data. Single-stock ETFs have become popular in the past year, and the latest developments in artificial intelligence continue to make headlines. Kopin Co. NASDAQ: KOPN stock is still trading down over 80% from its post-COVID highs in 2021, and Apple declined below the $3 trillion market cap level on Thursday.\n",
       "\n",
       "Sentiment: Negative\n",
       "Sentiment Score: 4"
      ],
      "text/plain": [
       "<IPython.core.display.HTML object>"
      ]
     },
     "metadata": {},
     "output_type": "display_data"
    },
    {
     "data": {
      "text/html": [
       "<b>Chunk Summary:</b> \n",
       "{\n",
       "    \"summary\": \"Apple is planning to launch its Vision Pro headset with appointments and in-store promotion in select US markets early next year. On Friday, the U.S. stock market remained significantly overvalued based on Warren Buffett's market indicator concept. Momentum stocks offer investors the opportunity to capitalize on strong and continued upward price changes, but it is an inherently and undeniably risky trading method. An institutional investor is a legal entity that pools money from multiple investors to invest in various assets and securities.\",\n",
       "    \"sentiment\": \"positive\",\n",
       "    \"sentiment score\": 8\n",
       "}"
      ],
      "text/plain": [
       "<IPython.core.display.HTML object>"
      ]
     },
     "metadata": {},
     "output_type": "display_data"
    },
    {
     "data": {
      "text/html": [
       "<b>Chunk Summary:</b> \n",
       "{\n",
       "    \"summary\": \"Growth stocks are stocks that have consistently outperformed the market over a long period of time and are a great addition to any investor's portfolio.\",\n",
       "    \"sentiment\": \"Positive\",\n",
       "    \"sentiment score\": 10\n",
       "}"
      ],
      "text/plain": [
       "<IPython.core.display.HTML object>"
      ]
     },
     "metadata": {},
     "output_type": "display_data"
    },
    {
     "data": {
      "text/html": [
       "<b>Chunk Summary:</b> \n",
       "Summary: Apple is planning to require an appointment to purchase its upcoming Vision Pro headset. U.S. stock investors are uncertain about the rest of 2023, but Apple's installed base is growing and Netflix has rebounded from last year's subscriber declines. Apple and Costco's stocks have risen over 150% since 2018 due to Apple's leading market shares.\n",
       "\n",
       "Sentiment: Positive\n",
       "\n",
       "Sentiment Score: 8"
      ],
      "text/plain": [
       "<IPython.core.display.HTML object>"
      ]
     },
     "metadata": {},
     "output_type": "display_data"
    },
    {
     "data": {
      "text/html": [
       "<b>Chunk Summary:</b> \n",
       "{\n",
       "    \"summary\": \"In the short holiday trading week, 3 out of 4 picks gained over 9% with peak gains in ONCY +23.9% and RIG +20.6%. The S&P 500 declined -1.16%. Two new sample Breakout Stocks for Week 28 with better than 10% short-term upside and two Dow 30 Picks were released with average cumulative returns for 2023 up to +113.3% YTD. The streak of weekly picks gaining over 10% in less than a week has reached 253 out of 319 trading weeks (79.3%) not considering multiple gainers or negative MG signals.\",\n",
       "    \"sentiment\": \"positive\",\n",
       "    \"sentiment score\": 10\n",
       "}"
      ],
      "text/plain": [
       "<IPython.core.display.HTML object>"
      ]
     },
     "metadata": {},
     "output_type": "display_data"
    },
    {
     "data": {
      "text/html": [
       "<b>Chunk Summary:</b> \n",
       "Summary: Apple reported a downbeat set of earnings for the first half of its fiscal 2023, but scored a few records for iPhone and services revenue. Foxconn Technology Co Ltd (TPE: 2354) is pulling out of a joint venture with Vedanta and Nasdaq plans to rebalance the Nasdaq 100 stock index. Apple shares have skyrocketed almost 50% since Jan. 1 and Dow Jones gained 175 points though Microsoft, Apple plunged.\n",
       "\n",
       "Sentiment: Positive\n",
       "\n",
       "Sentiment Score: 8"
      ],
      "text/plain": [
       "<IPython.core.display.HTML object>"
      ]
     },
     "metadata": {},
     "output_type": "display_data"
    },
    {
     "data": {
      "text/html": [
       "<b>Chunk Summary:</b> \n",
       "{\n",
       "    \"summary\": \"Apple (AAPL) has a market capitalization of $2.95 trillion and is expanding Apple News content with the returning season of After the Whistle with Brendan Hunt and Rebecca Lowe. PC sales have declined for six straight quarters, but HP and Apple shipments were resilient. WeChat is China's biggest messaging platform with over 1.2 billion users and opens another retail channel for Apple to sell its products. Jefferies analyst Daniel Fannon cut his earnings estimates for Goldman Sachs Group Inc. and Morgan Stanley ahead of second-quarter updates from the banks. Proprietary data analyzed by KeyBanc suggest Apple faces a slowdown in hardware sales, but there may be bigger forces moving the stock price. Apple Store's official online store went live on Tencent's WeChat mini programme on Tuesday.\",\n",
       "    \"sentiment\": \"positive\",\n",
       "    \"sentiment score\": 8\n",
       "}"
      ],
      "text/plain": [
       "<IPython.core.display.HTML object>"
      ]
     },
     "metadata": {},
     "output_type": "display_data"
    },
    {
     "data": {
      "text/html": [
       "<b>Chunk Summary:</b> \n",
       "{\n",
       "    \"summary\": \"Apple Inc. may have seen better monthly sales improvement in June than usual, but an analyst at KeyBanc Capital Markets is still cautious. The Dow Jones moved higher by nearly 1%, as investors anticipate tomorrow's key inflation data.\",\n",
       "    \"sentiment\": \"Cautious\",\n",
       "    \"sentiment score\": 5\n",
       "}"
      ],
      "text/plain": [
       "<IPython.core.display.HTML object>"
      ]
     },
     "metadata": {},
     "output_type": "display_data"
    }
   ],
   "source": [
    "# For the chaintype of MapReduce and Refine, we can also get insight into intermediate steps of the pipeline.\n",
    "# This way you can inspect the results from map_reduce chain type, each top similar chunk summary\n",
    "intermediateSteps = summary['intermediate_steps']\n",
    "for step in intermediateSteps:\n",
    "        display(HTML(\"<b>Chunk Summary:</b> \" + step))"
   ]
  },
  {
   "cell_type": "markdown",
   "metadata": {},
   "source": [
    "#### 5. Public Data - Get the SEC Filings - Limit it to cover for last 3 year"
   ]
  },
  {
   "cell_type": "code",
   "execution_count": 35,
   "metadata": {},
   "outputs": [],
   "source": [
    "filingType = \"10-K\"\n",
    "secFilingsList = secFilings(apikey=apikey, symbol=symbol, filing_type=filingType)"
   ]
  },
  {
   "cell_type": "code",
   "execution_count": 36,
   "metadata": {},
   "outputs": [],
   "source": [
    "latestFilingDateTime = datetime.strptime(secFilingsList[0]['fillingDate'], '%Y-%m-%d %H:%M:%S')\n",
    "latestFilingDate = latestFilingDateTime.strftime(\"%Y-%m-%d\")\n",
    "secFilingIndexName = 'secdata'\n",
    "secFilingList = []\n",
    "emptyBody = {\n",
    "        \"values\": [\n",
    "            {\n",
    "                \"recordId\": 0,\n",
    "                \"data\": {\n",
    "                    \"text\": \"\"\n",
    "                }\n",
    "            }\n",
    "        ]\n",
    "}\n",
    "\n",
    "secExtractBody = {\n",
    "    \"values\": [\n",
    "        {\n",
    "            \"recordId\": 0,\n",
    "            \"data\": {\n",
    "                \"text\": {\n",
    "                    \"edgar_crawler\": {\n",
    "                        \"start_year\": int(historicalYear),\n",
    "                        \"end_year\": int(currentYear),\n",
    "                        \"quarters\": [1,2,3,4],\n",
    "                        \"filing_types\": [\n",
    "                            \"10-K\"\n",
    "                        ],\n",
    "                        \"cik_tickers\": [cik],\n",
    "                        \"user_agent\": \"Your name (your email)\",\n",
    "                        \"raw_filings_folder\": \"RAW_FILINGS\",\n",
    "                        \"indices_folder\": \"INDICES\",\n",
    "                        \"filings_metadata_file\": \"FILINGS_METADATA.csv\",\n",
    "                        \"skip_present_indices\": True\n",
    "                    },\n",
    "                    \"extract_items\": {\n",
    "                        \"raw_filings_folder\": \"RAW_FILINGS\",\n",
    "                        \"extracted_filings_folder\": \"EXTRACTED_FILINGS\",\n",
    "                        \"filings_metadata_file\": \"FILINGS_METADATA.csv\",\n",
    "                        \"items_to_extract\": [\"1\",\"1A\",\"1B\",\"2\",\"3\",\"4\",\"5\",\"6\",\"7\",\"7A\",\"8\",\"9\",\"9A\",\"9B\",\"10\",\"11\",\"12\",\"13\",\"14\",\"15\"],\n",
    "                        \"remove_tables\": True,\n",
    "                        \"skip_extracted_filings\": True\n",
    "                    }\n",
    "                }\n",
    "            }\n",
    "        }\n",
    "    ]\n",
    "}\n",
    "\n",
    "# Check if we have already processed the latest filing, if yes then skip\n",
    "createSecFilingIndex(SearchService, SearchKey, secFilingIndexName)\n",
    "r = findSecFiling(SearchService, SearchKey, secFilingIndexName, cik, filingType, latestFilingDate, returnFields=['id', 'cik', 'company', 'filingType', 'filingDate',\n",
    "                                                                                                                 'periodOfReport', 'sic', 'stateOfInc', 'fiscalYearEnd',\n",
    "                                                                                                                 'filingHtmlIndex', 'htmFilingLink', 'completeTextFilingLink',\n",
    "                                                                                                                 'item1', 'item1A', 'item1B', 'item2', 'item3', 'item4', 'item5',\n",
    "                                                                                                                 'item6', 'item7', 'item7A', 'item8', 'item9', 'item9A', 'item9B',\n",
    "                                                                                                                 'item10', 'item11', 'item12', 'item13', 'item14', 'item15',\n",
    "                                                                                                                 'sourcefile'])\n",
    "if r.get_count() == 0:\n",
    "    # Call Azure Function to perform Web-scraping and store the JSON in our blob\n",
    "    secExtract = requests.post(SecExtractionUrl, json = secExtractBody)\n",
    "    # Once the JSON is created, call the function to process the JSON and store the data in our index\n",
    "    docPersistUrl = SecDocPersistUrl + \"&indexType=cogsearchvs&indexName=\" + secFilingIndexName + \"&embeddingModelType=\" + embeddingModelType\n",
    "    secPersist = requests.post(docPersistUrl, json = emptyBody)\n",
    "    r = findSecFiling(SearchService, SearchKey, secFilingIndexName, cik, filingType, latestFilingDate, returnFields=['id', 'cik', 'company', 'filingType', 'filingDate',\n",
    "                                                                                                                 'periodOfReport', 'sic', 'stateOfInc', 'fiscalYearEnd',\n",
    "                                                                                                                 'filingHtmlIndex', 'htmFilingLink', 'completeTextFilingLink',\n",
    "                                                                                                                 'item1', 'item1A', 'item1B', 'item2', 'item3', 'item4', 'item5',\n",
    "                                                                                                                 'item6', 'item7', 'item7A', 'item8', 'item9', 'item9A', 'item9B',\n",
    "                                                                                                                 'item10', 'item11', 'item12', 'item13', 'item14', 'item15',\n",
    "                                                                                                                 'sourcefile'])\n",
    "\n",
    "# Retrieve the latest filing from our index\n",
    "for filing in r:\n",
    "    secFilingList.append({\n",
    "        \"id\": filing['id'],\n",
    "        \"cik\": filing['cik'],\n",
    "        \"company\": filing['company'],\n",
    "        \"filingType\": filing['filingType'],\n",
    "        \"filingDate\": filing['filingDate'],\n",
    "        \"periodOfReport\": filing['periodOfReport'],\n",
    "        \"sic\": filing['sic'],\n",
    "        \"stateOfInc\": filing['stateOfInc'],\n",
    "        \"fiscalYearEnd\": filing['fiscalYearEnd'],\n",
    "        \"filingHtmlIndex\": filing['filingHtmlIndex'],\n",
    "        \"completeTextFilingLink\": filing['completeTextFilingLink'],\n",
    "        \"item1\": filing['item1'],\n",
    "        \"item1A\": filing['item1A'],\n",
    "        \"item1B\": filing['item1B'],\n",
    "        \"item2\": filing['item2'],\n",
    "        \"item3\": filing['item3'],\n",
    "        \"item4\": filing['item4'],\n",
    "        \"item5\": filing['item5'],\n",
    "        \"item6\": filing['item6'],\n",
    "        \"item7\": filing['item7'],\n",
    "        \"item7A\": filing['item7A'],\n",
    "        \"item8\": filing['item8'],\n",
    "        \"item9\": filing['item9'],\n",
    "        \"item9A\": filing['item9A'],\n",
    "        \"item9B\": filing['item9B'],\n",
    "        \"item10\": filing['item10'],\n",
    "        \"item11\": filing['item11'],\n",
    "        \"item12\": filing['item12'],\n",
    "        \"item13\": filing['item13'],\n",
    "        \"item14\": filing['item14'],\n",
    "        \"item15\": filing['item15'],\n",
    "        \"sourcefile\": filing['sourcefile']\n",
    "    })"
   ]
  },
  {
   "cell_type": "code",
   "execution_count": 37,
   "metadata": {},
   "outputs": [],
   "source": [
    "def generateSummaries(docs):\n",
    "    # With the data indexed, let's summarize the information\n",
    "    promptTemplate = \"\"\"You are an AI assistant tasked with summarizing financial report related to company. \n",
    "            Your summary should accurately capture the key information in the document while avoiding the omission of any domain-specific words. \n",
    "            Please generate a concise and comprehensive summary of the following document.\n",
    "            Please remember to use clear language and maintain the integrity of the original information without missing any important details.\n",
    "            Summarize it at an average of 10 lines.\n",
    "            {text}\n",
    "            \"\"\"\n",
    "    customPrompt = PromptTemplate(template=promptTemplate, input_variables=[\"text\"])\n",
    "    chainType = \"map_reduce\"\n",
    "    summaryChain = load_summarize_chain(llm, chain_type=chainType, return_intermediate_steps=True, \n",
    "                                        map_prompt=customPrompt, combine_prompt=customPrompt)\n",
    "    summary = summaryChain({\"input_documents\": docs}, return_only_outputs=True)\n",
    "    return summary"
   ]
  },
  {
   "cell_type": "code",
   "execution_count": 38,
   "metadata": {},
   "outputs": [
    {
     "name": "stdout",
     "output_type": "stream",
     "text": [
      "Number of documents chunks generated from Item1 :  12\n",
      "Business Description : \n",
      "Apple Inc. is a technology company that designs, manufactures, and markets smartphones, personal computers, tablets, wearables, and accessories. It offers a range of services, including advertising, AppleCare®, cloud services, digital content, and payment services. The Company sells its products and resells third-party products in most of its major markets directly to consumers, small and mid-sized businesses, and education, enterprise and government customers through its retail and online stores and its direct sales force. It also employs a variety of indirect distribution channels. The main competitive factors for Apple include price, product and service features, relative price and performance, product and service quality and reliability, design innovation, a strong third-party software and accessories ecosystem, marketing and distribution capability, service and support, and corporate reputation. The Company relies on components essential to its business, which are generally available from multiple sources. It manufactures substantially all of its hardware products through outsourcing partners located primarily in Asia. To remain competitive, the Company invests heavily in research and development (R&D) to develop new technologies, enhance existing products and services, and expand its offerings. It also holds a broad collection of intellectual property rights, such as patents, designs, copyrights, trademarks and other forms of intellectual property rights in the U.S. and various foreign countries. The Company regularly files patent, design, copyright and trademark applications to protect its innovations arising from research, development, design and marketing. It offers competitive compensation and benefits to its employees, including health and welfare benefits, retirement benefits, and other benefits. The Company also provides a variety of programs and services to support its employees, including employee assistance programs, wellness programs, and other programs. It is committed to providing a safe and healthy work environment for all employees and has implemented a comprehensive health and safety program. The Company files its Annual Reports on Form 10-K, Quarterly Reports on Form 10-Q, Current Reports on Form 8-K, and amendments to reports filed with the U.S. Securities and Exchange Commission (SEC). It also provides certain information for investors on its corporate website and investor relations website.\n",
      "Number of documents chunks generated from Item1A :  65\n",
      "Risk Factors : \n",
      "Apple Inc. is exposed to a variety of macroeconomic and industry risks that could have a material adverse effect on its business, reputation, results of operations, financial condition and stock price. These risks include global and regional economic conditions, changes in industry trends, competitive pressures, supply and pricing risks, and rapid technological change. The Company is also subject to political events, trade and other international disputes, war, terrorism, natural disasters, public health issues, industrial accidents and other business interruptions. Additionally, the Company is subject to design and manufacturing defects, write-downs on the value of its inventory and other assets, third-party intellectual property, information technology system failures and network disruptions, malicious attacks, and new business strategies and acquisitions. The Company is also subject to taxes in the U.S. and numerous foreign jurisdictions, and its stock has experienced significant price volatility in the past. Future dividends are subject to declaration by the Company's Board of Directors, and the Company's share repurchase program does not obligate it to acquire any specific number of shares.\n",
      "Number of documents chunks generated from Item6 :  1\n",
      "Financial Data : \n",
      "Number of documents chunks generated from Item7 :  12\n",
      "Management Discussion : \n",
      "Apple Inc. reported an 8% increase in total net sales for fiscal year 2022, amounting to $28.5 billion. This was driven by higher net sales of iPhone, Services and Mac, as well as several new product, service and software offerings, including updated MacBook Pro 14” and 16”, third generation of AirPods, updated iPhone SE with 5G technology, and all-new Mac Studio. Weakness in foreign currencies relative to the U.S. dollar had an unfavorable year-over-year impact on all Products and Services net sales during 2022. The Company experienced a strong third quarter of 2022, with the launch of the all-new Studio Display™ and the updated iPad Air with 5G technology, powered by the Apple M1 chip. In April 2022, the Company announced an increase to its Program authorization from $315 billion to $405 billion and raised its quarterly dividend from $0.22 to $0.23 per share. During 2022, the Company repurchased $90.2 billion of its common stock and paid dividends and dividend equivalents of $14.8 billion. Net sales for 2022, 2021 and 2020 were $1,093,945 million, $1,037,845 million and $922,845 million respectively. Products gross margin increased during 2022 compared to 2021 due to a different product mix and higher product volume, partially offset by the weakness in foreign currencies relative to the U.S. dollar. Operating expenses for 2022, 2021 and 2020 were driven primarily by increases in headcount-related expenses, engineering program costs, advertising and professional services. Other income/(expense), net was reported as $1.2 billion in 2022, $1.3 billion in 2021 and $1.2 billion in 2020. The Company has manufacturing purchase obligations for components and other materials used in the production of its products, with $7.2 billion payable within 12 months. The Company has sufficient liquidity to meet its cash requirements over the next 12 months and beyond. The Company has a capital return program authorized by the Board of Directors which does not obligate the Company to acquire a minimum amount of shares. As of September 24, 2022, the Company’s quarterly cash dividend was $0.23 per share and the Company intends to increase its dividend on an annual basis, subject to declaration by the Board of Directors. The Company is also subject to uncertain tax positions which may result in additional tax liabilities. \n",
      "Number of documents chunks generated from Item7A :  6\n",
      "Risk Disclosures : \n",
      "Apple Inc. is exposed to changes in interest rates and foreign currency exchange rates. To manage these risks, the Company regularly reviews its foreign exchange forward and option positions and interest rate swaps. The Company is most affected by fluctuations in U.S. interest rates, which can affect the interest earned on the Company’s cash, cash equivalents and marketable securities, the fair value of those securities, and the costs associated with hedging and interest paid on the Company’s debt. The Company also uses derivatives to manage its exposure to interest rate and foreign currency risk. The Company's investment policy and strategy are focused on preserving capital and supporting liquidity requirements. A sensitivity analysis was performed to assess the interest rate risk associated with the investment portfolio. The Company has outstanding fixed-rate notes and floating-rate notes with varying maturities for an aggregate carrying amount of $110.1 billion and $118.7 billion, respectively. To manage interest rate risk, the Company has entered into interest rate swaps. The Company has entered into foreign currency forward and option contracts with financial institutions to protect against foreign exchange risks. A value-at-risk (VAR) model was used to assess the potential impact of fluctuations in exchange rates on certain of its foreign currency derivative positions. The Company must remain aware of the potential for significant changes in the future due to the unpredictable nature of changes in interest rates, foreign currency exchange rates and the Company’s actual exposures and positions.\n",
      "Number of documents chunks generated from Item9 :  1\n",
      "Accounting Disclosures : \n",
      "This financial report indicates that there have been no changes or disagreements between the company and its accountants on matters related to accounting principles, financial statement disclosure, or auditing scope or procedures. This is in accordance with Item 9 of the financial report.\n"
     ]
    }
   ],
   "source": [
    "# For different section of extracted data, process summarization and generate common answers to questions\n",
    "splitter = RecursiveCharacterTextSplitter(chunk_size=1500, chunk_overlap=50)\n",
    "\n",
    "# Item 1 - Describes the business of the company\n",
    "rawItemDocs = [Document(page_content=secFilingList[0]['item1'])]\n",
    "itemDocs = splitter.split_documents(rawItemDocs)\n",
    "print(\"Number of documents chunks generated from Item1 : \", len(itemDocs))\n",
    "summary = generateSummaries(itemDocs)\n",
    "outputAnswer = summary['output_text']\n",
    "print(\"Business Description : \" + outputAnswer)\n",
    "\n",
    "# Item 1A - Risk Factors\n",
    "rawItemDocs = [Document(page_content=secFilingList[0]['item1A'])]\n",
    "itemDocs = splitter.split_documents(rawItemDocs)\n",
    "print(\"Number of documents chunks generated from Item1A : \", len(itemDocs))\n",
    "summary = generateSummaries(itemDocs)\n",
    "outputAnswer = summary['output_text']\n",
    "print(\"Risk Factors : \" + outputAnswer)\n",
    "\n",
    "# Item 6 - Consolidated Financial Data\n",
    "rawItemDocs = [Document(page_content=secFilingList[0]['item6'])]\n",
    "itemDocs = splitter.split_documents(rawItemDocs)\n",
    "print(\"Number of documents chunks generated from Item6 : \", len(itemDocs))\n",
    "summary = generateSummaries(itemDocs)\n",
    "outputAnswer = summary['output_text']\n",
    "print(\"Financial Data : \" + outputAnswer)\n",
    "\n",
    "# Item 7 - Management's Discussion and Analysis of Financial Condition and Results of Operations\n",
    "rawItemDocs = [Document(page_content=secFilingList[0]['item7'])]\n",
    "itemDocs = splitter.split_documents(rawItemDocs)\n",
    "print(\"Number of documents chunks generated from Item7 : \", len(itemDocs))\n",
    "summary = generateSummaries(itemDocs)\n",
    "outputAnswer = summary['output_text']\n",
    "print(\"Management Discussion : \" + outputAnswer)\n",
    "\n",
    "# Item 7a - Market risk disclosures\n",
    "rawItemDocs = [Document(page_content=secFilingList[0]['item7A'])]\n",
    "itemDocs = splitter.split_documents(rawItemDocs)\n",
    "print(\"Number of documents chunks generated from Item7A : \", len(itemDocs))\n",
    "summary = generateSummaries(itemDocs)\n",
    "outputAnswer = summary['output_text']\n",
    "print(\"Risk Disclosures : \" + outputAnswer)\n",
    "\n",
    "# Item 9 - Disagreements with accountants and changes in accounting\n",
    "rawItemDocs = [Document(page_content=secFilingList[0]['item9'])]\n",
    "itemDocs = splitter.split_documents(rawItemDocs)\n",
    "print(\"Number of documents chunks generated from Item9 : \", len(itemDocs))\n",
    "summary = generateSummaries(itemDocs)\n",
    "outputAnswer = summary['output_text']\n",
    "print(\"Accounting Disclosures : \" + outputAnswer)"
   ]
  },
  {
   "cell_type": "markdown",
   "metadata": {},
   "source": [
    "#### 6. Private Data - Equity Research Reports"
   ]
  },
  {
   "cell_type": "code",
   "execution_count": 5,
   "metadata": {},
   "outputs": [
    {
     "data": {
      "text/plain": [
       "[{'symbol': 'AAPL',\n",
       "  'Overall Recommendation': 'Strong Buy',\n",
       "  'DCF Recommendation': 'Strong Buy',\n",
       "  'ROE Recommendation': 'Strong Buy',\n",
       "  'ROA Recommendation': 'Neutral',\n",
       "  'PB Recommendation': 'Strong Buy',\n",
       "  'PE Recommendation': 'Strong Buy',\n",
       "  'Altman ZScore': 8.750505326729295,\n",
       "  'Piotroski Score': 7,\n",
       "  'Environmental Score': 50,\n",
       "  'Social Score': 50,\n",
       "  'Governance Score': 63.3,\n",
       "  'ESG Score': 54.43,\n",
       "  'ESG Risk Rating': 'B',\n",
       "  'Analyst Consensus Buy': 27,\n",
       "  'Analyst Consensus Sell': 1,\n",
       "  'Analyst Consensus Strong Buy': 0,\n",
       "  'Analyst Consensus Strong Sell': 0,\n",
       "  'Analyst Consensus Hold': 6,\n",
       "  'Analyst Consensus': 'Buy',\n",
       "  'Price Target Consensus': 182.79,\n",
       "  'Price Target Median': 182.5}]"
      ]
     },
     "execution_count": 5,
     "metadata": {},
     "output_type": "execute_result"
    }
   ],
   "source": [
    "companyRating = rating(apikey=apikey, symbol=symbol)\n",
    "fScore = financialScore(apikey=apikey, symbol=symbol)\n",
    "esgScores = esgScore(apikey=apikey, symbol=symbol)\n",
    "esgRating = esgRatings(apikey=apikey, symbol=symbol)\n",
    "ugConsensus = upgradeDowngrades(apikey=apikey, symbol=symbol)\n",
    "priceConsensus = priceTarget(apikey=apikey, symbol=symbol)\n",
    "#ratingsDf = pd.DataFrame.from_dict(pd.json_normalize(companyRating))\n",
    "researchReport = []\n",
    "\n",
    "researchReport.append({\n",
    "    \"symbol\": companyRating[0]['symbol'],\n",
    "    \"Overall Recommendation\": companyRating[0]['ratingRecommendation'],\n",
    "    \"DCF Recommendation\": companyRating[0]['ratingDetailsDCFRecommendation'],\n",
    "    \"ROE Recommendation\": companyRating[0]['ratingDetailsROERecommendation'],\n",
    "    \"ROA Recommendation\": companyRating[0]['ratingDetailsROARecommendation'],\n",
    "    \"PB Recommendation\": companyRating[0]['ratingDetailsPBRecommendation'],\n",
    "    \"PE Recommendation\": companyRating[0]['ratingDetailsPERecommendation'],\n",
    "    \"Altman ZScore\" : fScore[0]['altmanZScore'],\n",
    "    \"Piotroski Score\" : fScore[0]['piotroskiScore'],\n",
    "    \"Environmental Score\" : esgScores[0]['environmentalScore'],\n",
    "    \"Social Score\" : esgScores[0]['socialScore'],\n",
    "    \"Governance Score\" : esgScores[0]['governanceScore'],\n",
    "    \"ESG Score\" : esgScores[0]['ESGScore'],\n",
    "    \"ESG Risk Rating\": esgRating[0]['ESGRiskRating'],\n",
    "    \"Analyst Consensus Buy\": ugConsensus[0]['buy'],\n",
    "    \"Analyst Consensus Sell\": ugConsensus[0]['sell'],\n",
    "    \"Analyst Consensus Strong Buy\": ugConsensus[0]['strongBuy'],\n",
    "    \"Analyst Consensus Strong Sell\": ugConsensus[0]['strongSell'],\n",
    "    \"Analyst Consensus Hold\": ugConsensus[0]['hold'],\n",
    "    \"Analyst Consensus\": ugConsensus[0]['consensus'],\n",
    "    \"Price Target Consensus\": priceConsensus[0]['targetConsensus'],\n",
    "    \"Price Target Median\": priceConsensus[0]['targetMedian'],\n",
    "})\n",
    "researchReport"
   ]
  },
  {
   "cell_type": "markdown",
   "metadata": {},
   "source": [
    "#### 7. Paid Data - Investor Presentations - Financial Reports (Balance Sheet, Income Statement and Cash Flow) for last 3 years?"
   ]
  },
  {
   "cell_type": "markdown",
   "metadata": {},
   "source": []
  }
 ],
 "metadata": {
  "kernelspec": {
   "display_name": "Python 3",
   "language": "python",
   "name": "python3"
  },
  "language_info": {
   "codemirror_mode": {
    "name": "ipython",
    "version": 3
   },
   "file_extension": ".py",
   "mimetype": "text/x-python",
   "name": "python",
   "nbconvert_exporter": "python",
   "pygments_lexer": "ipython3",
   "version": "3.9.13"
  },
  "orig_nbformat": 4
 },
 "nbformat": 4,
 "nbformat_minor": 2
}
